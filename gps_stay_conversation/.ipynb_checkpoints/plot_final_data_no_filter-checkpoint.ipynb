{
 "cells": [
  {
   "cell_type": "code",
   "execution_count": 1,
   "id": "fe45b39d",
   "metadata": {},
   "outputs": [],
   "source": [
    "import pandas as pd\n",
    "import numpy as np\n",
    "import seaborn as sns\n",
    "import matplotlib.pyplot as plt\n",
    "import os\n",
    "from datetime import datetime"
   ]
  },
  {
   "cell_type": "code",
   "execution_count": 2,
   "id": "94fa9a96",
   "metadata": {},
   "outputs": [
    {
     "data": {
      "text/plain": [
       "[]"
      ]
     },
     "execution_count": 2,
     "metadata": {},
     "output_type": "execute_result"
    }
   ],
   "source": [
    "all_file=os.listdir('./')\n",
    "file=[]\n",
    "for each_file in all_file:\n",
    "    try:\n",
    "        if  each_file.split('.')[1]=='csv':\n",
    "            file.append(each_file)\n",
    "    except: continue\n",
    "file"
   ]
  },
  {
   "cell_type": "code",
   "execution_count": 3,
   "id": "093d06a4",
   "metadata": {},
   "outputs": [
    {
     "ename": "AttributeError",
     "evalue": "'NoneType' object has no attribute 'rename'",
     "output_type": "error",
     "traceback": [
      "\u001b[0;31m---------------------------------------------------------------------------\u001b[0m",
      "\u001b[0;31mAttributeError\u001b[0m                            Traceback (most recent call last)",
      "Cell \u001b[0;32mIn[3], line 10\u001b[0m\n\u001b[1;32m      8\u001b[0m         df\u001b[38;5;241m=\u001b[39mpd\u001b[38;5;241m.\u001b[39mconcat([df,data])\n\u001b[1;32m      9\u001b[0m \u001b[38;5;66;03m# df=df.drop('Unnamed: 0',axis=1)\u001b[39;00m\n\u001b[0;32m---> 10\u001b[0m df\u001b[38;5;241m=\u001b[39m\u001b[43mdf\u001b[49m\u001b[38;5;241;43m.\u001b[39;49m\u001b[43mrename\u001b[49m(columns\u001b[38;5;241m=\u001b[39m{\u001b[38;5;124m'\u001b[39m\u001b[38;5;124mUnnamed: 0\u001b[39m\u001b[38;5;124m'\u001b[39m:\u001b[38;5;124m'\u001b[39m\u001b[38;5;124mdate\u001b[39m\u001b[38;5;124m'\u001b[39m,\u001b[38;5;124m'\u001b[39m\u001b[38;5;124mfinal_level\u001b[39m\u001b[38;5;124m'\u001b[39m:\u001b[38;5;124m'\u001b[39m\u001b[38;5;124mlevel\u001b[39m\u001b[38;5;124m'\u001b[39m})\n\u001b[1;32m     11\u001b[0m df\n",
      "\u001b[0;31mAttributeError\u001b[0m: 'NoneType' object has no attribute 'rename'"
     ]
    }
   ],
   "source": [
    "df=None\n",
    "for f in file:\n",
    "\n",
    "    data=pd.read_csv(f)\n",
    "    if df is None:\n",
    "        df=data\n",
    "    else:\n",
    "        df=pd.concat([df,data])\n",
    "# df=df.drop('Unnamed: 0',axis=1)\n",
    "df=df.rename(columns={'Unnamed: 0':'date','final_level':'level'})\n",
    "df"
   ]
  },
  {
   "cell_type": "code",
   "execution_count": null,
   "id": "3792fa11",
   "metadata": {
    "scrolled": true
   },
   "outputs": [],
   "source": [
    "# df=df.drop('Unnamed: 0',axis=1)\n",
    "df.describe()"
   ]
  },
  {
   "cell_type": "code",
   "execution_count": null,
   "id": "6a944934",
   "metadata": {},
   "outputs": [],
   "source": [
    "def offset(data):\n",
    "    try:\n",
    "        if float(data)>86400:\n",
    "            return 0\n",
    "        return data\n",
    "    except:\n",
    "        return data\n",
    "def to_min(time):\n",
    "    try:\n",
    "        return int(time/60)\n",
    "    except: return time\n",
    "    \n",
    "time_type='%d:%m:%Y'\n",
    "week=[]\n",
    "def transform_week(time):\n",
    "        time=datetime.strptime(time,time_type)\n",
    "        return datetime.strftime(time,'%W')\n",
    "for date in df.date.values:\n",
    "    week.append(transform_week(date))\n",
    "df['week']=week\n",
    "for col in [ 'home_time', 'school_time', 'travel_time',\n",
    "            'recreational_activities', 'orthers','working', 'shopping']:\n",
    "    df[col]=df[col].apply(lambda x: offset(x))\n",
    "    df[col]=df[col].fillna(0)\n",
    "\n",
    "# for col in [ 'home_time', 'school_time', 'travel_time',\n",
    "#             'recreational_activities', 'orthers','working', 'shopping']:\n",
    "#     df[col]=df[col].apply(lambda x: to_min(x))\n",
    "df['date_in_week']=df['date_in_week'].values+1\n",
    "df['None_school_time']=1440-df.school_time-df.home_time\n",
    "df.columns"
   ]
  },
  {
   "cell_type": "code",
   "execution_count": null,
   "id": "832aed73",
   "metadata": {},
   "outputs": [],
   "source": [
    "# from bioinfokit.analys import stat\n",
    "# ANOVA=None\n",
    "# for col in df.columns:\n",
    "#     if col not in ['date','level','volunteer']:\n",
    "#         res = stat()\n",
    "#         res.anova_stat(df=df, res_var='level'\n",
    "#                              , anova_model=f\"level ~ C({col})\")\n",
    "# #         print(res.anova_summary.iloc[0,:])\n",
    "#         if ANOVA is None:\n",
    "#             ANOVA=res.anova_summary\n",
    "#         else:\n",
    "#             ANOVA=pd.concat([ANOVA,res.anova_summary])"
   ]
  },
  {
   "cell_type": "code",
   "execution_count": null,
   "id": "730a7330",
   "metadata": {},
   "outputs": [],
   "source": [
    "# ANOVA=ANOVA.drop('Residual')"
   ]
  },
  {
   "cell_type": "code",
   "execution_count": null,
   "id": "ce4d9788",
   "metadata": {
    "scrolled": true
   },
   "outputs": [],
   "source": [
    "# ANOVA['PR(>F)']=ANOVA['PR(>F)']*100"
   ]
  },
  {
   "cell_type": "code",
   "execution_count": null,
   "id": "3f404c58",
   "metadata": {
    "scrolled": true
   },
   "outputs": [],
   "source": [
    "# ANOVA['PR(>F)']=ANOVA['PR(>F)'].astype(int)\n",
    "# ANOVA=ANOVA.rename(columns={'PR(>F)':'p_value(%)'})\n",
    "# ANOVA"
   ]
  },
  {
   "cell_type": "code",
   "execution_count": null,
   "id": "ed5cd790",
   "metadata": {},
   "outputs": [],
   "source": [
    "# import dataframe_image as dfi\n",
    "# dfi.export(ANOVA ,'../ANOVA_table_final_data_no_filter.png')"
   ]
  },
  {
   "cell_type": "code",
   "execution_count": null,
   "id": "f8367ae3",
   "metadata": {
    "scrolled": false
   },
   "outputs": [],
   "source": [
    "def group_stress(data):\n",
    "    if data<3:\n",
    "        return 1\n",
    "    if data >3:\n",
    "        return 2\n",
    "    return 0\n",
    "df['level']=df['level'].apply(lambda x:group_stress(x)).astype('category')"
   ]
  },
  {
   "cell_type": "code",
   "execution_count": null,
   "id": "5d0ab69a",
   "metadata": {
    "scrolled": true
   },
   "outputs": [],
   "source": [
    "corr=df[[ 'home_time', 'school_time', 'travel_time', 'date_in_week',\n",
    "        'recreational_activities', 'orthers',\n",
    "       'working', 'shopping','None_school_time','cut_class','level']].corr()\n",
    "ax,fig=plt.subplots(figsize=(10,10))\n",
    "sns.heatmap(corr,annot=True)\n",
    "plt.savefig('../image/corr.png')"
   ]
  },
  {
   "cell_type": "code",
   "execution_count": null,
   "id": "82cf1fbc",
   "metadata": {
    "scrolled": false
   },
   "outputs": [],
   "source": [
    "# sns.histplot(df,x='home_time',y='date_in_week',cbar=True)\n",
    "# plt.savefig('../image/hometime vs day.png')"
   ]
  },
  {
   "cell_type": "code",
   "execution_count": null,
   "id": "4fbe5234",
   "metadata": {},
   "outputs": [],
   "source": []
  },
  {
   "cell_type": "code",
   "execution_count": null,
   "id": "406ac8dc",
   "metadata": {},
   "outputs": [],
   "source": [
    "\n"
   ]
  },
  {
   "cell_type": "code",
   "execution_count": null,
   "id": "c925f865",
   "metadata": {
    "scrolled": false
   },
   "outputs": [],
   "source": [
    "df"
   ]
  },
  {
   "cell_type": "code",
   "execution_count": null,
   "id": "912110ec",
   "metadata": {},
   "outputs": [],
   "source": [
    "df=df.sort_values(['week','date'])\n",
    "df=df.reset_index(drop=True)\n",
    "# df=df.drop('date.1',axis=1)\n",
    "df.info()"
   ]
  },
  {
   "cell_type": "code",
   "execution_count": null,
   "id": "80dc63ba",
   "metadata": {},
   "outputs": [],
   "source": [
    "ax,fig=plt.subplots(figsize=(5,5))\n",
    "sns.histplot(df,x='week',y='cut_class',cbar=True,bins=3)\n",
    "plt.yticks([0,1])\n",
    "plt.savefig('../image/cutclass vs week.png')"
   ]
  },
  {
   "cell_type": "code",
   "execution_count": null,
   "id": "9d2ab848",
   "metadata": {
    "scrolled": true
   },
   "outputs": [],
   "source": [
    "sns.countplot(df,x='week',hue='cut_class')\n",
    "plt.savefig('../image/count cutclass vs week.png')"
   ]
  },
  {
   "cell_type": "code",
   "execution_count": null,
   "id": "563344eb",
   "metadata": {
    "scrolled": true
   },
   "outputs": [],
   "source": [
    "# print(df['level'].unique())\n",
    "df_stress=df.iloc[:,1:]\n",
    "# df_stress['level']=df_stress['level'].fillna(df_stress['level'].median())\n",
    "# df_stress['level']=df_stress['level'].fillna(0)\n"
   ]
  },
  {
   "cell_type": "code",
   "execution_count": null,
   "id": "99f5d746",
   "metadata": {},
   "outputs": [],
   "source": [
    "df_stress['level']=df_stress['level'].astype(int)\n",
    "ax,fig=plt.subplots(figsize=(10,10))\n",
    "sns.countplot(df_stress,x='level',hue='cut_class')\n",
    "plt.xticks(rotation=0)\n",
    "plt.savefig('../image/stress vs cutclass.png')\n",
    "print(df['level'].unique())"
   ]
  },
  {
   "cell_type": "code",
   "execution_count": null,
   "id": "f8c2edee",
   "metadata": {},
   "outputs": [],
   "source": [
    "df_stress"
   ]
  },
  {
   "cell_type": "code",
   "execution_count": null,
   "id": "cc7cd18f",
   "metadata": {},
   "outputs": [],
   "source": [
    "stress_cut_classes=df_stress[df_stress['cut_class']==1]['level']\n",
    "stress_no_cut_classes=df_stress[df_stress['cut_class']==0]['level']\n",
    "\n",
    "from scipy.stats import f_oneway\n",
    "f_oneway(stress_no_cut_classes,stress_cut_classes)"
   ]
  },
  {
   "cell_type": "code",
   "execution_count": null,
   "id": "753c658d",
   "metadata": {},
   "outputs": [],
   "source": []
  },
  {
   "cell_type": "code",
   "execution_count": null,
   "id": "fd33eb44",
   "metadata": {},
   "outputs": [],
   "source": []
  },
  {
   "cell_type": "code",
   "execution_count": null,
   "id": "ed857ebf",
   "metadata": {},
   "outputs": [],
   "source": []
  },
  {
   "cell_type": "code",
   "execution_count": null,
   "id": "6266f6ea",
   "metadata": {},
   "outputs": [],
   "source": []
  },
  {
   "cell_type": "code",
   "execution_count": null,
   "id": "572e6b8e",
   "metadata": {},
   "outputs": [],
   "source": []
  },
  {
   "cell_type": "code",
   "execution_count": null,
   "id": "a73482a3",
   "metadata": {
    "scrolled": true
   },
   "outputs": [],
   "source": [
    "sns.histplot(df_stress,x='level',hue='cut_class',kde=True)\n",
    "plt.savefig('../image/stress by cut class.png')"
   ]
  },
  {
   "cell_type": "code",
   "execution_count": null,
   "id": "192b934c",
   "metadata": {},
   "outputs": [],
   "source": [
    "no_cut_class_data=df_stress[df_stress['cut_class']==0]\n",
    "cut_class_data=df_stress[df_stress['cut_class']==1]\n",
    "no_cut_class_data=no_cut_class_data['level'].value_counts().to_frame()\n",
    "no_cut_class_data['count']=no_cut_class_data['count']/(no_cut_class_data['count'].sum())\n",
    "no_cut_class_data\n",
    "cut_class_data=cut_class_data['level'].value_counts().to_frame()\n",
    "cut_class_data['count']=cut_class_data['count']/cut_class_data['count'].sum()\n",
    "cut_class_data"
   ]
  },
  {
   "cell_type": "code",
   "execution_count": null,
   "id": "8fd4d565",
   "metadata": {},
   "outputs": [],
   "source": [
    "cut_class_data.plot.pie(subplots=True, figsize=(11, 6),startangle=90,autopct='%1.2f%%')\n",
    "plt.savefig('../image/stress ratio cut class.png')"
   ]
  },
  {
   "cell_type": "code",
   "execution_count": null,
   "id": "e10c1a69",
   "metadata": {},
   "outputs": [],
   "source": [
    "no_cut_class_data.plot.pie(subplots=True, figsize=(11, 6),startangle=90,autopct='%1.2f%%')\n",
    "plt.savefig('../image/stress ratio no cut class.png')"
   ]
  },
  {
   "cell_type": "code",
   "execution_count": null,
   "id": "ff9ff43b",
   "metadata": {
    "scrolled": true
   },
   "outputs": [],
   "source": [
    "sns.histplot(df_stress,x='week',hue='level',kde=True,palette='crest',bins=10,stat='percent',alpha=0.4)\n",
    "plt.savefig('../image/stress by week.png')"
   ]
  },
  {
   "cell_type": "code",
   "execution_count": null,
   "id": "541f9be7",
   "metadata": {},
   "outputs": [],
   "source": [
    "sns.histplot(df_stress[df_stress['cut_class']==1],x='week',hue='level',kde=True,palette='crest',bins=10,stat='percent',alpha=0.4)"
   ]
  },
  {
   "cell_type": "code",
   "execution_count": null,
   "id": "6cd4b156",
   "metadata": {
    "scrolled": true
   },
   "outputs": [],
   "source": [
    "sns.histplot(df_stress[df_stress['cut_class']==0],x='week',hue='level',kde=True,bins=10,palette='crest',stat='percent',alpha=0.4)"
   ]
  },
  {
   "cell_type": "code",
   "execution_count": null,
   "id": "ed94a7a1",
   "metadata": {
    "scrolled": true
   },
   "outputs": [],
   "source": [
    "df_stress_fix=df_stress\n",
    "df_stress_fix['school_time']=(df_stress_fix['school_time']/60).astype(int)\n",
    "\n"
   ]
  },
  {
   "cell_type": "code",
   "execution_count": null,
   "id": "357245b0",
   "metadata": {
    "scrolled": true
   },
   "outputs": [],
   "source": [
    "sns.kdeplot(df_stress_fix,x='school_time',y='level',cmap='Reds',fill=True)\n",
    "plt.savefig('../image/stress by school time.png')"
   ]
  },
  {
   "cell_type": "code",
   "execution_count": null,
   "id": "7c34659f",
   "metadata": {},
   "outputs": [],
   "source": [
    "df_stress_fix['None_school_time']=(df_stress_fix['None_school_time']/60).astype(int)"
   ]
  },
  {
   "cell_type": "code",
   "execution_count": null,
   "id": "44d8bbd4",
   "metadata": {
    "scrolled": true
   },
   "outputs": [],
   "source": [
    "sns.kdeplot(df_stress_fix,x='None_school_time',y='level',cmap='Reds',fill=True)\n",
    "plt.savefig('../image/stress by none school time.png')"
   ]
  },
  {
   "cell_type": "code",
   "execution_count": null,
   "id": "de450e7b",
   "metadata": {
    "scrolled": false
   },
   "outputs": [],
   "source": [
    "df.info()\n",
    "df_stress['week']=df_stress['week'].astype(int)\n"
   ]
  },
  {
   "cell_type": "code",
   "execution_count": null,
   "id": "7e70bfa5",
   "metadata": {
    "scrolled": false
   },
   "outputs": [],
   "source": [
    "pd.plotting.radviz(df_stress[[ 'home_time', 'school_time', 'travel_time',\n",
    "       'recreational_activities', 'orthers', 'date_in_week', 'cut_class',\n",
    "       'class_schedule', 'level', 'shopping', 'working', 'week',\n",
    "       'None_school_time']],'level')\n",
    "plt.savefig('../image/radvix.png')"
   ]
  },
  {
   "cell_type": "code",
   "execution_count": null,
   "id": "32dc6ef6",
   "metadata": {},
   "outputs": [],
   "source": [
    "sns.countplot(df_stress,x='level')"
   ]
  },
  {
   "cell_type": "code",
   "execution_count": null,
   "id": "f58574a1",
   "metadata": {
    "scrolled": true
   },
   "outputs": [],
   "source": [
    "df.describe()"
   ]
  },
  {
   "cell_type": "code",
   "execution_count": null,
   "id": "8efbf7e7",
   "metadata": {},
   "outputs": [],
   "source": [
    "df=df.reset_index(drop=True)\n",
    "df_new=df.drop(df[df['home_time']==0].index)\n",
    "\n",
    "sns.histplot(df_new,x='school_time',hue='cut_class')\n",
    "\n",
    "df_new.describe()\n",
    "df['school_time'].unique()\n"
   ]
  },
  {
   "cell_type": "code",
   "execution_count": null,
   "id": "b6220e65",
   "metadata": {},
   "outputs": [],
   "source": [
    "df.school_time.value_counts"
   ]
  },
  {
   "cell_type": "code",
   "execution_count": null,
   "id": "3e4c40d4",
   "metadata": {},
   "outputs": [],
   "source": [
    "df.columns"
   ]
  },
  {
   "cell_type": "code",
   "execution_count": null,
   "id": "acadb76e",
   "metadata": {},
   "outputs": [],
   "source": [
    "y=df['level']\n",
    "y.unique()"
   ]
  },
  {
   "cell_type": "code",
   "execution_count": null,
   "id": "01f8133d",
   "metadata": {},
   "outputs": [],
   "source": [
    "\n",
    "X=df[[ 'home_time', 'school_time', 'travel_time',\n",
    "       'recreational_activities', 'orthers', 'date_in_week', 'cut_class',\n",
    "       'class_schedule' ,  'shopping', 'working',\n",
    "       'week', 'None_school_time']]\n",
    "y=df['level']\n",
    "# y=y.fillna(y.median())\n",
    "y=y.astype(int)\n",
    "# y=y.apply(lambda x:group_stress(x))\n",
    "y.unique()"
   ]
  },
  {
   "cell_type": "code",
   "execution_count": null,
   "id": "7a5df73d",
   "metadata": {},
   "outputs": [],
   "source": [
    "X.info()"
   ]
  },
  {
   "cell_type": "code",
   "execution_count": null,
   "id": "13d6c6b9",
   "metadata": {},
   "outputs": [],
   "source": [
    "y.info()"
   ]
  },
  {
   "cell_type": "code",
   "execution_count": null,
   "id": "500d997b",
   "metadata": {},
   "outputs": [],
   "source": [
    "from sklearn.preprocessing import StandardScaler\n",
    "from sklearn.model_selection import train_test_split\n",
    "scaler = StandardScaler()\n",
    "X=X.astype(int)\n",
    "X_train, X_vad, y_train, y_vad = train_test_split(X, y, test_size=0.2, random_state=42)\n",
    "X_train_ML, X_vad_ML, y_train_ML, y_vad_ML= X_train, X_vad, y_train, y_vad\n",
    "\n",
    "# X_train = scaler.fit_transform(X_train)\n",
    "\n",
    "# X_vad = scaler.fit_transform(X_vad)\n",
    "X.shape\n"
   ]
  },
  {
   "cell_type": "code",
   "execution_count": null,
   "id": "abeae59f",
   "metadata": {},
   "outputs": [],
   "source": [
    "y.unique()"
   ]
  },
  {
   "cell_type": "code",
   "execution_count": null,
   "id": "502d31a7",
   "metadata": {},
   "outputs": [],
   "source": [
    "y.describe()"
   ]
  },
  {
   "cell_type": "code",
   "execution_count": null,
   "id": "5fd7d22a",
   "metadata": {},
   "outputs": [],
   "source": [
    "from imblearn.over_sampling import ADASYN\n",
    "ada = ADASYN(random_state=42)\n",
    "X_ada, y_ada = ada.fit_resample(X, y)\n",
    "X_train_ada, X_vad_ada, y_train_ada, y_vad_ada = train_test_split(X_ada, y_ada, test_size=0.2, random_state=42)"
   ]
  },
  {
   "cell_type": "code",
   "execution_count": null,
   "id": "dc9f7106",
   "metadata": {},
   "outputs": [],
   "source": [
    "from sklearn.ensemble import RandomForestClassifier #Random Forest\n",
    "from sklearn.neighbors import KNeighborsClassifier #KNN\n",
    "from sklearn.naive_bayes import GaussianNB #Naive bayes\n",
    "from sklearn import metrics #accuracy measure\n",
    "from sklearn.linear_model import LogisticRegression #logistic regression"
   ]
  },
  {
   "cell_type": "code",
   "execution_count": null,
   "id": "a7efd37d",
   "metadata": {},
   "outputs": [],
   "source": [
    "model_ada=RandomForestClassifier(random_state=10)\n",
    "model_ada.fit(X_train_ada,y_train_ada)\n",
    "prediction1=model_ada.predict(X_vad_ada)\n",
    "print('Accuracy for RF is ',metrics.accuracy_score(prediction1,y_vad_ada))\n",
    "ax,fig=plt.subplots(figsize=(10,10))\n",
    "conf=metrics.confusion_matrix(prediction1,y_vad_ada, normalize='true')\n",
    "print(metrics.classification_report(prediction1,y_vad_ada))\n",
    "sns.heatmap(conf,annot=True)"
   ]
  },
  {
   "cell_type": "code",
   "execution_count": null,
   "id": "4e1ce536",
   "metadata": {},
   "outputs": [],
   "source": [
    "from imblearn.combine import SMOTEENN\n",
    "# oversampling the train dataset using SMOTE + ENN\n",
    "smenn = SMOTEENN()\n",
    "X_smoteenn, y_smoteenn = smenn.fit_resample(X,y)\n",
    "X_train_smoteenn, X_vad_smoteenn, y_train_smoteenn, y_vad_smoteenn = train_test_split(X_smoteenn, y_smoteenn, test_size=0.2, random_state=42)"
   ]
  },
  {
   "cell_type": "code",
   "execution_count": null,
   "id": "76caae88",
   "metadata": {
    "scrolled": true
   },
   "outputs": [],
   "source": [
    "model_smoteenn=RandomForestClassifier(random_state=10)\n",
    "model_smoteenn.fit(X_train_smoteenn,y_train_smoteenn)\n",
    "prediction1=model_smoteenn.predict(X_vad_smoteenn)\n",
    "print('Accuracy for RF is ',metrics.accuracy_score(prediction1,y_vad_smoteenn))\n",
    "ax,fig=plt.subplots(figsize=(10,10))\n",
    "conf=metrics.confusion_matrix(prediction1,y_vad_smoteenn, normalize='true')\n",
    "print(metrics.classification_report(prediction1,y_vad_smoteenn))\n",
    "sns.heatmap(conf,annot=True)"
   ]
  },
  {
   "cell_type": "code",
   "execution_count": null,
   "id": "262ceab3",
   "metadata": {},
   "outputs": [],
   "source": [
    "from imblearn.combine import SMOTETomek\n",
    "# oversampling the train dataset using SMOTE + ENN\n",
    "smtomek = SMOTETomek()\n",
    "X_smotetomek, y_smotetomek = smtomek.fit_resample(X,y)\n",
    "X_train_smotetomek, X_vad_smotetomek, y_train_smotetomek, y_vad_smotetomek = train_test_split(X_smotetomek, y_smotetomek, test_size=0.2, random_state=42)"
   ]
  },
  {
   "cell_type": "code",
   "execution_count": null,
   "id": "61e64de2",
   "metadata": {},
   "outputs": [],
   "source": [
    "model_smotetomek=RandomForestClassifier(random_state=10)\n",
    "model_smotetomek.fit(X_train_smotetomek,y_train_smotetomek)\n",
    "prediction1=model_smotetomek.predict(X_vad_smotetomek)\n",
    "print('Accuracy for RF is ',metrics.accuracy_score(prediction1,y_vad_smotetomek))\n",
    "ax,fig=plt.subplots(figsize=(10,10))\n",
    "conf=metrics.confusion_matrix(prediction1,y_vad_smotetomek, normalize='true')\n",
    "print(metrics.classification_report(prediction1,y_vad_smotetomek))\n",
    "sns.heatmap(conf,annot=True)"
   ]
  },
  {
   "cell_type": "code",
   "execution_count": null,
   "id": "1ace90fb",
   "metadata": {
    "scrolled": true
   },
   "outputs": [],
   "source": [
    "# from xgboost import XGBClassifier#XGBcalssifier\n",
    "# seed=200\n",
    "# model=XGBClassifier (use_label_encoder=False, eval_metric='logloss', random_state=seed)\n",
    "# model.fit(X_train,y_train)\n",
    "# prediction1=model.predict(X_vad)\n",
    "# print('Accuracy for XBG is ',metrics.accuracy_score(prediction1,y_vad))"
   ]
  },
  {
   "cell_type": "code",
   "execution_count": null,
   "id": "8ee8cdc2",
   "metadata": {},
   "outputs": [],
   "source": [
    "data_smote=pd.concat([X_smoteenn, y_smoteenn],axis=1)\n",
    "data_smote.level.value_counts()"
   ]
  },
  {
   "cell_type": "code",
   "execution_count": null,
   "id": "65689676",
   "metadata": {},
   "outputs": [],
   "source": [
    "\n",
    "df.dropna().level.value_counts()"
   ]
  },
  {
   "cell_type": "code",
   "execution_count": null,
   "id": "769239f5",
   "metadata": {},
   "outputs": [],
   "source": [
    "data_ada=pd.concat([X_ada, y_ada],axis=1)\n",
    "data_ada.level.value_counts()"
   ]
  },
  {
   "cell_type": "code",
   "execution_count": null,
   "id": "d272e228",
   "metadata": {},
   "outputs": [],
   "source": [
    "model=RandomForestClassifier(random_state=10)\n",
    "model.fit(X_train,y_train)\n",
    "prediction1=model.predict(X_vad)\n",
    "print('Accuracy for RF is ',metrics.accuracy_score(prediction1,y_vad))\n",
    "ax,fig=plt.subplots(figsize=(10,10))\n",
    "conf=metrics.confusion_matrix(prediction1,y_vad, normalize='true')\n",
    "print(metrics.classification_report(prediction1,y_vad))\n",
    "sns.heatmap(conf,annot=True)"
   ]
  },
  {
   "cell_type": "code",
   "execution_count": null,
   "id": "83d63798",
   "metadata": {
    "scrolled": false
   },
   "outputs": [],
   "source": [
    "from sklearn.model_selection import KFold #for K-fold cross validation\n",
    "from sklearn.model_selection import cross_val_score #score evaluation\n",
    "from sklearn.model_selection import cross_val_predict #prediction\n",
    "from sklearn import svm #support vector Machine\n",
    "from xgboost import XGBClassifier#XGBcalssifier\n",
    "from sklearn.neighbors import KNeighborsClassifier #KNN\n",
    "seed=200\n",
    "kfold = KFold(10, shuffle=True, random_state=seed) # k=10, split the data into 10 equal parts\n",
    "\n",
    "cv_mean=[]\n",
    "accuracy=[]\n",
    "std=[]\n",
    "classifier=[]\n",
    "models=[svm.SVC(),KNeighborsClassifier(),RandomForestClassifier(random_state=seed),XGBClassifier ( eval_metric='logloss', random_state=seed)]\n",
    "for model in models:\n",
    "    model_name = model.__class__.__name__\n",
    "    if model_name not in(classifier):\n",
    "        classifier.append(model_name)\n",
    "    cv_result = cross_val_score(model,X_smoteenn, y_smoteenn, cv = kfold)\n",
    "    \n",
    "    cv_mean.append(round(cv_result.mean(),2))\n",
    "    std.append(round(cv_result.std(),2))\n",
    "    accuracy.append(cv_result)\n",
    "    print(model)\n",
    "new_models_dataframe=pd.DataFrame({'ML model':classifier,'accuracy_score':cv_mean,'std':std})\n",
    "new_models_dataframe=new_models_dataframe.set_index('ML model')\n",
    "new_models_dataframe"
   ]
  },
  {
   "cell_type": "code",
   "execution_count": null,
   "id": "508eb8e3",
   "metadata": {},
   "outputs": [],
   "source": [
    "from sklearn.model_selection import StratifiedKFold #for K-fold cross validation\n",
    "entries=[]\n",
    "for model in models:\n",
    "    model_name = model.__class__.__name__\n",
    "    kfold = StratifiedKFold(10, shuffle=True, random_state=seed)\n",
    "    scores = cross_val_score(model, X,y, cv=kfold)\n",
    "    for fold_idx, score in enumerate(scores):\n",
    "        entries.append([model_name, fold_idx, score])\n",
    "cv_df = pd.DataFrame(entries, columns= [ 'model_name','fold id','accuracy_score' ])\n",
    "sns.boxplot(cv_df,x='model_name',y='accuracy_score',showmeans=True)\n",
    "plt.xticks(rotation=60)"
   ]
  },
  {
   "cell_type": "code",
   "execution_count": null,
   "id": "933e723a",
   "metadata": {
    "scrolled": false
   },
   "outputs": [],
   "source": [
    "from sklearn.model_selection import StratifiedKFold #for K-fold cross validation\n",
    "for model in models:\n",
    "    model_name = f'{model.__class__.__name__} smoteenn'\n",
    "    kfold = StratifiedKFold(10, shuffle=True, random_state=seed)\n",
    "    scores = cross_val_score(model, X_smoteenn, y_smoteenn, cv=kfold)\n",
    "    for fold_idx, score in enumerate(scores):\n",
    "        entries.append([model_name, fold_idx, score])\n",
    "cv_df = pd.DataFrame(entries, columns= [ 'model_name','fold id','accuracy_score' ])\n",
    "sns.boxplot(cv_df,x='model_name',y='accuracy_score',showmeans=True)\n",
    "plt.xticks(rotation=60)"
   ]
  },
  {
   "cell_type": "code",
   "execution_count": null,
   "id": "54eaf592",
   "metadata": {},
   "outputs": [],
   "source": []
  },
  {
   "cell_type": "code",
   "execution_count": null,
   "id": "ec344e64",
   "metadata": {},
   "outputs": [],
   "source": []
  },
  {
   "cell_type": "code",
   "execution_count": null,
   "id": "7a152b06",
   "metadata": {},
   "outputs": [],
   "source": []
  },
  {
   "cell_type": "code",
   "execution_count": null,
   "id": "2308b2be",
   "metadata": {},
   "outputs": [],
   "source": []
  },
  {
   "cell_type": "code",
   "execution_count": null,
   "id": "a01a1bfc",
   "metadata": {},
   "outputs": [],
   "source": []
  },
  {
   "cell_type": "code",
   "execution_count": null,
   "id": "d82f71b9",
   "metadata": {},
   "outputs": [],
   "source": []
  },
  {
   "cell_type": "code",
   "execution_count": null,
   "id": "bb12b283",
   "metadata": {},
   "outputs": [],
   "source": []
  },
  {
   "cell_type": "code",
   "execution_count": null,
   "id": "3caba411",
   "metadata": {},
   "outputs": [],
   "source": []
  },
  {
   "cell_type": "code",
   "execution_count": null,
   "id": "f3d6b3e5",
   "metadata": {},
   "outputs": [],
   "source": []
  },
  {
   "cell_type": "code",
   "execution_count": null,
   "id": "d92bfc2c",
   "metadata": {},
   "outputs": [],
   "source": [
    "import shap\n",
    "shap.initjs()\n",
    "\n",
    "# Create the explainer\n",
    "explainer1 = shap.TreeExplainer(model_smoteenn)\n",
    "\n",
    "shap_values = explainer1.shap_values(X_vad)\n",
    "print(\"Variable Importance Plot - Global Interpretation\")\n",
    "figure = plt.figure()\n",
    "shap.summary_plot(shap_values[1], X_vad)"
   ]
  },
  {
   "cell_type": "code",
   "execution_count": null,
   "id": "59a8dfc6",
   "metadata": {},
   "outputs": [],
   "source": [
    "X_vad"
   ]
  },
  {
   "cell_type": "code",
   "execution_count": null,
   "id": "caa3f828",
   "metadata": {
    "scrolled": false
   },
   "outputs": [],
   "source": [
    "shap.summary_plot(shap_values[0], X_vad)"
   ]
  },
  {
   "cell_type": "code",
   "execution_count": null,
   "id": "2f483086",
   "metadata": {},
   "outputs": [],
   "source": [
    "shap.summary_plot(shap_values[1], X_vad)"
   ]
  },
  {
   "cell_type": "code",
   "execution_count": null,
   "id": "a91ccf6a",
   "metadata": {},
   "outputs": [],
   "source": [
    "shap.summary_plot(shap_values[2], X_vad)"
   ]
  },
  {
   "cell_type": "code",
   "execution_count": null,
   "id": "f027391c",
   "metadata": {
    "scrolled": false
   },
   "outputs": [],
   "source": [
    "shap.summary_plot(shap_values, X_vad)"
   ]
  },
  {
   "cell_type": "code",
   "execution_count": null,
   "id": "f0d456de",
   "metadata": {},
   "outputs": [],
   "source": []
  },
  {
   "cell_type": "code",
   "execution_count": null,
   "id": "579860fd",
   "metadata": {},
   "outputs": [],
   "source": [
    "shap. dependence_plot('week', shap_values[1], X_vad, interaction_index=\"cut_class\",alpha=0.5)"
   ]
  },
  {
   "cell_type": "code",
   "execution_count": null,
   "id": "3201b311",
   "metadata": {},
   "outputs": [],
   "source": [
    "explainer = shap.Explainer(model_ada.predict, X_train)\n",
    "\n",
    "shap_values_explain = explainer(X_vad)"
   ]
  },
  {
   "cell_type": "code",
   "execution_count": null,
   "id": "0d216e5b",
   "metadata": {
    "scrolled": true
   },
   "outputs": [],
   "source": [
    "shap.plots.bar(shap_values_explain)"
   ]
  },
  {
   "cell_type": "code",
   "execution_count": null,
   "id": "b6144d6c",
   "metadata": {},
   "outputs": [],
   "source": [
    "plot=shap.plots.waterfall(shap_values_explain[227])\n",
    "plot"
   ]
  },
  {
   "cell_type": "code",
   "execution_count": null,
   "id": "47afaa88",
   "metadata": {},
   "outputs": [],
   "source": [
    "plot=shap.plots.force(shap_values_explain)\n",
    "shap.save_html('my_force_plot.html',plot)\n",
    "plot"
   ]
  },
  {
   "cell_type": "code",
   "execution_count": null,
   "id": "d1430102",
   "metadata": {},
   "outputs": [],
   "source": [
    "shap.plots.beeswarm(shap_values_explain)"
   ]
  },
  {
   "cell_type": "code",
   "execution_count": null,
   "id": "8993801a",
   "metadata": {},
   "outputs": [],
   "source": [
    "shap.plots.scatter(shap_values_explain[:,\"home_time\"],\n",
    "                   color=shap_values_explain[:,\"school_time\" ])"
   ]
  },
  {
   "cell_type": "code",
   "execution_count": null,
   "id": "41271d37",
   "metadata": {},
   "outputs": [],
   "source": [
    "shap.plots.waterfall(shap_values_explain[1])"
   ]
  },
  {
   "cell_type": "code",
   "execution_count": null,
   "id": "d219fd37",
   "metadata": {},
   "outputs": [],
   "source": [
    "shap.plots.waterfall(shap_values_explain[0])"
   ]
  },
  {
   "cell_type": "code",
   "execution_count": null,
   "id": "67da7486",
   "metadata": {},
   "outputs": [],
   "source": [
    "shap.plots.scatter(shap_values_explain[:, \"cut_class\"])"
   ]
  },
  {
   "cell_type": "code",
   "execution_count": null,
   "id": "9ef1c1d2",
   "metadata": {},
   "outputs": [],
   "source": [
    "shap.plots.scatter(shap_values_explain[:, \"school_time\"])"
   ]
  },
  {
   "cell_type": "code",
   "execution_count": null,
   "id": "e83d3867",
   "metadata": {},
   "outputs": [],
   "source": [
    "shap.plots.scatter(shap_values_explain[:, \"None_school_time\"])"
   ]
  },
  {
   "cell_type": "code",
   "execution_count": null,
   "id": "6fc02ad0",
   "metadata": {},
   "outputs": [],
   "source": [
    "shap.plots.scatter(shap_values_explain[:, \"home_time\"])"
   ]
  },
  {
   "cell_type": "code",
   "execution_count": null,
   "id": "e526e0c2",
   "metadata": {},
   "outputs": [],
   "source": [
    "shap.plots.scatter(shap_values_explain[:, \"recreational_activities\"])"
   ]
  },
  {
   "cell_type": "code",
   "execution_count": null,
   "id": "46cb6252",
   "metadata": {},
   "outputs": [],
   "source": [
    "shap.plots.scatter(shap_values_explain)"
   ]
  },
  {
   "cell_type": "code",
   "execution_count": null,
   "id": "0d5a8cab",
   "metadata": {},
   "outputs": [],
   "source": []
  },
  {
   "cell_type": "code",
   "execution_count": null,
   "id": "1f30765a",
   "metadata": {},
   "outputs": [],
   "source": []
  },
  {
   "cell_type": "code",
   "execution_count": null,
   "id": "7b6e8f2d",
   "metadata": {},
   "outputs": [],
   "source": []
  },
  {
   "cell_type": "code",
   "execution_count": null,
   "id": "2bfe306b",
   "metadata": {},
   "outputs": [],
   "source": []
  },
  {
   "cell_type": "code",
   "execution_count": null,
   "id": "7ad30e25",
   "metadata": {},
   "outputs": [],
   "source": []
  },
  {
   "cell_type": "code",
   "execution_count": null,
   "id": "ef971f75",
   "metadata": {},
   "outputs": [],
   "source": []
  },
  {
   "cell_type": "code",
   "execution_count": null,
   "id": "a768e3d5",
   "metadata": {},
   "outputs": [],
   "source": [
    "# model=KNeighborsClassifier(n_neighbors=9)\n",
    "# model.fit(X_train,y_train)\n",
    "# prediction1=model.predict(X_vad)\n",
    "# print('Accuracy for KN is ',metrics.accuracy_score(prediction1,y_vad))\n",
    "# ax,fig=plt.subplots(figsize=(10,10))\n",
    "# conf=metrics.confusion_matrix(prediction1,y_vad)\n",
    "# sns.heatmap(conf,annot=True)"
   ]
  },
  {
   "cell_type": "code",
   "execution_count": null,
   "id": "17b7d66d",
   "metadata": {},
   "outputs": [],
   "source": [
    "# model=LogisticRegression()\n",
    "# model.fit(X_train,y_train)\n",
    "# prediction1=model.predict(X_vad)\n",
    "# print('Accuracy for LR is ',metrics.accuracy_score(prediction1,y_vad))\n",
    "# ax,fig=plt.subplots(figsize=(10,10))\n",
    "# conf=metrics.confusion_matrix(prediction1,y_vad)\n",
    "# sns.heatmap(conf,annot=True)"
   ]
  },
  {
   "cell_type": "code",
   "execution_count": null,
   "id": "486dc3a4",
   "metadata": {},
   "outputs": [],
   "source": [
    "# from sklearn import svm #support vector Machine\n",
    "# model=svm.SVC(kernel='rbf',C=1,gamma=0.1)\n",
    "# model.fit(X_train,y_train)\n",
    "# prediction1=model.predict(X_vad)\n",
    "# print('Accuracy for SVM is ',metrics.accuracy_score(prediction1,y_vad))\n",
    "# ax,fig=plt.subplots(figsize=(10,10))\n",
    "# conf=metrics.confusion_matrix(prediction1,y_vad)\n",
    "# sns.heatmap(conf,annot=True)"
   ]
  }
 ],
 "metadata": {
  "kernelspec": {
   "display_name": "Python 3 (ipykernel)",
   "language": "python",
   "name": "python3"
  },
  "language_info": {
   "codemirror_mode": {
    "name": "ipython",
    "version": 3
   },
   "file_extension": ".py",
   "mimetype": "text/x-python",
   "name": "python",
   "nbconvert_exporter": "python",
   "pygments_lexer": "ipython3",
   "version": "3.10.9"
  }
 },
 "nbformat": 4,
 "nbformat_minor": 5
}
