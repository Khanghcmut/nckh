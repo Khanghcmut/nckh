{
 "cells": [
  {
   "cell_type": "markdown",
   "id": "4ab984d3",
   "metadata": {},
   "source": [
    "# 1 is high stress, 0 is no stress"
   ]
  },
  {
   "cell_type": "code",
   "execution_count": 1,
   "id": "fe45b39d",
   "metadata": {},
   "outputs": [],
   "source": [
    "import pandas as pd\n",
    "import numpy as np\n",
    "import seaborn as sns\n",
    "import matplotlib.pyplot as plt\n",
    "import os\n",
    "from datetime import datetime\n",
    "from sklearn.ensemble import RandomForestClassifier #Random Forest\n",
    "from sklearn.neighbors import KNeighborsClassifier #KNN\n",
    "from sklearn.naive_bayes import GaussianNB #Naive bayes\n",
    "from sklearn import metrics #accuracy measure\n",
    "from sklearn.linear_model import LogisticRegression #logistic regression\n",
    "from sklearn.model_selection import KFold #for K-fold cross validation\n",
    "from sklearn.model_selection import cross_val_score #score evaluation\n",
    "from sklearn.model_selection import cross_val_predict #prediction\n",
    "from sklearn import svm #support vector Machine\n",
    "from xgboost import XGBClassifier#XGBcalssifier\n",
    "from sklearn.neighbors import KNeighborsClassifier #KNN\n",
    "from sklearn.model_selection import StratifiedKFold #for K-fold cross validation\n",
    "from sklearn.preprocessing import StandardScaler\n",
    "from sklearn.model_selection import train_test_split\n",
    "import warnings "
   ]
  },
  {
   "cell_type": "code",
   "execution_count": 2,
   "id": "94fa9a96",
   "metadata": {},
   "outputs": [
    {
     "data": {
      "text/plain": [
       "['csv_2.csv',\n",
       " 'csv_3.csv',\n",
       " 'csv_1.csv',\n",
       " 'csv_58.csv',\n",
       " 'csv_59.csv',\n",
       " 'csv_0.csv',\n",
       " 'csv_4.csv',\n",
       " 'csv_5.csv',\n",
       " 'csv_10.csv',\n",
       " 'csv_12.csv',\n",
       " 'csv_16.csv',\n",
       " 'csv_17.csv',\n",
       " 'csv_14.csv',\n",
       " 'csv_31.csv',\n",
       " 'csv_19.csv',\n",
       " 'csv_18.csv',\n",
       " 'csv_30.csv',\n",
       " 'csv_32.csv',\n",
       " 'csv_27.csv',\n",
       " 'csv_23.csv',\n",
       " 'csv_36.csv',\n",
       " 'csv_22.csv',\n",
       " 'csv_34.csv',\n",
       " 'csv_20.csv',\n",
       " 'csv_35.csv',\n",
       " 'csv_52.csv',\n",
       " 'csv_46.csv',\n",
       " 'csv_53.csv',\n",
       " 'csv_8.csv',\n",
       " 'csv_45.csv',\n",
       " 'csv_51.csv',\n",
       " 'csv_44.csv',\n",
       " 'csv_9.csv',\n",
       " 'csv_57.csv',\n",
       " 'csv_43.csv',\n",
       " 'csv_42.csv',\n",
       " 'csv_56.csv']"
      ]
     },
     "execution_count": 2,
     "metadata": {},
     "output_type": "execute_result"
    }
   ],
   "source": [
    "all_file=os.listdir('./')\n",
    "files=[]\n",
    "for each_file in all_file:\n",
    "    try:\n",
    "        if  each_file.split('.')[1]=='csv':\n",
    "            files.append(each_file)\n",
    "    except: continue\n",
    "\n",
    "files"
   ]
  },
  {
   "cell_type": "code",
   "execution_count": null,
   "id": "093d06a4",
   "metadata": {},
   "outputs": [],
   "source": [
    "# df=None\n",
    "# for f in file:\n",
    "\n",
    "#     data=pd.read_csv(f)\n",
    "#     if df is None:\n",
    "#         df=data\n",
    "#     else:\n",
    "#         df=pd.concat([df,data])\n",
    "# # df=df.drop('Unnamed: 0',axis=1)\n",
    "# \n",
    "# df=df.drop('conv_level',axis=1)\n",
    "# df"
   ]
  },
  {
   "cell_type": "code",
   "execution_count": null,
   "id": "3792fa11",
   "metadata": {
    "scrolled": true
   },
   "outputs": [],
   "source": [
    "# df=df.drop('Unnamed: 0',axis=1)\n",
    "df.describe()"
   ]
  },
  {
   "cell_type": "code",
   "execution_count": 6,
   "id": "6a944934",
   "metadata": {},
   "outputs": [
    {
     "name": "stdout",
     "output_type": "stream",
     "text": [
      "0.8799999999999999\n",
      "[0.8799999999999999]\n",
      "1.0\n",
      "[0.8799999999999999, 1.0]\n",
      "0.8800000000000001\n",
      "[0.8799999999999999, 1.0, 0.8800000000000001]\n",
      "0.9266666666666667\n",
      "[0.8799999999999999, 1.0, 0.8800000000000001, 0.9266666666666667]\n",
      "0.8178571428571428\n",
      "[0.8799999999999999, 1.0, 0.8800000000000001, 0.9266666666666667, 0.8178571428571428]\n",
      "0.7285714285714285\n",
      "[0.8799999999999999, 1.0, 0.8800000000000001, 0.9266666666666667, 0.8178571428571428, 0.7285714285714285]\n",
      "0.9199999999999999\n",
      "[0.8799999999999999, 1.0, 0.8800000000000001, 0.9266666666666667, 0.8178571428571428, 0.7285714285714285, 0.9199999999999999]\n",
      "1.0\n",
      "[0.8799999999999999, 1.0, 0.8800000000000001, 0.9266666666666667, 0.8178571428571428, 0.7285714285714285, 0.9199999999999999, 1.0]\n",
      "0.7833333333333333\n",
      "[0.8799999999999999, 1.0, 0.8800000000000001, 0.9266666666666667, 0.8178571428571428, 0.7285714285714285, 0.9199999999999999, 1.0, 0.7833333333333333]\n",
      "0.6799999999999999\n",
      "[0.8799999999999999, 1.0, 0.8800000000000001, 0.9266666666666667, 0.8178571428571428, 0.7285714285714285, 0.9199999999999999, 1.0, 0.7833333333333333, 0.6799999999999999]\n",
      "1.0\n",
      "[0.8799999999999999, 1.0, 0.8800000000000001, 0.9266666666666667, 0.8178571428571428, 0.7285714285714285, 0.9199999999999999, 1.0, 0.7833333333333333, 0.6799999999999999, 1.0]\n",
      "0.8666666666666666\n",
      "[0.8799999999999999, 1.0, 0.8800000000000001, 0.9266666666666667, 0.8178571428571428, 0.7285714285714285, 0.9199999999999999, 1.0, 0.7833333333333333, 0.6799999999999999, 1.0, 0.8666666666666666]\n",
      "0.7666666666666666\n",
      "[0.8799999999999999, 1.0, 0.8800000000000001, 0.9266666666666667, 0.8178571428571428, 0.7285714285714285, 0.9199999999999999, 1.0, 0.7833333333333333, 0.6799999999999999, 1.0, 0.8666666666666666, 0.7666666666666666]\n",
      "0.9714285714285713\n",
      "[0.8799999999999999, 1.0, 0.8800000000000001, 0.9266666666666667, 0.8178571428571428, 0.7285714285714285, 0.9199999999999999, 1.0, 0.7833333333333333, 0.6799999999999999, 1.0, 0.8666666666666666, 0.7666666666666666, 0.9714285714285713]\n",
      "0.8\n",
      "[0.8799999999999999, 1.0, 0.8800000000000001, 0.9266666666666667, 0.8178571428571428, 0.7285714285714285, 0.9199999999999999, 1.0, 0.7833333333333333, 0.6799999999999999, 1.0, 0.8666666666666666, 0.7666666666666666, 0.9714285714285713, 0.8]\n",
      "0.8\n",
      "[0.8799999999999999, 1.0, 0.8800000000000001, 0.9266666666666667, 0.8178571428571428, 0.7285714285714285, 0.9199999999999999, 1.0, 0.7833333333333333, 0.6799999999999999, 1.0, 0.8666666666666666, 0.7666666666666666, 0.9714285714285713, 0.8, 0.8]\n",
      "0.9333333333333332\n",
      "[0.8799999999999999, 1.0, 0.8800000000000001, 0.9266666666666667, 0.8178571428571428, 0.7285714285714285, 0.9199999999999999, 1.0, 0.7833333333333333, 0.6799999999999999, 1.0, 0.8666666666666666, 0.7666666666666666, 0.9714285714285713, 0.8, 0.8, 0.9333333333333332]\n",
      "0.6333333333333333\n",
      "[0.8799999999999999, 1.0, 0.8800000000000001, 0.9266666666666667, 0.8178571428571428, 0.7285714285714285, 0.9199999999999999, 1.0, 0.7833333333333333, 0.6799999999999999, 1.0, 0.8666666666666666, 0.7666666666666666, 0.9714285714285713, 0.8, 0.8, 0.9333333333333332, 0.6333333333333333]\n",
      "0.9333333333333332\n",
      "[0.8799999999999999, 1.0, 0.8800000000000001, 0.9266666666666667, 0.8178571428571428, 0.7285714285714285, 0.9199999999999999, 1.0, 0.7833333333333333, 0.6799999999999999, 1.0, 0.8666666666666666, 0.7666666666666666, 0.9714285714285713, 0.8, 0.8, 0.9333333333333332, 0.6333333333333333, 0.9333333333333332]\n",
      "0.9266666666666665\n",
      "[0.8799999999999999, 1.0, 0.8800000000000001, 0.9266666666666667, 0.8178571428571428, 0.7285714285714285, 0.9199999999999999, 1.0, 0.7833333333333333, 0.6799999999999999, 1.0, 0.8666666666666666, 0.7666666666666666, 0.9714285714285713, 0.8, 0.8, 0.9333333333333332, 0.6333333333333333, 0.9333333333333332, 0.9266666666666665]\n",
      "1.0\n",
      "[0.8799999999999999, 1.0, 0.8800000000000001, 0.9266666666666667, 0.8178571428571428, 0.7285714285714285, 0.9199999999999999, 1.0, 0.7833333333333333, 0.6799999999999999, 1.0, 0.8666666666666666, 0.7666666666666666, 0.9714285714285713, 0.8, 0.8, 0.9333333333333332, 0.6333333333333333, 0.9333333333333332, 0.9266666666666665, 1.0]\n",
      "0.85\n",
      "[0.8799999999999999, 1.0, 0.8800000000000001, 0.9266666666666667, 0.8178571428571428, 0.7285714285714285, 0.9199999999999999, 1.0, 0.7833333333333333, 0.6799999999999999, 1.0, 0.8666666666666666, 0.7666666666666666, 0.9714285714285713, 0.8, 0.8, 0.9333333333333332, 0.6333333333333333, 0.9333333333333332, 0.9266666666666665, 1.0, 0.85]\n",
      "0.6133333333333333\n",
      "[0.8799999999999999, 1.0, 0.8800000000000001, 0.9266666666666667, 0.8178571428571428, 0.7285714285714285, 0.9199999999999999, 1.0, 0.7833333333333333, 0.6799999999999999, 1.0, 0.8666666666666666, 0.7666666666666666, 0.9714285714285713, 0.8, 0.8, 0.9333333333333332, 0.6333333333333333, 0.9333333333333332, 0.9266666666666665, 1.0, 0.85, 0.6133333333333333]\n",
      "0.5999999999999999\n",
      "[0.8799999999999999, 1.0, 0.8800000000000001, 0.9266666666666667, 0.8178571428571428, 0.7285714285714285, 0.9199999999999999, 1.0, 0.7833333333333333, 0.6799999999999999, 1.0, 0.8666666666666666, 0.7666666666666666, 0.9714285714285713, 0.8, 0.8, 0.9333333333333332, 0.6333333333333333, 0.9333333333333332, 0.9266666666666665, 1.0, 0.85, 0.6133333333333333, 0.5999999999999999]\n",
      "0.9\n",
      "[0.8799999999999999, 1.0, 0.8800000000000001, 0.9266666666666667, 0.8178571428571428, 0.7285714285714285, 0.9199999999999999, 1.0, 0.7833333333333333, 0.6799999999999999, 1.0, 0.8666666666666666, 0.7666666666666666, 0.9714285714285713, 0.8, 0.8, 0.9333333333333332, 0.6333333333333333, 0.9333333333333332, 0.9266666666666665, 1.0, 0.85, 0.6133333333333333, 0.5999999999999999, 0.9]\n",
      "0.8266666666666668\n",
      "[0.8799999999999999, 1.0, 0.8800000000000001, 0.9266666666666667, 0.8178571428571428, 0.7285714285714285, 0.9199999999999999, 1.0, 0.7833333333333333, 0.6799999999999999, 1.0, 0.8666666666666666, 0.7666666666666666, 0.9714285714285713, 0.8, 0.8, 0.9333333333333332, 0.6333333333333333, 0.9333333333333332, 0.9266666666666665, 1.0, 0.85, 0.6133333333333333, 0.5999999999999999, 0.9, 0.8266666666666668]\n",
      "0.8833333333333332\n",
      "[0.8799999999999999, 1.0, 0.8800000000000001, 0.9266666666666667, 0.8178571428571428, 0.7285714285714285, 0.9199999999999999, 1.0, 0.7833333333333333, 0.6799999999999999, 1.0, 0.8666666666666666, 0.7666666666666666, 0.9714285714285713, 0.8, 0.8, 0.9333333333333332, 0.6333333333333333, 0.9333333333333332, 0.9266666666666665, 1.0, 0.85, 0.6133333333333333, 0.5999999999999999, 0.9, 0.8266666666666668, 0.8833333333333332]\n",
      "0.9\n",
      "[0.8799999999999999, 1.0, 0.8800000000000001, 0.9266666666666667, 0.8178571428571428, 0.7285714285714285, 0.9199999999999999, 1.0, 0.7833333333333333, 0.6799999999999999, 1.0, 0.8666666666666666, 0.7666666666666666, 0.9714285714285713, 0.8, 0.8, 0.9333333333333332, 0.6333333333333333, 0.9333333333333332, 0.9266666666666665, 1.0, 0.85, 0.6133333333333333, 0.5999999999999999, 0.9, 0.8266666666666668, 0.8833333333333332, 0.9]\n",
      "0.9777777777777779\n",
      "[0.8799999999999999, 1.0, 0.8800000000000001, 0.9266666666666667, 0.8178571428571428, 0.7285714285714285, 0.9199999999999999, 1.0, 0.7833333333333333, 0.6799999999999999, 1.0, 0.8666666666666666, 0.7666666666666666, 0.9714285714285713, 0.8, 0.8, 0.9333333333333332, 0.6333333333333333, 0.9333333333333332, 0.9266666666666665, 1.0, 0.85, 0.6133333333333333, 0.5999999999999999, 0.9, 0.8266666666666668, 0.8833333333333332, 0.9, 0.9777777777777779]\n",
      "0.8464285714285713\n",
      "[0.8799999999999999, 1.0, 0.8800000000000001, 0.9266666666666667, 0.8178571428571428, 0.7285714285714285, 0.9199999999999999, 1.0, 0.7833333333333333, 0.6799999999999999, 1.0, 0.8666666666666666, 0.7666666666666666, 0.9714285714285713, 0.8, 0.8, 0.9333333333333332, 0.6333333333333333, 0.9333333333333332, 0.9266666666666665, 1.0, 0.85, 0.6133333333333333, 0.5999999999999999, 0.9, 0.8266666666666668, 0.8833333333333332, 0.9, 0.9777777777777779, 0.8464285714285713]\n",
      "0.78\n",
      "[0.8799999999999999, 1.0, 0.8800000000000001, 0.9266666666666667, 0.8178571428571428, 0.7285714285714285, 0.9199999999999999, 1.0, 0.7833333333333333, 0.6799999999999999, 1.0, 0.8666666666666666, 0.7666666666666666, 0.9714285714285713, 0.8, 0.8, 0.9333333333333332, 0.6333333333333333, 0.9333333333333332, 0.9266666666666665, 1.0, 0.85, 0.6133333333333333, 0.5999999999999999, 0.9, 0.8266666666666668, 0.8833333333333332, 0.9, 0.9777777777777779, 0.8464285714285713, 0.78]\n"
     ]
    },
    {
     "name": "stdout",
     "output_type": "stream",
     "text": [
      "0.9333333333333333\n",
      "[0.8799999999999999, 1.0, 0.8800000000000001, 0.9266666666666667, 0.8178571428571428, 0.7285714285714285, 0.9199999999999999, 1.0, 0.7833333333333333, 0.6799999999999999, 1.0, 0.8666666666666666, 0.7666666666666666, 0.9714285714285713, 0.8, 0.8, 0.9333333333333332, 0.6333333333333333, 0.9333333333333332, 0.9266666666666665, 1.0, 0.85, 0.6133333333333333, 0.5999999999999999, 0.9, 0.8266666666666668, 0.8833333333333332, 0.9, 0.9777777777777779, 0.8464285714285713, 0.78, 0.9333333333333333]\n",
      "0.9333333333333332\n",
      "[0.8799999999999999, 1.0, 0.8800000000000001, 0.9266666666666667, 0.8178571428571428, 0.7285714285714285, 0.9199999999999999, 1.0, 0.7833333333333333, 0.6799999999999999, 1.0, 0.8666666666666666, 0.7666666666666666, 0.9714285714285713, 0.8, 0.8, 0.9333333333333332, 0.6333333333333333, 0.9333333333333332, 0.9266666666666665, 1.0, 0.85, 0.6133333333333333, 0.5999999999999999, 0.9, 0.8266666666666668, 0.8833333333333332, 0.9, 0.9777777777777779, 0.8464285714285713, 0.78, 0.9333333333333333, 0.9333333333333332]\n"
     ]
    },
    {
     "data": {
      "text/plain": [
       "<Figure size 640x480 with 0 Axes>"
      ]
     },
     "metadata": {},
     "output_type": "display_data"
    }
   ],
   "source": [
    "def offset(data):\n",
    "    try:\n",
    "        if float(data)>86400:\n",
    "            return 0\n",
    "        return data\n",
    "    except:\n",
    "        return data\n",
    "def to_min(time):\n",
    "    try:\n",
    "        return int(time/60)\n",
    "    except: return time\n",
    "\n",
    "def transform_week(time):\n",
    "        time=datetime.strptime(time,time_type)\n",
    "        return datetime.strftime(time,'%W')\n",
    "    \n",
    "def group_stress(data):\n",
    "    if data<3:\n",
    "        return 0\n",
    "    if data >3:\n",
    "        return 0\n",
    "    return 1\n",
    "\n",
    "time_type='%d:%m:%Y'\n",
    "accuracy1=[]\n",
    "error_files=[]\n",
    "for file in files:\n",
    "    try:\n",
    "        warnings.filterwarnings(\"ignore\")\n",
    "        week=[]\n",
    "        df=pd.read_csv(file)\n",
    "        df=df.rename(columns={'Unnamed: 0':'date','final_level':'level','cut_class':'skip_class'})\n",
    "        for date in df.date.values:\n",
    "            week.append(transform_week(date))\n",
    "        df['week']=week\n",
    "        for col in [ 'home_time', 'school_time', 'travel_time',\n",
    "                    'recreational_activities', 'orthers','working', 'shopping']:\n",
    "            try:\n",
    "                df[col]=df[col].apply(lambda x: offset(x))\n",
    "                df[col]=df[col].fillna(0)\n",
    "            except: pass\n",
    "\n",
    "    # for col in [ 'home_time', 'school_time', 'travel_time',\n",
    "    #             'recreational_activities', 'orthers','working', 'shopping']:\n",
    "    #     df[col]=df[col].apply(lambda x: to_min(x))\n",
    "        df['date_in_week']=df['date_in_week'].values+1\n",
    "        df['None_school_time']=86400-df.school_time-df.home_time\n",
    "        df.week=df.week.astype(int)\n",
    "        df['level']=df['level'].apply(lambda x:group_stress(x)).astype('category')\n",
    "        sns.histplot(df,x='week',hue='level',kde=True,palette='crest',\n",
    "                     stat='percent',alpha=0.4,discrete = True       )\n",
    "        plt.title('Stress of student who $\\\\bf{skip}$ class')\n",
    "        index=file.split('.')[0]\n",
    "        plt.savefig(f'../image_stress/{index}stress by week.png')\n",
    "        plt.clf()\n",
    "        df=df.dropna()\n",
    "        X=df.drop(['level','date','location_names','volunteer'],axis=1)\n",
    "        y=df['level']\n",
    "\n",
    "        X_train, X_vad, y_train, y_vad = train_test_split(X, y, test_size=0.2, random_state=42)\n",
    "\n",
    "        seed=200\n",
    "        kfold = KFold(5, shuffle=True, random_state=seed) # k=10, split the data into 10 equal parts\n",
    "\n",
    "        cv_mean=[]\n",
    "        accuracy=[]\n",
    "        std=[]\n",
    "        classifier=[]\n",
    "        model=RandomForestClassifier(random_state=seed)\n",
    "\n",
    "\n",
    "        entries=[]\n",
    "\n",
    "        model_name = model.__class__.__name__\n",
    "        kfold = StratifiedKFold(5, shuffle=True, random_state=seed)\n",
    "        scores = cross_val_score(model, X,y, cv=kfold,error_score='raise')\n",
    "        for fold_idx, score in enumerate(scores):\n",
    "            entries.append([model_name, fold_idx, score])\n",
    "        cv_df = pd.DataFrame(entries, columns= [ 'model_name','fold id','accuracy_score' ])\n",
    "        acc_mean=float(cv_df['accuracy_score'].mean())\n",
    "        \n",
    "        \n",
    "        sns.boxplot(cv_df,x='model_name',y='accuracy_score',showmeans=True)\n",
    "        plt.savefig(f'../image_ml/{index} ML report.png')\n",
    "        plt.clf()\n",
    "        accuracy1.append(acc_mean)\n",
    "       \n",
    "    except:\n",
    "        error_files.append(file) "
   ]
  },
  {
   "cell_type": "code",
   "execution_count": 9,
   "id": "3693f062",
   "metadata": {},
   "outputs": [
    {
     "data": {
      "text/plain": [
       "<Figure size 640x480 with 0 Axes>"
      ]
     },
     "metadata": {},
     "output_type": "display_data"
    }
   ],
   "source": [
    "def offset(data):\n",
    "    try:\n",
    "        if float(data)>86400:\n",
    "            return 0\n",
    "        return data\n",
    "    except:\n",
    "        return data\n",
    "def to_min(time):\n",
    "    try:\n",
    "        return int(time/60)\n",
    "    except: return time\n",
    "\n",
    "def transform_week(time):\n",
    "        time=datetime.strptime(time,time_type)\n",
    "        return datetime.strftime(time,'%W')\n",
    "    \n",
    "def group_stress(data):\n",
    "    if data<3:\n",
    "        return 0\n",
    "    if data >3:\n",
    "        return 0\n",
    "    return 1\n",
    "\n",
    "time_type='%d:%m:%Y'\n",
    "accuracy2=[]\n",
    "error_files=[]\n",
    "for file in files:\n",
    "    try:\n",
    "        warnings.filterwarnings(\"ignore\")\n",
    "        week=[]\n",
    "        df=pd.read_csv(file)\n",
    "        df=df.rename(columns={'Unnamed: 0':'date','final_level':'level','cut_class':'skip_class'})\n",
    "        for date in df.date.values:\n",
    "            week.append(transform_week(date))\n",
    "        df['week']=week\n",
    "        for col in [ 'home_time', 'school_time', 'travel_time',\n",
    "                    'recreational_activities', 'orthers','working', 'shopping']:\n",
    "            try:\n",
    "                df[col]=df[col].apply(lambda x: offset(x))\n",
    "                df[col]=df[col].fillna(0)\n",
    "            except: pass\n",
    "\n",
    "    # for col in [ 'home_time', 'school_time', 'travel_time',\n",
    "    #             'recreational_activities', 'orthers','working', 'shopping']:\n",
    "    #     df[col]=df[col].apply(lambda x: to_min(x))\n",
    "        df['date_in_week']=df['date_in_week'].values+1\n",
    "        df['None_school_time']=86400-df.school_time-df.home_time\n",
    "        df.week=df.week.astype(int)\n",
    "        df['level']=df['level'].apply(lambda x:group_stress(x)).astype('category')\n",
    "        sns.histplot(df,x='week',hue='level',kde=True,palette='crest',\n",
    "                     stat='percent',alpha=0.4,discrete = True       )\n",
    "        plt.title('Stress of student who $\\\\bf{skip}$ class')\n",
    "        index=file.split('.')[0]\n",
    "        plt.savefig(f'../image_stress/{index}stress by week.png')\n",
    "        plt.clf()\n",
    "        df=df.dropna()\n",
    "        X=df.drop(['level','date','location_names','volunteer'],axis=1)\n",
    "        y=df['level']\n",
    "\n",
    "        X_train, X_vad, y_train, y_vad = train_test_split(X, y, test_size=0.2, random_state=42)\n",
    "\n",
    "        seed=200\n",
    "        kfold = KFold(5, shuffle=True, random_state=seed) # k=10, split the data into 10 equal parts\n",
    "\n",
    "        cv_mean=[]\n",
    "        accuracy=[]\n",
    "        std=[]\n",
    "        classifier=[]\n",
    "        model=XGBClassifier ( eval_metric='logloss', random_state=seed)\n",
    "\n",
    "        entries=[]\n",
    "\n",
    "        model_name = model.__class__.__name__\n",
    "        kfold = StratifiedKFold(5, shuffle=True, random_state=seed)\n",
    "        scores = cross_val_score(model, X,y, cv=kfold,error_score='raise')\n",
    "        for fold_idx, score in enumerate(scores):\n",
    "            entries.append([model_name, fold_idx, score])\n",
    "        cv_df = pd.DataFrame(entries, columns= [ 'model_name','fold id','accuracy_score' ])\n",
    "        acc_mean=float(cv_df['accuracy_score'].mean())\n",
    "        \n",
    "        \n",
    "        sns.boxplot(cv_df,x='model_name',y='accuracy_score',showmeans=True)\n",
    "        plt.savefig(f'../image_ml/{index} ML report.png')\n",
    "        plt.clf()\n",
    "        accuracy2.append(acc_mean)\n",
    "       \n",
    "    except:\n",
    "        error_files.append(file) "
   ]
  },
  {
   "cell_type": "code",
   "execution_count": null,
   "id": "0f670adc",
   "metadata": {
    "scrolled": true
   },
   "outputs": [],
   "source": [
    "error_files"
   ]
  },
  {
   "cell_type": "code",
   "execution_count": 18,
   "id": "975257de",
   "metadata": {},
   "outputs": [
    {
     "data": {
      "text/html": [
       "<div>\n",
       "<style scoped>\n",
       "    .dataframe tbody tr th:only-of-type {\n",
       "        vertical-align: middle;\n",
       "    }\n",
       "\n",
       "    .dataframe tbody tr th {\n",
       "        vertical-align: top;\n",
       "    }\n",
       "\n",
       "    .dataframe thead th {\n",
       "        text-align: right;\n",
       "    }\n",
       "</style>\n",
       "<table border=\"1\" class=\"dataframe\">\n",
       "  <thead>\n",
       "    <tr style=\"text-align: right;\">\n",
       "      <th></th>\n",
       "      <th>accuracy</th>\n",
       "    </tr>\n",
       "  </thead>\n",
       "  <tbody>\n",
       "    <tr>\n",
       "      <th>RandomForest</th>\n",
       "      <td>0.880000</td>\n",
       "    </tr>\n",
       "    <tr>\n",
       "      <th>RandomForest</th>\n",
       "      <td>1.000000</td>\n",
       "    </tr>\n",
       "    <tr>\n",
       "      <th>RandomForest</th>\n",
       "      <td>0.880000</td>\n",
       "    </tr>\n",
       "    <tr>\n",
       "      <th>RandomForest</th>\n",
       "      <td>0.926667</td>\n",
       "    </tr>\n",
       "    <tr>\n",
       "      <th>RandomForest</th>\n",
       "      <td>0.817857</td>\n",
       "    </tr>\n",
       "    <tr>\n",
       "      <th>...</th>\n",
       "      <td>...</td>\n",
       "    </tr>\n",
       "    <tr>\n",
       "      <th>XGBoost</th>\n",
       "      <td>0.977778</td>\n",
       "    </tr>\n",
       "    <tr>\n",
       "      <th>XGBoost</th>\n",
       "      <td>0.817857</td>\n",
       "    </tr>\n",
       "    <tr>\n",
       "      <th>XGBoost</th>\n",
       "      <td>0.830000</td>\n",
       "    </tr>\n",
       "    <tr>\n",
       "      <th>XGBoost</th>\n",
       "      <td>0.933333</td>\n",
       "    </tr>\n",
       "    <tr>\n",
       "      <th>XGBoost</th>\n",
       "      <td>0.933333</td>\n",
       "    </tr>\n",
       "  </tbody>\n",
       "</table>\n",
       "<p>65 rows × 1 columns</p>\n",
       "</div>"
      ],
      "text/plain": [
       "              accuracy\n",
       "RandomForest  0.880000\n",
       "RandomForest  1.000000\n",
       "RandomForest  0.880000\n",
       "RandomForest  0.926667\n",
       "RandomForest  0.817857\n",
       "...                ...\n",
       "XGBoost       0.977778\n",
       "XGBoost       0.817857\n",
       "XGBoost       0.830000\n",
       "XGBoost       0.933333\n",
       "XGBoost       0.933333\n",
       "\n",
       "[65 rows x 1 columns]"
      ]
     },
     "execution_count": 18,
     "metadata": {},
     "output_type": "execute_result"
    }
   ],
   "source": [
    "acc_df=pd.DataFrame(accuracy1+accuracy2,\n",
    "                    index=['RandomForest']*len(accuracy1)+['XGBoost']*len(accuracy2)\n",
    "                    ,columns=['accuracy'])\n",
    "acc_df"
   ]
  },
  {
   "cell_type": "code",
   "execution_count": 10,
   "id": "b0a62e38",
   "metadata": {},
   "outputs": [
    {
     "ename": "NameError",
     "evalue": "name 'acc_df' is not defined",
     "output_type": "error",
     "traceback": [
      "\u001b[0;31m---------------------------------------------------------------------------\u001b[0m",
      "\u001b[0;31mNameError\u001b[0m                                 Traceback (most recent call last)",
      "Cell \u001b[0;32mIn[10], line 1\u001b[0m\n\u001b[0;32m----> 1\u001b[0m sns\u001b[38;5;241m.\u001b[39mboxplot(\u001b[43macc_df\u001b[49m)\n\u001b[1;32m      2\u001b[0m plt\u001b[38;5;241m.\u001b[39mx_ticks()\n",
      "\u001b[0;31mNameError\u001b[0m: name 'acc_df' is not defined"
     ]
    }
   ],
   "source": [
    "sns.boxplot(acc_df,y='accuracy')\n",
    "plt.x_ticks()"
   ]
  },
  {
   "cell_type": "code",
   "execution_count": null,
   "id": "fc1b1291",
   "metadata": {},
   "outputs": [],
   "source": [
    "accuracy"
   ]
  },
  {
   "cell_type": "code",
   "execution_count": null,
   "id": "2c97202a",
   "metadata": {},
   "outputs": [],
   "source": []
  },
  {
   "cell_type": "code",
   "execution_count": null,
   "id": "863d28f6",
   "metadata": {},
   "outputs": [],
   "source": [
    "a=[]\n",
    "for i in range(10):\n",
    "    try:\n",
    "        a.append(i)\n",
    "        print(a)\n",
    "    except: pass\n",
    "a"
   ]
  },
  {
   "cell_type": "code",
   "execution_count": null,
   "id": "947398ca",
   "metadata": {},
   "outputs": [],
   "source": []
  },
  {
   "cell_type": "code",
   "execution_count": null,
   "id": "9ea4eb88",
   "metadata": {},
   "outputs": [],
   "source": []
  },
  {
   "cell_type": "code",
   "execution_count": null,
   "id": "783c72ac",
   "metadata": {},
   "outputs": [],
   "source": []
  },
  {
   "cell_type": "code",
   "execution_count": null,
   "id": "832aed73",
   "metadata": {},
   "outputs": [],
   "source": [
    "# from bioinfokit.analys import stat\n",
    "# ANOVA=None\n",
    "# for col in df.columns:\n",
    "#     if col not in ['date','level','volunteer']:\n",
    "#         res = stat()\n",
    "#         res.anova_stat(df=df, res_var='level'\n",
    "#                              , anova_model=f\"level ~ C({col})\")\n",
    "# #         print(res.anova_summary.iloc[0,:])\n",
    "#         if ANOVA is None:\n",
    "#             ANOVA=res.anova_summary\n",
    "#         else:\n",
    "#             ANOVA=pd.concat([ANOVA,res.anova_summary])"
   ]
  },
  {
   "cell_type": "code",
   "execution_count": null,
   "id": "730a7330",
   "metadata": {},
   "outputs": [],
   "source": [
    "# ANOVA=ANOVA.drop('Residual')"
   ]
  },
  {
   "cell_type": "code",
   "execution_count": null,
   "id": "ce4d9788",
   "metadata": {
    "scrolled": true
   },
   "outputs": [],
   "source": [
    "# ANOVA['PR(>F)']=ANOVA['PR(>F)']*100"
   ]
  },
  {
   "cell_type": "code",
   "execution_count": null,
   "id": "3f404c58",
   "metadata": {
    "scrolled": true
   },
   "outputs": [],
   "source": [
    "# ANOVA['PR(>F)']=ANOVA['PR(>F)'].astype(int)\n",
    "# ANOVA=ANOVA.rename(columns={'PR(>F)':'p_value(%)'})\n",
    "# ANOVA"
   ]
  },
  {
   "cell_type": "code",
   "execution_count": null,
   "id": "ed5cd790",
   "metadata": {},
   "outputs": [],
   "source": [
    "# import dataframe_image as dfi\n",
    "# dfi.export(ANOVA ,'../ANOVA_table_final_data_no_filter.png')"
   ]
  },
  {
   "cell_type": "code",
   "execution_count": null,
   "id": "f8367ae3",
   "metadata": {
    "scrolled": false
   },
   "outputs": [],
   "source": []
  },
  {
   "cell_type": "code",
   "execution_count": null,
   "id": "5d0ab69a",
   "metadata": {
    "scrolled": true
   },
   "outputs": [],
   "source": [
    "corr=df[[ 'home_time', 'school_time', 'travel_time', 'date_in_week',\n",
    "        'recreational_activities', 'orthers',\n",
    "       'working', 'shopping','None_school_time','skip_class','level']].corr()\n",
    "ax,fig=plt.subplots(figsize=(10,10))\n",
    "sns.heatmap(corr,annot=True)\n",
    "plt.savefig('../image/corr.png')"
   ]
  },
  {
   "cell_type": "code",
   "execution_count": null,
   "id": "82cf1fbc",
   "metadata": {
    "scrolled": true
   },
   "outputs": [],
   "source": [
    "# sns.histplot(df,x='home_time',y='date_in_week',cbar=True)\n",
    "# plt.savefig('../image/hometime vs day.png')"
   ]
  },
  {
   "cell_type": "code",
   "execution_count": null,
   "id": "4fbe5234",
   "metadata": {},
   "outputs": [],
   "source": []
  },
  {
   "cell_type": "code",
   "execution_count": null,
   "id": "406ac8dc",
   "metadata": {},
   "outputs": [],
   "source": [
    "\n"
   ]
  },
  {
   "cell_type": "code",
   "execution_count": null,
   "id": "c925f865",
   "metadata": {
    "scrolled": false
   },
   "outputs": [],
   "source": [
    "df"
   ]
  },
  {
   "cell_type": "code",
   "execution_count": null,
   "id": "912110ec",
   "metadata": {},
   "outputs": [],
   "source": [
    "df=df.sort_values(['week','date'])\n",
    "df=df.reset_index(drop=True)\n",
    "# df=df.drop('date.1',axis=1)\n",
    "df.info()"
   ]
  },
  {
   "cell_type": "code",
   "execution_count": null,
   "id": "80dc63ba",
   "metadata": {},
   "outputs": [],
   "source": [
    "ax,fig=plt.subplots(figsize=(5,5))\n",
    "sns.histplot(df,x='week',y='skip_class',cbar=True,bins=3)\n",
    "plt.yticks([0,1])\n",
    "plt.savefig('../image/cutclass vs week.png')"
   ]
  },
  {
   "cell_type": "code",
   "execution_count": null,
   "id": "9d2ab848",
   "metadata": {
    "scrolled": true
   },
   "outputs": [],
   "source": [
    "sns.countplot(df,x='week',hue='skip_class')\n",
    "plt.savefig('../image/count skip class vs week.png')"
   ]
  },
  {
   "cell_type": "code",
   "execution_count": null,
   "id": "563344eb",
   "metadata": {
    "scrolled": true
   },
   "outputs": [],
   "source": [
    "# print(df['level'].unique())\n",
    "df_stress=df.iloc[:,1:]\n",
    "# df_stress['level']=df_stress['level'].fillna(df_stress['level'].median())\n",
    "# df_stress['level']=df_stress['level'].fillna(0)\n"
   ]
  },
  {
   "cell_type": "code",
   "execution_count": null,
   "id": "99f5d746",
   "metadata": {},
   "outputs": [],
   "source": [
    "df_stress['level']=df_stress['level'].astype(int)\n",
    "ax,fig=plt.subplots(figsize=(10,10))\n",
    "sns.countplot(df_stress,x='level',hue='skip_class')\n",
    "plt.xticks(rotation=0)\n",
    "# plt.savefig('../image/stress vs skip class.png')\n",
    "print(df['level'].unique())\n",
    "sns.countplot(df_stress,x='level')"
   ]
  },
  {
   "cell_type": "code",
   "execution_count": null,
   "id": "f8c2edee",
   "metadata": {},
   "outputs": [],
   "source": [
    "df_stress"
   ]
  },
  {
   "cell_type": "code",
   "execution_count": null,
   "id": "cc7cd18f",
   "metadata": {},
   "outputs": [],
   "source": [
    "stress_cut_classes=df_stress[df_stress['skip_class']==1]['level']\n",
    "stress_no_cut_classes=df_stress[df_stress['skip_class']==0]['level']\n",
    "\n",
    "from scipy.stats import f_oneway\n",
    "f_oneway(stress_no_cut_classes,stress_cut_classes)"
   ]
  },
  {
   "cell_type": "code",
   "execution_count": null,
   "id": "753c658d",
   "metadata": {},
   "outputs": [],
   "source": []
  },
  {
   "cell_type": "code",
   "execution_count": null,
   "id": "fd33eb44",
   "metadata": {},
   "outputs": [],
   "source": []
  },
  {
   "cell_type": "code",
   "execution_count": null,
   "id": "ed857ebf",
   "metadata": {},
   "outputs": [],
   "source": []
  },
  {
   "cell_type": "code",
   "execution_count": null,
   "id": "6266f6ea",
   "metadata": {},
   "outputs": [],
   "source": []
  },
  {
   "cell_type": "code",
   "execution_count": null,
   "id": "572e6b8e",
   "metadata": {},
   "outputs": [],
   "source": []
  },
  {
   "cell_type": "code",
   "execution_count": null,
   "id": "a73482a3",
   "metadata": {
    "scrolled": true
   },
   "outputs": [],
   "source": [
    "sns.histplot(df_stress,x='level',hue='skip_class',kde=True)\n",
    "plt.savefig('../image/stress by skip class.png')"
   ]
  },
  {
   "cell_type": "code",
   "execution_count": null,
   "id": "192b934c",
   "metadata": {},
   "outputs": [],
   "source": [
    "no_cut_class_data=df_stress[df_stress['skip_class']==0]\n",
    "cut_class_data=df_stress[df_stress['skip_class']==1]\n",
    "no_cut_class_data=no_cut_class_data['level'].value_counts().to_frame()\n",
    "no_cut_class_data['count']=no_cut_class_data['count']/(no_cut_class_data['count'].sum())\n",
    "no_cut_class_data\n",
    "cut_class_data=cut_class_data['level'].value_counts().to_frame()\n",
    "cut_class_data['count']=cut_class_data['count']/cut_class_data['count'].sum()\n",
    "cut_class_data"
   ]
  },
  {
   "cell_type": "code",
   "execution_count": null,
   "id": "8fd4d565",
   "metadata": {},
   "outputs": [],
   "source": [
    "cut_class_data.plot.pie(subplots=True, figsize=(11, 6),startangle=90,autopct='%1.2f%%')\n",
    "plt.savefig('../image/stress ratio cut class.png')"
   ]
  },
  {
   "cell_type": "code",
   "execution_count": null,
   "id": "e10c1a69",
   "metadata": {},
   "outputs": [],
   "source": [
    "no_cut_class_data.plot.pie(subplots=True, figsize=(11, 6),startangle=90,autopct='%1.2f%%')\n",
    "plt.savefig('../image/stress ratio no cut class.png')"
   ]
  },
  {
   "cell_type": "code",
   "execution_count": null,
   "id": "ff9ff43b",
   "metadata": {
    "scrolled": true
   },
   "outputs": [],
   "source": [
    "sns.histplot(df_stress,x='week',hue='level',kde=True,palette='crest',bins=10,stat='percent',alpha=0.4)\n",
    "plt.savefig('../image/stress by week.png')"
   ]
  },
  {
   "cell_type": "code",
   "execution_count": null,
   "id": "541f9be7",
   "metadata": {
    "scrolled": true
   },
   "outputs": [],
   "source": [
    "sns.histplot(df_stress[df_stress['skip_class']==1],x='week',hue='level',kde=True,palette='crest',bins=10,stat='percent',alpha=0.4        )\n",
    "plt.title('Stress of student who $\\\\bf{skip}$ class')\n",
    "plt.savefig('../image/stress by week who skip class.png')"
   ]
  },
  {
   "cell_type": "code",
   "execution_count": null,
   "id": "6cd4b156",
   "metadata": {
    "scrolled": true
   },
   "outputs": [],
   "source": [
    "sns.histplot(df_stress[df_stress['skip_class']==0],x='week',hue='level',kde=True,bins=10,palette='crest',stat='percent',alpha=0.4)\n",
    "plt.title('Stress of student who $\\\\bf{NOT }$ $\\\\bf{skip}$  class')\n",
    "plt.savefig('../image/stress by week who $\\\\bf{NOT}$ skip class.png')"
   ]
  },
  {
   "cell_type": "code",
   "execution_count": null,
   "id": "ed94a7a1",
   "metadata": {
    "scrolled": true
   },
   "outputs": [],
   "source": [
    "df_stress_fix=df_stress\n",
    "df_stress_fix['school_time']=(df_stress_fix['school_time']/60).astype(int)\n",
    "\n"
   ]
  },
  {
   "cell_type": "code",
   "execution_count": null,
   "id": "357245b0",
   "metadata": {
    "scrolled": true
   },
   "outputs": [],
   "source": [
    "sns.kdeplot(df_stress_fix,x='school_time',y='level',cmap='Reds',fill=True)\n",
    "plt.savefig('../image/stress by school time.png')"
   ]
  },
  {
   "cell_type": "code",
   "execution_count": null,
   "id": "7c34659f",
   "metadata": {},
   "outputs": [],
   "source": [
    "df_stress_fix['None_school_time']=(df_stress_fix['None_school_time']/60).astype(int)"
   ]
  },
  {
   "cell_type": "code",
   "execution_count": null,
   "id": "44d8bbd4",
   "metadata": {
    "scrolled": true
   },
   "outputs": [],
   "source": [
    "sns.kdeplot(df_stress_fix,x='None_school_time',y='level',cmap='Reds',fill=True)\n",
    "plt.savefig('../image/stress by none school time.png')"
   ]
  },
  {
   "cell_type": "code",
   "execution_count": null,
   "id": "de450e7b",
   "metadata": {
    "scrolled": false
   },
   "outputs": [],
   "source": [
    "df.info()\n",
    "df_stress['week']=df_stress['week'].astype(int)\n"
   ]
  },
  {
   "cell_type": "code",
   "execution_count": null,
   "id": "7e70bfa5",
   "metadata": {
    "scrolled": false
   },
   "outputs": [],
   "source": [
    "pd.plotting.radviz(df_stress[['week', 'home_time','None_school_time',\n",
    "        'recreational_activities','date_in_week',\n",
    "        'travel_time',\n",
    "        'orthers', 'skip_class' ,'school_time' ,\n",
    "        'level' \n",
    "       ]],'level')\n",
    "plt.savefig('../image/radvix.png')"
   ]
  },
  {
   "cell_type": "code",
   "execution_count": null,
   "id": "32dc6ef6",
   "metadata": {},
   "outputs": [],
   "source": [
    "sns.countplot(df_stress,x='level')"
   ]
  },
  {
   "cell_type": "code",
   "execution_count": null,
   "id": "f58574a1",
   "metadata": {
    "scrolled": true
   },
   "outputs": [],
   "source": [
    "df.describe()"
   ]
  },
  {
   "cell_type": "code",
   "execution_count": null,
   "id": "8efbf7e7",
   "metadata": {},
   "outputs": [],
   "source": [
    "df=df.reset_index(drop=True)\n",
    "df_new=df.drop(df[df['home_time']==0].index)\n",
    "\n",
    "sns.histplot(df_new,x='school_time',hue='skip_class')\n",
    "\n",
    "df_new.describe()\n",
    "df['school_time'].unique()\n"
   ]
  },
  {
   "cell_type": "code",
   "execution_count": null,
   "id": "b6220e65",
   "metadata": {},
   "outputs": [],
   "source": [
    "df.school_time.value_counts"
   ]
  },
  {
   "cell_type": "code",
   "execution_count": null,
   "id": "3e4c40d4",
   "metadata": {},
   "outputs": [],
   "source": [
    "df.columns"
   ]
  },
  {
   "cell_type": "code",
   "execution_count": null,
   "id": "acadb76e",
   "metadata": {},
   "outputs": [],
   "source": [
    "y=df['level']\n",
    "y.unique()"
   ]
  },
  {
   "cell_type": "code",
   "execution_count": null,
   "id": "01f8133d",
   "metadata": {},
   "outputs": [],
   "source": [
    "print(df.info())\n",
    "df=df.dropna()\n",
    "print(df.isna().sum())\n",
    "df['week']=df['week'].astype(int)\n",
    "X=df.drop(['level','date','location_names','volunteer'],axis=1)\n",
    "y=df['level']\n",
    "# y=y.fillna(y.median())\n",
    "y=y.astype(int)\n",
    "# y=y.apply(lambda x:group_stress(x))\n",
    "y.unique()"
   ]
  },
  {
   "cell_type": "code",
   "execution_count": null,
   "id": "7a5df73d",
   "metadata": {},
   "outputs": [],
   "source": [
    "X.info()"
   ]
  },
  {
   "cell_type": "code",
   "execution_count": null,
   "id": "13d6c6b9",
   "metadata": {},
   "outputs": [],
   "source": [
    "y.info()"
   ]
  },
  {
   "cell_type": "code",
   "execution_count": null,
   "id": "500d997b",
   "metadata": {},
   "outputs": [],
   "source": [
    "from sklearn.preprocessing import StandardScaler\n",
    "from sklearn.model_selection import train_test_split\n",
    "scaler = StandardScaler()\n",
    "\n",
    "X_train, X_vad, y_train, y_vad = train_test_split(X, y, test_size=0.2, random_state=42)\n",
    "X_train_ML, X_vad_ML, y_train_ML, y_vad_ML= X_train, X_vad, y_train, y_vad\n",
    "\n",
    "# X_train = scaler.fit_transform(X_train)\n",
    "\n",
    "# X_vad = scaler.fit_transform(X_vad)\n",
    "X.shape\n"
   ]
  },
  {
   "cell_type": "code",
   "execution_count": null,
   "id": "abeae59f",
   "metadata": {},
   "outputs": [],
   "source": [
    "y.unique()"
   ]
  },
  {
   "cell_type": "code",
   "execution_count": null,
   "id": "502d31a7",
   "metadata": {},
   "outputs": [],
   "source": [
    "y.describe()"
   ]
  },
  {
   "cell_type": "code",
   "execution_count": null,
   "id": "5fd7d22a",
   "metadata": {},
   "outputs": [],
   "source": [
    "from imblearn.over_sampling import ADASYN\n",
    "ada = ADASYN(random_state=42)\n",
    "\n",
    "X_train_ada, X_vad_ada, y_train_ada, y_vad_ada = train_test_split(X, y, test_size=0.2, random_state=42)"
   ]
  },
  {
   "cell_type": "code",
   "execution_count": null,
   "id": "dc9f7106",
   "metadata": {},
   "outputs": [],
   "source": []
  },
  {
   "cell_type": "markdown",
   "id": "89f21eb5",
   "metadata": {},
   "source": [
    "# ADASYN"
   ]
  },
  {
   "cell_type": "code",
   "execution_count": null,
   "id": "a7efd37d",
   "metadata": {
    "scrolled": false
   },
   "outputs": [],
   "source": [
    "X_train_ada, y_train_ada = ada.fit_resample(X_train_ada, y_train_ada)\n",
    "model_ada=RandomForestClassifier(random_state=10)\n",
    "model_ada.fit(X_train_ada,y_train_ada)\n",
    "prediction1=model_ada.predict(X_vad_ada)\n",
    "print('Accuracy for RF is ',metrics.accuracy_score(prediction1,y_vad_ada))\n",
    "ax,fig=plt.subplots(figsize=(10,10))\n",
    "conf=metrics.confusion_matrix(prediction1,y_vad_ada, normalize='true')\n",
    "print(metrics.classification_report(prediction1,y_vad_ada))\n",
    "sns.heatmap(conf,annot=True)"
   ]
  },
  {
   "cell_type": "markdown",
   "id": "adb3e11e",
   "metadata": {},
   "source": [
    "# ENN"
   ]
  },
  {
   "cell_type": "code",
   "execution_count": null,
   "id": "4e1ce536",
   "metadata": {},
   "outputs": [],
   "source": [
    "from imblearn.combine import SMOTEENN\n",
    "# oversampling the train dataset using SMOTE + ENN\n",
    "smenn = SMOTEENN()\n",
    "\n",
    "X_train_smoteenn, X_vad_smoteenn, y_train_smoteenn, y_vad_smoteenn = train_test_split(X, y, test_size=0.2, random_state=42)"
   ]
  },
  {
   "cell_type": "code",
   "execution_count": null,
   "id": "76caae88",
   "metadata": {
    "scrolled": true
   },
   "outputs": [],
   "source": [
    "X_train_smoteenn, y_train_smoteenn = smenn.fit_resample(X_train_smoteenn, y_train_smoteenn)\n",
    "model_smoteenn=RandomForestClassifier(random_state=10)\n",
    "model_smoteenn.fit(X_train_smoteenn,y_train_smoteenn)\n",
    "prediction1=model_smoteenn.predict(X_vad_smoteenn)\n",
    "print('Accuracy for RF is ',metrics.accuracy_score(prediction1,y_vad_smoteenn))\n",
    "ax,fig=plt.subplots(figsize=(10,10))\n",
    "conf=metrics.confusion_matrix(prediction1,y_vad_smoteenn, normalize='true')\n",
    "print(metrics.classification_report(prediction1,y_vad_smoteenn))\n",
    "sns.heatmap(conf,annot=True)"
   ]
  },
  {
   "cell_type": "markdown",
   "id": "f2dc03f6",
   "metadata": {},
   "source": [
    "# SMOTE"
   ]
  },
  {
   "cell_type": "code",
   "execution_count": null,
   "id": "48ec3faf",
   "metadata": {},
   "outputs": [],
   "source": [
    "from imblearn.over_sampling import SMOTE\n",
    "# oversampling the train dataset using SMOTE\n",
    "sm = SMOTE()\n",
    "X_train_smote, X_vad_smote, y_train_smote, y_vad_smote = train_test_split(X, y, test_size=0.2, random_state=42)"
   ]
  },
  {
   "cell_type": "code",
   "execution_count": null,
   "id": "579a7c80",
   "metadata": {},
   "outputs": [],
   "source": [
    "X_train_smote, y_train_smote = sm.fit_resample(X_train_smote, y_train_smote)\n",
    "\n",
    "model_smote=RandomForestClassifier(random_state=200)\n",
    "model_smote.fit(X_train_smote,y_train_smote)\n",
    "prediction1=model_smote.predict(X_vad_smote)\n",
    "print('Accuracy for RF is ',metrics.accuracy_score(prediction1,y_vad_smote))\n",
    "ax,fig=plt.subplots(figsize=(10,10))\n",
    "conf=metrics.confusion_matrix(prediction1,y_vad_smote, normalize='true')\n",
    "print(metrics.classification_report(prediction1,y_vad_smote))\n",
    "sns.heatmap(conf,annot=True)"
   ]
  },
  {
   "cell_type": "markdown",
   "id": "39a94945",
   "metadata": {},
   "source": [
    "# tomek"
   ]
  },
  {
   "cell_type": "code",
   "execution_count": null,
   "id": "262ceab3",
   "metadata": {},
   "outputs": [],
   "source": [
    "from imblearn.combine import SMOTETomek\n",
    "# oversampling the train dataset using SMOTE + ENN\n",
    "smtomek = SMOTETomek()\n",
    "\n",
    "X_train_smotetomek, X_vad_smotetomek, y_train_smotetomek, y_vad_smotetomek = train_test_split(X, y, test_size=0.2, random_state=42)"
   ]
  },
  {
   "cell_type": "code",
   "execution_count": null,
   "id": "61e64de2",
   "metadata": {},
   "outputs": [],
   "source": [
    "X_train_smotetomek, y_train_smotetomek = smtomek.fit_resample(X_train_smotetomek, y_train_smotetomek)\n",
    "model_smotetomek=RandomForestClassifier(random_state=10)\n",
    "model_smotetomek.fit(X_train_smotetomek,y_train_smotetomek)\n",
    "prediction1=model_smotetomek.predict(X_vad_smotetomek)\n",
    "print('Accuracy for RF is ',metrics.accuracy_score(prediction1,y_vad_smotetomek))\n",
    "ax,fig=plt.subplots(figsize=(10,10))\n",
    "conf=metrics.confusion_matrix(prediction1,y_vad_smotetomek, normalize='true')\n",
    "print(metrics.classification_report(prediction1,y_vad_smotetomek))\n",
    "sns.heatmap(conf,annot=True)"
   ]
  },
  {
   "cell_type": "code",
   "execution_count": null,
   "id": "1ace90fb",
   "metadata": {
    "scrolled": true
   },
   "outputs": [],
   "source": [
    "# from xgboost import XGBClassifier#XGBcalssifier\n",
    "# seed=200\n",
    "# model=XGBClassifier (use_label_encoder=False, eval_metric='logloss', random_state=seed)\n",
    "# model.fit(X_train,y_train)\n",
    "# prediction1=model.predict(X_vad)\n",
    "# print('Accuracy for XBG is ',metrics.accuracy_score(prediction1,y_vad))"
   ]
  },
  {
   "cell_type": "code",
   "execution_count": null,
   "id": "8ee8cdc2",
   "metadata": {},
   "outputs": [],
   "source": [
    "# data_smote=pd.concat([X_smoteenn, y_smoteenn],axis=1)\n",
    "# data_smote.level.value_counts()"
   ]
  },
  {
   "cell_type": "code",
   "execution_count": null,
   "id": "65689676",
   "metadata": {},
   "outputs": [],
   "source": [
    "\n",
    "# df.dropna().level.value_counts()"
   ]
  },
  {
   "cell_type": "code",
   "execution_count": null,
   "id": "769239f5",
   "metadata": {},
   "outputs": [],
   "source": [
    "# data_ada=pd.concat([X_ada, y_ada],axis=1)\n",
    "# data_ada.level.value_counts()"
   ]
  },
  {
   "cell_type": "code",
   "execution_count": null,
   "id": "d272e228",
   "metadata": {},
   "outputs": [],
   "source": [
    "model=RandomForestClassifier(random_state=10)\n",
    "model.fit(X_train,y_train)\n",
    "prediction1=model.predict(X_vad)\n",
    "print('Accuracy for RF is ',metrics.accuracy_score(prediction1,y_vad))\n",
    "ax,fig=plt.subplots(figsize=(10,10))\n",
    "conf=metrics.confusion_matrix(prediction1,y_vad, normalize='true')\n",
    "print(metrics.classification_report(prediction1,y_vad))\n",
    "sns.heatmap(conf,annot=True)"
   ]
  },
  {
   "cell_type": "code",
   "execution_count": null,
   "id": "83d63798",
   "metadata": {
    "scrolled": false
   },
   "outputs": [],
   "source": [
    "from sklearn.model_selection import KFold #for K-fold cross validation\n",
    "from sklearn.model_selection import cross_val_score #score evaluation\n",
    "from sklearn.model_selection import cross_val_predict #prediction\n",
    "from sklearn import svm #support vector Machine\n",
    "from xgboost import XGBClassifier#XGBcalssifier\n",
    "from sklearn.neighbors import KNeighborsClassifier #KNN\n",
    "seed=200\n",
    "kfold = KFold(5, shuffle=True, random_state=seed) # k=10, split the data into 10 equal parts\n",
    "\n",
    "cv_mean=[]\n",
    "accuracy=[]\n",
    "std=[]\n",
    "classifier=[]\n",
    "models=[svm.SVC(random_state=seed),RandomForestClassifier(random_state=seed),XGBClassifier ( eval_metric='logloss', random_state=seed)]\n",
    "for model in models:\n",
    "    model_name = model.__class__.__name__\n",
    "    if model_name not in(classifier):\n",
    "        classifier.append(model_name)\n",
    "    cv_result = cross_val_score(model,X, y, cv = kfold)\n",
    "    \n",
    "    cv_mean.append(round(cv_result.mean(),2))\n",
    "    std.append(round(cv_result.std(),2))\n",
    "    accuracy.append(cv_result)\n",
    "    print(model)\n",
    "new_models_dataframe=pd.DataFrame({'ML model':classifier,'accuracy_score':cv_mean,'std':std})\n",
    "new_models_dataframe=new_models_dataframe.set_index('ML model')\n",
    "new_models_dataframe"
   ]
  },
  {
   "cell_type": "code",
   "execution_count": null,
   "id": "508eb8e3",
   "metadata": {},
   "outputs": [],
   "source": [
    "from sklearn.model_selection import StratifiedKFold #for K-fold cross validation\n",
    "entries=[]\n",
    "for model in models:\n",
    "    model_name = model.__class__.__name__\n",
    "    kfold = StratifiedKFold(5, shuffle=True, random_state=seed)\n",
    "    scores = cross_val_score(model, X,y, cv=kfold)\n",
    "    for fold_idx, score in enumerate(scores):\n",
    "        entries.append([model_name, fold_idx, score])\n",
    "cv_df = pd.DataFrame(entries, columns= [ 'model_name','fold id','accuracy_score' ])\n",
    "sns.boxplot(cv_df,x='model_name',y='accuracy_score',showmeans=True)\n",
    "plt.xticks(rotation=60)"
   ]
  },
  {
   "cell_type": "code",
   "execution_count": null,
   "id": "933e723a",
   "metadata": {
    "scrolled": false
   },
   "outputs": [],
   "source": [
    "from sklearn.model_selection import StratifiedKFold #for K-fold cross validation\n",
    "for model in models:\n",
    "    model_name = f'{model.__class__.__name__} smoteenn'\n",
    "    kfold = StratifiedKFold(10, shuffle=True, random_state=seed)\n",
    "    scores = cross_val_score(model, X, y, cv=kfold)\n",
    "    for fold_idx, score in enumerate(scores):\n",
    "        entries.append([model_name, fold_idx, score])\n",
    "cv_df = pd.DataFrame(entries, columns= [ 'model_name','fold id','accuracy_score' ])\n",
    "sns.boxplot(cv_df,x='model_name',y='accuracy_score',showmeans=True)\n",
    "plt.xticks(rotation=60)"
   ]
  },
  {
   "cell_type": "code",
   "execution_count": null,
   "id": "54eaf592",
   "metadata": {},
   "outputs": [],
   "source": [
    "from sklearn.model_selection import LearningCurveDisplay, ShuffleSplit\n",
    "common_params = {\n",
    "    \"X\": X,\n",
    "    \"y\":  y,\n",
    "    \"train_sizes\": np.linspace(0.1, 1.0, 5),\n",
    "    \"cv\": ShuffleSplit(n_splits=50, test_size=0.2, random_state=0),\n",
    "    \"score_type\": \"both\",\n",
    "    \"n_jobs\": 4,\n",
    "    \"line_kw\": {\"marker\": \"o\"},\n",
    "    \"std_display_style\": \"fill_between\",\n",
    "    \"score_name\": \"Accuracy\",\n",
    "}\n",
    "fig, ax = plt.subplots(nrows=1, ncols=2, figsize=(10, 6), sharey=True)\n",
    "rf=RandomForestClassifier(random_state=seed)\n",
    "xgb=XGBClassifier ( eval_metric='logloss', random_state=seed)\n",
    "for ax_idx, estimator in enumerate([rf, xgb]):\n",
    "    LearningCurveDisplay.from_estimator(estimator, **common_params, ax=ax[ax_idx])\n",
    "    handles, label = ax[ax_idx].get_legend_handles_labels()\n",
    "    ax[ax_idx].legend(handles[:2], [\"Training Score\", \"Test Score\"])\n",
    "    ax[ax_idx].set_title(f\"Learning Curve for {estimator.__class__.__name__}\")"
   ]
  },
  {
   "cell_type": "code",
   "execution_count": null,
   "id": "ec344e64",
   "metadata": {},
   "outputs": [],
   "source": [
    "X_enn,y_enn=smenn.fit_resample(X, y)\n",
    "from sklearn.metrics import RocCurveDisplay\n",
    "from sklearn.metrics import confusion_matrix,roc_auc_score, roc_curve,auc #for confusion matrix\n",
    "from sklearn.model_selection import StratifiedKFold\n",
    "from sklearn.model_selection import KFold\n",
    "name_col=[]\n",
    "names=[]\n",
    "tpr=[]\n",
    "fpr=[]\n",
    "index=[]\n",
    "AUROC=[]\n",
    "tprs=[]\n",
    "fprs=[]\n",
    "\n",
    "def get_tpr_fpr(true_y, y_prob, tprs, fprs):\n",
    "#     \"\"\"\n",
    "#     plots the roc curve based of the probabilities\n",
    "#     \"\"\"\n",
    "    true_y=true_y.values\n",
    "\n",
    "    fpr, tpr, thresholds = roc_curve(true_y, y_prob,pos_label=1)\n",
    "#     plt.plot(fpr, tpr)\n",
    "#     plt.xlabel('False Positive Rate')\n",
    "#     plt.ylabel('True Positive Rate')\n",
    "    \n",
    "\n",
    "    tprs.append(tpr)\n",
    "\n",
    "    fprs.append(fpr)\n",
    "    return fprs, tprs\n",
    "\n",
    "# ax,fig=plt.subplots(figsize=(30,20))\n",
    "\n",
    "for model in models:\n",
    "#     try:\n",
    "    print(model)\n",
    "\n",
    "    kfold = StratifiedKFold(10, shuffle=True, random_state=seed)\n",
    "#     kfold = KFold(n=len(y), n_folds=10)\n",
    "    \n",
    "\n",
    "    for i, (train, test) in enumerate(kfold.split(X_enn,y_enn)):\n",
    "        \n",
    "        model.fit(X_enn.iloc[train],y_enn.iloc[train])\n",
    "        y_pre=model.predict(X_enn)\n",
    "        print(len(y_enn.values))\n",
    "        print(len(y_pre))\n",
    "\n",
    "        a=get_tpr_fpr(y_enn,y_pre,tpr,fpr)\n",
    "\n",
    "        name=model.__class__.__name__\n",
    "        names.append(name)\n",
    "        name_col.append(model.__class__.__name__)\n",
    "        tpr=a[1]\n",
    "        fpr=a[0]\n",
    "        index.append(i)\n",
    "        \n",
    "        \n",
    "#     except:pass\n",
    "\n",
    "\n",
    "# plt.legend(names)\n",
    "model_result=pd.DataFrame({'id': index,'model':name_col,'tpr':tpr,'fpr':fpr})\n",
    "model_result['tpr_value']=model_result['tpr'].apply(np.mean)\n",
    "model_result['fpr_value']=model_result['fpr'].apply(np.mean)\n",
    "\n",
    "model_result_grouped=model_result.groupby('model')[['tpr','fpr']].mean()\n",
    "model_result_grouped_std=model_result.groupby('model')[['tpr_value','fpr_value']].std()\n",
    "model_result_grouped_std=model_result_grouped_std.rename(columns={'tpr_value':'tpr_std',\n",
    "                                                                 'fpr_value':'fpr_std'})\n",
    "\n",
    "model_result_grouped=pd.concat([model_result_grouped,model_result_grouped_std],axis=1)\n",
    "model_result_grouped=model_result_grouped[['tpr', 'tpr_std', 'fpr', 'fpr_std']]\n"
   ]
  },
  {
   "cell_type": "code",
   "execution_count": null,
   "id": "7a152b06",
   "metadata": {},
   "outputs": [],
   "source": [
    "def roc_curve(tpr,fpr):\n",
    "    plt.plot(fpr, tpr)\n",
    "    plt.xlabel('False Positive Rate')\n",
    "    plt.ylabel('True Positive Rate')\n",
    "sns.set(font_scale=1)\n",
    "model_result_grouped.apply(lambda x:roc_curve(x['tpr'],x['fpr']),axis=1)\n",
    "plt.title('full ROC curve')\n",
    "plt.legend(model_result_grouped.index.values)\n",
    "\n",
    "plt.savefig(f'../image/ROC curve.png')"
   ]
  },
  {
   "cell_type": "code",
   "execution_count": null,
   "id": "2308b2be",
   "metadata": {},
   "outputs": [],
   "source": [
    "model_result_grouped['tpr']=model_result_grouped['tpr'].apply(np.mean)\n",
    "model_result_grouped['fpr']=model_result_grouped['fpr'].apply(np.mean)\n",
    "model_result_grouped"
   ]
  },
  {
   "cell_type": "code",
   "execution_count": null,
   "id": "a01a1bfc",
   "metadata": {},
   "outputs": [],
   "source": [
    "from sklearn.model_selection import KFold\n",
    "from imblearn.over_sampling import SMOTE\n",
    "from sklearn.metrics import f1_score\n",
    "\n",
    "kf = KFold(n_splits=10)\n",
    "\n",
    "for fold, (train_index, test_index) in enumerate(kf.split(X), 1):\n",
    "    X_train = X.iloc[train_index]\n",
    "    y_train = y.iloc[train_index]  # Based on your code, you might need a ravel call here, but I would look into how you're generating your y\n",
    "    X_test = X.iloc[test_index]\n",
    "    y_test = y.iloc[test_index]  # See comment on ravel and  y_train\n",
    "    sm = SMOTE()\n",
    "    X_train_oversampled, y_train_oversampled = sm.fit_resample(X_train, y_train)\n",
    "    model = RandomForestClassifier(random_state=200) # Choose a model here\n",
    "    model.fit(X_train_oversampled, y_train_oversampled )  \n",
    "    y_pred = model.predict(X_test)\n",
    "    print(f'For fold {fold}:')\n",
    "    print(f'Accuracy: {model.score(X_test, y_test)}')\n",
    "    print(f'f-score: {f1_score(y_test, y_pred,average=None)}')"
   ]
  },
  {
   "cell_type": "code",
   "execution_count": null,
   "id": "d82f71b9",
   "metadata": {},
   "outputs": [],
   "source": [
    "from sklearn.model_selection import StratifiedKFold #for K-fold cross validation\n",
    "entries=[]\n",
    "for model in models:\n",
    "    model_name = model.__class__.__name__\n",
    "    kfold = StratifiedKFold(10, shuffle=True, random_state=seed)\n",
    "    scores =[]\n",
    "    for fold, (train_index, test_index) in enumerate(kf.split(X), 1):\n",
    "        X_train = X.iloc[train_index]\n",
    "        y_train = y.iloc[train_index]  # Based on your code, you might need a ravel call here, but I would look into how you're generating your y\n",
    "        X_test = X.iloc[test_index]\n",
    "        y_test = y.iloc[test_index]  # See comment on ravel and  y_train\n",
    "        sm = SMOTE()\n",
    "        X_train_oversampled, y_train_oversampled = sm.fit_resample(X_train, y_train)\n",
    "        scores.append(model.score(X_test, y_test))\n",
    "    for fold_idx, score in enumerate(scores):\n",
    "        entries.append([model_name, fold_idx, score])\n",
    "cv_df = pd.DataFrame(entries, columns= [ 'model_name','fold id','accuracy_score' ])\n",
    "sns.boxplot(cv_df,x='model_name',y='accuracy_score',showmeans=True)\n",
    "plt.xticks(rotation=60)"
   ]
  },
  {
   "cell_type": "code",
   "execution_count": null,
   "id": "bb12b283",
   "metadata": {},
   "outputs": [],
   "source": []
  },
  {
   "cell_type": "code",
   "execution_count": null,
   "id": "3caba411",
   "metadata": {},
   "outputs": [],
   "source": []
  },
  {
   "cell_type": "code",
   "execution_count": null,
   "id": "f3d6b3e5",
   "metadata": {},
   "outputs": [],
   "source": []
  },
  {
   "cell_type": "code",
   "execution_count": null,
   "id": "d92bfc2c",
   "metadata": {},
   "outputs": [],
   "source": [
    "import shap\n",
    "shap.initjs()\n",
    "\n",
    "# Create the explainer\n",
    "explainer1 = shap.TreeExplainer(model_smoteenn)\n",
    "\n",
    "shap_values = explainer1.shap_values(X_vad)\n",
    "print(\"Variable Importance Plot - Global Interpretation\")\n",
    "figure = plt.figure()\n",
    "shap.summary_plot(shap_values[1], X_vad)\n"
   ]
  },
  {
   "cell_type": "code",
   "execution_count": null,
   "id": "59a8dfc6",
   "metadata": {},
   "outputs": [],
   "source": [
    "X_vad"
   ]
  },
  {
   "cell_type": "code",
   "execution_count": null,
   "id": "caa3f828",
   "metadata": {
    "scrolled": false
   },
   "outputs": [],
   "source": [
    "shap.summary_plot(shap_values[0], X_vad)"
   ]
  },
  {
   "cell_type": "code",
   "execution_count": null,
   "id": "2f483086",
   "metadata": {},
   "outputs": [],
   "source": [
    "shap.summary_plot(shap_values[1], X_vad)"
   ]
  },
  {
   "cell_type": "code",
   "execution_count": null,
   "id": "a91ccf6a",
   "metadata": {},
   "outputs": [],
   "source": [
    "# shap.summary_plot(shap_values[2], X_vad)"
   ]
  },
  {
   "cell_type": "code",
   "execution_count": null,
   "id": "f027391c",
   "metadata": {
    "scrolled": false
   },
   "outputs": [],
   "source": [
    "\n",
    "shap.summary_plot(shap_values, X_vad,show=False,max_display=40)\n",
    "plt.show()\n",
    "plt.savefig('../image/shap_result.pdf')"
   ]
  },
  {
   "cell_type": "code",
   "execution_count": null,
   "id": "f0d456de",
   "metadata": {},
   "outputs": [],
   "source": []
  },
  {
   "cell_type": "code",
   "execution_count": null,
   "id": "579860fd",
   "metadata": {},
   "outputs": [],
   "source": [
    "shap. dependence_plot('week', shap_values[1], X_vad, interaction_index=\"skip_class\",alpha=0.5)"
   ]
  },
  {
   "cell_type": "code",
   "execution_count": null,
   "id": "3201b311",
   "metadata": {},
   "outputs": [],
   "source": [
    "explainer = shap.Explainer(model_ada.predict, X_train)\n",
    "\n",
    "shap_values_explain = explainer(X_vad)"
   ]
  },
  {
   "cell_type": "code",
   "execution_count": null,
   "id": "0d216e5b",
   "metadata": {
    "scrolled": true
   },
   "outputs": [],
   "source": [
    "shap.plots.bar(shap_values_explain,max_display=40)"
   ]
  },
  {
   "cell_type": "code",
   "execution_count": null,
   "id": "b6144d6c",
   "metadata": {},
   "outputs": [],
   "source": [
    "plot=shap.plots.waterfall(shap_values_explain[149])\n",
    "plot"
   ]
  },
  {
   "cell_type": "code",
   "execution_count": null,
   "id": "47afaa88",
   "metadata": {},
   "outputs": [],
   "source": [
    "plot=shap.plots.force(shap_values_explain)\n",
    "shap.save_html('my_force_plot.html',plot)\n",
    "plot"
   ]
  },
  {
   "cell_type": "code",
   "execution_count": null,
   "id": "d1430102",
   "metadata": {},
   "outputs": [],
   "source": [
    "shap.plots.beeswarm(shap_values_explain)"
   ]
  },
  {
   "cell_type": "code",
   "execution_count": null,
   "id": "8993801a",
   "metadata": {},
   "outputs": [],
   "source": [
    "shap.plots.scatter(shap_values_explain[:,\"home_time\"],\n",
    "                   color=shap_values_explain[:,\"school_time\" ])"
   ]
  },
  {
   "cell_type": "code",
   "execution_count": null,
   "id": "41271d37",
   "metadata": {},
   "outputs": [],
   "source": [
    "shap.plots.waterfall(shap_values_explain[1])"
   ]
  },
  {
   "cell_type": "code",
   "execution_count": null,
   "id": "d219fd37",
   "metadata": {},
   "outputs": [],
   "source": [
    "shap.plots.waterfall(shap_values_explain[0])"
   ]
  },
  {
   "cell_type": "code",
   "execution_count": null,
   "id": "67da7486",
   "metadata": {},
   "outputs": [],
   "source": [
    "shap.plots.scatter(shap_values_explain[:, \"cut_class\"])"
   ]
  },
  {
   "cell_type": "code",
   "execution_count": null,
   "id": "9ef1c1d2",
   "metadata": {},
   "outputs": [],
   "source": [
    "shap.plots.scatter(shap_values_explain[:, \"school_time\"])"
   ]
  },
  {
   "cell_type": "code",
   "execution_count": null,
   "id": "e83d3867",
   "metadata": {},
   "outputs": [],
   "source": [
    "shap.plots.scatter(shap_values_explain[:, \"None_school_time\"])"
   ]
  },
  {
   "cell_type": "code",
   "execution_count": null,
   "id": "6fc02ad0",
   "metadata": {},
   "outputs": [],
   "source": [
    "shap.plots.scatter(shap_values_explain[:, \"home_time\"])"
   ]
  },
  {
   "cell_type": "code",
   "execution_count": null,
   "id": "e526e0c2",
   "metadata": {},
   "outputs": [],
   "source": [
    "shap.plots.scatter(shap_values_explain[:, \"recreational_activities\"])"
   ]
  },
  {
   "cell_type": "code",
   "execution_count": null,
   "id": "46cb6252",
   "metadata": {},
   "outputs": [],
   "source": [
    "shap.plots.scatter(shap_values_explain)"
   ]
  },
  {
   "cell_type": "code",
   "execution_count": null,
   "id": "0d5a8cab",
   "metadata": {},
   "outputs": [],
   "source": []
  },
  {
   "cell_type": "code",
   "execution_count": null,
   "id": "1f30765a",
   "metadata": {},
   "outputs": [],
   "source": []
  },
  {
   "cell_type": "code",
   "execution_count": null,
   "id": "7b6e8f2d",
   "metadata": {},
   "outputs": [],
   "source": []
  },
  {
   "cell_type": "code",
   "execution_count": null,
   "id": "2bfe306b",
   "metadata": {},
   "outputs": [],
   "source": []
  },
  {
   "cell_type": "code",
   "execution_count": null,
   "id": "7ad30e25",
   "metadata": {},
   "outputs": [],
   "source": []
  },
  {
   "cell_type": "code",
   "execution_count": null,
   "id": "ef971f75",
   "metadata": {},
   "outputs": [],
   "source": []
  },
  {
   "cell_type": "code",
   "execution_count": null,
   "id": "a768e3d5",
   "metadata": {},
   "outputs": [],
   "source": [
    "# model=KNeighborsClassifier(n_neighbors=9)\n",
    "# model.fit(X_train,y_train)\n",
    "# prediction1=model.predict(X_vad)\n",
    "# print('Accuracy for KN is ',metrics.accuracy_score(prediction1,y_vad))\n",
    "# ax,fig=plt.subplots(figsize=(10,10))\n",
    "# conf=metrics.confusion_matrix(prediction1,y_vad)\n",
    "# sns.heatmap(conf,annot=True)"
   ]
  },
  {
   "cell_type": "code",
   "execution_count": null,
   "id": "17b7d66d",
   "metadata": {},
   "outputs": [],
   "source": [
    "# model=LogisticRegression()\n",
    "# model.fit(X_train,y_train)\n",
    "# prediction1=model.predict(X_vad)\n",
    "# print('Accuracy for LR is ',metrics.accuracy_score(prediction1,y_vad))\n",
    "# ax,fig=plt.subplots(figsize=(10,10))\n",
    "# conf=metrics.confusion_matrix(prediction1,y_vad)\n",
    "# sns.heatmap(conf,annot=True)"
   ]
  },
  {
   "cell_type": "code",
   "execution_count": null,
   "id": "486dc3a4",
   "metadata": {},
   "outputs": [],
   "source": [
    "# from sklearn import svm #support vector Machine\n",
    "# model=svm.SVC(kernel='rbf',C=1,gamma=0.1)\n",
    "# model.fit(X_train,y_train)\n",
    "# prediction1=model.predict(X_vad)\n",
    "# print('Accuracy for SVM is ',metrics.accuracy_score(prediction1,y_vad))\n",
    "# ax,fig=plt.subplots(figsize=(10,10))\n",
    "# conf=metrics.confusion_matrix(prediction1,y_vad)\n",
    "# sns.heatmap(conf,annot=True)"
   ]
  }
 ],
 "metadata": {
  "kernelspec": {
   "display_name": "Python 3 (ipykernel)",
   "language": "python",
   "name": "python3"
  },
  "language_info": {
   "codemirror_mode": {
    "name": "ipython",
    "version": 3
   },
   "file_extension": ".py",
   "mimetype": "text/x-python",
   "name": "python",
   "nbconvert_exporter": "python",
   "pygments_lexer": "ipython3",
   "version": "3.10.9"
  }
 },
 "nbformat": 4,
 "nbformat_minor": 5
}
