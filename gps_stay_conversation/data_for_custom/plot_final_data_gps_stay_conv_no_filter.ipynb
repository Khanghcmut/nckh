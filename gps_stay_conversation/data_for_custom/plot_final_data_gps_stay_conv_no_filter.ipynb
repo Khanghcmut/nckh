{
 "cells": [
  {
   "cell_type": "markdown",
   "id": "4ab984d3",
   "metadata": {},
   "source": [
    "# 1 is high stress, 0 is no stress"
   ]
  },
  {
   "cell_type": "code",
   "execution_count": 1,
   "id": "fe45b39d",
   "metadata": {},
   "outputs": [],
   "source": [
    "import pandas as pd\n",
    "import numpy as np\n",
    "import seaborn as sns\n",
    "import matplotlib.pyplot as plt\n",
    "import os\n",
    "from datetime import datetime\n",
    "from sklearn.ensemble import RandomForestClassifier #Random Forest\n",
    "from sklearn.neighbors import KNeighborsClassifier #KNN\n",
    "from sklearn.naive_bayes import GaussianNB #Naive bayes\n",
    "from sklearn import metrics #accuracy measure\n",
    "from sklearn.linear_model import LogisticRegression #logistic regression\n",
    "from sklearn.model_selection import KFold #for K-fold cross validation\n",
    "from sklearn.model_selection import cross_val_score #score evaluation\n",
    "from sklearn.model_selection import cross_val_predict #prediction\n",
    "from sklearn import svm #support vector Machine\n",
    "from xgboost import XGBClassifier#XGBcalssifier\n",
    "from sklearn.neighbors import KNeighborsClassifier #KNN\n",
    "from sklearn.model_selection import StratifiedKFold #for K-fold cross validation\n",
    "from sklearn.preprocessing import StandardScaler\n",
    "from sklearn.model_selection import train_test_split\n",
    "import warnings "
   ]
  },
  {
   "cell_type": "code",
   "execution_count": 2,
   "id": "94fa9a96",
   "metadata": {},
   "outputs": [
    {
     "data": {
      "text/plain": [
       "['csv_2.csv',\n",
       " 'csv_3.csv',\n",
       " 'csv_1.csv',\n",
       " 'csv_58.csv',\n",
       " 'csv_59.csv',\n",
       " 'csv_0.csv',\n",
       " 'csv_4.csv',\n",
       " 'csv_5.csv',\n",
       " 'csv_10.csv',\n",
       " 'csv_12.csv',\n",
       " 'csv_16.csv',\n",
       " 'csv_17.csv',\n",
       " 'csv_14.csv',\n",
       " 'csv_31.csv',\n",
       " 'csv_19.csv',\n",
       " 'csv_18.csv',\n",
       " 'csv_30.csv',\n",
       " 'csv_32.csv',\n",
       " 'csv_27.csv',\n",
       " 'csv_23.csv',\n",
       " 'csv_36.csv',\n",
       " 'csv_22.csv',\n",
       " 'csv_34.csv',\n",
       " 'csv_20.csv',\n",
       " 'csv_35.csv',\n",
       " 'csv_52.csv',\n",
       " 'csv_46.csv',\n",
       " 'csv_53.csv',\n",
       " 'csv_8.csv',\n",
       " 'csv_45.csv',\n",
       " 'csv_51.csv',\n",
       " 'csv_44.csv',\n",
       " 'csv_9.csv',\n",
       " 'csv_57.csv',\n",
       " 'csv_43.csv',\n",
       " 'csv_42.csv',\n",
       " 'csv_56.csv']"
      ]
     },
     "execution_count": 2,
     "metadata": {},
     "output_type": "execute_result"
    }
   ],
   "source": [
    "all_file=os.listdir('./')\n",
    "files=[]\n",
    "for each_file in all_file:\n",
    "    try:\n",
    "        if  each_file.split('.')[1]=='csv':\n",
    "            files.append(each_file)\n",
    "    except: continue\n",
    "\n",
    "files"
   ]
  },
  {
   "cell_type": "code",
   "execution_count": 3,
   "id": "093d06a4",
   "metadata": {},
   "outputs": [],
   "source": [
    "# df=None\n",
    "# for f in file:\n",
    "\n",
    "#     data=pd.read_csv(f)\n",
    "#     if df is None:\n",
    "#         df=data\n",
    "#     else:\n",
    "#         df=pd.concat([df,data])\n",
    "# # df=df.drop('Unnamed: 0',axis=1)\n",
    "# \n",
    "# df=df.drop('conv_level',axis=1)\n",
    "# df"
   ]
  },
  {
   "cell_type": "code",
   "execution_count": 4,
   "id": "3792fa11",
   "metadata": {
    "scrolled": true
   },
   "outputs": [],
   "source": [
    "# df=df.drop('Unnamed: 0',axis=1)\n",
    "# df.describe()"
   ]
  },
  {
   "cell_type": "code",
   "execution_count": 5,
   "id": "6a944934",
   "metadata": {},
   "outputs": [
    {
     "data": {
      "text/plain": [
       "<Figure size 640x480 with 0 Axes>"
      ]
     },
     "metadata": {},
     "output_type": "display_data"
    }
   ],
   "source": [
    "def offset(data):\n",
    "    try:\n",
    "        if float(data)>86400:\n",
    "            return 0\n",
    "        return data\n",
    "    except:\n",
    "        return data\n",
    "def to_min(time):\n",
    "    try:\n",
    "        return int(time/60)\n",
    "    except: return time\n",
    "\n",
    "def transform_week(time):\n",
    "        time=datetime.strptime(time,time_type)\n",
    "        return datetime.strftime(time,'%W')\n",
    "    \n",
    "def group_stress(data):\n",
    "    if data<3:\n",
    "        return 0\n",
    "    if data >3:\n",
    "        return 0\n",
    "    return 1\n",
    "\n",
    "time_type='%d:%m:%Y'\n",
    "accuracy1=[]\n",
    "error_files=[]\n",
    "for file in files:\n",
    "    try:\n",
    "        warnings.filterwarnings(\"ignore\")\n",
    "        week=[]\n",
    "        df=pd.read_csv(file)\n",
    "        df=df.rename(columns={'Unnamed: 0':'date','final_level':'level','cut_class':'skip_class'})\n",
    "        for date in df.date.values:\n",
    "            week.append(transform_week(date))\n",
    "        df['week']=week\n",
    "        for col in [ 'home_time', 'school_time', 'travel_time',\n",
    "                    'recreational_activities', 'orthers','working', 'shopping']:\n",
    "            try:\n",
    "                df[col]=df[col].apply(lambda x: offset(x))\n",
    "                df[col]=df[col].fillna(0)\n",
    "            except: pass\n",
    "\n",
    "    # for col in [ 'home_time', 'school_time', 'travel_time',\n",
    "    #             'recreational_activities', 'orthers','working', 'shopping']:\n",
    "    #     df[col]=df[col].apply(lambda x: to_min(x))\n",
    "        df['date_in_week']=df['date_in_week'].values+1\n",
    "        df['None_school_time']=86400-df.school_time-df.home_time\n",
    "        df.week=df.week.astype(int)\n",
    "        df['level']=df['level'].apply(lambda x:group_stress(x)).astype('category')\n",
    "        sns.histplot(df,x='week',hue='level',kde=True,palette='crest',\n",
    "                     stat='percent',alpha=0.4,discrete = True       )\n",
    "        plt.title('Stress of student who $\\\\bf{skip}$ class')\n",
    "        index=file.split('.')[0]\n",
    "        plt.savefig(f'../image_stress/{index}stress by week.png')\n",
    "        plt.clf()\n",
    "        df=df.dropna()\n",
    "        X=df.drop(['level','date','location_names','volunteer'],axis=1)\n",
    "        y=df['level']\n",
    "\n",
    "        X_train, X_vad, y_train, y_vad = train_test_split(X, y, test_size=0.2, random_state=42)\n",
    "\n",
    "        seed=200\n",
    "        kfold = KFold(5, shuffle=True, random_state=seed) # k=10, split the data into 10 equal parts\n",
    "\n",
    "        cv_mean=[]\n",
    "        accuracy=[]\n",
    "        std=[]\n",
    "        classifier=[]\n",
    "        model=RandomForestClassifier(random_state=seed)\n",
    "\n",
    "\n",
    "        entries=[]\n",
    "\n",
    "        model_name = model.__class__.__name__\n",
    "        kfold = StratifiedKFold(5, shuffle=True, random_state=seed)\n",
    "        scores = cross_val_score(model, X,y, cv=kfold,error_score='raise')\n",
    "        for fold_idx, score in enumerate(scores):\n",
    "            entries.append([model_name, fold_idx, score])\n",
    "        cv_df = pd.DataFrame(entries, columns= [ 'model_name','fold id','accuracy_score' ])\n",
    "        acc_mean=float(cv_df['accuracy_score'].mean())\n",
    "        \n",
    "        \n",
    "        sns.boxplot(cv_df,x='model_name',y='accuracy_score',showmeans=True)\n",
    "        plt.savefig(f'../image_ml/{index} ML report.png')\n",
    "        plt.clf()\n",
    "        accuracy1.append(acc_mean)\n",
    "       \n",
    "    except:\n",
    "        error_files.append(file) "
   ]
  },
  {
   "cell_type": "code",
   "execution_count": 6,
   "id": "a8708436",
   "metadata": {},
   "outputs": [
    {
     "data": {
      "text/plain": [
       "<Figure size 640x480 with 0 Axes>"
      ]
     },
     "metadata": {},
     "output_type": "display_data"
    }
   ],
   "source": [
    "def offset(data):\n",
    "    try:\n",
    "        if float(data)>86400:\n",
    "            return 0\n",
    "        return data\n",
    "    except:\n",
    "        return data\n",
    "def to_min(time):\n",
    "    try:\n",
    "        return int(time/60)\n",
    "    except: return time\n",
    "\n",
    "def transform_week(time):\n",
    "        time=datetime.strptime(time,time_type)\n",
    "        return datetime.strftime(time,'%W')\n",
    "    \n",
    "def group_stress(data):\n",
    "    if data<3:\n",
    "        return 0\n",
    "    if data >3:\n",
    "        return 0\n",
    "    return 1\n",
    "\n",
    "time_type='%d:%m:%Y'\n",
    "accuracy2=[]\n",
    "error_files=[]\n",
    "for file in files:\n",
    "    try:\n",
    "        warnings.filterwarnings(\"ignore\")\n",
    "        week=[]\n",
    "        df=pd.read_csv(file)\n",
    "        df=df.rename(columns={'Unnamed: 0':'date','final_level':'level','cut_class':'skip_class'})\n",
    "        for date in df.date.values:\n",
    "            week.append(transform_week(date))\n",
    "        df['week']=week\n",
    "        for col in [ 'home_time', 'school_time', 'travel_time',\n",
    "                    'recreational_activities', 'orthers','working', 'shopping']:\n",
    "            try:\n",
    "                df[col]=df[col].apply(lambda x: offset(x))\n",
    "                df[col]=df[col].fillna(0)\n",
    "            except: pass\n",
    "\n",
    "    # for col in [ 'home_time', 'school_time', 'travel_time',\n",
    "    #             'recreational_activities', 'orthers','working', 'shopping']:\n",
    "    #     df[col]=df[col].apply(lambda x: to_min(x))\n",
    "        df['date_in_week']=df['date_in_week'].values+1\n",
    "        df['None_school_time']=86400-df.school_time-df.home_time\n",
    "        df.week=df.week.astype(int)\n",
    "        df['level']=df['level'].apply(lambda x:group_stress(x)).astype('category')\n",
    "        sns.histplot(df,x='week',hue='level',kde=True,palette='crest',\n",
    "                     stat='percent',alpha=0.4,discrete = True       )\n",
    "        plt.title('Stress of student who $\\\\bf{skip}$ class')\n",
    "        index=file.split('.')[0]\n",
    "        plt.savefig(f'../image_stress/{index}stress by week.png')\n",
    "        plt.clf()\n",
    "        df=df.dropna()\n",
    "        X=df.drop(['level','date','location_names','volunteer'],axis=1)\n",
    "        y=df['level']\n",
    "\n",
    "        X_train, X_vad, y_train, y_vad = train_test_split(X, y, test_size=0.2, random_state=42)\n",
    "\n",
    "        seed=200\n",
    "        kfold = KFold(5, shuffle=True, random_state=seed) # k=10, split the data into 10 equal parts\n",
    "\n",
    "        cv_mean=[]\n",
    "        accuracy=[]\n",
    "        std=[]\n",
    "        classifier=[]\n",
    "        model=XGBClassifier ( eval_metric='logloss', random_state=seed)\n",
    "\n",
    "        entries=[]\n",
    "\n",
    "        model_name = model.__class__.__name__\n",
    "        kfold = StratifiedKFold(5, shuffle=True, random_state=seed)\n",
    "        scores = cross_val_score(model, X,y, cv=kfold,error_score='raise')\n",
    "        for fold_idx, score in enumerate(scores):\n",
    "            entries.append([model_name, fold_idx, score])\n",
    "        cv_df = pd.DataFrame(entries, columns= [ 'model_name','fold id','accuracy_score' ])\n",
    "        acc_mean=float(cv_df['accuracy_score'].mean())\n",
    "        \n",
    "        \n",
    "        sns.boxplot(cv_df,x='model_name',y='accuracy_score',showmeans=True)\n",
    "        plt.savefig(f'../image_ml/{index} ML report.png')\n",
    "        plt.clf()\n",
    "        accuracy2.append(acc_mean)\n",
    "       \n",
    "    except:\n",
    "        error_files.append(file) "
   ]
  },
  {
   "cell_type": "code",
   "execution_count": 7,
   "id": "d5548a3d",
   "metadata": {
    "scrolled": true
   },
   "outputs": [
    {
     "data": {
      "text/plain": [
       "['csv_5.csv', 'csv_17.csv', 'csv_34.csv', 'csv_20.csv', 'csv_9.csv']"
      ]
     },
     "execution_count": 7,
     "metadata": {},
     "output_type": "execute_result"
    }
   ],
   "source": [
    "error_files"
   ]
  },
  {
   "cell_type": "code",
   "execution_count": 8,
   "id": "8f57733c",
   "metadata": {},
   "outputs": [
    {
     "data": {
      "text/html": [
       "<div>\n",
       "<style scoped>\n",
       "    .dataframe tbody tr th:only-of-type {\n",
       "        vertical-align: middle;\n",
       "    }\n",
       "\n",
       "    .dataframe tbody tr th {\n",
       "        vertical-align: top;\n",
       "    }\n",
       "\n",
       "    .dataframe thead th {\n",
       "        text-align: right;\n",
       "    }\n",
       "</style>\n",
       "<table border=\"1\" class=\"dataframe\">\n",
       "  <thead>\n",
       "    <tr style=\"text-align: right;\">\n",
       "      <th></th>\n",
       "      <th>index</th>\n",
       "      <th>accuracy</th>\n",
       "    </tr>\n",
       "  </thead>\n",
       "  <tbody>\n",
       "    <tr>\n",
       "      <th>0</th>\n",
       "      <td>RandomForest</td>\n",
       "      <td>0.880000</td>\n",
       "    </tr>\n",
       "    <tr>\n",
       "      <th>1</th>\n",
       "      <td>RandomForest</td>\n",
       "      <td>1.000000</td>\n",
       "    </tr>\n",
       "    <tr>\n",
       "      <th>2</th>\n",
       "      <td>RandomForest</td>\n",
       "      <td>0.880000</td>\n",
       "    </tr>\n",
       "    <tr>\n",
       "      <th>3</th>\n",
       "      <td>RandomForest</td>\n",
       "      <td>0.926667</td>\n",
       "    </tr>\n",
       "    <tr>\n",
       "      <th>4</th>\n",
       "      <td>RandomForest</td>\n",
       "      <td>0.817857</td>\n",
       "    </tr>\n",
       "    <tr>\n",
       "      <th>...</th>\n",
       "      <td>...</td>\n",
       "      <td>...</td>\n",
       "    </tr>\n",
       "    <tr>\n",
       "      <th>60</th>\n",
       "      <td>XGBoost</td>\n",
       "      <td>0.977778</td>\n",
       "    </tr>\n",
       "    <tr>\n",
       "      <th>61</th>\n",
       "      <td>XGBoost</td>\n",
       "      <td>0.817857</td>\n",
       "    </tr>\n",
       "    <tr>\n",
       "      <th>62</th>\n",
       "      <td>XGBoost</td>\n",
       "      <td>0.830000</td>\n",
       "    </tr>\n",
       "    <tr>\n",
       "      <th>63</th>\n",
       "      <td>XGBoost</td>\n",
       "      <td>0.933333</td>\n",
       "    </tr>\n",
       "    <tr>\n",
       "      <th>64</th>\n",
       "      <td>XGBoost</td>\n",
       "      <td>0.933333</td>\n",
       "    </tr>\n",
       "  </tbody>\n",
       "</table>\n",
       "<p>65 rows × 2 columns</p>\n",
       "</div>"
      ],
      "text/plain": [
       "           index  accuracy\n",
       "0   RandomForest  0.880000\n",
       "1   RandomForest  1.000000\n",
       "2   RandomForest  0.880000\n",
       "3   RandomForest  0.926667\n",
       "4   RandomForest  0.817857\n",
       "..           ...       ...\n",
       "60       XGBoost  0.977778\n",
       "61       XGBoost  0.817857\n",
       "62       XGBoost  0.830000\n",
       "63       XGBoost  0.933333\n",
       "64       XGBoost  0.933333\n",
       "\n",
       "[65 rows x 2 columns]"
      ]
     },
     "execution_count": 8,
     "metadata": {},
     "output_type": "execute_result"
    }
   ],
   "source": [
    "acc_df=pd.DataFrame(accuracy1+accuracy2,\n",
    "                    index=['RandomForest']*len(accuracy1)+['XGBoost']*len(accuracy2)\n",
    "                    ,columns=['accuracy'])\n",
    "acc_df=acc_df.reset_index()\n",
    "acc_df"
   ]
  },
  {
   "cell_type": "code",
   "execution_count": 9,
   "id": "ae4534b0",
   "metadata": {},
   "outputs": [
    {
     "data": {
      "text/plain": [
       "<Axes: xlabel='index', ylabel='accuracy'>"
      ]
     },
     "execution_count": 9,
     "metadata": {},
     "output_type": "execute_result"
    },
    {
     "data": {
      "image/png": "[encoded data removed]",
      "text/plain": [
       "<Figure size 640x480 with 1 Axes>"
      ]
     },
     "metadata": {},
     "output_type": "display_data"
    }
   ],
   "source": [
    "sns.boxplot(acc_df,y='accuracy',x='index',showmeans=True)\n"
   ]
  },
  {
   "cell_type": "code",
   "execution_count": 10,
   "id": "2b533552",
   "metadata": {},
   "outputs": [
    {
     "data": {
      "text/html": [
       "<div>\n",
       "<style scoped>\n",
       "    .dataframe tbody tr th:only-of-type {\n",
       "        vertical-align: middle;\n",
       "    }\n",
       "\n",
       "    .dataframe tbody tr th {\n",
       "        vertical-align: top;\n",
       "    }\n",
       "\n",
       "    .dataframe thead tr th {\n",
       "        text-align: left;\n",
       "    }\n",
       "\n",
       "    .dataframe thead tr:last-of-type th {\n",
       "        text-align: right;\n",
       "    }\n",
       "</style>\n",
       "<table border=\"1\" class=\"dataframe\">\n",
       "  <thead>\n",
       "    <tr>\n",
       "      <th></th>\n",
       "      <th colspan=\"8\" halign=\"left\">accuracy</th>\n",
       "    </tr>\n",
       "    <tr>\n",
       "      <th></th>\n",
       "      <th>count</th>\n",
       "      <th>mean</th>\n",
       "      <th>std</th>\n",
       "      <th>min</th>\n",
       "      <th>25%</th>\n",
       "      <th>50%</th>\n",
       "      <th>75%</th>\n",
       "      <th>max</th>\n",
       "    </tr>\n",
       "    <tr>\n",
       "      <th>index</th>\n",
       "      <th></th>\n",
       "      <th></th>\n",
       "      <th></th>\n",
       "      <th></th>\n",
       "      <th></th>\n",
       "      <th></th>\n",
       "      <th></th>\n",
       "      <th></th>\n",
       "    </tr>\n",
       "  </thead>\n",
       "  <tbody>\n",
       "    <tr>\n",
       "      <th>RandomForest</th>\n",
       "      <td>33.0</td>\n",
       "      <td>0.857335</td>\n",
       "      <td>0.112347</td>\n",
       "      <td>0.60</td>\n",
       "      <td>0.8</td>\n",
       "      <td>0.880000</td>\n",
       "      <td>0.933333</td>\n",
       "      <td>1.0</td>\n",
       "    </tr>\n",
       "    <tr>\n",
       "      <th>XGBoost</th>\n",
       "      <td>32.0</td>\n",
       "      <td>0.855146</td>\n",
       "      <td>0.117694</td>\n",
       "      <td>0.52</td>\n",
       "      <td>0.8</td>\n",
       "      <td>0.873333</td>\n",
       "      <td>0.933333</td>\n",
       "      <td>1.0</td>\n",
       "    </tr>\n",
       "  </tbody>\n",
       "</table>\n",
       "</div>"
      ],
      "text/plain": [
       "             accuracy                                                        \n",
       "                count      mean       std   min  25%       50%       75%  max\n",
       "index                                                                        \n",
       "RandomForest     33.0  0.857335  0.112347  0.60  0.8  0.880000  0.933333  1.0\n",
       "XGBoost          32.0  0.855146  0.117694  0.52  0.8  0.873333  0.933333  1.0"
      ]
     },
     "execution_count": 10,
     "metadata": {},
     "output_type": "execute_result"
    }
   ],
   "source": [
    "acc_df_gr=acc_df.groupby('index').describe()\n",
    "acc_df_gr"
   ]
  },
  {
   "cell_type": "code",
   "execution_count": null,
   "id": "0d2ae14e",
   "metadata": {},
   "outputs": [],
   "source": []
  },
  {
   "cell_type": "code",
   "execution_count": 11,
   "id": "6cc5643f",
   "metadata": {},
   "outputs": [
    {
     "name": "stdout",
     "output_type": "stream",
     "text": [
      "[0]\n",
      "[0, 1]\n",
      "[0, 1, 2]\n",
      "[0, 1, 2, 3]\n",
      "[0, 1, 2, 3, 4]\n",
      "[0, 1, 2, 3, 4, 5]\n",
      "[0, 1, 2, 3, 4, 5, 6]\n",
      "[0, 1, 2, 3, 4, 5, 6, 7]\n",
      "[0, 1, 2, 3, 4, 5, 6, 7, 8]\n",
      "[0, 1, 2, 3, 4, 5, 6, 7, 8, 9]\n"
     ]
    },
    {
     "data": {
      "text/plain": [
       "[0, 1, 2, 3, 4, 5, 6, 7, 8, 9]"
      ]
     },
     "execution_count": 11,
     "metadata": {},
     "output_type": "execute_result"
    }
   ],
   "source": [
    "a=[]\n",
    "for i in range(10):\n",
    "    try:\n",
    "        a.append(i)\n",
    "        print(a)\n",
    "    except: pass\n",
    "a"
   ]
  },
  {
   "cell_type": "code",
   "execution_count": null,
   "id": "483b5c7a",
   "metadata": {},
   "outputs": [],
   "source": []
  },
  {
   "cell_type": "code",
   "execution_count": null,
   "id": "bba9a756",
   "metadata": {},
   "outputs": [],
   "source": []
  },
  {
   "cell_type": "code",
   "execution_count": null,
   "id": "bcd5822b",
   "metadata": {},
   "outputs": [],
   "source": []
  },
  {
   "cell_type": "code",
   "execution_count": 12,
   "id": "832aed73",
   "metadata": {},
   "outputs": [],
   "source": [
    "# from bioinfokit.analys import stat\n",
    "# ANOVA=None\n",
    "# for col in df.columns:\n",
    "#     if col not in ['date','level','volunteer']:\n",
    "#         res = stat()\n",
    "#         res.anova_stat(df=df, res_var='level'\n",
    "#                              , anova_model=f\"level ~ C({col})\")\n",
    "# #         print(res.anova_summary.iloc[0,:])\n",
    "#         if ANOVA is None:\n",
    "#             ANOVA=res.anova_summary\n",
    "#         else:\n",
    "#             ANOVA=pd.concat([ANOVA,res.anova_summary])"
   ]
  },
  {
   "cell_type": "code",
   "execution_count": 13,
   "id": "730a7330",
   "metadata": {},
   "outputs": [],
   "source": [
    "# ANOVA=ANOVA.drop('Residual')"
   ]
  },
  {
   "cell_type": "code",
   "execution_count": 14,
   "id": "ce4d9788",
   "metadata": {
    "scrolled": true
   },
   "outputs": [],
   "source": [
    "# ANOVA['PR(>F)']=ANOVA['PR(>F)']*100"
   ]
  },
  {
   "cell_type": "code",
   "execution_count": 15,
   "id": "3f404c58",
   "metadata": {
    "scrolled": true
   },
   "outputs": [],
   "source": [
    "# ANOVA['PR(>F)']=ANOVA['PR(>F)'].astype(int)\n",
    "# ANOVA=ANOVA.rename(columns={'PR(>F)':'p_value(%)'})\n",
    "# ANOVA"
   ]
  },
  {
   "cell_type": "code",
   "execution_count": 16,
   "id": "ed5cd790",
   "metadata": {},
   "outputs": [],
   "source": [
    "# import dataframe_image as dfi\n",
    "# dfi.export(ANOVA ,'../ANOVA_table_final_data_no_filter.png')"
   ]
  },
  {
   "cell_type": "code",
   "execution_count": null,
   "id": "f8367ae3",
   "metadata": {
    "scrolled": false
   },
   "outputs": [],
   "source": []
  },
  {
   "cell_type": "code",
   "execution_count": 17,
   "id": "5d0ab69a",
   "metadata": {
    "scrolled": true
   },
   "outputs": [
    {
     "data": {
      "image/png": "[encoded data removed]",
      "text/plain": [
       "<Figure size 1000x1000 with 2 Axes>"
      ]
     },
     "metadata": {},
     "output_type": "display_data"
    }
   ],
   "source": [
    "corr=df[[ 'home_time', 'school_time', 'travel_time', 'date_in_week',\n",
    "        'recreational_activities', 'orthers',\n",
    "       'working', 'shopping','None_school_time','skip_class','level']].corr()\n",
    "ax,fig=plt.subplots(figsize=(10,10))\n",
    "sns.heatmap(corr,annot=True)\n",
    "plt.savefig('../image/corr.png')"
   ]
  },
  {
   "cell_type": "code",
   "execution_count": 18,
   "id": "82cf1fbc",
   "metadata": {
    "scrolled": true
   },
   "outputs": [],
   "source": [
    "# sns.histplot(df,x='home_time',y='date_in_week',cbar=True)\n",
    "# plt.savefig('../image/hometime vs day.png')"
   ]
  },
  {
   "cell_type": "code",
   "execution_count": null,
   "id": "4fbe5234",
   "metadata": {},
   "outputs": [],
   "source": []
  },
  {
   "cell_type": "code",
   "execution_count": null,
   "id": "406ac8dc",
   "metadata": {},
   "outputs": [],
   "source": [
    "\n"
   ]
  },
  {
   "cell_type": "code",
   "execution_count": 19,
   "id": "c925f865",
   "metadata": {
    "scrolled": false
   },
   "outputs": [
    {
     "data": {
      "text/html": [
       "<div>\n",
       "<style scoped>\n",
       "    .dataframe tbody tr th:only-of-type {\n",
       "        vertical-align: middle;\n",
       "    }\n",
       "\n",
       "    .dataframe tbody tr th {\n",
       "        vertical-align: top;\n",
       "    }\n",
       "\n",
       "    .dataframe thead th {\n",
       "        text-align: right;\n",
       "    }\n",
       "</style>\n",
       "<table border=\"1\" class=\"dataframe\">\n",
       "  <thead>\n",
       "    <tr style=\"text-align: right;\">\n",
       "      <th></th>\n",
       "      <th>date</th>\n",
       "      <th>home_time</th>\n",
       "      <th>school_time</th>\n",
       "      <th>orthers</th>\n",
       "      <th>travel_time</th>\n",
       "      <th>shopping</th>\n",
       "      <th>recreational_activities</th>\n",
       "      <th>working</th>\n",
       "      <th>date_in_week</th>\n",
       "      <th>skip_class</th>\n",
       "      <th>...</th>\n",
       "      <th>min</th>\n",
       "      <th>mean</th>\n",
       "      <th>std</th>\n",
       "      <th>25%</th>\n",
       "      <th>med or 50%</th>\n",
       "      <th>75%</th>\n",
       "      <th>freq</th>\n",
       "      <th>level</th>\n",
       "      <th>week</th>\n",
       "      <th>None_school_time</th>\n",
       "    </tr>\n",
       "  </thead>\n",
       "  <tbody>\n",
       "    <tr>\n",
       "      <th>4</th>\n",
       "      <td>02:05:2013</td>\n",
       "      <td>53999.0</td>\n",
       "      <td>45602.0</td>\n",
       "      <td>0.0</td>\n",
       "      <td>0.0</td>\n",
       "      <td>0.0</td>\n",
       "      <td>0.0</td>\n",
       "      <td>0.0</td>\n",
       "      <td>4.0</td>\n",
       "      <td>0.0</td>\n",
       "      <td>...</td>\n",
       "      <td>1200.0</td>\n",
       "      <td>1200.000000</td>\n",
       "      <td>0.000000</td>\n",
       "      <td>1200.00</td>\n",
       "      <td>1200.0</td>\n",
       "      <td>1200.00</td>\n",
       "      <td>2.0</td>\n",
       "      <td>0</td>\n",
       "      <td>17</td>\n",
       "      <td>-13201.0</td>\n",
       "    </tr>\n",
       "    <tr>\n",
       "      <th>8</th>\n",
       "      <td>04:05:2013</td>\n",
       "      <td>49983.0</td>\n",
       "      <td>3598.0</td>\n",
       "      <td>0.0</td>\n",
       "      <td>0.0</td>\n",
       "      <td>0.0</td>\n",
       "      <td>9615.0</td>\n",
       "      <td>0.0</td>\n",
       "      <td>6.0</td>\n",
       "      <td>0.0</td>\n",
       "      <td>...</td>\n",
       "      <td>1.0</td>\n",
       "      <td>2644.142857</td>\n",
       "      <td>4437.683083</td>\n",
       "      <td>1109.50</td>\n",
       "      <td>1200.0</td>\n",
       "      <td>1215.50</td>\n",
       "      <td>7.0</td>\n",
       "      <td>0</td>\n",
       "      <td>17</td>\n",
       "      <td>32819.0</td>\n",
       "    </tr>\n",
       "    <tr>\n",
       "      <th>13</th>\n",
       "      <td>08:04:2013</td>\n",
       "      <td>34805.0</td>\n",
       "      <td>0.0</td>\n",
       "      <td>0.0</td>\n",
       "      <td>0.0</td>\n",
       "      <td>0.0</td>\n",
       "      <td>0.0</td>\n",
       "      <td>0.0</td>\n",
       "      <td>1.0</td>\n",
       "      <td>0.0</td>\n",
       "      <td>...</td>\n",
       "      <td>5.0</td>\n",
       "      <td>3120.500000</td>\n",
       "      <td>3258.916359</td>\n",
       "      <td>1200.00</td>\n",
       "      <td>1800.0</td>\n",
       "      <td>3300.00</td>\n",
       "      <td>10.0</td>\n",
       "      <td>0</td>\n",
       "      <td>14</td>\n",
       "      <td>51595.0</td>\n",
       "    </tr>\n",
       "    <tr>\n",
       "      <th>15</th>\n",
       "      <td>09:04:2013</td>\n",
       "      <td>38399.0</td>\n",
       "      <td>20392.0</td>\n",
       "      <td>0.0</td>\n",
       "      <td>1204.0</td>\n",
       "      <td>0.0</td>\n",
       "      <td>4802.0</td>\n",
       "      <td>0.0</td>\n",
       "      <td>2.0</td>\n",
       "      <td>0.0</td>\n",
       "      <td>...</td>\n",
       "      <td>1200.0</td>\n",
       "      <td>2201.000000</td>\n",
       "      <td>1595.143505</td>\n",
       "      <td>1200.00</td>\n",
       "      <td>1202.0</td>\n",
       "      <td>3001.00</td>\n",
       "      <td>6.0</td>\n",
       "      <td>0</td>\n",
       "      <td>14</td>\n",
       "      <td>27609.0</td>\n",
       "    </tr>\n",
       "    <tr>\n",
       "      <th>16</th>\n",
       "      <td>10:04:2013</td>\n",
       "      <td>52800.0</td>\n",
       "      <td>27602.0</td>\n",
       "      <td>1198.0</td>\n",
       "      <td>6000.0</td>\n",
       "      <td>0.0</td>\n",
       "      <td>1198.0</td>\n",
       "      <td>0.0</td>\n",
       "      <td>3.0</td>\n",
       "      <td>0.0</td>\n",
       "      <td>...</td>\n",
       "      <td>1200.0</td>\n",
       "      <td>1885.714286</td>\n",
       "      <td>944.154951</td>\n",
       "      <td>1200.00</td>\n",
       "      <td>1200.0</td>\n",
       "      <td>2400.00</td>\n",
       "      <td>7.0</td>\n",
       "      <td>0</td>\n",
       "      <td>14</td>\n",
       "      <td>5998.0</td>\n",
       "    </tr>\n",
       "    <tr>\n",
       "      <th>17</th>\n",
       "      <td>11:04:2013</td>\n",
       "      <td>0.0</td>\n",
       "      <td>16801.0</td>\n",
       "      <td>3600.0</td>\n",
       "      <td>1199.0</td>\n",
       "      <td>0.0</td>\n",
       "      <td>0.0</td>\n",
       "      <td>0.0</td>\n",
       "      <td>4.0</td>\n",
       "      <td>0.0</td>\n",
       "      <td>...</td>\n",
       "      <td>1153.0</td>\n",
       "      <td>1842.538462</td>\n",
       "      <td>934.303896</td>\n",
       "      <td>1200.00</td>\n",
       "      <td>1200.0</td>\n",
       "      <td>2400.00</td>\n",
       "      <td>13.0</td>\n",
       "      <td>0</td>\n",
       "      <td>14</td>\n",
       "      <td>69599.0</td>\n",
       "    </tr>\n",
       "    <tr>\n",
       "      <th>19</th>\n",
       "      <td>13:04:2013</td>\n",
       "      <td>61202.0</td>\n",
       "      <td>1200.0</td>\n",
       "      <td>2400.0</td>\n",
       "      <td>0.0</td>\n",
       "      <td>0.0</td>\n",
       "      <td>0.0</td>\n",
       "      <td>0.0</td>\n",
       "      <td>6.0</td>\n",
       "      <td>0.0</td>\n",
       "      <td>...</td>\n",
       "      <td>363.0</td>\n",
       "      <td>14791.250000</td>\n",
       "      <td>26953.467722</td>\n",
       "      <td>990.75</td>\n",
       "      <td>1800.0</td>\n",
       "      <td>15600.50</td>\n",
       "      <td>4.0</td>\n",
       "      <td>0</td>\n",
       "      <td>14</td>\n",
       "      <td>23998.0</td>\n",
       "    </tr>\n",
       "    <tr>\n",
       "      <th>23</th>\n",
       "      <td>15:04:2013</td>\n",
       "      <td>1200.0</td>\n",
       "      <td>10800.0</td>\n",
       "      <td>0.0</td>\n",
       "      <td>0.0</td>\n",
       "      <td>0.0</td>\n",
       "      <td>0.0</td>\n",
       "      <td>0.0</td>\n",
       "      <td>1.0</td>\n",
       "      <td>0.0</td>\n",
       "      <td>...</td>\n",
       "      <td>1200.0</td>\n",
       "      <td>1600.000000</td>\n",
       "      <td>781.606737</td>\n",
       "      <td>1200.00</td>\n",
       "      <td>1200.0</td>\n",
       "      <td>1500.00</td>\n",
       "      <td>12.0</td>\n",
       "      <td>1</td>\n",
       "      <td>15</td>\n",
       "      <td>74400.0</td>\n",
       "    </tr>\n",
       "    <tr>\n",
       "      <th>25</th>\n",
       "      <td>16:04:2013</td>\n",
       "      <td>53999.0</td>\n",
       "      <td>28801.0</td>\n",
       "      <td>0.0</td>\n",
       "      <td>0.0</td>\n",
       "      <td>0.0</td>\n",
       "      <td>0.0</td>\n",
       "      <td>0.0</td>\n",
       "      <td>2.0</td>\n",
       "      <td>0.0</td>\n",
       "      <td>...</td>\n",
       "      <td>1200.0</td>\n",
       "      <td>2266.666667</td>\n",
       "      <td>1637.070554</td>\n",
       "      <td>1200.00</td>\n",
       "      <td>1200.0</td>\n",
       "      <td>2400.00</td>\n",
       "      <td>9.0</td>\n",
       "      <td>0</td>\n",
       "      <td>15</td>\n",
       "      <td>3600.0</td>\n",
       "    </tr>\n",
       "    <tr>\n",
       "      <th>27</th>\n",
       "      <td>17:04:2013</td>\n",
       "      <td>54000.0</td>\n",
       "      <td>38392.0</td>\n",
       "      <td>0.0</td>\n",
       "      <td>1200.0</td>\n",
       "      <td>0.0</td>\n",
       "      <td>8.0</td>\n",
       "      <td>0.0</td>\n",
       "      <td>3.0</td>\n",
       "      <td>0.0</td>\n",
       "      <td>...</td>\n",
       "      <td>1070.0</td>\n",
       "      <td>1567.333333</td>\n",
       "      <td>621.812405</td>\n",
       "      <td>1200.00</td>\n",
       "      <td>1200.0</td>\n",
       "      <td>2050.50</td>\n",
       "      <td>6.0</td>\n",
       "      <td>0</td>\n",
       "      <td>15</td>\n",
       "      <td>-5992.0</td>\n",
       "    </tr>\n",
       "    <tr>\n",
       "      <th>35</th>\n",
       "      <td>21:04:2013</td>\n",
       "      <td>0.0</td>\n",
       "      <td>0.0</td>\n",
       "      <td>0.0</td>\n",
       "      <td>0.0</td>\n",
       "      <td>0.0</td>\n",
       "      <td>0.0</td>\n",
       "      <td>0.0</td>\n",
       "      <td>0.0</td>\n",
       "      <td>0.0</td>\n",
       "      <td>...</td>\n",
       "      <td>1198.0</td>\n",
       "      <td>2332.400000</td>\n",
       "      <td>2819.038694</td>\n",
       "      <td>1200.00</td>\n",
       "      <td>1200.0</td>\n",
       "      <td>2011.25</td>\n",
       "      <td>10.0</td>\n",
       "      <td>0</td>\n",
       "      <td>15</td>\n",
       "      <td>86400.0</td>\n",
       "    </tr>\n",
       "    <tr>\n",
       "      <th>44</th>\n",
       "      <td>26:04:2013</td>\n",
       "      <td>49200.0</td>\n",
       "      <td>32400.0</td>\n",
       "      <td>0.0</td>\n",
       "      <td>0.0</td>\n",
       "      <td>0.0</td>\n",
       "      <td>0.0</td>\n",
       "      <td>0.0</td>\n",
       "      <td>5.0</td>\n",
       "      <td>0.0</td>\n",
       "      <td>...</td>\n",
       "      <td>717.0</td>\n",
       "      <td>1318.166667</td>\n",
       "      <td>563.413673</td>\n",
       "      <td>1194.00</td>\n",
       "      <td>1200.0</td>\n",
       "      <td>1200.75</td>\n",
       "      <td>6.0</td>\n",
       "      <td>0</td>\n",
       "      <td>16</td>\n",
       "      <td>4800.0</td>\n",
       "    </tr>\n",
       "    <tr>\n",
       "      <th>50</th>\n",
       "      <td>28:05:2013</td>\n",
       "      <td>35270.0</td>\n",
       "      <td>32400.0</td>\n",
       "      <td>0.0</td>\n",
       "      <td>0.0</td>\n",
       "      <td>0.0</td>\n",
       "      <td>0.0</td>\n",
       "      <td>22800.0</td>\n",
       "      <td>2.0</td>\n",
       "      <td>0.0</td>\n",
       "      <td>...</td>\n",
       "      <td>1317.0</td>\n",
       "      <td>5729.250000</td>\n",
       "      <td>5367.720396</td>\n",
       "      <td>2129.25</td>\n",
       "      <td>4200.0</td>\n",
       "      <td>7800.00</td>\n",
       "      <td>4.0</td>\n",
       "      <td>0</td>\n",
       "      <td>21</td>\n",
       "      <td>18730.0</td>\n",
       "    </tr>\n",
       "  </tbody>\n",
       "</table>\n",
       "<p>13 rows × 35 columns</p>\n",
       "</div>"
      ],
      "text/plain": [
       "          date  home_time  school_time  orthers  travel_time  shopping  \\\n",
       "4   02:05:2013    53999.0      45602.0      0.0          0.0       0.0   \n",
       "8   04:05:2013    49983.0       3598.0      0.0          0.0       0.0   \n",
       "13  08:04:2013    34805.0          0.0      0.0          0.0       0.0   \n",
       "15  09:04:2013    38399.0      20392.0      0.0       1204.0       0.0   \n",
       "16  10:04:2013    52800.0      27602.0   1198.0       6000.0       0.0   \n",
       "17  11:04:2013        0.0      16801.0   3600.0       1199.0       0.0   \n",
       "19  13:04:2013    61202.0       1200.0   2400.0          0.0       0.0   \n",
       "23  15:04:2013     1200.0      10800.0      0.0          0.0       0.0   \n",
       "25  16:04:2013    53999.0      28801.0      0.0          0.0       0.0   \n",
       "27  17:04:2013    54000.0      38392.0      0.0       1200.0       0.0   \n",
       "35  21:04:2013        0.0          0.0      0.0          0.0       0.0   \n",
       "44  26:04:2013    49200.0      32400.0      0.0          0.0       0.0   \n",
       "50  28:05:2013    35270.0      32400.0      0.0          0.0       0.0   \n",
       "\n",
       "    recreational_activities  working  date_in_week  skip_class  ...     min  \\\n",
       "4                       0.0      0.0           4.0         0.0  ...  1200.0   \n",
       "8                    9615.0      0.0           6.0         0.0  ...     1.0   \n",
       "13                      0.0      0.0           1.0         0.0  ...     5.0   \n",
       "15                   4802.0      0.0           2.0         0.0  ...  1200.0   \n",
       "16                   1198.0      0.0           3.0         0.0  ...  1200.0   \n",
       "17                      0.0      0.0           4.0         0.0  ...  1153.0   \n",
       "19                      0.0      0.0           6.0         0.0  ...   363.0   \n",
       "23                      0.0      0.0           1.0         0.0  ...  1200.0   \n",
       "25                      0.0      0.0           2.0         0.0  ...  1200.0   \n",
       "27                      8.0      0.0           3.0         0.0  ...  1070.0   \n",
       "35                      0.0      0.0           0.0         0.0  ...  1198.0   \n",
       "44                      0.0      0.0           5.0         0.0  ...   717.0   \n",
       "50                      0.0  22800.0           2.0         0.0  ...  1317.0   \n",
       "\n",
       "            mean           std      25%  med or 50%       75%  freq  level  \\\n",
       "4    1200.000000      0.000000  1200.00      1200.0   1200.00   2.0      0   \n",
       "8    2644.142857   4437.683083  1109.50      1200.0   1215.50   7.0      0   \n",
       "13   3120.500000   3258.916359  1200.00      1800.0   3300.00  10.0      0   \n",
       "15   2201.000000   1595.143505  1200.00      1202.0   3001.00   6.0      0   \n",
       "16   1885.714286    944.154951  1200.00      1200.0   2400.00   7.0      0   \n",
       "17   1842.538462    934.303896  1200.00      1200.0   2400.00  13.0      0   \n",
       "19  14791.250000  26953.467722   990.75      1800.0  15600.50   4.0      0   \n",
       "23   1600.000000    781.606737  1200.00      1200.0   1500.00  12.0      1   \n",
       "25   2266.666667   1637.070554  1200.00      1200.0   2400.00   9.0      0   \n",
       "27   1567.333333    621.812405  1200.00      1200.0   2050.50   6.0      0   \n",
       "35   2332.400000   2819.038694  1200.00      1200.0   2011.25  10.0      0   \n",
       "44   1318.166667    563.413673  1194.00      1200.0   1200.75   6.0      0   \n",
       "50   5729.250000   5367.720396  2129.25      4200.0   7800.00   4.0      0   \n",
       "\n",
       "    week  None_school_time  \n",
       "4     17          -13201.0  \n",
       "8     17           32819.0  \n",
       "13    14           51595.0  \n",
       "15    14           27609.0  \n",
       "16    14            5998.0  \n",
       "17    14           69599.0  \n",
       "19    14           23998.0  \n",
       "23    15           74400.0  \n",
       "25    15            3600.0  \n",
       "27    15           -5992.0  \n",
       "35    15           86400.0  \n",
       "44    16            4800.0  \n",
       "50    21           18730.0  \n",
       "\n",
       "[13 rows x 35 columns]"
      ]
     },
     "execution_count": 19,
     "metadata": {},
     "output_type": "execute_result"
    }
   ],
   "source": [
    "df"
   ]
  },
  {
   "cell_type": "code",
   "execution_count": 20,
   "id": "912110ec",
   "metadata": {},
   "outputs": [
    {
     "name": "stdout",
     "output_type": "stream",
     "text": [
      "<class 'pandas.core.frame.DataFrame'>\n",
      "RangeIndex: 13 entries, 0 to 12\n",
      "Data columns (total 35 columns):\n",
      " #   Column                   Non-Null Count  Dtype   \n",
      "---  ------                   --------------  -----   \n",
      " 0   date                     13 non-null     object  \n",
      " 1   home_time                13 non-null     float64 \n",
      " 2   school_time              13 non-null     float64 \n",
      " 3   orthers                  13 non-null     float64 \n",
      " 4   travel_time              13 non-null     float64 \n",
      " 5   shopping                 13 non-null     float64 \n",
      " 6   recreational_activities  13 non-null     float64 \n",
      " 7   working                  13 non-null     float64 \n",
      " 8   date_in_week             13 non-null     float64 \n",
      " 9   skip_class               13 non-null     float64 \n",
      " 10  class_schedule           13 non-null     float64 \n",
      " 11  volunteer                13 non-null     float64 \n",
      " 12  location_names           13 non-null     object  \n",
      " 13  conv_dur_sum             13 non-null     float64 \n",
      " 14  conv_max                 13 non-null     float64 \n",
      " 15  conv_min                 13 non-null     float64 \n",
      " 16  conv_mean                13 non-null     float64 \n",
      " 17  conv_std                 13 non-null     float64 \n",
      " 18  conv_25%                 13 non-null     float64 \n",
      " 19  conv_med or 50%          13 non-null     float64 \n",
      " 20  conv_75%                 13 non-null     float64 \n",
      " 21  conv_freq                13 non-null     float64 \n",
      " 22  conv_level               13 non-null     float64 \n",
      " 23  dur_sum                  13 non-null     float64 \n",
      " 24  max                      13 non-null     float64 \n",
      " 25  min                      13 non-null     float64 \n",
      " 26  mean                     13 non-null     float64 \n",
      " 27  std                      13 non-null     float64 \n",
      " 28  25%                      13 non-null     float64 \n",
      " 29  med or 50%               13 non-null     float64 \n",
      " 30  75%                      13 non-null     float64 \n",
      " 31  freq                     13 non-null     float64 \n",
      " 32  level                    13 non-null     category\n",
      " 33  week                     13 non-null     int64   \n",
      " 34  None_school_time         13 non-null     float64 \n",
      "dtypes: category(1), float64(31), int64(1), object(2)\n",
      "memory usage: 3.7+ KB\n"
     ]
    }
   ],
   "source": [
    "df=df.sort_values(['week','date'])\n",
    "df=df.reset_index(drop=True)\n",
    "# df=df.drop('date.1',axis=1)\n",
    "df.info()"
   ]
  },
  {
   "cell_type": "code",
   "execution_count": 21,
   "id": "80dc63ba",
   "metadata": {},
   "outputs": [
    {
     "data": {
      "image/png": "[encoded data removed]",
      "text/plain": [
       "<Figure size 500x500 with 2 Axes>"
      ]
     },
     "metadata": {},
     "output_type": "display_data"
    }
   ],
   "source": [
    "ax,fig=plt.subplots(figsize=(5,5))\n",
    "sns.histplot(df,x='week',y='skip_class',cbar=True,bins=3)\n",
    "plt.yticks([0,1])\n",
    "plt.savefig('../image/cutclass vs week.png')"
   ]
  },
  {
   "cell_type": "code",
   "execution_count": 22,
   "id": "9d2ab848",
   "metadata": {
    "scrolled": true
   },
   "outputs": [
    {
     "data": {
      "image/png": "[encoded data removed]",
      "text/plain": [
       "<Figure size 640x480 with 1 Axes>"
      ]
     },
     "metadata": {},
     "output_type": "display_data"
    }
   ],
   "source": [
    "sns.countplot(df,x='week',hue='skip_class')\n",
    "plt.savefig('../image/count skip class vs week.png')"
   ]
  },
  {
   "cell_type": "code",
   "execution_count": 23,
   "id": "563344eb",
   "metadata": {
    "scrolled": true
   },
   "outputs": [],
   "source": [
    "# print(df['level'].unique())\n",
    "df_stress=df.iloc[:,1:]\n",
    "# df_stress['level']=df_stress['level'].fillna(df_stress['level'].median())\n",
    "# df_stress['level']=df_stress['level'].fillna(0)\n"
   ]
  },
  {
   "cell_type": "code",
   "execution_count": 24,
   "id": "99f5d746",
   "metadata": {},
   "outputs": [
    {
     "name": "stdout",
     "output_type": "stream",
     "text": [
      "[0, 1]\n",
      "Categories (2, int64): [0, 1]\n"
     ]
    },
    {
     "data": {
      "text/plain": [
       "<Axes: xlabel='level', ylabel='count'>"
      ]
     },
     "execution_count": 24,
     "metadata": {},
     "output_type": "execute_result"
    },
    {
     "data": {
      "image/png": "[encoded data removed]",
      "text/plain": [
       "<Figure size 1000x1000 with 1 Axes>"
      ]
     },
     "metadata": {},
     "output_type": "display_data"
    }
   ],
   "source": [
    "df_stress['level']=df_stress['level'].astype(int)\n",
    "ax,fig=plt.subplots(figsize=(10,10))\n",
    "sns.countplot(df_stress,x='level',hue='skip_class')\n",
    "plt.xticks(rotation=0)\n",
    "# plt.savefig('../image/stress vs skip class.png')\n",
    "print(df['level'].unique())\n",
    "sns.countplot(df_stress,x='level')"
   ]
  },
  {
   "cell_type": "code",
   "execution_count": 25,
   "id": "f8c2edee",
   "metadata": {},
   "outputs": [
    {
     "data": {
      "text/html": [
       "<div>\n",
       "<style scoped>\n",
       "    .dataframe tbody tr th:only-of-type {\n",
       "        vertical-align: middle;\n",
       "    }\n",
       "\n",
       "    .dataframe tbody tr th {\n",
       "        vertical-align: top;\n",
       "    }\n",
       "\n",
       "    .dataframe thead th {\n",
       "        text-align: right;\n",
       "    }\n",
       "</style>\n",
       "<table border=\"1\" class=\"dataframe\">\n",
       "  <thead>\n",
       "    <tr style=\"text-align: right;\">\n",
       "      <th></th>\n",
       "      <th>home_time</th>\n",
       "      <th>school_time</th>\n",
       "      <th>orthers</th>\n",
       "      <th>travel_time</th>\n",
       "      <th>shopping</th>\n",
       "      <th>recreational_activities</th>\n",
       "      <th>working</th>\n",
       "      <th>date_in_week</th>\n",
       "      <th>skip_class</th>\n",
       "      <th>class_schedule</th>\n",
       "      <th>...</th>\n",
       "      <th>min</th>\n",
       "      <th>mean</th>\n",
       "      <th>std</th>\n",
       "      <th>25%</th>\n",
       "      <th>med or 50%</th>\n",
       "      <th>75%</th>\n",
       "      <th>freq</th>\n",
       "      <th>level</th>\n",
       "      <th>week</th>\n",
       "      <th>None_school_time</th>\n",
       "    </tr>\n",
       "  </thead>\n",
       "  <tbody>\n",
       "    <tr>\n",
       "      <th>0</th>\n",
       "      <td>34805.0</td>\n",
       "      <td>0.0</td>\n",
       "      <td>0.0</td>\n",
       "      <td>0.0</td>\n",
       "      <td>0.0</td>\n",
       "      <td>0.0</td>\n",
       "      <td>0.0</td>\n",
       "      <td>1.0</td>\n",
       "      <td>0.0</td>\n",
       "      <td>0.0</td>\n",
       "      <td>...</td>\n",
       "      <td>5.0</td>\n",
       "      <td>3120.500000</td>\n",
       "      <td>3258.916359</td>\n",
       "      <td>1200.00</td>\n",
       "      <td>1800.0</td>\n",
       "      <td>3300.00</td>\n",
       "      <td>10.0</td>\n",
       "      <td>0</td>\n",
       "      <td>14</td>\n",
       "      <td>51595.0</td>\n",
       "    </tr>\n",
       "    <tr>\n",
       "      <th>1</th>\n",
       "      <td>38399.0</td>\n",
       "      <td>20392.0</td>\n",
       "      <td>0.0</td>\n",
       "      <td>1204.0</td>\n",
       "      <td>0.0</td>\n",
       "      <td>4802.0</td>\n",
       "      <td>0.0</td>\n",
       "      <td>2.0</td>\n",
       "      <td>0.0</td>\n",
       "      <td>0.0</td>\n",
       "      <td>...</td>\n",
       "      <td>1200.0</td>\n",
       "      <td>2201.000000</td>\n",
       "      <td>1595.143505</td>\n",
       "      <td>1200.00</td>\n",
       "      <td>1202.0</td>\n",
       "      <td>3001.00</td>\n",
       "      <td>6.0</td>\n",
       "      <td>0</td>\n",
       "      <td>14</td>\n",
       "      <td>27609.0</td>\n",
       "    </tr>\n",
       "    <tr>\n",
       "      <th>2</th>\n",
       "      <td>52800.0</td>\n",
       "      <td>27602.0</td>\n",
       "      <td>1198.0</td>\n",
       "      <td>6000.0</td>\n",
       "      <td>0.0</td>\n",
       "      <td>1198.0</td>\n",
       "      <td>0.0</td>\n",
       "      <td>3.0</td>\n",
       "      <td>0.0</td>\n",
       "      <td>0.0</td>\n",
       "      <td>...</td>\n",
       "      <td>1200.0</td>\n",
       "      <td>1885.714286</td>\n",
       "      <td>944.154951</td>\n",
       "      <td>1200.00</td>\n",
       "      <td>1200.0</td>\n",
       "      <td>2400.00</td>\n",
       "      <td>7.0</td>\n",
       "      <td>0</td>\n",
       "      <td>14</td>\n",
       "      <td>5998.0</td>\n",
       "    </tr>\n",
       "    <tr>\n",
       "      <th>3</th>\n",
       "      <td>0.0</td>\n",
       "      <td>16801.0</td>\n",
       "      <td>3600.0</td>\n",
       "      <td>1199.0</td>\n",
       "      <td>0.0</td>\n",
       "      <td>0.0</td>\n",
       "      <td>0.0</td>\n",
       "      <td>4.0</td>\n",
       "      <td>0.0</td>\n",
       "      <td>0.0</td>\n",
       "      <td>...</td>\n",
       "      <td>1153.0</td>\n",
       "      <td>1842.538462</td>\n",
       "      <td>934.303896</td>\n",
       "      <td>1200.00</td>\n",
       "      <td>1200.0</td>\n",
       "      <td>2400.00</td>\n",
       "      <td>13.0</td>\n",
       "      <td>0</td>\n",
       "      <td>14</td>\n",
       "      <td>69599.0</td>\n",
       "    </tr>\n",
       "    <tr>\n",
       "      <th>4</th>\n",
       "      <td>61202.0</td>\n",
       "      <td>1200.0</td>\n",
       "      <td>2400.0</td>\n",
       "      <td>0.0</td>\n",
       "      <td>0.0</td>\n",
       "      <td>0.0</td>\n",
       "      <td>0.0</td>\n",
       "      <td>6.0</td>\n",
       "      <td>0.0</td>\n",
       "      <td>0.0</td>\n",
       "      <td>...</td>\n",
       "      <td>363.0</td>\n",
       "      <td>14791.250000</td>\n",
       "      <td>26953.467722</td>\n",
       "      <td>990.75</td>\n",
       "      <td>1800.0</td>\n",
       "      <td>15600.50</td>\n",
       "      <td>4.0</td>\n",
       "      <td>0</td>\n",
       "      <td>14</td>\n",
       "      <td>23998.0</td>\n",
       "    </tr>\n",
       "    <tr>\n",
       "      <th>5</th>\n",
       "      <td>1200.0</td>\n",
       "      <td>10800.0</td>\n",
       "      <td>0.0</td>\n",
       "      <td>0.0</td>\n",
       "      <td>0.0</td>\n",
       "      <td>0.0</td>\n",
       "      <td>0.0</td>\n",
       "      <td>1.0</td>\n",
       "      <td>0.0</td>\n",
       "      <td>0.0</td>\n",
       "      <td>...</td>\n",
       "      <td>1200.0</td>\n",
       "      <td>1600.000000</td>\n",
       "      <td>781.606737</td>\n",
       "      <td>1200.00</td>\n",
       "      <td>1200.0</td>\n",
       "      <td>1500.00</td>\n",
       "      <td>12.0</td>\n",
       "      <td>1</td>\n",
       "      <td>15</td>\n",
       "      <td>74400.0</td>\n",
       "    </tr>\n",
       "    <tr>\n",
       "      <th>6</th>\n",
       "      <td>53999.0</td>\n",
       "      <td>28801.0</td>\n",
       "      <td>0.0</td>\n",
       "      <td>0.0</td>\n",
       "      <td>0.0</td>\n",
       "      <td>0.0</td>\n",
       "      <td>0.0</td>\n",
       "      <td>2.0</td>\n",
       "      <td>0.0</td>\n",
       "      <td>0.0</td>\n",
       "      <td>...</td>\n",
       "      <td>1200.0</td>\n",
       "      <td>2266.666667</td>\n",
       "      <td>1637.070554</td>\n",
       "      <td>1200.00</td>\n",
       "      <td>1200.0</td>\n",
       "      <td>2400.00</td>\n",
       "      <td>9.0</td>\n",
       "      <td>0</td>\n",
       "      <td>15</td>\n",
       "      <td>3600.0</td>\n",
       "    </tr>\n",
       "    <tr>\n",
       "      <th>7</th>\n",
       "      <td>54000.0</td>\n",
       "      <td>38392.0</td>\n",
       "      <td>0.0</td>\n",
       "      <td>1200.0</td>\n",
       "      <td>0.0</td>\n",
       "      <td>8.0</td>\n",
       "      <td>0.0</td>\n",
       "      <td>3.0</td>\n",
       "      <td>0.0</td>\n",
       "      <td>0.0</td>\n",
       "      <td>...</td>\n",
       "      <td>1070.0</td>\n",
       "      <td>1567.333333</td>\n",
       "      <td>621.812405</td>\n",
       "      <td>1200.00</td>\n",
       "      <td>1200.0</td>\n",
       "      <td>2050.50</td>\n",
       "      <td>6.0</td>\n",
       "      <td>0</td>\n",
       "      <td>15</td>\n",
       "      <td>-5992.0</td>\n",
       "    </tr>\n",
       "    <tr>\n",
       "      <th>8</th>\n",
       "      <td>0.0</td>\n",
       "      <td>0.0</td>\n",
       "      <td>0.0</td>\n",
       "      <td>0.0</td>\n",
       "      <td>0.0</td>\n",
       "      <td>0.0</td>\n",
       "      <td>0.0</td>\n",
       "      <td>0.0</td>\n",
       "      <td>0.0</td>\n",
       "      <td>0.0</td>\n",
       "      <td>...</td>\n",
       "      <td>1198.0</td>\n",
       "      <td>2332.400000</td>\n",
       "      <td>2819.038694</td>\n",
       "      <td>1200.00</td>\n",
       "      <td>1200.0</td>\n",
       "      <td>2011.25</td>\n",
       "      <td>10.0</td>\n",
       "      <td>0</td>\n",
       "      <td>15</td>\n",
       "      <td>86400.0</td>\n",
       "    </tr>\n",
       "    <tr>\n",
       "      <th>9</th>\n",
       "      <td>49200.0</td>\n",
       "      <td>32400.0</td>\n",
       "      <td>0.0</td>\n",
       "      <td>0.0</td>\n",
       "      <td>0.0</td>\n",
       "      <td>0.0</td>\n",
       "      <td>0.0</td>\n",
       "      <td>5.0</td>\n",
       "      <td>0.0</td>\n",
       "      <td>0.0</td>\n",
       "      <td>...</td>\n",
       "      <td>717.0</td>\n",
       "      <td>1318.166667</td>\n",
       "      <td>563.413673</td>\n",
       "      <td>1194.00</td>\n",
       "      <td>1200.0</td>\n",
       "      <td>1200.75</td>\n",
       "      <td>6.0</td>\n",
       "      <td>0</td>\n",
       "      <td>16</td>\n",
       "      <td>4800.0</td>\n",
       "    </tr>\n",
       "    <tr>\n",
       "      <th>10</th>\n",
       "      <td>53999.0</td>\n",
       "      <td>45602.0</td>\n",
       "      <td>0.0</td>\n",
       "      <td>0.0</td>\n",
       "      <td>0.0</td>\n",
       "      <td>0.0</td>\n",
       "      <td>0.0</td>\n",
       "      <td>4.0</td>\n",
       "      <td>0.0</td>\n",
       "      <td>0.0</td>\n",
       "      <td>...</td>\n",
       "      <td>1200.0</td>\n",
       "      <td>1200.000000</td>\n",
       "      <td>0.000000</td>\n",
       "      <td>1200.00</td>\n",
       "      <td>1200.0</td>\n",
       "      <td>1200.00</td>\n",
       "      <td>2.0</td>\n",
       "      <td>0</td>\n",
       "      <td>17</td>\n",
       "      <td>-13201.0</td>\n",
       "    </tr>\n",
       "    <tr>\n",
       "      <th>11</th>\n",
       "      <td>49983.0</td>\n",
       "      <td>3598.0</td>\n",
       "      <td>0.0</td>\n",
       "      <td>0.0</td>\n",
       "      <td>0.0</td>\n",
       "      <td>9615.0</td>\n",
       "      <td>0.0</td>\n",
       "      <td>6.0</td>\n",
       "      <td>0.0</td>\n",
       "      <td>0.0</td>\n",
       "      <td>...</td>\n",
       "      <td>1.0</td>\n",
       "      <td>2644.142857</td>\n",
       "      <td>4437.683083</td>\n",
       "      <td>1109.50</td>\n",
       "      <td>1200.0</td>\n",
       "      <td>1215.50</td>\n",
       "      <td>7.0</td>\n",
       "      <td>0</td>\n",
       "      <td>17</td>\n",
       "      <td>32819.0</td>\n",
       "    </tr>\n",
       "    <tr>\n",
       "      <th>12</th>\n",
       "      <td>35270.0</td>\n",
       "      <td>32400.0</td>\n",
       "      <td>0.0</td>\n",
       "      <td>0.0</td>\n",
       "      <td>0.0</td>\n",
       "      <td>0.0</td>\n",
       "      <td>22800.0</td>\n",
       "      <td>2.0</td>\n",
       "      <td>0.0</td>\n",
       "      <td>0.0</td>\n",
       "      <td>...</td>\n",
       "      <td>1317.0</td>\n",
       "      <td>5729.250000</td>\n",
       "      <td>5367.720396</td>\n",
       "      <td>2129.25</td>\n",
       "      <td>4200.0</td>\n",
       "      <td>7800.00</td>\n",
       "      <td>4.0</td>\n",
       "      <td>0</td>\n",
       "      <td>21</td>\n",
       "      <td>18730.0</td>\n",
       "    </tr>\n",
       "  </tbody>\n",
       "</table>\n",
       "<p>13 rows × 34 columns</p>\n",
       "</div>"
      ],
      "text/plain": [
       "    home_time  school_time  orthers  travel_time  shopping  \\\n",
       "0     34805.0          0.0      0.0          0.0       0.0   \n",
       "1     38399.0      20392.0      0.0       1204.0       0.0   \n",
       "2     52800.0      27602.0   1198.0       6000.0       0.0   \n",
       "3         0.0      16801.0   3600.0       1199.0       0.0   \n",
       "4     61202.0       1200.0   2400.0          0.0       0.0   \n",
       "5      1200.0      10800.0      0.0          0.0       0.0   \n",
       "6     53999.0      28801.0      0.0          0.0       0.0   \n",
       "7     54000.0      38392.0      0.0       1200.0       0.0   \n",
       "8         0.0          0.0      0.0          0.0       0.0   \n",
       "9     49200.0      32400.0      0.0          0.0       0.0   \n",
       "10    53999.0      45602.0      0.0          0.0       0.0   \n",
       "11    49983.0       3598.0      0.0          0.0       0.0   \n",
       "12    35270.0      32400.0      0.0          0.0       0.0   \n",
       "\n",
       "    recreational_activities  working  date_in_week  skip_class  \\\n",
       "0                       0.0      0.0           1.0         0.0   \n",
       "1                    4802.0      0.0           2.0         0.0   \n",
       "2                    1198.0      0.0           3.0         0.0   \n",
       "3                       0.0      0.0           4.0         0.0   \n",
       "4                       0.0      0.0           6.0         0.0   \n",
       "5                       0.0      0.0           1.0         0.0   \n",
       "6                       0.0      0.0           2.0         0.0   \n",
       "7                       8.0      0.0           3.0         0.0   \n",
       "8                       0.0      0.0           0.0         0.0   \n",
       "9                       0.0      0.0           5.0         0.0   \n",
       "10                      0.0      0.0           4.0         0.0   \n",
       "11                   9615.0      0.0           6.0         0.0   \n",
       "12                      0.0  22800.0           2.0         0.0   \n",
       "\n",
       "    class_schedule  ...     min          mean           std      25%  \\\n",
       "0              0.0  ...     5.0   3120.500000   3258.916359  1200.00   \n",
       "1              0.0  ...  1200.0   2201.000000   1595.143505  1200.00   \n",
       "2              0.0  ...  1200.0   1885.714286    944.154951  1200.00   \n",
       "3              0.0  ...  1153.0   1842.538462    934.303896  1200.00   \n",
       "4              0.0  ...   363.0  14791.250000  26953.467722   990.75   \n",
       "5              0.0  ...  1200.0   1600.000000    781.606737  1200.00   \n",
       "6              0.0  ...  1200.0   2266.666667   1637.070554  1200.00   \n",
       "7              0.0  ...  1070.0   1567.333333    621.812405  1200.00   \n",
       "8              0.0  ...  1198.0   2332.400000   2819.038694  1200.00   \n",
       "9              0.0  ...   717.0   1318.166667    563.413673  1194.00   \n",
       "10             0.0  ...  1200.0   1200.000000      0.000000  1200.00   \n",
       "11             0.0  ...     1.0   2644.142857   4437.683083  1109.50   \n",
       "12             0.0  ...  1317.0   5729.250000   5367.720396  2129.25   \n",
       "\n",
       "    med or 50%       75%  freq  level  week  None_school_time  \n",
       "0       1800.0   3300.00  10.0      0    14           51595.0  \n",
       "1       1202.0   3001.00   6.0      0    14           27609.0  \n",
       "2       1200.0   2400.00   7.0      0    14            5998.0  \n",
       "3       1200.0   2400.00  13.0      0    14           69599.0  \n",
       "4       1800.0  15600.50   4.0      0    14           23998.0  \n",
       "5       1200.0   1500.00  12.0      1    15           74400.0  \n",
       "6       1200.0   2400.00   9.0      0    15            3600.0  \n",
       "7       1200.0   2050.50   6.0      0    15           -5992.0  \n",
       "8       1200.0   2011.25  10.0      0    15           86400.0  \n",
       "9       1200.0   1200.75   6.0      0    16            4800.0  \n",
       "10      1200.0   1200.00   2.0      0    17          -13201.0  \n",
       "11      1200.0   1215.50   7.0      0    17           32819.0  \n",
       "12      4200.0   7800.00   4.0      0    21           18730.0  \n",
       "\n",
       "[13 rows x 34 columns]"
      ]
     },
     "execution_count": 25,
     "metadata": {},
     "output_type": "execute_result"
    }
   ],
   "source": [
    "df_stress"
   ]
  },
  {
   "cell_type": "code",
   "execution_count": 26,
   "id": "cc7cd18f",
   "metadata": {},
   "outputs": [
    {
     "data": {
      "text/plain": [
       "F_onewayResult(statistic=nan, pvalue=nan)"
      ]
     },
     "execution_count": 26,
     "metadata": {},
     "output_type": "execute_result"
    }
   ],
   "source": [
    "stress_cut_classes=df_stress[df_stress['skip_class']==1]['level']\n",
    "stress_no_cut_classes=df_stress[df_stress['skip_class']==0]['level']\n",
    "\n",
    "from scipy.stats import f_oneway\n",
    "f_oneway(stress_no_cut_classes,stress_cut_classes)"
   ]
  },
  {
   "cell_type": "code",
   "execution_count": null,
   "id": "753c658d",
   "metadata": {},
   "outputs": [],
   "source": []
  },
  {
   "cell_type": "code",
   "execution_count": null,
   "id": "fd33eb44",
   "metadata": {},
   "outputs": [],
   "source": []
  },
  {
   "cell_type": "code",
   "execution_count": null,
   "id": "ed857ebf",
   "metadata": {},
   "outputs": [],
   "source": []
  },
  {
   "cell_type": "code",
   "execution_count": null,
   "id": "6266f6ea",
   "metadata": {},
   "outputs": [],
   "source": []
  },
  {
   "cell_type": "code",
   "execution_count": null,
   "id": "572e6b8e",
   "metadata": {},
   "outputs": [],
   "source": []
  },
  {
   "cell_type": "code",
   "execution_count": 27,
   "id": "a73482a3",
   "metadata": {
    "scrolled": true
   },
   "outputs": [
    {
     "data": {
      "image/png": "[encoded data removed]",
      "text/plain": [
       "<Figure size 640x480 with 1 Axes>"
      ]
     },
     "metadata": {},
     "output_type": "display_data"
    }
   ],
   "source": [
    "sns.histplot(df_stress,x='level',hue='skip_class',kde=True)\n",
    "plt.savefig('../image/stress by skip class.png')"
   ]
  },
  {
   "cell_type": "code",
   "execution_count": 28,
   "id": "192b934c",
   "metadata": {},
   "outputs": [
    {
     "data": {
      "text/html": [
       "<div>\n",
       "<style scoped>\n",
       "    .dataframe tbody tr th:only-of-type {\n",
       "        vertical-align: middle;\n",
       "    }\n",
       "\n",
       "    .dataframe tbody tr th {\n",
       "        vertical-align: top;\n",
       "    }\n",
       "\n",
       "    .dataframe thead th {\n",
       "        text-align: right;\n",
       "    }\n",
       "</style>\n",
       "<table border=\"1\" class=\"dataframe\">\n",
       "  <thead>\n",
       "    <tr style=\"text-align: right;\">\n",
       "      <th></th>\n",
       "      <th>count</th>\n",
       "    </tr>\n",
       "    <tr>\n",
       "      <th>level</th>\n",
       "      <th></th>\n",
       "    </tr>\n",
       "  </thead>\n",
       "  <tbody>\n",
       "  </tbody>\n",
       "</table>\n",
       "</div>"
      ],
      "text/plain": [
       "Empty DataFrame\n",
       "Columns: [count]\n",
       "Index: []"
      ]
     },
     "execution_count": 28,
     "metadata": {},
     "output_type": "execute_result"
    }
   ],
   "source": [
    "no_cut_class_data=df_stress[df_stress['skip_class']==0]\n",
    "cut_class_data=df_stress[df_stress['skip_class']==1]\n",
    "no_cut_class_data=no_cut_class_data['level'].value_counts().to_frame()\n",
    "no_cut_class_data['count']=no_cut_class_data['count']/(no_cut_class_data['count'].sum())\n",
    "no_cut_class_data\n",
    "cut_class_data=cut_class_data['level'].value_counts().to_frame()\n",
    "cut_class_data['count']=cut_class_data['count']/cut_class_data['count'].sum()\n",
    "cut_class_data"
   ]
  },
  {
   "cell_type": "code",
   "execution_count": 29,
   "id": "8fd4d565",
   "metadata": {},
   "outputs": [
    {
     "name": "stderr",
     "output_type": "stream",
     "text": [
      "No artists with labels found to put in legend.  Note that artists whose label start with an underscore are ignored when legend() is called with no argument.\n"
     ]
    },
    {
     "data": {
      "image/png": "[encoded data removed]",
      "text/plain": [
       "<Figure size 1100x600 with 1 Axes>"
      ]
     },
     "metadata": {},
     "output_type": "display_data"
    }
   ],
   "source": [
    "cut_class_data.plot.pie(subplots=True, figsize=(11, 6),startangle=90,autopct='%1.2f%%')\n",
    "plt.savefig('../image/stress ratio cut class.png')"
   ]
  },
  {
   "cell_type": "code",
   "execution_count": 30,
   "id": "e10c1a69",
   "metadata": {},
   "outputs": [
    {
     "data": {
      "image/png": "[encoded data removed]",
      "text/plain": [
       "<Figure size 1100x600 with 1 Axes>"
      ]
     },
     "metadata": {},
     "output_type": "display_data"
    }
   ],
   "source": [
    "no_cut_class_data.plot.pie(subplots=True, figsize=(11, 6),startangle=90,autopct='%1.2f%%')\n",
    "plt.savefig('../image/stress ratio no cut class.png')"
   ]
  },
  {
   "cell_type": "code",
   "execution_count": 31,
   "id": "ff9ff43b",
   "metadata": {
    "scrolled": true
   },
   "outputs": [
    {
     "data": {
      "image/png": "[encoded data removed]",
      "text/plain": [
       "<Figure size 640x480 with 1 Axes>"
      ]
     },
     "metadata": {},
     "output_type": "display_data"
    }
   ],
   "source": [
    "sns.histplot(df_stress,x='week',hue='level',kde=True,palette='crest',bins=10,stat='percent',alpha=0.4)\n",
    "plt.savefig('../image/stress by week.png')"
   ]
  },
  {
   "cell_type": "code",
   "execution_count": 32,
   "id": "541f9be7",
   "metadata": {
    "scrolled": true
   },
   "outputs": [
    {
     "data": {
      "image/png": "[encoded data removed]",
      "text/plain": [
       "<Figure size 640x480 with 1 Axes>"
      ]
     },
     "metadata": {},
     "output_type": "display_data"
    }
   ],
   "source": [
    "sns.histplot(df_stress[df_stress['skip_class']==1],x='week',hue='level',kde=True,palette='crest',bins=10,stat='percent',alpha=0.4        )\n",
    "plt.title('Stress of student who $\\\\bf{skip}$ class')\n",
    "plt.savefig('../image/stress by week who skip class.png')"
   ]
  },
  {
   "cell_type": "code",
   "execution_count": 33,
   "id": "6cd4b156",
   "metadata": {
    "scrolled": true
   },
   "outputs": [
    {
     "data": {
      "image/png": "[encoded data removed]",
      "text/plain": [
       "<Figure size 640x480 with 1 Axes>"
      ]
     },
     "metadata": {},
     "output_type": "display_data"
    }
   ],
   "source": [
    "sns.histplot(df_stress[df_stress['skip_class']==0],x='week',hue='level',kde=True,bins=10,palette='crest',stat='percent',alpha=0.4)\n",
    "plt.title('Stress of student who $\\\\bf{NOT }$ $\\\\bf{skip}$  class')\n",
    "plt.savefig('../image/stress by week who $\\\\bf{NOT}$ skip class.png')"
   ]
  },
  {
   "cell_type": "code",
   "execution_count": 34,
   "id": "ed94a7a1",
   "metadata": {
    "scrolled": true
   },
   "outputs": [],
   "source": [
    "df_stress_fix=df_stress\n",
    "df_stress_fix['school_time']=(df_stress_fix['school_time']/60).astype(int)\n",
    "\n"
   ]
  },
  {
   "cell_type": "code",
   "execution_count": 35,
   "id": "357245b0",
   "metadata": {
    "scrolled": true
   },
   "outputs": [
    {
     "data": {
      "image/png": "[encoded data removed]",
      "text/plain": [
       "<Figure size 640x480 with 1 Axes>"
      ]
     },
     "metadata": {},
     "output_type": "display_data"
    }
   ],
   "source": [
    "sns.kdeplot(df_stress_fix,x='school_time',y='level',cmap='Reds',fill=True)\n",
    "plt.savefig('../image/stress by school time.png')"
   ]
  },
  {
   "cell_type": "code",
   "execution_count": 36,
   "id": "7c34659f",
   "metadata": {},
   "outputs": [],
   "source": [
    "df_stress_fix['None_school_time']=(df_stress_fix['None_school_time']/60).astype(int)"
   ]
  },
  {
   "cell_type": "code",
   "execution_count": 37,
   "id": "44d8bbd4",
   "metadata": {
    "scrolled": true
   },
   "outputs": [
    {
     "data": {
      "image/png": "[encoded data removed]",
      "text/plain": [
       "<Figure size 640x480 with 1 Axes>"
      ]
     },
     "metadata": {},
     "output_type": "display_data"
    }
   ],
   "source": [
    "sns.kdeplot(df_stress_fix,x='None_school_time',y='level',cmap='Reds',fill=True)\n",
    "plt.savefig('../image/stress by none school time.png')"
   ]
  },
  {
   "cell_type": "code",
   "execution_count": 38,
   "id": "de450e7b",
   "metadata": {
    "scrolled": false
   },
   "outputs": [
    {
     "name": "stdout",
     "output_type": "stream",
     "text": [
      "<class 'pandas.core.frame.DataFrame'>\n",
      "RangeIndex: 13 entries, 0 to 12\n",
      "Data columns (total 35 columns):\n",
      " #   Column                   Non-Null Count  Dtype   \n",
      "---  ------                   --------------  -----   \n",
      " 0   date                     13 non-null     object  \n",
      " 1   home_time                13 non-null     float64 \n",
      " 2   school_time              13 non-null     float64 \n",
      " 3   orthers                  13 non-null     float64 \n",
      " 4   travel_time              13 non-null     float64 \n",
      " 5   shopping                 13 non-null     float64 \n",
      " 6   recreational_activities  13 non-null     float64 \n",
      " 7   working                  13 non-null     float64 \n",
      " 8   date_in_week             13 non-null     float64 \n",
      " 9   skip_class               13 non-null     float64 \n",
      " 10  class_schedule           13 non-null     float64 \n",
      " 11  volunteer                13 non-null     float64 \n",
      " 12  location_names           13 non-null     object  \n",
      " 13  conv_dur_sum             13 non-null     float64 \n",
      " 14  conv_max                 13 non-null     float64 \n",
      " 15  conv_min                 13 non-null     float64 \n",
      " 16  conv_mean                13 non-null     float64 \n",
      " 17  conv_std                 13 non-null     float64 \n",
      " 18  conv_25%                 13 non-null     float64 \n",
      " 19  conv_med or 50%          13 non-null     float64 \n",
      " 20  conv_75%                 13 non-null     float64 \n",
      " 21  conv_freq                13 non-null     float64 \n",
      " 22  conv_level               13 non-null     float64 \n",
      " 23  dur_sum                  13 non-null     float64 \n",
      " 24  max                      13 non-null     float64 \n",
      " 25  min                      13 non-null     float64 \n",
      " 26  mean                     13 non-null     float64 \n",
      " 27  std                      13 non-null     float64 \n",
      " 28  25%                      13 non-null     float64 \n",
      " 29  med or 50%               13 non-null     float64 \n",
      " 30  75%                      13 non-null     float64 \n",
      " 31  freq                     13 non-null     float64 \n",
      " 32  level                    13 non-null     category\n",
      " 33  week                     13 non-null     int64   \n",
      " 34  None_school_time         13 non-null     float64 \n",
      "dtypes: category(1), float64(31), int64(1), object(2)\n",
      "memory usage: 3.7+ KB\n"
     ]
    }
   ],
   "source": [
    "df.info()\n",
    "df_stress['week']=df_stress['week'].astype(int)\n"
   ]
  },
  {
   "cell_type": "code",
   "execution_count": 39,
   "id": "7e70bfa5",
   "metadata": {
    "scrolled": false
   },
   "outputs": [
    {
     "data": {
      "image/png": "[encoded data removed]",
      "text/plain": [
       "<Figure size 640x480 with 1 Axes>"
      ]
     },
     "metadata": {},
     "output_type": "display_data"
    }
   ],
   "source": [
    "pd.plotting.radviz(df_stress[['week', 'home_time','None_school_time',\n",
    "        'recreational_activities','date_in_week',\n",
    "        'travel_time',\n",
    "        'orthers', 'skip_class' ,'school_time' ,\n",
    "        'level' \n",
    "       ]],'level')\n",
    "plt.savefig('../image/radvix.png')"
   ]
  },
  {
   "cell_type": "code",
   "execution_count": 40,
   "id": "32dc6ef6",
   "metadata": {},
   "outputs": [
    {
     "data": {
      "text/plain": [
       "<Axes: xlabel='level', ylabel='count'>"
      ]
     },
     "execution_count": 40,
     "metadata": {},
     "output_type": "execute_result"
    },
    {
     "data": {
      "image/png": "[encoded data removed]",
      "text/plain": [
       "<Figure size 640x480 with 1 Axes>"
      ]
     },
     "metadata": {},
     "output_type": "display_data"
    }
   ],
   "source": [
    "sns.countplot(df_stress,x='level')"
   ]
  },
  {
   "cell_type": "code",
   "execution_count": 41,
   "id": "f58574a1",
   "metadata": {
    "scrolled": true
   },
   "outputs": [
    {
     "data": {
      "text/html": [
       "<div>\n",
       "<style scoped>\n",
       "    .dataframe tbody tr th:only-of-type {\n",
       "        vertical-align: middle;\n",
       "    }\n",
       "\n",
       "    .dataframe tbody tr th {\n",
       "        vertical-align: top;\n",
       "    }\n",
       "\n",
       "    .dataframe thead th {\n",
       "        text-align: right;\n",
       "    }\n",
       "</style>\n",
       "<table border=\"1\" class=\"dataframe\">\n",
       "  <thead>\n",
       "    <tr style=\"text-align: right;\">\n",
       "      <th></th>\n",
       "      <th>home_time</th>\n",
       "      <th>school_time</th>\n",
       "      <th>orthers</th>\n",
       "      <th>travel_time</th>\n",
       "      <th>shopping</th>\n",
       "      <th>recreational_activities</th>\n",
       "      <th>working</th>\n",
       "      <th>date_in_week</th>\n",
       "      <th>skip_class</th>\n",
       "      <th>class_schedule</th>\n",
       "      <th>...</th>\n",
       "      <th>max</th>\n",
       "      <th>min</th>\n",
       "      <th>mean</th>\n",
       "      <th>std</th>\n",
       "      <th>25%</th>\n",
       "      <th>med or 50%</th>\n",
       "      <th>75%</th>\n",
       "      <th>freq</th>\n",
       "      <th>week</th>\n",
       "      <th>None_school_time</th>\n",
       "    </tr>\n",
       "  </thead>\n",
       "  <tbody>\n",
       "    <tr>\n",
       "      <th>count</th>\n",
       "      <td>13.000000</td>\n",
       "      <td>13.000000</td>\n",
       "      <td>13.000000</td>\n",
       "      <td>13.000000</td>\n",
       "      <td>13.0</td>\n",
       "      <td>13.000000</td>\n",
       "      <td>13.000000</td>\n",
       "      <td>13.000000</td>\n",
       "      <td>13.0</td>\n",
       "      <td>13.0</td>\n",
       "      <td>...</td>\n",
       "      <td>13.000000</td>\n",
       "      <td>13.000000</td>\n",
       "      <td>13.000000</td>\n",
       "      <td>13.000000</td>\n",
       "      <td>13.000000</td>\n",
       "      <td>13.000000</td>\n",
       "      <td>13.000000</td>\n",
       "      <td>13.000000</td>\n",
       "      <td>13.000000</td>\n",
       "      <td>13.000000</td>\n",
       "    </tr>\n",
       "    <tr>\n",
       "      <th>mean</th>\n",
       "      <td>37296.692308</td>\n",
       "      <td>19845.230769</td>\n",
       "      <td>553.692308</td>\n",
       "      <td>738.692308</td>\n",
       "      <td>0.0</td>\n",
       "      <td>1201.769231</td>\n",
       "      <td>1753.846154</td>\n",
       "      <td>3.000000</td>\n",
       "      <td>0.0</td>\n",
       "      <td>0.0</td>\n",
       "      <td>...</td>\n",
       "      <td>9884.769231</td>\n",
       "      <td>909.538462</td>\n",
       "      <td>3269.150944</td>\n",
       "      <td>3839.563998</td>\n",
       "      <td>1247.961538</td>\n",
       "      <td>1523.230769</td>\n",
       "      <td>3544.576923</td>\n",
       "      <td>7.384615</td>\n",
       "      <td>15.461538</td>\n",
       "      <td>29258.076923</td>\n",
       "    </tr>\n",
       "    <tr>\n",
       "      <th>std</th>\n",
       "      <td>22449.890272</td>\n",
       "      <td>15688.843027</td>\n",
       "      <td>1160.808869</td>\n",
       "      <td>1664.170333</td>\n",
       "      <td>0.0</td>\n",
       "      <td>2860.178554</td>\n",
       "      <td>6323.582237</td>\n",
       "      <td>1.914854</td>\n",
       "      <td>0.0</td>\n",
       "      <td>0.0</td>\n",
       "      <td>...</td>\n",
       "      <td>14199.312302</td>\n",
       "      <td>477.450105</td>\n",
       "      <td>3651.096904</td>\n",
       "      <td>7131.017625</td>\n",
       "      <td>271.663603</td>\n",
       "      <td>834.754870</td>\n",
       "      <td>4009.553036</td>\n",
       "      <td>3.254189</td>\n",
       "      <td>1.983910</td>\n",
       "      <td>32179.361907</td>\n",
       "    </tr>\n",
       "    <tr>\n",
       "      <th>min</th>\n",
       "      <td>0.000000</td>\n",
       "      <td>0.000000</td>\n",
       "      <td>0.000000</td>\n",
       "      <td>0.000000</td>\n",
       "      <td>0.0</td>\n",
       "      <td>0.000000</td>\n",
       "      <td>0.000000</td>\n",
       "      <td>0.000000</td>\n",
       "      <td>0.0</td>\n",
       "      <td>0.0</td>\n",
       "      <td>...</td>\n",
       "      <td>1200.000000</td>\n",
       "      <td>1.000000</td>\n",
       "      <td>1200.000000</td>\n",
       "      <td>0.000000</td>\n",
       "      <td>990.750000</td>\n",
       "      <td>1200.000000</td>\n",
       "      <td>1200.000000</td>\n",
       "      <td>2.000000</td>\n",
       "      <td>14.000000</td>\n",
       "      <td>-13201.000000</td>\n",
       "    </tr>\n",
       "    <tr>\n",
       "      <th>25%</th>\n",
       "      <td>34805.000000</td>\n",
       "      <td>3598.000000</td>\n",
       "      <td>0.000000</td>\n",
       "      <td>0.000000</td>\n",
       "      <td>0.0</td>\n",
       "      <td>0.000000</td>\n",
       "      <td>0.000000</td>\n",
       "      <td>2.000000</td>\n",
       "      <td>0.0</td>\n",
       "      <td>0.0</td>\n",
       "      <td>...</td>\n",
       "      <td>3600.000000</td>\n",
       "      <td>717.000000</td>\n",
       "      <td>1600.000000</td>\n",
       "      <td>781.606737</td>\n",
       "      <td>1200.000000</td>\n",
       "      <td>1200.000000</td>\n",
       "      <td>1500.000000</td>\n",
       "      <td>6.000000</td>\n",
       "      <td>14.000000</td>\n",
       "      <td>4800.000000</td>\n",
       "    </tr>\n",
       "    <tr>\n",
       "      <th>50%</th>\n",
       "      <td>49200.000000</td>\n",
       "      <td>20392.000000</td>\n",
       "      <td>0.000000</td>\n",
       "      <td>0.000000</td>\n",
       "      <td>0.0</td>\n",
       "      <td>0.000000</td>\n",
       "      <td>0.000000</td>\n",
       "      <td>3.000000</td>\n",
       "      <td>0.0</td>\n",
       "      <td>0.0</td>\n",
       "      <td>...</td>\n",
       "      <td>4802.000000</td>\n",
       "      <td>1198.000000</td>\n",
       "      <td>2201.000000</td>\n",
       "      <td>1595.143505</td>\n",
       "      <td>1200.000000</td>\n",
       "      <td>1200.000000</td>\n",
       "      <td>2400.000000</td>\n",
       "      <td>7.000000</td>\n",
       "      <td>15.000000</td>\n",
       "      <td>23998.000000</td>\n",
       "    </tr>\n",
       "    <tr>\n",
       "      <th>75%</th>\n",
       "      <td>53999.000000</td>\n",
       "      <td>32400.000000</td>\n",
       "      <td>0.000000</td>\n",
       "      <td>1199.000000</td>\n",
       "      <td>0.0</td>\n",
       "      <td>8.000000</td>\n",
       "      <td>0.000000</td>\n",
       "      <td>4.000000</td>\n",
       "      <td>0.0</td>\n",
       "      <td>0.0</td>\n",
       "      <td>...</td>\n",
       "      <td>10241.000000</td>\n",
       "      <td>1200.000000</td>\n",
       "      <td>2644.142857</td>\n",
       "      <td>3258.916359</td>\n",
       "      <td>1200.000000</td>\n",
       "      <td>1202.000000</td>\n",
       "      <td>3001.000000</td>\n",
       "      <td>10.000000</td>\n",
       "      <td>16.000000</td>\n",
       "      <td>51595.000000</td>\n",
       "    </tr>\n",
       "    <tr>\n",
       "      <th>max</th>\n",
       "      <td>61202.000000</td>\n",
       "      <td>45602.000000</td>\n",
       "      <td>3600.000000</td>\n",
       "      <td>6000.000000</td>\n",
       "      <td>0.0</td>\n",
       "      <td>9615.000000</td>\n",
       "      <td>22800.000000</td>\n",
       "      <td>6.000000</td>\n",
       "      <td>0.0</td>\n",
       "      <td>0.0</td>\n",
       "      <td>...</td>\n",
       "      <td>55202.000000</td>\n",
       "      <td>1317.000000</td>\n",
       "      <td>14791.250000</td>\n",
       "      <td>26953.467722</td>\n",
       "      <td>2129.250000</td>\n",
       "      <td>4200.000000</td>\n",
       "      <td>15600.500000</td>\n",
       "      <td>13.000000</td>\n",
       "      <td>21.000000</td>\n",
       "      <td>86400.000000</td>\n",
       "    </tr>\n",
       "  </tbody>\n",
       "</table>\n",
       "<p>8 rows × 32 columns</p>\n",
       "</div>"
      ],
      "text/plain": [
       "          home_time   school_time      orthers  travel_time  shopping  \\\n",
       "count     13.000000     13.000000    13.000000    13.000000      13.0   \n",
       "mean   37296.692308  19845.230769   553.692308   738.692308       0.0   \n",
       "std    22449.890272  15688.843027  1160.808869  1664.170333       0.0   \n",
       "min        0.000000      0.000000     0.000000     0.000000       0.0   \n",
       "25%    34805.000000   3598.000000     0.000000     0.000000       0.0   \n",
       "50%    49200.000000  20392.000000     0.000000     0.000000       0.0   \n",
       "75%    53999.000000  32400.000000     0.000000  1199.000000       0.0   \n",
       "max    61202.000000  45602.000000  3600.000000  6000.000000       0.0   \n",
       "\n",
       "       recreational_activities       working  date_in_week  skip_class  \\\n",
       "count                13.000000     13.000000     13.000000        13.0   \n",
       "mean               1201.769231   1753.846154      3.000000         0.0   \n",
       "std                2860.178554   6323.582237      1.914854         0.0   \n",
       "min                   0.000000      0.000000      0.000000         0.0   \n",
       "25%                   0.000000      0.000000      2.000000         0.0   \n",
       "50%                   0.000000      0.000000      3.000000         0.0   \n",
       "75%                   8.000000      0.000000      4.000000         0.0   \n",
       "max                9615.000000  22800.000000      6.000000         0.0   \n",
       "\n",
       "       class_schedule  ...           max          min          mean  \\\n",
       "count            13.0  ...     13.000000    13.000000     13.000000   \n",
       "mean              0.0  ...   9884.769231   909.538462   3269.150944   \n",
       "std               0.0  ...  14199.312302   477.450105   3651.096904   \n",
       "min               0.0  ...   1200.000000     1.000000   1200.000000   \n",
       "25%               0.0  ...   3600.000000   717.000000   1600.000000   \n",
       "50%               0.0  ...   4802.000000  1198.000000   2201.000000   \n",
       "75%               0.0  ...  10241.000000  1200.000000   2644.142857   \n",
       "max               0.0  ...  55202.000000  1317.000000  14791.250000   \n",
       "\n",
       "                std          25%   med or 50%           75%       freq  \\\n",
       "count     13.000000    13.000000    13.000000     13.000000  13.000000   \n",
       "mean    3839.563998  1247.961538  1523.230769   3544.576923   7.384615   \n",
       "std     7131.017625   271.663603   834.754870   4009.553036   3.254189   \n",
       "min        0.000000   990.750000  1200.000000   1200.000000   2.000000   \n",
       "25%      781.606737  1200.000000  1200.000000   1500.000000   6.000000   \n",
       "50%     1595.143505  1200.000000  1200.000000   2400.000000   7.000000   \n",
       "75%     3258.916359  1200.000000  1202.000000   3001.000000  10.000000   \n",
       "max    26953.467722  2129.250000  4200.000000  15600.500000  13.000000   \n",
       "\n",
       "            week  None_school_time  \n",
       "count  13.000000         13.000000  \n",
       "mean   15.461538      29258.076923  \n",
       "std     1.983910      32179.361907  \n",
       "min    14.000000     -13201.000000  \n",
       "25%    14.000000       4800.000000  \n",
       "50%    15.000000      23998.000000  \n",
       "75%    16.000000      51595.000000  \n",
       "max    21.000000      86400.000000  \n",
       "\n",
       "[8 rows x 32 columns]"
      ]
     },
     "execution_count": 41,
     "metadata": {},
     "output_type": "execute_result"
    }
   ],
   "source": [
    "df.describe()"
   ]
  },
  {
   "cell_type": "code",
   "execution_count": 42,
   "id": "8efbf7e7",
   "metadata": {},
   "outputs": [
    {
     "data": {
      "text/plain": [
       "array([    0., 20392., 27602., 16801.,  1200., 10800., 28801., 38392.,\n",
       "       32400., 45602.,  3598.])"
      ]
     },
     "execution_count": 42,
     "metadata": {},
     "output_type": "execute_result"
    },
    {
     "data": {
      "image/png": "[encoded data removed]",
      "text/plain": [
       "<Figure size 640x480 with 1 Axes>"
      ]
     },
     "metadata": {},
     "output_type": "display_data"
    }
   ],
   "source": [
    "df=df.reset_index(drop=True)\n",
    "df_new=df.drop(df[df['home_time']==0].index)\n",
    "\n",
    "sns.histplot(df_new,x='school_time',hue='skip_class')\n",
    "\n",
    "df_new.describe()\n",
    "df['school_time'].unique()\n"
   ]
  },
  {
   "cell_type": "code",
   "execution_count": 43,
   "id": "b6220e65",
   "metadata": {},
   "outputs": [
    {
     "data": {
      "text/plain": [
       "<bound method IndexOpsMixin.value_counts of 0         0.0\n",
       "1     20392.0\n",
       "2     27602.0\n",
       "3     16801.0\n",
       "4      1200.0\n",
       "5     10800.0\n",
       "6     28801.0\n",
       "7     38392.0\n",
       "8         0.0\n",
       "9     32400.0\n",
       "10    45602.0\n",
       "11     3598.0\n",
       "12    32400.0\n",
       "Name: school_time, dtype: float64>"
      ]
     },
     "execution_count": 43,
     "metadata": {},
     "output_type": "execute_result"
    }
   ],
   "source": [
    "df.school_time.value_counts"
   ]
  },
  {
   "cell_type": "code",
   "execution_count": 44,
   "id": "3e4c40d4",
   "metadata": {},
   "outputs": [
    {
     "data": {
      "text/plain": [
       "Index(['date', 'home_time', 'school_time', 'orthers', 'travel_time',\n",
       "       'shopping', 'recreational_activities', 'working', 'date_in_week',\n",
       "       'skip_class', 'class_schedule', 'volunteer', 'location_names',\n",
       "       'conv_dur_sum', 'conv_max', 'conv_min', 'conv_mean', 'conv_std',\n",
       "       'conv_25%', 'conv_med or 50%', 'conv_75%', 'conv_freq', 'conv_level',\n",
       "       'dur_sum', 'max', 'min', 'mean', 'std', '25%', 'med or 50%', '75%',\n",
       "       'freq', 'level', 'week', 'None_school_time'],\n",
       "      dtype='object')"
      ]
     },
     "execution_count": 44,
     "metadata": {},
     "output_type": "execute_result"
    }
   ],
   "source": [
    "df.columns"
   ]
  },
  {
   "cell_type": "code",
   "execution_count": 45,
   "id": "acadb76e",
   "metadata": {},
   "outputs": [
    {
     "data": {
      "text/plain": [
       "[0, 1]\n",
       "Categories (2, int64): [0, 1]"
      ]
     },
     "execution_count": 45,
     "metadata": {},
     "output_type": "execute_result"
    }
   ],
   "source": [
    "y=df['level']\n",
    "y.unique()"
   ]
  },
  {
   "cell_type": "code",
   "execution_count": 46,
   "id": "01f8133d",
   "metadata": {},
   "outputs": [
    {
     "name": "stdout",
     "output_type": "stream",
     "text": [
      "<class 'pandas.core.frame.DataFrame'>\n",
      "RangeIndex: 13 entries, 0 to 12\n",
      "Data columns (total 35 columns):\n",
      " #   Column                   Non-Null Count  Dtype   \n",
      "---  ------                   --------------  -----   \n",
      " 0   date                     13 non-null     object  \n",
      " 1   home_time                13 non-null     float64 \n",
      " 2   school_time              13 non-null     float64 \n",
      " 3   orthers                  13 non-null     float64 \n",
      " 4   travel_time              13 non-null     float64 \n",
      " 5   shopping                 13 non-null     float64 \n",
      " 6   recreational_activities  13 non-null     float64 \n",
      " 7   working                  13 non-null     float64 \n",
      " 8   date_in_week             13 non-null     float64 \n",
      " 9   skip_class               13 non-null     float64 \n",
      " 10  class_schedule           13 non-null     float64 \n",
      " 11  volunteer                13 non-null     float64 \n",
      " 12  location_names           13 non-null     object  \n",
      " 13  conv_dur_sum             13 non-null     float64 \n",
      " 14  conv_max                 13 non-null     float64 \n",
      " 15  conv_min                 13 non-null     float64 \n",
      " 16  conv_mean                13 non-null     float64 \n",
      " 17  conv_std                 13 non-null     float64 \n",
      " 18  conv_25%                 13 non-null     float64 \n",
      " 19  conv_med or 50%          13 non-null     float64 \n",
      " 20  conv_75%                 13 non-null     float64 \n",
      " 21  conv_freq                13 non-null     float64 \n",
      " 22  conv_level               13 non-null     float64 \n",
      " 23  dur_sum                  13 non-null     float64 \n",
      " 24  max                      13 non-null     float64 \n",
      " 25  min                      13 non-null     float64 \n",
      " 26  mean                     13 non-null     float64 \n",
      " 27  std                      13 non-null     float64 \n",
      " 28  25%                      13 non-null     float64 \n",
      " 29  med or 50%               13 non-null     float64 \n",
      " 30  75%                      13 non-null     float64 \n",
      " 31  freq                     13 non-null     float64 \n",
      " 32  level                    13 non-null     category\n",
      " 33  week                     13 non-null     int64   \n",
      " 34  None_school_time         13 non-null     float64 \n",
      "dtypes: category(1), float64(31), int64(1), object(2)\n",
      "memory usage: 3.7+ KB\n",
      "None\n",
      "date                       0\n",
      "home_time                  0\n",
      "school_time                0\n",
      "orthers                    0\n",
      "travel_time                0\n",
      "shopping                   0\n",
      "recreational_activities    0\n",
      "working                    0\n",
      "date_in_week               0\n",
      "skip_class                 0\n",
      "class_schedule             0\n",
      "volunteer                  0\n",
      "location_names             0\n",
      "conv_dur_sum               0\n",
      "conv_max                   0\n",
      "conv_min                   0\n",
      "conv_mean                  0\n",
      "conv_std                   0\n",
      "conv_25%                   0\n",
      "conv_med or 50%            0\n",
      "conv_75%                   0\n",
      "conv_freq                  0\n",
      "conv_level                 0\n",
      "dur_sum                    0\n",
      "max                        0\n",
      "min                        0\n",
      "mean                       0\n",
      "std                        0\n",
      "25%                        0\n",
      "med or 50%                 0\n",
      "75%                        0\n",
      "freq                       0\n",
      "level                      0\n",
      "week                       0\n",
      "None_school_time           0\n",
      "dtype: int64\n"
     ]
    },
    {
     "data": {
      "text/plain": [
       "array([0, 1])"
      ]
     },
     "execution_count": 46,
     "metadata": {},
     "output_type": "execute_result"
    }
   ],
   "source": [
    "print(df.info())\n",
    "df=df.dropna()\n",
    "print(df.isna().sum())\n",
    "df['week']=df['week'].astype(int)\n",
    "X=df.drop(['level','date','location_names','volunteer'],axis=1)\n",
    "y=df['level']\n",
    "# y=y.fillna(y.median())\n",
    "y=y.astype(int)\n",
    "# y=y.apply(lambda x:group_stress(x))\n",
    "y.unique()"
   ]
  },
  {
   "cell_type": "code",
   "execution_count": 47,
   "id": "7a5df73d",
   "metadata": {},
   "outputs": [
    {
     "name": "stdout",
     "output_type": "stream",
     "text": [
      "<class 'pandas.core.frame.DataFrame'>\n",
      "RangeIndex: 13 entries, 0 to 12\n",
      "Data columns (total 31 columns):\n",
      " #   Column                   Non-Null Count  Dtype  \n",
      "---  ------                   --------------  -----  \n",
      " 0   home_time                13 non-null     float64\n",
      " 1   school_time              13 non-null     float64\n",
      " 2   orthers                  13 non-null     float64\n",
      " 3   travel_time              13 non-null     float64\n",
      " 4   shopping                 13 non-null     float64\n",
      " 5   recreational_activities  13 non-null     float64\n",
      " 6   working                  13 non-null     float64\n",
      " 7   date_in_week             13 non-null     float64\n",
      " 8   skip_class               13 non-null     float64\n",
      " 9   class_schedule           13 non-null     float64\n",
      " 10  conv_dur_sum             13 non-null     float64\n",
      " 11  conv_max                 13 non-null     float64\n",
      " 12  conv_min                 13 non-null     float64\n",
      " 13  conv_mean                13 non-null     float64\n",
      " 14  conv_std                 13 non-null     float64\n",
      " 15  conv_25%                 13 non-null     float64\n",
      " 16  conv_med or 50%          13 non-null     float64\n",
      " 17  conv_75%                 13 non-null     float64\n",
      " 18  conv_freq                13 non-null     float64\n",
      " 19  conv_level               13 non-null     float64\n",
      " 20  dur_sum                  13 non-null     float64\n",
      " 21  max                      13 non-null     float64\n",
      " 22  min                      13 non-null     float64\n",
      " 23  mean                     13 non-null     float64\n",
      " 24  std                      13 non-null     float64\n",
      " 25  25%                      13 non-null     float64\n",
      " 26  med or 50%               13 non-null     float64\n",
      " 27  75%                      13 non-null     float64\n",
      " 28  freq                     13 non-null     float64\n",
      " 29  week                     13 non-null     int64  \n",
      " 30  None_school_time         13 non-null     float64\n",
      "dtypes: float64(30), int64(1)\n",
      "memory usage: 3.3 KB\n"
     ]
    }
   ],
   "source": [
    "X.info()"
   ]
  },
  {
   "cell_type": "code",
   "execution_count": 48,
   "id": "13d6c6b9",
   "metadata": {},
   "outputs": [
    {
     "name": "stdout",
     "output_type": "stream",
     "text": [
      "<class 'pandas.core.series.Series'>\n",
      "RangeIndex: 13 entries, 0 to 12\n",
      "Series name: level\n",
      "Non-Null Count  Dtype\n",
      "--------------  -----\n",
      "13 non-null     int64\n",
      "dtypes: int64(1)\n",
      "memory usage: 232.0 bytes\n"
     ]
    }
   ],
   "source": [
    "y.info()"
   ]
  },
  {
   "cell_type": "code",
   "execution_count": 49,
   "id": "500d997b",
   "metadata": {},
   "outputs": [
    {
     "data": {
      "text/plain": [
       "(13, 31)"
      ]
     },
     "execution_count": 49,
     "metadata": {},
     "output_type": "execute_result"
    }
   ],
   "source": [
    "from sklearn.preprocessing import StandardScaler\n",
    "from sklearn.model_selection import train_test_split\n",
    "scaler = StandardScaler()\n",
    "\n",
    "X_train, X_vad, y_train, y_vad = train_test_split(X, y, test_size=0.2, random_state=42)\n",
    "X_train_ML, X_vad_ML, y_train_ML, y_vad_ML= X_train, X_vad, y_train, y_vad\n",
    "\n",
    "# X_train = scaler.fit_transform(X_train)\n",
    "\n",
    "# X_vad = scaler.fit_transform(X_vad)\n",
    "X.shape\n"
   ]
  },
  {
   "cell_type": "code",
   "execution_count": 50,
   "id": "abeae59f",
   "metadata": {},
   "outputs": [
    {
     "data": {
      "text/plain": [
       "array([0, 1])"
      ]
     },
     "execution_count": 50,
     "metadata": {},
     "output_type": "execute_result"
    }
   ],
   "source": [
    "y.unique()"
   ]
  },
  {
   "cell_type": "code",
   "execution_count": 51,
   "id": "502d31a7",
   "metadata": {},
   "outputs": [
    {
     "data": {
      "text/plain": [
       "count    13.000000\n",
       "mean      0.076923\n",
       "std       0.277350\n",
       "min       0.000000\n",
       "25%       0.000000\n",
       "50%       0.000000\n",
       "75%       0.000000\n",
       "max       1.000000\n",
       "Name: level, dtype: float64"
      ]
     },
     "execution_count": 51,
     "metadata": {},
     "output_type": "execute_result"
    }
   ],
   "source": [
    "y.describe()"
   ]
  },
  {
   "cell_type": "code",
   "execution_count": 52,
   "id": "5fd7d22a",
   "metadata": {},
   "outputs": [],
   "source": [
    "from imblearn.over_sampling import ADASYN\n",
    "ada = ADASYN(random_state=42)\n",
    "\n",
    "X_train_ada, X_vad_ada, y_train_ada, y_vad_ada = train_test_split(X, y, test_size=0.2, random_state=42)"
   ]
  },
  {
   "cell_type": "code",
   "execution_count": null,
   "id": "dc9f7106",
   "metadata": {},
   "outputs": [],
   "source": []
  },
  {
   "cell_type": "markdown",
   "id": "89f21eb5",
   "metadata": {},
   "source": [
    "# ADASYN"
   ]
  },
  {
   "cell_type": "code",
   "execution_count": 53,
   "id": "a7efd37d",
   "metadata": {
    "scrolled": false
   },
   "outputs": [
    {
     "ename": "ValueError",
     "evalue": "Expected n_neighbors <= n_samples,  but n_samples = 1, n_neighbors = 6",
     "output_type": "error",
     "traceback": [
      "\u001b[0;31m---------------------------------------------------------------------------\u001b[0m",
      "\u001b[0;31mValueError\u001b[0m                                Traceback (most recent call last)",
      "Cell \u001b[0;32mIn[53], line 1\u001b[0m\n\u001b[0;32m----> 1\u001b[0m X_train_ada, y_train_ada \u001b[38;5;241m=\u001b[39m \u001b[43mada\u001b[49m\u001b[38;5;241;43m.\u001b[39;49m\u001b[43mfit_resample\u001b[49m\u001b[43m(\u001b[49m\u001b[43mX_train_ada\u001b[49m\u001b[43m,\u001b[49m\u001b[43m \u001b[49m\u001b[43my_train_ada\u001b[49m\u001b[43m)\u001b[49m\n\u001b[1;32m      2\u001b[0m model_ada\u001b[38;5;241m=\u001b[39mRandomForestClassifier(random_state\u001b[38;5;241m=\u001b[39m\u001b[38;5;241m10\u001b[39m)\n\u001b[1;32m      3\u001b[0m model_ada\u001b[38;5;241m.\u001b[39mfit(X_train_ada,y_train_ada)\n",
      "File \u001b[0;32m~/anaconda3/lib/python3.10/site-packages/imblearn/base.py:208\u001b[0m, in \u001b[0;36mBaseSampler.fit_resample\u001b[0;34m(self, X, y)\u001b[0m\n\u001b[1;32m    187\u001b[0m \u001b[38;5;250m\u001b[39m\u001b[38;5;124;03m\"\"\"Resample the dataset.\u001b[39;00m\n\u001b[1;32m    188\u001b[0m \n\u001b[1;32m    189\u001b[0m \u001b[38;5;124;03mParameters\u001b[39;00m\n\u001b[0;32m   (...)\u001b[0m\n\u001b[1;32m    205\u001b[0m \u001b[38;5;124;03m    The corresponding label of `X_resampled`.\u001b[39;00m\n\u001b[1;32m    206\u001b[0m \u001b[38;5;124;03m\"\"\"\u001b[39;00m\n\u001b[1;32m    207\u001b[0m \u001b[38;5;28mself\u001b[39m\u001b[38;5;241m.\u001b[39m_validate_params()\n\u001b[0;32m--> 208\u001b[0m \u001b[38;5;28;01mreturn\u001b[39;00m \u001b[38;5;28;43msuper\u001b[39;49m\u001b[43m(\u001b[49m\u001b[43m)\u001b[49m\u001b[38;5;241;43m.\u001b[39;49m\u001b[43mfit_resample\u001b[49m\u001b[43m(\u001b[49m\u001b[43mX\u001b[49m\u001b[43m,\u001b[49m\u001b[43m \u001b[49m\u001b[43my\u001b[49m\u001b[43m)\u001b[49m\n",
      "File \u001b[0;32m~/anaconda3/lib/python3.10/site-packages/imblearn/base.py:112\u001b[0m, in \u001b[0;36mSamplerMixin.fit_resample\u001b[0;34m(self, X, y)\u001b[0m\n\u001b[1;32m    106\u001b[0m X, y, binarize_y \u001b[38;5;241m=\u001b[39m \u001b[38;5;28mself\u001b[39m\u001b[38;5;241m.\u001b[39m_check_X_y(X, y)\n\u001b[1;32m    108\u001b[0m \u001b[38;5;28mself\u001b[39m\u001b[38;5;241m.\u001b[39msampling_strategy_ \u001b[38;5;241m=\u001b[39m check_sampling_strategy(\n\u001b[1;32m    109\u001b[0m     \u001b[38;5;28mself\u001b[39m\u001b[38;5;241m.\u001b[39msampling_strategy, y, \u001b[38;5;28mself\u001b[39m\u001b[38;5;241m.\u001b[39m_sampling_type\n\u001b[1;32m    110\u001b[0m )\n\u001b[0;32m--> 112\u001b[0m output \u001b[38;5;241m=\u001b[39m \u001b[38;5;28;43mself\u001b[39;49m\u001b[38;5;241;43m.\u001b[39;49m\u001b[43m_fit_resample\u001b[49m\u001b[43m(\u001b[49m\u001b[43mX\u001b[49m\u001b[43m,\u001b[49m\u001b[43m \u001b[49m\u001b[43my\u001b[49m\u001b[43m)\u001b[49m\n\u001b[1;32m    114\u001b[0m y_ \u001b[38;5;241m=\u001b[39m (\n\u001b[1;32m    115\u001b[0m     label_binarize(output[\u001b[38;5;241m1\u001b[39m], classes\u001b[38;5;241m=\u001b[39mnp\u001b[38;5;241m.\u001b[39munique(y)) \u001b[38;5;28;01mif\u001b[39;00m binarize_y \u001b[38;5;28;01melse\u001b[39;00m output[\u001b[38;5;241m1\u001b[39m]\n\u001b[1;32m    116\u001b[0m )\n\u001b[1;32m    118\u001b[0m X_, y_ \u001b[38;5;241m=\u001b[39m arrays_transformer\u001b[38;5;241m.\u001b[39mtransform(output[\u001b[38;5;241m0\u001b[39m], y_)\n",
      "File \u001b[0;32m~/anaconda3/lib/python3.10/site-packages/imblearn/over_sampling/_adasyn.py:202\u001b[0m, in \u001b[0;36mADASYN._fit_resample\u001b[0;34m(self, X, y)\u001b[0m\n\u001b[1;32m    199\u001b[0m \u001b[38;5;66;03m# the nearest neighbors need to be fitted only on the current class\u001b[39;00m\n\u001b[1;32m    200\u001b[0m \u001b[38;5;66;03m# to find the class NN to generate new samples\u001b[39;00m\n\u001b[1;32m    201\u001b[0m \u001b[38;5;28mself\u001b[39m\u001b[38;5;241m.\u001b[39mnn_\u001b[38;5;241m.\u001b[39mfit(X_class)\n\u001b[0;32m--> 202\u001b[0m nns \u001b[38;5;241m=\u001b[39m \u001b[38;5;28;43mself\u001b[39;49m\u001b[38;5;241;43m.\u001b[39;49m\u001b[43mnn_\u001b[49m\u001b[38;5;241;43m.\u001b[39;49m\u001b[43mkneighbors\u001b[49m\u001b[43m(\u001b[49m\u001b[43mX_class\u001b[49m\u001b[43m,\u001b[49m\u001b[43m \u001b[49m\u001b[43mreturn_distance\u001b[49m\u001b[38;5;241;43m=\u001b[39;49m\u001b[38;5;28;43;01mFalse\u001b[39;49;00m\u001b[43m)\u001b[49m[:, \u001b[38;5;241m1\u001b[39m:]\n\u001b[1;32m    204\u001b[0m enumerated_class_indices \u001b[38;5;241m=\u001b[39m np\u001b[38;5;241m.\u001b[39marange(\u001b[38;5;28mlen\u001b[39m(target_class_indices))\n\u001b[1;32m    205\u001b[0m rows \u001b[38;5;241m=\u001b[39m np\u001b[38;5;241m.\u001b[39mrepeat(enumerated_class_indices, n_samples_generate)\n",
      "File \u001b[0;32m~/anaconda3/lib/python3.10/site-packages/sklearn/neighbors/_base.py:808\u001b[0m, in \u001b[0;36mKNeighborsMixin.kneighbors\u001b[0;34m(self, X, n_neighbors, return_distance)\u001b[0m\n\u001b[1;32m    806\u001b[0m n_samples_fit \u001b[38;5;241m=\u001b[39m \u001b[38;5;28mself\u001b[39m\u001b[38;5;241m.\u001b[39mn_samples_fit_\n\u001b[1;32m    807\u001b[0m \u001b[38;5;28;01mif\u001b[39;00m n_neighbors \u001b[38;5;241m>\u001b[39m n_samples_fit:\n\u001b[0;32m--> 808\u001b[0m     \u001b[38;5;28;01mraise\u001b[39;00m \u001b[38;5;167;01mValueError\u001b[39;00m(\n\u001b[1;32m    809\u001b[0m         \u001b[38;5;124m\"\u001b[39m\u001b[38;5;124mExpected n_neighbors <= n_samples, \u001b[39m\u001b[38;5;124m\"\u001b[39m\n\u001b[1;32m    810\u001b[0m         \u001b[38;5;124m\"\u001b[39m\u001b[38;5;124m but n_samples = \u001b[39m\u001b[38;5;132;01m%d\u001b[39;00m\u001b[38;5;124m, n_neighbors = \u001b[39m\u001b[38;5;132;01m%d\u001b[39;00m\u001b[38;5;124m\"\u001b[39m \u001b[38;5;241m%\u001b[39m (n_samples_fit, n_neighbors)\n\u001b[1;32m    811\u001b[0m     )\n\u001b[1;32m    813\u001b[0m n_jobs \u001b[38;5;241m=\u001b[39m effective_n_jobs(\u001b[38;5;28mself\u001b[39m\u001b[38;5;241m.\u001b[39mn_jobs)\n\u001b[1;32m    814\u001b[0m chunked_results \u001b[38;5;241m=\u001b[39m \u001b[38;5;28;01mNone\u001b[39;00m\n",
      "\u001b[0;31mValueError\u001b[0m: Expected n_neighbors <= n_samples,  but n_samples = 1, n_neighbors = 6"
     ]
    }
   ],
   "source": [
    "X_train_ada, y_train_ada = ada.fit_resample(X_train_ada, y_train_ada)\n",
    "model_ada=RandomForestClassifier(random_state=10)\n",
    "model_ada.fit(X_train_ada,y_train_ada)\n",
    "prediction1=model_ada.predict(X_vad_ada)\n",
    "print('Accuracy for RF is ',metrics.accuracy_score(prediction1,y_vad_ada))\n",
    "ax,fig=plt.subplots(figsize=(10,10))\n",
    "conf=metrics.confusion_matrix(prediction1,y_vad_ada, normalize='true')\n",
    "print(metrics.classification_report(prediction1,y_vad_ada))\n",
    "sns.heatmap(conf,annot=True)"
   ]
  },
  {
   "cell_type": "markdown",
   "id": "adb3e11e",
   "metadata": {},
   "source": [
    "# ENN"
   ]
  },
  {
   "cell_type": "code",
   "execution_count": null,
   "id": "4e1ce536",
   "metadata": {},
   "outputs": [],
   "source": [
    "from imblearn.combine import SMOTEENN\n",
    "# oversampling the train dataset using SMOTE + ENN\n",
    "smenn = SMOTEENN()\n",
    "\n",
    "X_train_smoteenn, X_vad_smoteenn, y_train_smoteenn, y_vad_smoteenn = train_test_split(X, y, test_size=0.2, random_state=42)"
   ]
  },
  {
   "cell_type": "code",
   "execution_count": null,
   "id": "76caae88",
   "metadata": {
    "scrolled": true
   },
   "outputs": [],
   "source": [
    "X_train_smoteenn, y_train_smoteenn = smenn.fit_resample(X_train_smoteenn, y_train_smoteenn)\n",
    "model_smoteenn=RandomForestClassifier(random_state=10)\n",
    "model_smoteenn.fit(X_train_smoteenn,y_train_smoteenn)\n",
    "prediction1=model_smoteenn.predict(X_vad_smoteenn)\n",
    "print('Accuracy for RF is ',metrics.accuracy_score(prediction1,y_vad_smoteenn))\n",
    "ax,fig=plt.subplots(figsize=(10,10))\n",
    "conf=metrics.confusion_matrix(prediction1,y_vad_smoteenn, normalize='true')\n",
    "print(metrics.classification_report(prediction1,y_vad_smoteenn))\n",
    "sns.heatmap(conf,annot=True)"
   ]
  },
  {
   "cell_type": "markdown",
   "id": "f2dc03f6",
   "metadata": {},
   "source": [
    "# SMOTE"
   ]
  },
  {
   "cell_type": "code",
   "execution_count": null,
   "id": "48ec3faf",
   "metadata": {},
   "outputs": [],
   "source": [
    "from imblearn.over_sampling import SMOTE\n",
    "# oversampling the train dataset using SMOTE\n",
    "sm = SMOTE()\n",
    "X_train_smote, X_vad_smote, y_train_smote, y_vad_smote = train_test_split(X, y, test_size=0.2, random_state=42)"
   ]
  },
  {
   "cell_type": "code",
   "execution_count": null,
   "id": "579a7c80",
   "metadata": {},
   "outputs": [],
   "source": [
    "X_train_smote, y_train_smote = sm.fit_resample(X_train_smote, y_train_smote)\n",
    "\n",
    "model_smote=RandomForestClassifier(random_state=200)\n",
    "model_smote.fit(X_train_smote,y_train_smote)\n",
    "prediction1=model_smote.predict(X_vad_smote)\n",
    "print('Accuracy for RF is ',metrics.accuracy_score(prediction1,y_vad_smote))\n",
    "ax,fig=plt.subplots(figsize=(10,10))\n",
    "conf=metrics.confusion_matrix(prediction1,y_vad_smote, normalize='true')\n",
    "print(metrics.classification_report(prediction1,y_vad_smote))\n",
    "sns.heatmap(conf,annot=True)"
   ]
  },
  {
   "cell_type": "markdown",
   "id": "39a94945",
   "metadata": {},
   "source": [
    "# tomek"
   ]
  },
  {
   "cell_type": "code",
   "execution_count": null,
   "id": "262ceab3",
   "metadata": {},
   "outputs": [],
   "source": [
    "from imblearn.combine import SMOTETomek\n",
    "# oversampling the train dataset using SMOTE + ENN\n",
    "smtomek = SMOTETomek()\n",
    "\n",
    "X_train_smotetomek, X_vad_smotetomek, y_train_smotetomek, y_vad_smotetomek = train_test_split(X, y, test_size=0.2, random_state=42)"
   ]
  },
  {
   "cell_type": "code",
   "execution_count": null,
   "id": "61e64de2",
   "metadata": {},
   "outputs": [],
   "source": [
    "X_train_smotetomek, y_train_smotetomek = smtomek.fit_resample(X_train_smotetomek, y_train_smotetomek)\n",
    "model_smotetomek=RandomForestClassifier(random_state=10)\n",
    "model_smotetomek.fit(X_train_smotetomek,y_train_smotetomek)\n",
    "prediction1=model_smotetomek.predict(X_vad_smotetomek)\n",
    "print('Accuracy for RF is ',metrics.accuracy_score(prediction1,y_vad_smotetomek))\n",
    "ax,fig=plt.subplots(figsize=(10,10))\n",
    "conf=metrics.confusion_matrix(prediction1,y_vad_smotetomek, normalize='true')\n",
    "print(metrics.classification_report(prediction1,y_vad_smotetomek))\n",
    "sns.heatmap(conf,annot=True)"
   ]
  },
  {
   "cell_type": "code",
   "execution_count": null,
   "id": "1ace90fb",
   "metadata": {
    "scrolled": true
   },
   "outputs": [],
   "source": [
    "# from xgboost import XGBClassifier#XGBcalssifier\n",
    "# seed=200\n",
    "# model=XGBClassifier (use_label_encoder=False, eval_metric='logloss', random_state=seed)\n",
    "# model.fit(X_train,y_train)\n",
    "# prediction1=model.predict(X_vad)\n",
    "# print('Accuracy for XBG is ',metrics.accuracy_score(prediction1,y_vad))"
   ]
  },
  {
   "cell_type": "code",
   "execution_count": null,
   "id": "8ee8cdc2",
   "metadata": {},
   "outputs": [],
   "source": [
    "# data_smote=pd.concat([X_smoteenn, y_smoteenn],axis=1)\n",
    "# data_smote.level.value_counts()"
   ]
  },
  {
   "cell_type": "code",
   "execution_count": null,
   "id": "65689676",
   "metadata": {},
   "outputs": [],
   "source": [
    "\n",
    "# df.dropna().level.value_counts()"
   ]
  },
  {
   "cell_type": "code",
   "execution_count": null,
   "id": "769239f5",
   "metadata": {},
   "outputs": [],
   "source": [
    "# data_ada=pd.concat([X_ada, y_ada],axis=1)\n",
    "# data_ada.level.value_counts()"
   ]
  },
  {
   "cell_type": "code",
   "execution_count": null,
   "id": "d272e228",
   "metadata": {},
   "outputs": [],
   "source": [
    "model=RandomForestClassifier(random_state=10)\n",
    "model.fit(X_train,y_train)\n",
    "prediction1=model.predict(X_vad)\n",
    "print('Accuracy for RF is ',metrics.accuracy_score(prediction1,y_vad))\n",
    "ax,fig=plt.subplots(figsize=(10,10))\n",
    "conf=metrics.confusion_matrix(prediction1,y_vad, normalize='true')\n",
    "print(metrics.classification_report(prediction1,y_vad))\n",
    "sns.heatmap(conf,annot=True)"
   ]
  },
  {
   "cell_type": "code",
   "execution_count": null,
   "id": "83d63798",
   "metadata": {
    "scrolled": false
   },
   "outputs": [],
   "source": [
    "from sklearn.model_selection import KFold #for K-fold cross validation\n",
    "from sklearn.model_selection import cross_val_score #score evaluation\n",
    "from sklearn.model_selection import cross_val_predict #prediction\n",
    "from sklearn import svm #support vector Machine\n",
    "from xgboost import XGBClassifier#XGBcalssifier\n",
    "from sklearn.neighbors import KNeighborsClassifier #KNN\n",
    "seed=200\n",
    "kfold = KFold(5, shuffle=True, random_state=seed) # k=10, split the data into 10 equal parts\n",
    "\n",
    "cv_mean=[]\n",
    "accuracy=[]\n",
    "std=[]\n",
    "classifier=[]\n",
    "models=[svm.SVC(random_state=seed),RandomForestClassifier(random_state=seed),XGBClassifier ( eval_metric='logloss', random_state=seed)]\n",
    "for model in models:\n",
    "    model_name = model.__class__.__name__\n",
    "    if model_name not in(classifier):\n",
    "        classifier.append(model_name)\n",
    "    cv_result = cross_val_score(model,X, y, cv = kfold)\n",
    "    \n",
    "    cv_mean.append(round(cv_result.mean(),2))\n",
    "    std.append(round(cv_result.std(),2))\n",
    "    accuracy.append(cv_result)\n",
    "    print(model)\n",
    "new_models_dataframe=pd.DataFrame({'ML model':classifier,'accuracy_score':cv_mean,'std':std})\n",
    "new_models_dataframe=new_models_dataframe.set_index('ML model')\n",
    "new_models_dataframe"
   ]
  },
  {
   "cell_type": "code",
   "execution_count": null,
   "id": "508eb8e3",
   "metadata": {},
   "outputs": [],
   "source": [
    "from sklearn.model_selection import StratifiedKFold #for K-fold cross validation\n",
    "entries=[]\n",
    "for model in models:\n",
    "    model_name = model.__class__.__name__\n",
    "    kfold = StratifiedKFold(5, shuffle=True, random_state=seed)\n",
    "    scores = cross_val_score(model, X,y, cv=kfold)\n",
    "    for fold_idx, score in enumerate(scores):\n",
    "        entries.append([model_name, fold_idx, score])\n",
    "cv_df = pd.DataFrame(entries, columns= [ 'model_name','fold id','accuracy_score' ])\n",
    "sns.boxplot(cv_df,x='model_name',y='accuracy_score',showmeans=True)\n",
    "plt.xticks(rotation=60)"
   ]
  },
  {
   "cell_type": "code",
   "execution_count": null,
   "id": "933e723a",
   "metadata": {
    "scrolled": false
   },
   "outputs": [],
   "source": [
    "from sklearn.model_selection import StratifiedKFold #for K-fold cross validation\n",
    "for model in models:\n",
    "    model_name = f'{model.__class__.__name__} smoteenn'\n",
    "    kfold = StratifiedKFold(10, shuffle=True, random_state=seed)\n",
    "    scores = cross_val_score(model, X, y, cv=kfold)\n",
    "    for fold_idx, score in enumerate(scores):\n",
    "        entries.append([model_name, fold_idx, score])\n",
    "cv_df = pd.DataFrame(entries, columns= [ 'model_name','fold id','accuracy_score' ])\n",
    "sns.boxplot(cv_df,x='model_name',y='accuracy_score',showmeans=True)\n",
    "plt.xticks(rotation=60)"
   ]
  },
  {
   "cell_type": "code",
   "execution_count": null,
   "id": "54eaf592",
   "metadata": {},
   "outputs": [],
   "source": [
    "from sklearn.model_selection import LearningCurveDisplay, ShuffleSplit\n",
    "common_params = {\n",
    "    \"X\": X,\n",
    "    \"y\":  y,\n",
    "    \"train_sizes\": np.linspace(0.1, 1.0, 5),\n",
    "    \"cv\": ShuffleSplit(n_splits=50, test_size=0.2, random_state=0),\n",
    "    \"score_type\": \"both\",\n",
    "    \"n_jobs\": 4,\n",
    "    \"line_kw\": {\"marker\": \"o\"},\n",
    "    \"std_display_style\": \"fill_between\",\n",
    "    \"score_name\": \"Accuracy\",\n",
    "}\n",
    "fig, ax = plt.subplots(nrows=1, ncols=2, figsize=(10, 6), sharey=True)\n",
    "rf=RandomForestClassifier(random_state=seed)\n",
    "xgb=XGBClassifier ( eval_metric='logloss', random_state=seed)\n",
    "for ax_idx, estimator in enumerate([rf, xgb]):\n",
    "    LearningCurveDisplay.from_estimator(estimator, **common_params, ax=ax[ax_idx])\n",
    "    handles, label = ax[ax_idx].get_legend_handles_labels()\n",
    "    ax[ax_idx].legend(handles[:2], [\"Training Score\", \"Test Score\"])\n",
    "    ax[ax_idx].set_title(f\"Learning Curve for {estimator.__class__.__name__}\")"
   ]
  },
  {
   "cell_type": "code",
   "execution_count": null,
   "id": "ec344e64",
   "metadata": {},
   "outputs": [],
   "source": [
    "X_enn,y_enn=smenn.fit_resample(X, y)\n",
    "from sklearn.metrics import RocCurveDisplay\n",
    "from sklearn.metrics import confusion_matrix,roc_auc_score, roc_curve,auc #for confusion matrix\n",
    "from sklearn.model_selection import StratifiedKFold\n",
    "from sklearn.model_selection import KFold\n",
    "name_col=[]\n",
    "names=[]\n",
    "tpr=[]\n",
    "fpr=[]\n",
    "index=[]\n",
    "AUROC=[]\n",
    "tprs=[]\n",
    "fprs=[]\n",
    "\n",
    "def get_tpr_fpr(true_y, y_prob, tprs, fprs):\n",
    "#     \"\"\"\n",
    "#     plots the roc curve based of the probabilities\n",
    "#     \"\"\"\n",
    "    true_y=true_y.values\n",
    "\n",
    "    fpr, tpr, thresholds = roc_curve(true_y, y_prob,pos_label=1)\n",
    "#     plt.plot(fpr, tpr)\n",
    "#     plt.xlabel('False Positive Rate')\n",
    "#     plt.ylabel('True Positive Rate')\n",
    "    \n",
    "\n",
    "    tprs.append(tpr)\n",
    "\n",
    "    fprs.append(fpr)\n",
    "    return fprs, tprs\n",
    "\n",
    "# ax,fig=plt.subplots(figsize=(30,20))\n",
    "\n",
    "for model in models:\n",
    "#     try:\n",
    "    print(model)\n",
    "\n",
    "    kfold = StratifiedKFold(10, shuffle=True, random_state=seed)\n",
    "#     kfold = KFold(n=len(y), n_folds=10)\n",
    "    \n",
    "\n",
    "    for i, (train, test) in enumerate(kfold.split(X_enn,y_enn)):\n",
    "        \n",
    "        model.fit(X_enn.iloc[train],y_enn.iloc[train])\n",
    "        y_pre=model.predict(X_enn)\n",
    "        print(len(y_enn.values))\n",
    "        print(len(y_pre))\n",
    "\n",
    "        a=get_tpr_fpr(y_enn,y_pre,tpr,fpr)\n",
    "\n",
    "        name=model.__class__.__name__\n",
    "        names.append(name)\n",
    "        name_col.append(model.__class__.__name__)\n",
    "        tpr=a[1]\n",
    "        fpr=a[0]\n",
    "        index.append(i)\n",
    "        \n",
    "        \n",
    "#     except:pass\n",
    "\n",
    "\n",
    "# plt.legend(names)\n",
    "model_result=pd.DataFrame({'id': index,'model':name_col,'tpr':tpr,'fpr':fpr})\n",
    "model_result['tpr_value']=model_result['tpr'].apply(np.mean)\n",
    "model_result['fpr_value']=model_result['fpr'].apply(np.mean)\n",
    "\n",
    "model_result_grouped=model_result.groupby('model')[['tpr','fpr']].mean()\n",
    "model_result_grouped_std=model_result.groupby('model')[['tpr_value','fpr_value']].std()\n",
    "model_result_grouped_std=model_result_grouped_std.rename(columns={'tpr_value':'tpr_std',\n",
    "                                                                 'fpr_value':'fpr_std'})\n",
    "\n",
    "model_result_grouped=pd.concat([model_result_grouped,model_result_grouped_std],axis=1)\n",
    "model_result_grouped=model_result_grouped[['tpr', 'tpr_std', 'fpr', 'fpr_std']]\n"
   ]
  },
  {
   "cell_type": "code",
   "execution_count": null,
   "id": "7a152b06",
   "metadata": {},
   "outputs": [],
   "source": [
    "def roc_curve(tpr,fpr):\n",
    "    plt.plot(fpr, tpr)\n",
    "    plt.xlabel('False Positive Rate')\n",
    "    plt.ylabel('True Positive Rate')\n",
    "sns.set(font_scale=1)\n",
    "model_result_grouped.apply(lambda x:roc_curve(x['tpr'],x['fpr']),axis=1)\n",
    "plt.title('full ROC curve')\n",
    "plt.legend(model_result_grouped.index.values)\n",
    "\n",
    "plt.savefig(f'../image/ROC curve.png')"
   ]
  },
  {
   "cell_type": "code",
   "execution_count": null,
   "id": "2308b2be",
   "metadata": {},
   "outputs": [],
   "source": [
    "model_result_grouped['tpr']=model_result_grouped['tpr'].apply(np.mean)\n",
    "model_result_grouped['fpr']=model_result_grouped['fpr'].apply(np.mean)\n",
    "model_result_grouped"
   ]
  },
  {
   "cell_type": "code",
   "execution_count": null,
   "id": "a01a1bfc",
   "metadata": {},
   "outputs": [],
   "source": [
    "from sklearn.model_selection import KFold\n",
    "from imblearn.over_sampling import SMOTE\n",
    "from sklearn.metrics import f1_score\n",
    "\n",
    "kf = KFold(n_splits=10)\n",
    "\n",
    "for fold, (train_index, test_index) in enumerate(kf.split(X), 1):\n",
    "    X_train = X.iloc[train_index]\n",
    "    y_train = y.iloc[train_index]  # Based on your code, you might need a ravel call here, but I would look into how you're generating your y\n",
    "    X_test = X.iloc[test_index]\n",
    "    y_test = y.iloc[test_index]  # See comment on ravel and  y_train\n",
    "    sm = SMOTE()\n",
    "    X_train_oversampled, y_train_oversampled = sm.fit_resample(X_train, y_train)\n",
    "    model = RandomForestClassifier(random_state=200) # Choose a model here\n",
    "    model.fit(X_train_oversampled, y_train_oversampled )  \n",
    "    y_pred = model.predict(X_test)\n",
    "    print(f'For fold {fold}:')\n",
    "    print(f'Accuracy: {model.score(X_test, y_test)}')\n",
    "    print(f'f-score: {f1_score(y_test, y_pred,average=None)}')"
   ]
  },
  {
   "cell_type": "code",
   "execution_count": null,
   "id": "d82f71b9",
   "metadata": {},
   "outputs": [],
   "source": [
    "from sklearn.model_selection import StratifiedKFold #for K-fold cross validation\n",
    "entries=[]\n",
    "for model in models:\n",
    "    model_name = model.__class__.__name__\n",
    "    kfold = StratifiedKFold(10, shuffle=True, random_state=seed)\n",
    "    scores =[]\n",
    "    for fold, (train_index, test_index) in enumerate(kf.split(X), 1):\n",
    "        X_train = X.iloc[train_index]\n",
    "        y_train = y.iloc[train_index]  # Based on your code, you might need a ravel call here, but I would look into how you're generating your y\n",
    "        X_test = X.iloc[test_index]\n",
    "        y_test = y.iloc[test_index]  # See comment on ravel and  y_train\n",
    "        sm = SMOTE()\n",
    "        X_train_oversampled, y_train_oversampled = sm.fit_resample(X_train, y_train)\n",
    "        scores.append(model.score(X_test, y_test))\n",
    "    for fold_idx, score in enumerate(scores):\n",
    "        entries.append([model_name, fold_idx, score])\n",
    "cv_df = pd.DataFrame(entries, columns= [ 'model_name','fold id','accuracy_score' ])\n",
    "sns.boxplot(cv_df,x='model_name',y='accuracy_score',showmeans=True)\n",
    "plt.xticks(rotation=60)"
   ]
  },
  {
   "cell_type": "code",
   "execution_count": null,
   "id": "bb12b283",
   "metadata": {},
   "outputs": [],
   "source": []
  },
  {
   "cell_type": "code",
   "execution_count": null,
   "id": "3caba411",
   "metadata": {},
   "outputs": [],
   "source": []
  },
  {
   "cell_type": "code",
   "execution_count": null,
   "id": "f3d6b3e5",
   "metadata": {},
   "outputs": [],
   "source": []
  },
  {
   "cell_type": "code",
   "execution_count": null,
   "id": "d92bfc2c",
   "metadata": {},
   "outputs": [],
   "source": [
    "import shap\n",
    "shap.initjs()\n",
    "\n",
    "# Create the explainer\n",
    "explainer1 = shap.TreeExplainer(model_smoteenn)\n",
    "\n",
    "shap_values = explainer1.shap_values(X_vad)\n",
    "print(\"Variable Importance Plot - Global Interpretation\")\n",
    "figure = plt.figure()\n",
    "shap.summary_plot(shap_values[1], X_vad)\n"
   ]
  },
  {
   "cell_type": "code",
   "execution_count": null,
   "id": "59a8dfc6",
   "metadata": {},
   "outputs": [],
   "source": [
    "X_vad"
   ]
  },
  {
   "cell_type": "code",
   "execution_count": null,
   "id": "caa3f828",
   "metadata": {
    "scrolled": false
   },
   "outputs": [],
   "source": [
    "shap.summary_plot(shap_values[0], X_vad)"
   ]
  },
  {
   "cell_type": "code",
   "execution_count": null,
   "id": "2f483086",
   "metadata": {},
   "outputs": [],
   "source": [
    "shap.summary_plot(shap_values[1], X_vad)"
   ]
  },
  {
   "cell_type": "code",
   "execution_count": null,
   "id": "a91ccf6a",
   "metadata": {},
   "outputs": [],
   "source": [
    "# shap.summary_plot(shap_values[2], X_vad)"
   ]
  },
  {
   "cell_type": "code",
   "execution_count": null,
   "id": "f027391c",
   "metadata": {
    "scrolled": false
   },
   "outputs": [],
   "source": [
    "\n",
    "shap.summary_plot(shap_values, X_vad,show=False,max_display=40)\n",
    "plt.show()\n",
    "plt.savefig('../image/shap_result.pdf')"
   ]
  },
  {
   "cell_type": "code",
   "execution_count": null,
   "id": "f0d456de",
   "metadata": {},
   "outputs": [],
   "source": []
  },
  {
   "cell_type": "code",
   "execution_count": null,
   "id": "579860fd",
   "metadata": {},
   "outputs": [],
   "source": [
    "shap. dependence_plot('week', shap_values[1], X_vad, interaction_index=\"skip_class\",alpha=0.5)"
   ]
  },
  {
   "cell_type": "code",
   "execution_count": null,
   "id": "3201b311",
   "metadata": {},
   "outputs": [],
   "source": [
    "explainer = shap.Explainer(model_ada.predict, X_train)\n",
    "\n",
    "shap_values_explain = explainer(X_vad)"
   ]
  },
  {
   "cell_type": "code",
   "execution_count": null,
   "id": "0d216e5b",
   "metadata": {
    "scrolled": true
   },
   "outputs": [],
   "source": [
    "shap.plots.bar(shap_values_explain,max_display=40)"
   ]
  },
  {
   "cell_type": "code",
   "execution_count": null,
   "id": "b6144d6c",
   "metadata": {},
   "outputs": [],
   "source": [
    "plot=shap.plots.waterfall(shap_values_explain[149])\n",
    "plot"
   ]
  },
  {
   "cell_type": "code",
   "execution_count": null,
   "id": "47afaa88",
   "metadata": {},
   "outputs": [],
   "source": [
    "plot=shap.plots.force(shap_values_explain)\n",
    "shap.save_html('my_force_plot.html',plot)\n",
    "plot"
   ]
  },
  {
   "cell_type": "code",
   "execution_count": null,
   "id": "d1430102",
   "metadata": {},
   "outputs": [],
   "source": [
    "shap.plots.beeswarm(shap_values_explain)"
   ]
  },
  {
   "cell_type": "code",
   "execution_count": null,
   "id": "8993801a",
   "metadata": {},
   "outputs": [],
   "source": [
    "shap.plots.scatter(shap_values_explain[:,\"home_time\"],\n",
    "                   color=shap_values_explain[:,\"school_time\" ])"
   ]
  },
  {
   "cell_type": "code",
   "execution_count": null,
   "id": "41271d37",
   "metadata": {},
   "outputs": [],
   "source": [
    "shap.plots.waterfall(shap_values_explain[1])"
   ]
  },
  {
   "cell_type": "code",
   "execution_count": null,
   "id": "d219fd37",
   "metadata": {},
   "outputs": [],
   "source": [
    "shap.plots.waterfall(shap_values_explain[0])"
   ]
  },
  {
   "cell_type": "code",
   "execution_count": null,
   "id": "67da7486",
   "metadata": {},
   "outputs": [],
   "source": [
    "shap.plots.scatter(shap_values_explain[:, \"cut_class\"])"
   ]
  },
  {
   "cell_type": "code",
   "execution_count": null,
   "id": "9ef1c1d2",
   "metadata": {},
   "outputs": [],
   "source": [
    "shap.plots.scatter(shap_values_explain[:, \"school_time\"])"
   ]
  },
  {
   "cell_type": "code",
   "execution_count": null,
   "id": "e83d3867",
   "metadata": {},
   "outputs": [],
   "source": [
    "shap.plots.scatter(shap_values_explain[:, \"None_school_time\"])"
   ]
  },
  {
   "cell_type": "code",
   "execution_count": null,
   "id": "6fc02ad0",
   "metadata": {},
   "outputs": [],
   "source": [
    "shap.plots.scatter(shap_values_explain[:, \"home_time\"])"
   ]
  },
  {
   "cell_type": "code",
   "execution_count": null,
   "id": "e526e0c2",
   "metadata": {},
   "outputs": [],
   "source": [
    "shap.plots.scatter(shap_values_explain[:, \"recreational_activities\"])"
   ]
  },
  {
   "cell_type": "code",
   "execution_count": null,
   "id": "46cb6252",
   "metadata": {},
   "outputs": [],
   "source": [
    "shap.plots.scatter(shap_values_explain)"
   ]
  },
  {
   "cell_type": "code",
   "execution_count": null,
   "id": "0d5a8cab",
   "metadata": {},
   "outputs": [],
   "source": []
  },
  {
   "cell_type": "code",
   "execution_count": null,
   "id": "1f30765a",
   "metadata": {},
   "outputs": [],
   "source": []
  },
  {
   "cell_type": "code",
   "execution_count": null,
   "id": "7b6e8f2d",
   "metadata": {},
   "outputs": [],
   "source": []
  },
  {
   "cell_type": "code",
   "execution_count": null,
   "id": "2bfe306b",
   "metadata": {},
   "outputs": [],
   "source": []
  },
  {
   "cell_type": "code",
   "execution_count": null,
   "id": "7ad30e25",
   "metadata": {},
   "outputs": [],
   "source": []
  },
  {
   "cell_type": "code",
   "execution_count": null,
   "id": "ef971f75",
   "metadata": {},
   "outputs": [],
   "source": []
  },
  {
   "cell_type": "code",
   "execution_count": null,
   "id": "a768e3d5",
   "metadata": {},
   "outputs": [],
   "source": [
    "# model=KNeighborsClassifier(n_neighbors=9)\n",
    "# model.fit(X_train,y_train)\n",
    "# prediction1=model.predict(X_vad)\n",
    "# print('Accuracy for KN is ',metrics.accuracy_score(prediction1,y_vad))\n",
    "# ax,fig=plt.subplots(figsize=(10,10))\n",
    "# conf=metrics.confusion_matrix(prediction1,y_vad)\n",
    "# sns.heatmap(conf,annot=True)"
   ]
  },
  {
   "cell_type": "code",
   "execution_count": null,
   "id": "17b7d66d",
   "metadata": {},
   "outputs": [],
   "source": [
    "# model=LogisticRegression()\n",
    "# model.fit(X_train,y_train)\n",
    "# prediction1=model.predict(X_vad)\n",
    "# print('Accuracy for LR is ',metrics.accuracy_score(prediction1,y_vad))\n",
    "# ax,fig=plt.subplots(figsize=(10,10))\n",
    "# conf=metrics.confusion_matrix(prediction1,y_vad)\n",
    "# sns.heatmap(conf,annot=True)"
   ]
  },
  {
   "cell_type": "code",
   "execution_count": null,
   "id": "486dc3a4",
   "metadata": {},
   "outputs": [],
   "source": [
    "# from sklearn import svm #support vector Machine\n",
    "# model=svm.SVC(kernel='rbf',C=1,gamma=0.1)\n",
    "# model.fit(X_train,y_train)\n",
    "# prediction1=model.predict(X_vad)\n",
    "# print('Accuracy for SVM is ',metrics.accuracy_score(prediction1,y_vad))\n",
    "# ax,fig=plt.subplots(figsize=(10,10))\n",
    "# conf=metrics.confusion_matrix(prediction1,y_vad)\n",
    "# sns.heatmap(conf,annot=True)"
   ]
  }
 ],
 "metadata": {
  "kernelspec": {
   "display_name": "Python 3 (ipykernel)",
   "language": "python",
   "name": "python3"
  },
  "language_info": {
   "codemirror_mode": {
    "name": "ipython",
    "version": 3
   },
   "file_extension": ".py",
   "mimetype": "text/x-python",
   "name": "python",
   "nbconvert_exporter": "python",
   "pygments_lexer": "ipython3",
   "version": "3.10.9"
  }
 },
 "nbformat": 4,
 "nbformat_minor": 5
}
