{
 "cells": [
  {
   "cell_type": "code",
   "execution_count": 1,
   "id": "fe45b39d",
   "metadata": {},
   "outputs": [],
   "source": [
    "import pandas as pd\n",
    "import numpy as np\n",
    "import seaborn as sns\n",
    "import matplotlib.pyplot as plt\n",
    "import os\n",
    "from datetime import datetime"
   ]
  },
  {
   "cell_type": "code",
   "execution_count": 2,
   "id": "94fa9a96",
   "metadata": {},
   "outputs": [
    {
     "data": {
      "text/plain": [
       "['37_data.csv',\n",
       " '36_data.csv',\n",
       " '6_data.csv',\n",
       " '57_data.csv',\n",
       " '20_data.csv',\n",
       " '21_data.csv',\n",
       " '14_data.csv',\n",
       " '15_data.csv',\n",
       " '19_data.csv',\n",
       " '18_data.csv',\n",
       " '50_data.csv',\n",
       " '51_data.csv',\n",
       " '1_data.csv',\n",
       " '26_data.csv',\n",
       " '13_data.csv',\n",
       " '47_data.csv',\n",
       " '46_data.csv',\n",
       " '31_data.csv',\n",
       " '17_data.csv',\n",
       " '16_data.csv',\n",
       " '28_data.csv',\n",
       " '5_data.csv',\n",
       " '4_data.csv',\n",
       " '54_data.csv',\n",
       " '55_data.csv',\n",
       " '23_data.csv',\n",
       " '48_data.csv',\n",
       " '43_data.csv',\n",
       " '42_data.csv',\n",
       " '34_data.csv',\n",
       " '35_data.csv',\n",
       " '44_data.csv',\n",
       " '45_data.csv',\n",
       " '33_data.csv',\n",
       " '32_data.csv',\n",
       " '8_data.csv',\n",
       " '9_data.csv',\n",
       " '59_data.csv',\n",
       " '58_data.csv',\n",
       " '10_data.csv',\n",
       " '11_data.csv',\n",
       " '53_data.csv',\n",
       " '52_data.csv',\n",
       " '2_data.csv',\n",
       " '3_data.csv',\n",
       " '24_data.csv',\n",
       " '25_data.csv']"
      ]
     },
     "execution_count": 2,
     "metadata": {},
     "output_type": "execute_result"
    }
   ],
   "source": [
    "all_file=os.listdir('./')\n",
    "file=[]\n",
    "for each_file in all_file:\n",
    "    try:\n",
    "        if  each_file.split('.')[1]=='csv':\n",
    "            file.append(each_file)\n",
    "    except: continue\n",
    "file"
   ]
  },
  {
   "cell_type": "code",
   "execution_count": 3,
   "id": "093d06a4",
   "metadata": {},
   "outputs": [
    {
     "data": {
      "text/html": [
       "<div>\n",
       "<style scoped>\n",
       "    .dataframe tbody tr th:only-of-type {\n",
       "        vertical-align: middle;\n",
       "    }\n",
       "\n",
       "    .dataframe tbody tr th {\n",
       "        vertical-align: top;\n",
       "    }\n",
       "\n",
       "    .dataframe thead th {\n",
       "        text-align: right;\n",
       "    }\n",
       "</style>\n",
       "<table border=\"1\" class=\"dataframe\">\n",
       "  <thead>\n",
       "    <tr style=\"text-align: right;\">\n",
       "      <th></th>\n",
       "      <th>date</th>\n",
       "      <th>home_time</th>\n",
       "      <th>travel_time</th>\n",
       "      <th>recreational_activities</th>\n",
       "      <th>school_time</th>\n",
       "      <th>orthers</th>\n",
       "      <th>date_in_week</th>\n",
       "      <th>cut_class</th>\n",
       "      <th>class_schedule</th>\n",
       "      <th>volunteer</th>\n",
       "      <th>working</th>\n",
       "      <th>shopping</th>\n",
       "    </tr>\n",
       "  </thead>\n",
       "  <tbody>\n",
       "    <tr>\n",
       "      <th>0</th>\n",
       "      <td>01:04:2013</td>\n",
       "      <td>35999.0</td>\n",
       "      <td>49581.0</td>\n",
       "      <td>0.0</td>\n",
       "      <td>0.0</td>\n",
       "      <td>0.0</td>\n",
       "      <td>0</td>\n",
       "      <td>1.0</td>\n",
       "      <td>3900.0</td>\n",
       "      <td>37</td>\n",
       "      <td>NaN</td>\n",
       "      <td>NaN</td>\n",
       "    </tr>\n",
       "    <tr>\n",
       "      <th>1</th>\n",
       "      <td>01:05:2013</td>\n",
       "      <td>3600.0</td>\n",
       "      <td>68400.0</td>\n",
       "      <td>0.0</td>\n",
       "      <td>0.0</td>\n",
       "      <td>0.0</td>\n",
       "      <td>2</td>\n",
       "      <td>1.0</td>\n",
       "      <td>10500.0</td>\n",
       "      <td>37</td>\n",
       "      <td>NaN</td>\n",
       "      <td>NaN</td>\n",
       "    </tr>\n",
       "    <tr>\n",
       "      <th>2</th>\n",
       "      <td>01:06:2013</td>\n",
       "      <td>25800.0</td>\n",
       "      <td>0.0</td>\n",
       "      <td>0.0</td>\n",
       "      <td>0.0</td>\n",
       "      <td>0.0</td>\n",
       "      <td>5</td>\n",
       "      <td>0.0</td>\n",
       "      <td>0.0</td>\n",
       "      <td>37</td>\n",
       "      <td>NaN</td>\n",
       "      <td>NaN</td>\n",
       "    </tr>\n",
       "    <tr>\n",
       "      <th>3</th>\n",
       "      <td>02:04:2013</td>\n",
       "      <td>60000.0</td>\n",
       "      <td>31200.0</td>\n",
       "      <td>0.0</td>\n",
       "      <td>0.0</td>\n",
       "      <td>0.0</td>\n",
       "      <td>1</td>\n",
       "      <td>1.0</td>\n",
       "      <td>6600.0</td>\n",
       "      <td>37</td>\n",
       "      <td>NaN</td>\n",
       "      <td>NaN</td>\n",
       "    </tr>\n",
       "    <tr>\n",
       "      <th>4</th>\n",
       "      <td>02:05:2013</td>\n",
       "      <td>61200.0</td>\n",
       "      <td>32400.0</td>\n",
       "      <td>0.0</td>\n",
       "      <td>0.0</td>\n",
       "      <td>0.0</td>\n",
       "      <td>3</td>\n",
       "      <td>1.0</td>\n",
       "      <td>6900.0</td>\n",
       "      <td>37</td>\n",
       "      <td>NaN</td>\n",
       "      <td>NaN</td>\n",
       "    </tr>\n",
       "    <tr>\n",
       "      <th>...</th>\n",
       "      <td>...</td>\n",
       "      <td>...</td>\n",
       "      <td>...</td>\n",
       "      <td>...</td>\n",
       "      <td>...</td>\n",
       "      <td>...</td>\n",
       "      <td>...</td>\n",
       "      <td>...</td>\n",
       "      <td>...</td>\n",
       "      <td>...</td>\n",
       "      <td>...</td>\n",
       "      <td>...</td>\n",
       "    </tr>\n",
       "    <tr>\n",
       "      <th>24</th>\n",
       "      <td>26:04:2013</td>\n",
       "      <td>21664.0</td>\n",
       "      <td>0.0</td>\n",
       "      <td>0.0</td>\n",
       "      <td>0.0</td>\n",
       "      <td>0.0</td>\n",
       "      <td>4</td>\n",
       "      <td>1.0</td>\n",
       "      <td>6000.0</td>\n",
       "      <td>25</td>\n",
       "      <td>NaN</td>\n",
       "      <td>NaN</td>\n",
       "    </tr>\n",
       "    <tr>\n",
       "      <th>25</th>\n",
       "      <td>28:03:2013</td>\n",
       "      <td>158398.0</td>\n",
       "      <td>0.0</td>\n",
       "      <td>0.0</td>\n",
       "      <td>1202.0</td>\n",
       "      <td>0.0</td>\n",
       "      <td>3</td>\n",
       "      <td>1.0</td>\n",
       "      <td>6900.0</td>\n",
       "      <td>25</td>\n",
       "      <td>NaN</td>\n",
       "      <td>NaN</td>\n",
       "    </tr>\n",
       "    <tr>\n",
       "      <th>26</th>\n",
       "      <td>29:03:2013</td>\n",
       "      <td>3601.0</td>\n",
       "      <td>0.0</td>\n",
       "      <td>0.0</td>\n",
       "      <td>9599.0</td>\n",
       "      <td>0.0</td>\n",
       "      <td>4</td>\n",
       "      <td>0.0</td>\n",
       "      <td>6000.0</td>\n",
       "      <td>25</td>\n",
       "      <td>NaN</td>\n",
       "      <td>NaN</td>\n",
       "    </tr>\n",
       "    <tr>\n",
       "      <th>27</th>\n",
       "      <td>30:03:2013</td>\n",
       "      <td>87600.0</td>\n",
       "      <td>0.0</td>\n",
       "      <td>0.0</td>\n",
       "      <td>0.0</td>\n",
       "      <td>0.0</td>\n",
       "      <td>5</td>\n",
       "      <td>0.0</td>\n",
       "      <td>0.0</td>\n",
       "      <td>25</td>\n",
       "      <td>NaN</td>\n",
       "      <td>NaN</td>\n",
       "    </tr>\n",
       "    <tr>\n",
       "      <th>28</th>\n",
       "      <td>31:03:2013</td>\n",
       "      <td>158668.0</td>\n",
       "      <td>0.0</td>\n",
       "      <td>0.0</td>\n",
       "      <td>0.0</td>\n",
       "      <td>0.0</td>\n",
       "      <td>-1</td>\n",
       "      <td>0.0</td>\n",
       "      <td>0.0</td>\n",
       "      <td>25</td>\n",
       "      <td>NaN</td>\n",
       "      <td>NaN</td>\n",
       "    </tr>\n",
       "  </tbody>\n",
       "</table>\n",
       "<p>2519 rows × 12 columns</p>\n",
       "</div>"
      ],
      "text/plain": [
       "           date  home_time  travel_time  recreational_activities  school_time  \\\n",
       "0   01:04:2013     35999.0      49581.0                      0.0          0.0   \n",
       "1   01:05:2013      3600.0      68400.0                      0.0          0.0   \n",
       "2   01:06:2013     25800.0          0.0                      0.0          0.0   \n",
       "3   02:04:2013     60000.0      31200.0                      0.0          0.0   \n",
       "4   02:05:2013     61200.0      32400.0                      0.0          0.0   \n",
       "..          ...        ...          ...                      ...          ...   \n",
       "24  26:04:2013     21664.0          0.0                      0.0          0.0   \n",
       "25  28:03:2013    158398.0          0.0                      0.0       1202.0   \n",
       "26  29:03:2013      3601.0          0.0                      0.0       9599.0   \n",
       "27  30:03:2013     87600.0          0.0                      0.0          0.0   \n",
       "28  31:03:2013    158668.0          0.0                      0.0          0.0   \n",
       "\n",
       "    orthers  date_in_week  cut_class  class_schedule  volunteer  working  \\\n",
       "0       0.0             0        1.0          3900.0         37      NaN   \n",
       "1       0.0             2        1.0         10500.0         37      NaN   \n",
       "2       0.0             5        0.0             0.0         37      NaN   \n",
       "3       0.0             1        1.0          6600.0         37      NaN   \n",
       "4       0.0             3        1.0          6900.0         37      NaN   \n",
       "..      ...           ...        ...             ...        ...      ...   \n",
       "24      0.0             4        1.0          6000.0         25      NaN   \n",
       "25      0.0             3        1.0          6900.0         25      NaN   \n",
       "26      0.0             4        0.0          6000.0         25      NaN   \n",
       "27      0.0             5        0.0             0.0         25      NaN   \n",
       "28      0.0            -1        0.0             0.0         25      NaN   \n",
       "\n",
       "    shopping  \n",
       "0        NaN  \n",
       "1        NaN  \n",
       "2        NaN  \n",
       "3        NaN  \n",
       "4        NaN  \n",
       "..       ...  \n",
       "24       NaN  \n",
       "25       NaN  \n",
       "26       NaN  \n",
       "27       NaN  \n",
       "28       NaN  \n",
       "\n",
       "[2519 rows x 12 columns]"
      ]
     },
     "execution_count": 3,
     "metadata": {},
     "output_type": "execute_result"
    }
   ],
   "source": [
    "df=None\n",
    "for f in file:\n",
    "\n",
    "    data=pd.read_csv(f)\n",
    "    if df is None:\n",
    "        df=data\n",
    "    else:\n",
    "        df=pd.concat([df,data])\n",
    "# df=df.drop('Unnamed: 0',axis=1)\n",
    "df"
   ]
  },
  {
   "cell_type": "code",
   "execution_count": 7,
   "id": "3792fa11",
   "metadata": {
    "scrolled": false
   },
   "outputs": [
    {
     "data": {
      "text/plain": [
       "'01:04:2013 '"
      ]
     },
     "execution_count": 7,
     "metadata": {},
     "output_type": "execute_result"
    }
   ],
   "source": [
    "# df=df.drop('Unnamed: 0',axis=1)\n",
    "df.describe()"
   ]
  },
  {
   "cell_type": "code",
   "execution_count": 5,
   "id": "6a944934",
   "metadata": {},
   "outputs": [
    {
     "ename": "ValueError",
     "evalue": "unconverted data remains:  ",
     "output_type": "error",
     "traceback": [
      "\u001b[0;31m---------------------------------------------------------------------------\u001b[0m",
      "\u001b[0;31mValueError\u001b[0m                                Traceback (most recent call last)",
      "Cell \u001b[0;32mIn[5], line 19\u001b[0m\n\u001b[1;32m     17\u001b[0m         \u001b[38;5;28;01mreturn\u001b[39;00m datetime\u001b[38;5;241m.\u001b[39mstrftime(time,\u001b[38;5;124m'\u001b[39m\u001b[38;5;124m%\u001b[39m\u001b[38;5;124mW\u001b[39m\u001b[38;5;124m'\u001b[39m)\n\u001b[1;32m     18\u001b[0m \u001b[38;5;28;01mfor\u001b[39;00m date \u001b[38;5;129;01min\u001b[39;00m df\u001b[38;5;241m.\u001b[39mdate\u001b[38;5;241m.\u001b[39mvalues:\n\u001b[0;32m---> 19\u001b[0m     week\u001b[38;5;241m.\u001b[39mappend(\u001b[43mtransform_week\u001b[49m\u001b[43m(\u001b[49m\u001b[43mdate\u001b[49m\u001b[43m)\u001b[49m)\n\u001b[1;32m     20\u001b[0m df[\u001b[38;5;124m'\u001b[39m\u001b[38;5;124mweek\u001b[39m\u001b[38;5;124m'\u001b[39m]\u001b[38;5;241m=\u001b[39mweek\n\u001b[1;32m     21\u001b[0m \u001b[38;5;28;01mfor\u001b[39;00m col \u001b[38;5;129;01min\u001b[39;00m [ \u001b[38;5;124m'\u001b[39m\u001b[38;5;124mhome_time\u001b[39m\u001b[38;5;124m'\u001b[39m, \u001b[38;5;124m'\u001b[39m\u001b[38;5;124mschool_time\u001b[39m\u001b[38;5;124m'\u001b[39m, \u001b[38;5;124m'\u001b[39m\u001b[38;5;124mtravel_time\u001b[39m\u001b[38;5;124m'\u001b[39m,\n\u001b[1;32m     22\u001b[0m             \u001b[38;5;124m'\u001b[39m\u001b[38;5;124mrecreational_activities\u001b[39m\u001b[38;5;124m'\u001b[39m, \u001b[38;5;124m'\u001b[39m\u001b[38;5;124morthers\u001b[39m\u001b[38;5;124m'\u001b[39m,\u001b[38;5;124m'\u001b[39m\u001b[38;5;124mworking\u001b[39m\u001b[38;5;124m'\u001b[39m, \u001b[38;5;124m'\u001b[39m\u001b[38;5;124mshopping\u001b[39m\u001b[38;5;124m'\u001b[39m]:\n",
      "Cell \u001b[0;32mIn[5], line 16\u001b[0m, in \u001b[0;36mtransform_week\u001b[0;34m(time)\u001b[0m\n\u001b[1;32m     15\u001b[0m \u001b[38;5;28;01mdef\u001b[39;00m \u001b[38;5;21mtransform_week\u001b[39m(time):\n\u001b[0;32m---> 16\u001b[0m         time\u001b[38;5;241m=\u001b[39m\u001b[43mdatetime\u001b[49m\u001b[38;5;241;43m.\u001b[39;49m\u001b[43mstrptime\u001b[49m\u001b[43m(\u001b[49m\u001b[43mtime\u001b[49m\u001b[43m,\u001b[49m\u001b[43mtime_type\u001b[49m\u001b[43m)\u001b[49m\n\u001b[1;32m     17\u001b[0m         \u001b[38;5;28;01mreturn\u001b[39;00m datetime\u001b[38;5;241m.\u001b[39mstrftime(time,\u001b[38;5;124m'\u001b[39m\u001b[38;5;124m%\u001b[39m\u001b[38;5;124mW\u001b[39m\u001b[38;5;124m'\u001b[39m)\n",
      "File \u001b[0;32m~/anaconda3/lib/python3.10/_strptime.py:568\u001b[0m, in \u001b[0;36m_strptime_datetime\u001b[0;34m(cls, data_string, format)\u001b[0m\n\u001b[1;32m    565\u001b[0m \u001b[38;5;28;01mdef\u001b[39;00m \u001b[38;5;21m_strptime_datetime\u001b[39m(\u001b[38;5;28mcls\u001b[39m, data_string, \u001b[38;5;28mformat\u001b[39m\u001b[38;5;241m=\u001b[39m\u001b[38;5;124m\"\u001b[39m\u001b[38;5;132;01m%a\u001b[39;00m\u001b[38;5;124m \u001b[39m\u001b[38;5;124m%\u001b[39m\u001b[38;5;124mb \u001b[39m\u001b[38;5;132;01m%d\u001b[39;00m\u001b[38;5;124m \u001b[39m\u001b[38;5;124m%\u001b[39m\u001b[38;5;124mH:\u001b[39m\u001b[38;5;124m%\u001b[39m\u001b[38;5;124mM:\u001b[39m\u001b[38;5;124m%\u001b[39m\u001b[38;5;124mS \u001b[39m\u001b[38;5;124m%\u001b[39m\u001b[38;5;124mY\u001b[39m\u001b[38;5;124m\"\u001b[39m):\n\u001b[1;32m    566\u001b[0m \u001b[38;5;250m    \u001b[39m\u001b[38;5;124;03m\"\"\"Return a class cls instance based on the input string and the\u001b[39;00m\n\u001b[1;32m    567\u001b[0m \u001b[38;5;124;03m    format string.\"\"\"\u001b[39;00m\n\u001b[0;32m--> 568\u001b[0m     tt, fraction, gmtoff_fraction \u001b[38;5;241m=\u001b[39m \u001b[43m_strptime\u001b[49m\u001b[43m(\u001b[49m\u001b[43mdata_string\u001b[49m\u001b[43m,\u001b[49m\u001b[43m \u001b[49m\u001b[38;5;28;43mformat\u001b[39;49m\u001b[43m)\u001b[49m\n\u001b[1;32m    569\u001b[0m     tzname, gmtoff \u001b[38;5;241m=\u001b[39m tt[\u001b[38;5;241m-\u001b[39m\u001b[38;5;241m2\u001b[39m:]\n\u001b[1;32m    570\u001b[0m     args \u001b[38;5;241m=\u001b[39m tt[:\u001b[38;5;241m6\u001b[39m] \u001b[38;5;241m+\u001b[39m (fraction,)\n",
      "File \u001b[0;32m~/anaconda3/lib/python3.10/_strptime.py:352\u001b[0m, in \u001b[0;36m_strptime\u001b[0;34m(data_string, format)\u001b[0m\n\u001b[1;32m    349\u001b[0m     \u001b[38;5;28;01mraise\u001b[39;00m \u001b[38;5;167;01mValueError\u001b[39;00m(\u001b[38;5;124m\"\u001b[39m\u001b[38;5;124mtime data \u001b[39m\u001b[38;5;132;01m%r\u001b[39;00m\u001b[38;5;124m does not match format \u001b[39m\u001b[38;5;132;01m%r\u001b[39;00m\u001b[38;5;124m\"\u001b[39m \u001b[38;5;241m%\u001b[39m\n\u001b[1;32m    350\u001b[0m                      (data_string, \u001b[38;5;28mformat\u001b[39m))\n\u001b[1;32m    351\u001b[0m \u001b[38;5;28;01mif\u001b[39;00m \u001b[38;5;28mlen\u001b[39m(data_string) \u001b[38;5;241m!=\u001b[39m found\u001b[38;5;241m.\u001b[39mend():\n\u001b[0;32m--> 352\u001b[0m     \u001b[38;5;28;01mraise\u001b[39;00m \u001b[38;5;167;01mValueError\u001b[39;00m(\u001b[38;5;124m\"\u001b[39m\u001b[38;5;124munconverted data remains: \u001b[39m\u001b[38;5;132;01m%s\u001b[39;00m\u001b[38;5;124m\"\u001b[39m \u001b[38;5;241m%\u001b[39m\n\u001b[1;32m    353\u001b[0m                       data_string[found\u001b[38;5;241m.\u001b[39mend():])\n\u001b[1;32m    355\u001b[0m iso_year \u001b[38;5;241m=\u001b[39m year \u001b[38;5;241m=\u001b[39m \u001b[38;5;28;01mNone\u001b[39;00m\n\u001b[1;32m    356\u001b[0m month \u001b[38;5;241m=\u001b[39m day \u001b[38;5;241m=\u001b[39m \u001b[38;5;241m1\u001b[39m\n",
      "\u001b[0;31mValueError\u001b[0m: unconverted data remains:  "
     ]
    }
   ],
   "source": [
    "def offset(data):\n",
    "    try:\n",
    "        if float(data)>86400:\n",
    "            return 0\n",
    "        return data\n",
    "    except:\n",
    "        return data\n",
    "def to_min(time):\n",
    "    try:\n",
    "        return int(time/60)\n",
    "    except: return time\n",
    "    \n",
    "time_type='%d:%m:%Y '\n",
    "week=[]\n",
    "def transform_week(time):\n",
    "        time=datetime.strptime(time,time_type)\n",
    "        return datetime.strftime(time,'%W')\n",
    "for date in df.date.values:\n",
    "    week.append(transform_week(date))\n",
    "df['week']=week\n",
    "for col in [ 'home_time', 'school_time', 'travel_time',\n",
    "            'recreational_activities', 'orthers','working', 'shopping']:\n",
    "    df[col]=df[col].apply(lambda x: offset(x))\n",
    "    df[col]=df[col].fillna(0)\n",
    "\n",
    "for col in [ 'home_time', 'school_time', 'travel_time',\n",
    "            'recreational_activities', 'orthers','working', 'shopping']:\n",
    "    df[col]=df[col].apply(lambda x: to_min(x))\n",
    "df['date_in_week']=df['date_in_week'].values+1\n",
    "df['None_school_time']=1440-df.school_time-df.home_time\n",
    "df"
   ]
  },
  {
   "cell_type": "code",
   "execution_count": null,
   "id": "f8367ae3",
   "metadata": {
    "scrolled": false
   },
   "outputs": [],
   "source": [
    "df"
   ]
  },
  {
   "cell_type": "code",
   "execution_count": null,
   "id": "c4d3ddbf",
   "metadata": {},
   "outputs": [],
   "source": [
    "from sklearn.feature_selection import SelectKBest,f_regression"
   ]
  },
  {
   "cell_type": "code",
   "execution_count": null,
   "id": "b4c5f8ad",
   "metadata": {},
   "outputs": [],
   "source": [
    "from bioinfokit.analys import stat\n",
    "res = stat()\n",
    "res.anova_stat(df=df, res_var='level', anova_model='value ~ C(treatments)'"
   ]
  },
  {
   "cell_type": "code",
   "execution_count": null,
   "id": "efb1cf61",
   "metadata": {},
   "outputs": [],
   "source": []
  },
  {
   "cell_type": "code",
   "execution_count": null,
   "id": "4e535036",
   "metadata": {},
   "outputs": [],
   "source": []
  },
  {
   "cell_type": "code",
   "execution_count": null,
   "id": "343b1211",
   "metadata": {},
   "outputs": [],
   "source": []
  },
  {
   "cell_type": "code",
   "execution_count": null,
   "id": "4f7e8027",
   "metadata": {},
   "outputs": [],
   "source": []
  },
  {
   "cell_type": "code",
   "execution_count": null,
   "id": "45466357",
   "metadata": {},
   "outputs": [],
   "source": []
  },
  {
   "cell_type": "code",
   "execution_count": null,
   "id": "5d0ab69a",
   "metadata": {
    "scrolled": true
   },
   "outputs": [],
   "source": [
    "corr=df[[ 'home_time', 'school_time', 'travel_time', 'date_in_week',\n",
    "        'recreational_activities', 'orthers',\n",
    "       'working', 'shopping','None_school_time','cut_class','level']].corr()\n",
    "ax,fig=plt.subplots(figsize=(10,10))\n",
    "sns.heatmap(corr,annot=True)\n",
    "plt.savefig('../image/corr.png')"
   ]
  },
  {
   "cell_type": "code",
   "execution_count": null,
   "id": "82cf1fbc",
   "metadata": {
    "scrolled": true
   },
   "outputs": [],
   "source": [
    "sns.histplot(df,x='home_time',y='date_in_week',cbar=True)\n",
    "plt.savefig('../image/hometime vs day.png')"
   ]
  },
  {
   "cell_type": "code",
   "execution_count": null,
   "id": "4fbe5234",
   "metadata": {},
   "outputs": [],
   "source": []
  },
  {
   "cell_type": "code",
   "execution_count": null,
   "id": "406ac8dc",
   "metadata": {},
   "outputs": [],
   "source": [
    "\n"
   ]
  },
  {
   "cell_type": "code",
   "execution_count": null,
   "id": "c925f865",
   "metadata": {
    "scrolled": false
   },
   "outputs": [],
   "source": [
    "df"
   ]
  },
  {
   "cell_type": "code",
   "execution_count": null,
   "id": "912110ec",
   "metadata": {},
   "outputs": [],
   "source": [
    "df=df.sort_values(['week','date'])\n",
    "df=df.reset_index(drop=True)\n",
    "# df=df.drop('date.1',axis=1)\n",
    "df.info()"
   ]
  },
  {
   "cell_type": "code",
   "execution_count": null,
   "id": "80dc63ba",
   "metadata": {},
   "outputs": [],
   "source": [
    "ax,fig=plt.subplots(figsize=(5,5))\n",
    "sns.histplot(df,x='week',y='cut_class',cbar=True,bins=3)\n",
    "plt.yticks([0,1])\n",
    "plt.savefig('../image/cutclass vs week.png')"
   ]
  },
  {
   "cell_type": "code",
   "execution_count": null,
   "id": "9d2ab848",
   "metadata": {},
   "outputs": [],
   "source": [
    "sns.countplot(df,x='week',hue='cut_class')\n",
    "plt.savefig('../image/count cutclass vs week.png')"
   ]
  },
  {
   "cell_type": "code",
   "execution_count": null,
   "id": "563344eb",
   "metadata": {
    "scrolled": true
   },
   "outputs": [],
   "source": [
    "print(df['level'].unique())\n",
    "df_stress=df.iloc[:,1:]\n",
    "df_stress['level']=df_stress['level'].fillna(df_stress['level'].median())\n",
    "# df_stress['level']=df_stress['level'].fillna(0)\n"
   ]
  },
  {
   "cell_type": "code",
   "execution_count": null,
   "id": "99f5d746",
   "metadata": {},
   "outputs": [],
   "source": [
    "df_stress['level']=df_stress['level'].astype(int)\n",
    "ax,fig=plt.subplots(figsize=(10,10))\n",
    "sns.countplot(df_stress,x='level',hue='cut_class')\n",
    "plt.xticks(rotation=0)\n",
    "plt.savefig('../image/stress vs cutclass.png')\n",
    "print(df['level'].unique())"
   ]
  },
  {
   "cell_type": "code",
   "execution_count": null,
   "id": "a73482a3",
   "metadata": {},
   "outputs": [],
   "source": [
    "sns.histplot(df_stress,x='level',hue='cut_class',kde=True)\n",
    "plt.savefig('../image/stress by cut class.png')"
   ]
  },
  {
   "cell_type": "code",
   "execution_count": null,
   "id": "192b934c",
   "metadata": {},
   "outputs": [],
   "source": [
    "no_cut_class_data=df_stress[df_stress['cut_class']==0]\n",
    "cut_class_data=df_stress[df_stress['cut_class']==1]\n",
    "no_cut_class_data=no_cut_class_data['level'].value_counts().to_frame()\n",
    "no_cut_class_data['count']=no_cut_class_data['count']/(no_cut_class_data['count'].sum())\n",
    "no_cut_class_data\n",
    "cut_class_data=cut_class_data['level'].value_counts().to_frame()\n",
    "cut_class_data['count']=cut_class_data['count']/cut_class_data['count'].sum()\n",
    "cut_class_data"
   ]
  },
  {
   "cell_type": "code",
   "execution_count": null,
   "id": "8fd4d565",
   "metadata": {},
   "outputs": [],
   "source": [
    "cut_class_data.plot.pie(subplots=True, figsize=(11, 6),startangle=90,autopct='%1.2f%%')\n",
    "plt.savefig('../image/stress ratio cut class.png')"
   ]
  },
  {
   "cell_type": "code",
   "execution_count": null,
   "id": "e10c1a69",
   "metadata": {},
   "outputs": [],
   "source": [
    "no_cut_class_data.plot.pie(subplots=True, figsize=(11, 6),startangle=90,autopct='%1.2f%%')\n",
    "plt.savefig('../image/stress ratio no cut class.png')"
   ]
  },
  {
   "cell_type": "code",
   "execution_count": null,
   "id": "ff9ff43b",
   "metadata": {
    "scrolled": false
   },
   "outputs": [],
   "source": [
    "sns.histplot(df_stress,x='week',hue='level',kde=True,palette='Reds')\n",
    "plt.savefig('../image/stress by week.png')"
   ]
  },
  {
   "cell_type": "code",
   "execution_count": null,
   "id": "ed94a7a1",
   "metadata": {
    "scrolled": true
   },
   "outputs": [],
   "source": [
    "df_stress_fix=df_stress\n",
    "df_stress_fix['school_time']=(df_stress_fix['school_time']/60).astype(int)\n",
    "\n"
   ]
  },
  {
   "cell_type": "code",
   "execution_count": null,
   "id": "357245b0",
   "metadata": {
    "scrolled": true
   },
   "outputs": [],
   "source": [
    "sns.kdeplot(df_stress_fix,x='school_time',y='level',cmap='Reds',fill=True)\n",
    "plt.savefig('../image/stress by school time.png')"
   ]
  },
  {
   "cell_type": "code",
   "execution_count": null,
   "id": "7c34659f",
   "metadata": {},
   "outputs": [],
   "source": [
    "df_stress_fix['None_school_time']=(df_stress_fix['None_school_time']/60).astype(int)"
   ]
  },
  {
   "cell_type": "code",
   "execution_count": null,
   "id": "44d8bbd4",
   "metadata": {
    "scrolled": true
   },
   "outputs": [],
   "source": [
    "sns.kdeplot(df_stress_fix,x='None_school_time',y='level',cmap='Reds',fill=True)\n",
    "plt.savefig('../image/stress by none school time.png')"
   ]
  },
  {
   "cell_type": "code",
   "execution_count": null,
   "id": "de450e7b",
   "metadata": {
    "scrolled": false
   },
   "outputs": [],
   "source": [
    "df.info()\n",
    "df_stress['week']=df_stress['week'].astype(int)\n"
   ]
  },
  {
   "cell_type": "code",
   "execution_count": null,
   "id": "7e70bfa5",
   "metadata": {
    "scrolled": false
   },
   "outputs": [],
   "source": [
    "pd.plotting.radviz(df_stress[[ 'home_time', 'school_time', 'travel_time',\n",
    "       'recreational_activities', 'orthers', 'date_in_week', 'cut_class',\n",
    "       'class_schedule', 'level', 'shopping', 'working', 'week',\n",
    "       'None_school_time']],'level')\n",
    "plt.savefig('../image/radvix.png')"
   ]
  },
  {
   "cell_type": "code",
   "execution_count": null,
   "id": "32dc6ef6",
   "metadata": {},
   "outputs": [],
   "source": [
    "sns.countplot(df_stress,x='level')"
   ]
  },
  {
   "cell_type": "code",
   "execution_count": null,
   "id": "f58574a1",
   "metadata": {
    "scrolled": true
   },
   "outputs": [],
   "source": [
    "df.describe()"
   ]
  },
  {
   "cell_type": "code",
   "execution_count": null,
   "id": "8efbf7e7",
   "metadata": {},
   "outputs": [],
   "source": [
    "df=df.reset_index(drop=True)\n",
    "df_new=df.drop(df[df['home_time']==0].index)\n",
    "\n",
    "sns.histplot(df_new,x='school_time',hue='cut_class')\n",
    "\n",
    "df_new.describe()\n",
    "df['school_time'].unique()\n"
   ]
  },
  {
   "cell_type": "code",
   "execution_count": null,
   "id": "b6220e65",
   "metadata": {},
   "outputs": [],
   "source": [
    "df.school_time.value_counts"
   ]
  },
  {
   "cell_type": "code",
   "execution_count": null,
   "id": "3e4c40d4",
   "metadata": {},
   "outputs": [],
   "source": [
    "df.columns"
   ]
  },
  {
   "cell_type": "code",
   "execution_count": null,
   "id": "acadb76e",
   "metadata": {},
   "outputs": [],
   "source": [
    "y=df['level']\n",
    "y.unique()"
   ]
  },
  {
   "cell_type": "code",
   "execution_count": null,
   "id": "01f8133d",
   "metadata": {},
   "outputs": [],
   "source": [
    "X=df[[ 'home_time', 'school_time', 'travel_time',\n",
    "       'recreational_activities', 'orthers', 'date_in_week', 'cut_class',\n",
    "       'class_schedule' ,  'shopping', 'working',\n",
    "       'week', 'None_school_time']]\n",
    "y=df['level']\n",
    "y=y.fillna(y.median())\n",
    "y=10*y\n",
    "y=y.astype(int)\n",
    "y.unique()"
   ]
  },
  {
   "cell_type": "code",
   "execution_count": null,
   "id": "500d997b",
   "metadata": {},
   "outputs": [],
   "source": [
    "from sklearn.preprocessing import StandardScaler\n",
    "from sklearn.model_selection import train_test_split\n",
    "scaler = StandardScaler()\n",
    "X_train, X_vad, y_train, y_vad = train_test_split(X, y, test_size=0.2, random_state=42)\n",
    "X_train_ML, X_vad_ML, y_train_ML, y_vad_ML= X_train, X_vad, y_train, y_vad\n",
    "\n",
    "X_train = scaler.fit_transform(X_train)\n",
    "\n",
    "X_vad = scaler.fit_transform(X_vad)\n",
    "X.shape\n"
   ]
  },
  {
   "cell_type": "code",
   "execution_count": null,
   "id": "abeae59f",
   "metadata": {},
   "outputs": [],
   "source": [
    "y.unique()"
   ]
  },
  {
   "cell_type": "code",
   "execution_count": null,
   "id": "502d31a7",
   "metadata": {},
   "outputs": [],
   "source": [
    "y.describe()"
   ]
  },
  {
   "cell_type": "code",
   "execution_count": null,
   "id": "1ace90fb",
   "metadata": {
    "scrolled": true
   },
   "outputs": [],
   "source": [
    "# from xgboost import XGBClassifier#XGBcalssifier\n",
    "# seed=200\n",
    "# model=XGBClassifier (use_label_encoder=False, eval_metric='logloss', random_state=seed)\n",
    "# model.fit(X_train,y_train)\n",
    "# prediction1=model.predict(X_vad)\n",
    "# print('Accuracy for XBG is ',metrics.accuracy_score(prediction1,y_vad))"
   ]
  },
  {
   "cell_type": "code",
   "execution_count": null,
   "id": "8ee8cdc2",
   "metadata": {},
   "outputs": [],
   "source": [
    "from sklearn.ensemble import RandomForestClassifier #Random Forest\n",
    "from sklearn.neighbors import KNeighborsClassifier #KNN\n",
    "from sklearn.naive_bayes import GaussianNB #Naive bayes\n",
    "from sklearn import metrics #accuracy measure\n",
    "from sklearn.linear_model import LogisticRegression #logistic regression"
   ]
  },
  {
   "cell_type": "code",
   "execution_count": null,
   "id": "a768e3d5",
   "metadata": {},
   "outputs": [],
   "source": [
    "model=KNeighborsClassifier(n_neighbors=9)\n",
    "model.fit(X_train,y_train)\n",
    "prediction1=model.predict(X_vad)\n",
    "print('Accuracy for KN is ',metrics.accuracy_score(prediction1,y_vad))\n",
    "ax,fig=plt.subplots(figsize=(10,10))\n",
    "conf=metrics.confusion_matrix(prediction1,y_vad)\n",
    "sns.heatmap(conf,annot=True)"
   ]
  },
  {
   "cell_type": "code",
   "execution_count": null,
   "id": "17b7d66d",
   "metadata": {},
   "outputs": [],
   "source": [
    "model=LogisticRegression()\n",
    "model.fit(X_train,y_train)\n",
    "prediction1=model.predict(X_vad)\n",
    "print('Accuracy for LR is ',metrics.accuracy_score(prediction1,y_vad))\n",
    "ax,fig=plt.subplots(figsize=(10,10))\n",
    "conf=metrics.confusion_matrix(prediction1,y_vad)\n",
    "sns.heatmap(conf,annot=True)"
   ]
  },
  {
   "cell_type": "code",
   "execution_count": null,
   "id": "486dc3a4",
   "metadata": {},
   "outputs": [],
   "source": [
    "from sklearn import svm #support vector Machine\n",
    "model=svm.SVC(kernel='rbf',C=1,gamma=0.1)\n",
    "model.fit(X_train,y_train)\n",
    "prediction1=model.predict(X_vad)\n",
    "print('Accuracy for SVM is ',metrics.accuracy_score(prediction1,y_vad))\n",
    "ax,fig=plt.subplots(figsize=(10,10))\n",
    "conf=metrics.confusion_matrix(prediction1,y_vad)\n",
    "sns.heatmap(conf,annot=True)"
   ]
  }
 ],
 "metadata": {
  "kernelspec": {
   "display_name": "Python 3 (ipykernel)",
   "language": "python",
   "name": "python3"
  },
  "language_info": {
   "codemirror_mode": {
    "name": "ipython",
    "version": 3
   },
   "file_extension": ".py",
   "mimetype": "text/x-python",
   "name": "python",
   "nbconvert_exporter": "python",
   "pygments_lexer": "ipython3",
   "version": "3.10.9"
  }
 },
 "nbformat": 4,
 "nbformat_minor": 5
}
