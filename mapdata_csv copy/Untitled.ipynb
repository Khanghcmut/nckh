{
 "cells": [
  {
   "cell_type": "code",
   "execution_count": 1,
   "id": "4e7062c7",
   "metadata": {},
   "outputs": [],
   "source": [
    "import pandas as pd\n",
    "import numpy as np\n",
    "import seaborn as sns\n",
    "import matplotlib.pyplot as plt\n",
    "import os"
   ]
  },
  {
   "cell_type": "code",
   "execution_count": 2,
   "id": "1fbe43d2",
   "metadata": {},
   "outputs": [
    {
     "data": {
      "text/plain": [
       "['16_with_adress.csv',\n",
       " '6_with_adress.csv',\n",
       " '51_with_adress.csv',\n",
       " '48_with_adress.csv',\n",
       " '32_with_adress.csv',\n",
       " '47_with_adress.csv',\n",
       " '9_with_adress.csv',\n",
       " '19_with_adress.csv',\n",
       " '24_with_adress.csv',\n",
       " '59_with_adress.csv',\n",
       " '23_with_adress.csv',\n",
       " '40_with_adress.csv',\n",
       " '35_with_adress.csv',\n",
       " '1_with_adress.csv',\n",
       " '11_with_adress.csv',\n",
       " '58_with_adress.csv',\n",
       " '34_with_adress.csv',\n",
       " '10_with_adress.csv',\n",
       " '57_with_adress.csv',\n",
       " '50_with_adress.csv',\n",
       " '17_with_adress.csv',\n",
       " '33_with_adress.csv',\n",
       " '46_with_adress.csv',\n",
       " '8_with_adress.csv',\n",
       " '18_with_adress.csv',\n",
       " '25_with_adress.csv',\n",
       " '43_with_adress.csv',\n",
       " '20_with_adress.csv',\n",
       " '2_with_adress.csv',\n",
       " '55_with_adress.csv',\n",
       " '36_with_adress.csv',\n",
       " '31_with_adress.csv',\n",
       " '52_with_adress.csv',\n",
       " '5_with_adress.csv',\n",
       " '15_with_adress.csv',\n",
       " '28_with_adress.csv',\n",
       " '44_with_adress.csv',\n",
       " '4_with_adress.csv',\n",
       " '14_with_adress.csv',\n",
       " '53_with_adress.csv',\n",
       " '26_with_adress.csv',\n",
       " '45_with_adress.csv',\n",
       " '42_with_adress.csv',\n",
       " '21_with_adress.csv',\n",
       " '54_with_adress.csv',\n",
       " '13_with_adress.csv',\n",
       " '3_with_adress.csv',\n",
       " '37_with_adress.csv']"
      ]
     },
     "execution_count": 2,
     "metadata": {},
     "output_type": "execute_result"
    }
   ],
   "source": [
    "all_file=os.listdir('./')\n",
    "file=[]\n",
    "for each_file in all_file:\n",
    "    try:\n",
    "        if  each_file.split('.')[1]=='csv':\n",
    "            file.append(each_file)\n",
    "    except: continue\n",
    "file"
   ]
  },
  {
   "cell_type": "code",
   "execution_count": 7,
   "id": "206fc157",
   "metadata": {
    "scrolled": false
   },
   "outputs": [],
   "source": [
    "data=pd.read_csv('37_with_adress.csv')"
   ]
  },
  {
   "cell_type": "code",
   "execution_count": null,
   "id": "49f74f07",
   "metadata": {},
   "outputs": [],
   "source": []
  },
  {
   "cell_type": "code",
   "execution_count": null,
   "id": "f26cfc4e",
   "metadata": {},
   "outputs": [],
   "source": []
  },
  {
   "cell_type": "code",
   "execution_count": null,
   "id": "1a1492d2",
   "metadata": {},
   "outputs": [],
   "source": []
  },
  {
   "cell_type": "code",
   "execution_count": null,
   "id": "49ad67c0",
   "metadata": {},
   "outputs": [],
   "source": []
  },
  {
   "cell_type": "code",
   "execution_count": null,
   "id": "64045b24",
   "metadata": {},
   "outputs": [],
   "source": []
  },
  {
   "cell_type": "code",
   "execution_count": null,
   "id": "ca609d9d",
   "metadata": {},
   "outputs": [],
   "source": []
  },
  {
   "cell_type": "code",
   "execution_count": null,
   "id": "db9e30f3",
   "metadata": {},
   "outputs": [],
   "source": []
  },
  {
   "cell_type": "code",
   "execution_count": null,
   "id": "216fc110",
   "metadata": {},
   "outputs": [],
   "source": []
  },
  {
   "cell_type": "code",
   "execution_count": null,
   "id": "9b9fb684",
   "metadata": {},
   "outputs": [],
   "source": []
  },
  {
   "cell_type": "code",
   "execution_count": null,
   "id": "55f86ba2",
   "metadata": {},
   "outputs": [],
   "source": []
  },
  {
   "cell_type": "code",
   "execution_count": null,
   "id": "11cae0ad",
   "metadata": {},
   "outputs": [],
   "source": []
  },
  {
   "cell_type": "code",
   "execution_count": null,
   "id": "5ad39ca3",
   "metadata": {},
   "outputs": [],
   "source": []
  },
  {
   "cell_type": "code",
   "execution_count": null,
   "id": "b25769ff",
   "metadata": {},
   "outputs": [],
   "source": []
  }
 ],
 "metadata": {
  "kernelspec": {
   "display_name": "Python 3 (ipykernel)",
   "language": "python",
   "name": "python3"
  },
  "language_info": {
   "codemirror_mode": {
    "name": "ipython",
    "version": 3
   },
   "file_extension": ".py",
   "mimetype": "text/x-python",
   "name": "python",
   "nbconvert_exporter": "python",
   "pygments_lexer": "ipython3",
   "version": "3.10.9"
  }
 },
 "nbformat": 4,
 "nbformat_minor": 5
}
