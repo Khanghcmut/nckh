{
 "cells": [
  {
   "cell_type": "code",
   "execution_count": 1,
   "id": "fe45b39d",
   "metadata": {},
   "outputs": [],
   "source": [
    "import pandas as pd\n",
    "import numpy as np\n",
    "import seaborn as sns\n",
    "import matplotlib.pyplot as plt\n",
    "import os\n",
    "from datetime import datetime"
   ]
  },
  {
   "cell_type": "code",
   "execution_count": 2,
   "id": "94fa9a96",
   "metadata": {},
   "outputs": [
    {
     "data": {
      "text/plain": [
       "['54.csv',\n",
       " '43.csv',\n",
       " '57.csv',\n",
       " '5.csv',\n",
       " '4.csv',\n",
       " '42.csv',\n",
       " '46.csv',\n",
       " '52.csv',\n",
       " '1.csv',\n",
       " '53.csv',\n",
       " '47.csv',\n",
       " '51.csv',\n",
       " '3.csv',\n",
       " '45.csv',\n",
       " '44.csv',\n",
       " '50.csv',\n",
       " '2.csv',\n",
       " '23.csv',\n",
       " '36.csv',\n",
       " '20.csv',\n",
       " '34.csv',\n",
       " '35.csv',\n",
       " '25.csv',\n",
       " '31.csv',\n",
       " '19.csv',\n",
       " '18.csv',\n",
       " '24.csv',\n",
       " '32.csv',\n",
       " '33.csv',\n",
       " '16.csv',\n",
       " '17.csv',\n",
       " '15.csv',\n",
       " '14.csv',\n",
       " '10.csv',\n",
       " '9.csv',\n",
       " '8.csv',\n",
       " '58.csv',\n",
       " '59.csv']"
      ]
     },
     "execution_count": 2,
     "metadata": {},
     "output_type": "execute_result"
    }
   ],
   "source": [
    "all_file=os.listdir('./')\n",
    "file=[]\n",
    "for each_file in all_file:\n",
    "    try:\n",
    "        if  each_file.split('.')[1]=='csv':\n",
    "            file.append(each_file)\n",
    "    except: continue\n",
    "file"
   ]
  },
  {
   "cell_type": "code",
   "execution_count": 3,
   "id": "093d06a4",
   "metadata": {},
   "outputs": [
    {
     "data": {
      "text/html": [
       "<div>\n",
       "<style scoped>\n",
       "    .dataframe tbody tr th:only-of-type {\n",
       "        vertical-align: middle;\n",
       "    }\n",
       "\n",
       "    .dataframe tbody tr th {\n",
       "        vertical-align: top;\n",
       "    }\n",
       "\n",
       "    .dataframe thead th {\n",
       "        text-align: right;\n",
       "    }\n",
       "</style>\n",
       "<table border=\"1\" class=\"dataframe\">\n",
       "  <thead>\n",
       "    <tr style=\"text-align: right;\">\n",
       "      <th></th>\n",
       "      <th>date</th>\n",
       "      <th>home_time</th>\n",
       "      <th>school_time</th>\n",
       "      <th>travel_time</th>\n",
       "      <th>recreational_activities</th>\n",
       "      <th>orthers</th>\n",
       "      <th>date_in_week</th>\n",
       "      <th>cut_class</th>\n",
       "      <th>class_schedule</th>\n",
       "      <th>volunteer</th>\n",
       "      <th>location_names</th>\n",
       "      <th>level</th>\n",
       "      <th>working</th>\n",
       "      <th>shopping</th>\n",
       "    </tr>\n",
       "  </thead>\n",
       "  <tbody>\n",
       "    <tr>\n",
       "      <th>0</th>\n",
       "      <td>01:04:2013</td>\n",
       "      <td>57600.0</td>\n",
       "      <td>3600.0</td>\n",
       "      <td>0.0</td>\n",
       "      <td>0.0</td>\n",
       "      <td>0.0</td>\n",
       "      <td>0.0</td>\n",
       "      <td>0.0</td>\n",
       "      <td>0.0</td>\n",
       "      <td>54.0</td>\n",
       "      <td>0,0,0,Class of 1978 Life Sciences Center,Class...</td>\n",
       "      <td>NaN</td>\n",
       "      <td>NaN</td>\n",
       "      <td>NaN</td>\n",
       "    </tr>\n",
       "    <tr>\n",
       "      <th>1</th>\n",
       "      <td>01:05:2013</td>\n",
       "      <td>82801.0</td>\n",
       "      <td>0.0</td>\n",
       "      <td>1199.0</td>\n",
       "      <td>0.0</td>\n",
       "      <td>0.0</td>\n",
       "      <td>2.0</td>\n",
       "      <td>0.0</td>\n",
       "      <td>0.0</td>\n",
       "      <td>54.0</td>\n",
       "      <td>0,Dartmouth College,Dartmouth College,Dartmout...</td>\n",
       "      <td>NaN</td>\n",
       "      <td>NaN</td>\n",
       "      <td>NaN</td>\n",
       "    </tr>\n",
       "    <tr>\n",
       "      <th>2</th>\n",
       "      <td>02:04:2013</td>\n",
       "      <td>151009.0</td>\n",
       "      <td>0.0</td>\n",
       "      <td>0.0</td>\n",
       "      <td>3600.0</td>\n",
       "      <td>0.0</td>\n",
       "      <td>1.0</td>\n",
       "      <td>0.0</td>\n",
       "      <td>0.0</td>\n",
       "      <td>54.0</td>\n",
       "      <td>Dartmouth College,0,0,Alumni Gymnasium,Alumni ...</td>\n",
       "      <td>NaN</td>\n",
       "      <td>NaN</td>\n",
       "      <td>NaN</td>\n",
       "    </tr>\n",
       "    <tr>\n",
       "      <th>3</th>\n",
       "      <td>02:05:2013</td>\n",
       "      <td>92145.0</td>\n",
       "      <td>0.0</td>\n",
       "      <td>0.0</td>\n",
       "      <td>0.0</td>\n",
       "      <td>0.0</td>\n",
       "      <td>3.0</td>\n",
       "      <td>0.0</td>\n",
       "      <td>0.0</td>\n",
       "      <td>54.0</td>\n",
       "      <td>Dartmouth College,0,0,0,Dartmouth College,Dart...</td>\n",
       "      <td>1.000000</td>\n",
       "      <td>NaN</td>\n",
       "      <td>NaN</td>\n",
       "    </tr>\n",
       "    <tr>\n",
       "      <th>4</th>\n",
       "      <td>03:04:2013</td>\n",
       "      <td>12000.0</td>\n",
       "      <td>3600.0</td>\n",
       "      <td>0.0</td>\n",
       "      <td>0.0</td>\n",
       "      <td>0.0</td>\n",
       "      <td>2.0</td>\n",
       "      <td>0.0</td>\n",
       "      <td>0.0</td>\n",
       "      <td>54.0</td>\n",
       "      <td>0,Class of 1978 Life Sciences Center,Class of ...</td>\n",
       "      <td>NaN</td>\n",
       "      <td>NaN</td>\n",
       "      <td>NaN</td>\n",
       "    </tr>\n",
       "    <tr>\n",
       "      <th>...</th>\n",
       "      <td>...</td>\n",
       "      <td>...</td>\n",
       "      <td>...</td>\n",
       "      <td>...</td>\n",
       "      <td>...</td>\n",
       "      <td>...</td>\n",
       "      <td>...</td>\n",
       "      <td>...</td>\n",
       "      <td>...</td>\n",
       "      <td>...</td>\n",
       "      <td>...</td>\n",
       "      <td>...</td>\n",
       "      <td>...</td>\n",
       "      <td>...</td>\n",
       "    </tr>\n",
       "    <tr>\n",
       "      <th>53</th>\n",
       "      <td>29:03:2013</td>\n",
       "      <td>174000.0</td>\n",
       "      <td>4800.0</td>\n",
       "      <td>0.0</td>\n",
       "      <td>0.0</td>\n",
       "      <td>0.0</td>\n",
       "      <td>4.0</td>\n",
       "      <td>0.0</td>\n",
       "      <td>0.0</td>\n",
       "      <td>59.0</td>\n",
       "      <td>0,0,0,Dartmouth College,Dartmouth College,0,0,...</td>\n",
       "      <td>3.800000</td>\n",
       "      <td>0.0</td>\n",
       "      <td>NaN</td>\n",
       "    </tr>\n",
       "    <tr>\n",
       "      <th>54</th>\n",
       "      <td>29:04:2013</td>\n",
       "      <td>94828.0</td>\n",
       "      <td>0.0</td>\n",
       "      <td>1201.0</td>\n",
       "      <td>0.0</td>\n",
       "      <td>0.0</td>\n",
       "      <td>0.0</td>\n",
       "      <td>0.0</td>\n",
       "      <td>0.0</td>\n",
       "      <td>59.0</td>\n",
       "      <td>0,Dana Circle Parking Lot,Life Sciences Greenh...</td>\n",
       "      <td>1.571429</td>\n",
       "      <td>0.0</td>\n",
       "      <td>NaN</td>\n",
       "    </tr>\n",
       "    <tr>\n",
       "      <th>55</th>\n",
       "      <td>29:05:2013</td>\n",
       "      <td>64201.0</td>\n",
       "      <td>0.0</td>\n",
       "      <td>0.0</td>\n",
       "      <td>1266.0</td>\n",
       "      <td>0.0</td>\n",
       "      <td>2.0</td>\n",
       "      <td>0.0</td>\n",
       "      <td>0.0</td>\n",
       "      <td>59.0</td>\n",
       "      <td>Jewel of India,0,0,0,0,0,0,Life Sciences Green...</td>\n",
       "      <td>2.000000</td>\n",
       "      <td>0.0</td>\n",
       "      <td>NaN</td>\n",
       "    </tr>\n",
       "    <tr>\n",
       "      <th>56</th>\n",
       "      <td>30:04:2013</td>\n",
       "      <td>3599.0</td>\n",
       "      <td>0.0</td>\n",
       "      <td>0.0</td>\n",
       "      <td>0.0</td>\n",
       "      <td>0.0</td>\n",
       "      <td>1.0</td>\n",
       "      <td>0.0</td>\n",
       "      <td>0.0</td>\n",
       "      <td>59.0</td>\n",
       "      <td>Dartmouth College</td>\n",
       "      <td>2.666667</td>\n",
       "      <td>0.0</td>\n",
       "      <td>NaN</td>\n",
       "    </tr>\n",
       "    <tr>\n",
       "      <th>57</th>\n",
       "      <td>31:03:2013</td>\n",
       "      <td>151116.0</td>\n",
       "      <td>0.0</td>\n",
       "      <td>3600.0</td>\n",
       "      <td>0.0</td>\n",
       "      <td>0.0</td>\n",
       "      <td>-1.0</td>\n",
       "      <td>0.0</td>\n",
       "      <td>0.0</td>\n",
       "      <td>59.0</td>\n",
       "      <td>0,0,0</td>\n",
       "      <td>2.000000</td>\n",
       "      <td>0.0</td>\n",
       "      <td>NaN</td>\n",
       "    </tr>\n",
       "  </tbody>\n",
       "</table>\n",
       "<p>2031 rows × 14 columns</p>\n",
       "</div>"
      ],
      "text/plain": [
       "          date  home_time  school_time  travel_time  recreational_activities  \\\n",
       "0   01:04:2013    57600.0       3600.0          0.0                      0.0   \n",
       "1   01:05:2013    82801.0          0.0       1199.0                      0.0   \n",
       "2   02:04:2013   151009.0          0.0          0.0                   3600.0   \n",
       "3   02:05:2013    92145.0          0.0          0.0                      0.0   \n",
       "4   03:04:2013    12000.0       3600.0          0.0                      0.0   \n",
       "..         ...        ...          ...          ...                      ...   \n",
       "53  29:03:2013   174000.0       4800.0          0.0                      0.0   \n",
       "54  29:04:2013    94828.0          0.0       1201.0                      0.0   \n",
       "55  29:05:2013    64201.0          0.0          0.0                   1266.0   \n",
       "56  30:04:2013     3599.0          0.0          0.0                      0.0   \n",
       "57  31:03:2013   151116.0          0.0       3600.0                      0.0   \n",
       "\n",
       "    orthers  date_in_week  cut_class  class_schedule  volunteer  \\\n",
       "0       0.0           0.0        0.0             0.0       54.0   \n",
       "1       0.0           2.0        0.0             0.0       54.0   \n",
       "2       0.0           1.0        0.0             0.0       54.0   \n",
       "3       0.0           3.0        0.0             0.0       54.0   \n",
       "4       0.0           2.0        0.0             0.0       54.0   \n",
       "..      ...           ...        ...             ...        ...   \n",
       "53      0.0           4.0        0.0             0.0       59.0   \n",
       "54      0.0           0.0        0.0             0.0       59.0   \n",
       "55      0.0           2.0        0.0             0.0       59.0   \n",
       "56      0.0           1.0        0.0             0.0       59.0   \n",
       "57      0.0          -1.0        0.0             0.0       59.0   \n",
       "\n",
       "                                       location_names     level  working  \\\n",
       "0   0,0,0,Class of 1978 Life Sciences Center,Class...       NaN      NaN   \n",
       "1   0,Dartmouth College,Dartmouth College,Dartmout...       NaN      NaN   \n",
       "2   Dartmouth College,0,0,Alumni Gymnasium,Alumni ...       NaN      NaN   \n",
       "3   Dartmouth College,0,0,0,Dartmouth College,Dart...  1.000000      NaN   \n",
       "4   0,Class of 1978 Life Sciences Center,Class of ...       NaN      NaN   \n",
       "..                                                ...       ...      ...   \n",
       "53  0,0,0,Dartmouth College,Dartmouth College,0,0,...  3.800000      0.0   \n",
       "54  0,Dana Circle Parking Lot,Life Sciences Greenh...  1.571429      0.0   \n",
       "55  Jewel of India,0,0,0,0,0,0,Life Sciences Green...  2.000000      0.0   \n",
       "56                                  Dartmouth College  2.666667      0.0   \n",
       "57                                              0,0,0  2.000000      0.0   \n",
       "\n",
       "    shopping  \n",
       "0        NaN  \n",
       "1        NaN  \n",
       "2        NaN  \n",
       "3        NaN  \n",
       "4        NaN  \n",
       "..       ...  \n",
       "53       NaN  \n",
       "54       NaN  \n",
       "55       NaN  \n",
       "56       NaN  \n",
       "57       NaN  \n",
       "\n",
       "[2031 rows x 14 columns]"
      ]
     },
     "execution_count": 3,
     "metadata": {},
     "output_type": "execute_result"
    }
   ],
   "source": [
    "df=None\n",
    "for f in file:\n",
    "\n",
    "    data=pd.read_csv(f)\n",
    "    if df is None:\n",
    "        df=data\n",
    "    else:\n",
    "        df=pd.concat([df,data])\n",
    "# df=df.drop('Unnamed: 0',axis=1)\n",
    "df"
   ]
  },
  {
   "cell_type": "code",
   "execution_count": 4,
   "id": "3792fa11",
   "metadata": {
    "scrolled": false
   },
   "outputs": [
    {
     "data": {
      "text/html": [
       "<div>\n",
       "<style scoped>\n",
       "    .dataframe tbody tr th:only-of-type {\n",
       "        vertical-align: middle;\n",
       "    }\n",
       "\n",
       "    .dataframe tbody tr th {\n",
       "        vertical-align: top;\n",
       "    }\n",
       "\n",
       "    .dataframe thead th {\n",
       "        text-align: right;\n",
       "    }\n",
       "</style>\n",
       "<table border=\"1\" class=\"dataframe\">\n",
       "  <thead>\n",
       "    <tr style=\"text-align: right;\">\n",
       "      <th></th>\n",
       "      <th>home_time</th>\n",
       "      <th>school_time</th>\n",
       "      <th>travel_time</th>\n",
       "      <th>recreational_activities</th>\n",
       "      <th>orthers</th>\n",
       "      <th>date_in_week</th>\n",
       "      <th>cut_class</th>\n",
       "      <th>class_schedule</th>\n",
       "      <th>volunteer</th>\n",
       "      <th>level</th>\n",
       "      <th>working</th>\n",
       "      <th>shopping</th>\n",
       "    </tr>\n",
       "  </thead>\n",
       "  <tbody>\n",
       "    <tr>\n",
       "      <th>count</th>\n",
       "      <td>2.031000e+03</td>\n",
       "      <td>2031.000000</td>\n",
       "      <td>2031.000000</td>\n",
       "      <td>1963.000000</td>\n",
       "      <td>1909.000000</td>\n",
       "      <td>2031.000000</td>\n",
       "      <td>2031.000000</td>\n",
       "      <td>2031.000000</td>\n",
       "      <td>2031.000000</td>\n",
       "      <td>883.000000</td>\n",
       "      <td>1300.000000</td>\n",
       "      <td>858.000000</td>\n",
       "    </tr>\n",
       "    <tr>\n",
       "      <th>mean</th>\n",
       "      <td>7.097842e+04</td>\n",
       "      <td>8169.875431</td>\n",
       "      <td>3462.949286</td>\n",
       "      <td>4282.776872</td>\n",
       "      <td>4311.299109</td>\n",
       "      <td>2.053176</td>\n",
       "      <td>0.308223</td>\n",
       "      <td>3388.183161</td>\n",
       "      <td>29.756770</td>\n",
       "      <td>2.131301</td>\n",
       "      <td>8118.425385</td>\n",
       "      <td>1003.696970</td>\n",
       "    </tr>\n",
       "    <tr>\n",
       "      <th>std</th>\n",
       "      <td>6.543258e+04</td>\n",
       "      <td>27125.343686</td>\n",
       "      <td>16952.329688</td>\n",
       "      <td>14073.531784</td>\n",
       "      <td>23836.924124</td>\n",
       "      <td>1.942303</td>\n",
       "      <td>0.461873</td>\n",
       "      <td>4205.124507</td>\n",
       "      <td>18.542082</td>\n",
       "      <td>1.161119</td>\n",
       "      <td>26219.545030</td>\n",
       "      <td>8582.119141</td>\n",
       "    </tr>\n",
       "    <tr>\n",
       "      <th>min</th>\n",
       "      <td>0.000000e+00</td>\n",
       "      <td>0.000000</td>\n",
       "      <td>0.000000</td>\n",
       "      <td>0.000000</td>\n",
       "      <td>0.000000</td>\n",
       "      <td>-1.000000</td>\n",
       "      <td>0.000000</td>\n",
       "      <td>0.000000</td>\n",
       "      <td>1.000000</td>\n",
       "      <td>1.000000</td>\n",
       "      <td>0.000000</td>\n",
       "      <td>0.000000</td>\n",
       "    </tr>\n",
       "    <tr>\n",
       "      <th>25%</th>\n",
       "      <td>3.720000e+04</td>\n",
       "      <td>0.000000</td>\n",
       "      <td>0.000000</td>\n",
       "      <td>0.000000</td>\n",
       "      <td>0.000000</td>\n",
       "      <td>0.000000</td>\n",
       "      <td>0.000000</td>\n",
       "      <td>0.000000</td>\n",
       "      <td>15.000000</td>\n",
       "      <td>1.000000</td>\n",
       "      <td>0.000000</td>\n",
       "      <td>0.000000</td>\n",
       "    </tr>\n",
       "    <tr>\n",
       "      <th>50%</th>\n",
       "      <td>6.817400e+04</td>\n",
       "      <td>1200.000000</td>\n",
       "      <td>0.000000</td>\n",
       "      <td>0.000000</td>\n",
       "      <td>0.000000</td>\n",
       "      <td>2.000000</td>\n",
       "      <td>0.000000</td>\n",
       "      <td>0.000000</td>\n",
       "      <td>31.000000</td>\n",
       "      <td>2.000000</td>\n",
       "      <td>0.000000</td>\n",
       "      <td>0.000000</td>\n",
       "    </tr>\n",
       "    <tr>\n",
       "      <th>75%</th>\n",
       "      <td>8.426250e+04</td>\n",
       "      <td>5996.500000</td>\n",
       "      <td>0.000000</td>\n",
       "      <td>4200.000000</td>\n",
       "      <td>0.000000</td>\n",
       "      <td>4.000000</td>\n",
       "      <td>1.000000</td>\n",
       "      <td>6900.000000</td>\n",
       "      <td>46.000000</td>\n",
       "      <td>3.000000</td>\n",
       "      <td>1200.000000</td>\n",
       "      <td>0.000000</td>\n",
       "    </tr>\n",
       "    <tr>\n",
       "      <th>max</th>\n",
       "      <td>1.119834e+06</td>\n",
       "      <td>532875.000000</td>\n",
       "      <td>369876.000000</td>\n",
       "      <td>425628.000000</td>\n",
       "      <td>533364.000000</td>\n",
       "      <td>5.000000</td>\n",
       "      <td>1.000000</td>\n",
       "      <td>14400.000000</td>\n",
       "      <td>59.000000</td>\n",
       "      <td>5.000000</td>\n",
       "      <td>517676.000000</td>\n",
       "      <td>136800.000000</td>\n",
       "    </tr>\n",
       "  </tbody>\n",
       "</table>\n",
       "</div>"
      ],
      "text/plain": [
       "          home_time    school_time    travel_time  recreational_activities  \\\n",
       "count  2.031000e+03    2031.000000    2031.000000              1963.000000   \n",
       "mean   7.097842e+04    8169.875431    3462.949286              4282.776872   \n",
       "std    6.543258e+04   27125.343686   16952.329688             14073.531784   \n",
       "min    0.000000e+00       0.000000       0.000000                 0.000000   \n",
       "25%    3.720000e+04       0.000000       0.000000                 0.000000   \n",
       "50%    6.817400e+04    1200.000000       0.000000                 0.000000   \n",
       "75%    8.426250e+04    5996.500000       0.000000              4200.000000   \n",
       "max    1.119834e+06  532875.000000  369876.000000            425628.000000   \n",
       "\n",
       "             orthers  date_in_week    cut_class  class_schedule    volunteer  \\\n",
       "count    1909.000000   2031.000000  2031.000000     2031.000000  2031.000000   \n",
       "mean     4311.299109      2.053176     0.308223     3388.183161    29.756770   \n",
       "std     23836.924124      1.942303     0.461873     4205.124507    18.542082   \n",
       "min         0.000000     -1.000000     0.000000        0.000000     1.000000   \n",
       "25%         0.000000      0.000000     0.000000        0.000000    15.000000   \n",
       "50%         0.000000      2.000000     0.000000        0.000000    31.000000   \n",
       "75%         0.000000      4.000000     1.000000     6900.000000    46.000000   \n",
       "max    533364.000000      5.000000     1.000000    14400.000000    59.000000   \n",
       "\n",
       "            level        working       shopping  \n",
       "count  883.000000    1300.000000     858.000000  \n",
       "mean     2.131301    8118.425385    1003.696970  \n",
       "std      1.161119   26219.545030    8582.119141  \n",
       "min      1.000000       0.000000       0.000000  \n",
       "25%      1.000000       0.000000       0.000000  \n",
       "50%      2.000000       0.000000       0.000000  \n",
       "75%      3.000000    1200.000000       0.000000  \n",
       "max      5.000000  517676.000000  136800.000000  "
      ]
     },
     "execution_count": 4,
     "metadata": {},
     "output_type": "execute_result"
    }
   ],
   "source": [
    "# df=df.drop('Unnamed: 0',axis=1)\n",
    "df.describe()"
   ]
  },
  {
   "cell_type": "code",
   "execution_count": 5,
   "id": "6a944934",
   "metadata": {},
   "outputs": [
    {
     "data": {
      "text/html": [
       "<div>\n",
       "<style scoped>\n",
       "    .dataframe tbody tr th:only-of-type {\n",
       "        vertical-align: middle;\n",
       "    }\n",
       "\n",
       "    .dataframe tbody tr th {\n",
       "        vertical-align: top;\n",
       "    }\n",
       "\n",
       "    .dataframe thead th {\n",
       "        text-align: right;\n",
       "    }\n",
       "</style>\n",
       "<table border=\"1\" class=\"dataframe\">\n",
       "  <thead>\n",
       "    <tr style=\"text-align: right;\">\n",
       "      <th></th>\n",
       "      <th>date</th>\n",
       "      <th>home_time</th>\n",
       "      <th>school_time</th>\n",
       "      <th>travel_time</th>\n",
       "      <th>recreational_activities</th>\n",
       "      <th>orthers</th>\n",
       "      <th>date_in_week</th>\n",
       "      <th>cut_class</th>\n",
       "      <th>class_schedule</th>\n",
       "      <th>volunteer</th>\n",
       "      <th>location_names</th>\n",
       "      <th>level</th>\n",
       "      <th>working</th>\n",
       "      <th>shopping</th>\n",
       "      <th>week</th>\n",
       "      <th>None_school_time</th>\n",
       "    </tr>\n",
       "  </thead>\n",
       "  <tbody>\n",
       "    <tr>\n",
       "      <th>0</th>\n",
       "      <td>01:04:2013</td>\n",
       "      <td>960</td>\n",
       "      <td>60</td>\n",
       "      <td>0</td>\n",
       "      <td>0</td>\n",
       "      <td>0</td>\n",
       "      <td>1.0</td>\n",
       "      <td>0.0</td>\n",
       "      <td>0.0</td>\n",
       "      <td>54.0</td>\n",
       "      <td>0,0,0,Class of 1978 Life Sciences Center,Class...</td>\n",
       "      <td>NaN</td>\n",
       "      <td>0</td>\n",
       "      <td>0</td>\n",
       "      <td>13</td>\n",
       "      <td>420</td>\n",
       "    </tr>\n",
       "    <tr>\n",
       "      <th>1</th>\n",
       "      <td>01:05:2013</td>\n",
       "      <td>1380</td>\n",
       "      <td>0</td>\n",
       "      <td>19</td>\n",
       "      <td>0</td>\n",
       "      <td>0</td>\n",
       "      <td>3.0</td>\n",
       "      <td>0.0</td>\n",
       "      <td>0.0</td>\n",
       "      <td>54.0</td>\n",
       "      <td>0,Dartmouth College,Dartmouth College,Dartmout...</td>\n",
       "      <td>NaN</td>\n",
       "      <td>0</td>\n",
       "      <td>0</td>\n",
       "      <td>17</td>\n",
       "      <td>60</td>\n",
       "    </tr>\n",
       "    <tr>\n",
       "      <th>2</th>\n",
       "      <td>02:04:2013</td>\n",
       "      <td>0</td>\n",
       "      <td>0</td>\n",
       "      <td>0</td>\n",
       "      <td>60</td>\n",
       "      <td>0</td>\n",
       "      <td>2.0</td>\n",
       "      <td>0.0</td>\n",
       "      <td>0.0</td>\n",
       "      <td>54.0</td>\n",
       "      <td>Dartmouth College,0,0,Alumni Gymnasium,Alumni ...</td>\n",
       "      <td>NaN</td>\n",
       "      <td>0</td>\n",
       "      <td>0</td>\n",
       "      <td>13</td>\n",
       "      <td>1440</td>\n",
       "    </tr>\n",
       "    <tr>\n",
       "      <th>3</th>\n",
       "      <td>02:05:2013</td>\n",
       "      <td>0</td>\n",
       "      <td>0</td>\n",
       "      <td>0</td>\n",
       "      <td>0</td>\n",
       "      <td>0</td>\n",
       "      <td>4.0</td>\n",
       "      <td>0.0</td>\n",
       "      <td>0.0</td>\n",
       "      <td>54.0</td>\n",
       "      <td>Dartmouth College,0,0,0,Dartmouth College,Dart...</td>\n",
       "      <td>1.000000</td>\n",
       "      <td>0</td>\n",
       "      <td>0</td>\n",
       "      <td>17</td>\n",
       "      <td>1440</td>\n",
       "    </tr>\n",
       "    <tr>\n",
       "      <th>4</th>\n",
       "      <td>03:04:2013</td>\n",
       "      <td>200</td>\n",
       "      <td>60</td>\n",
       "      <td>0</td>\n",
       "      <td>0</td>\n",
       "      <td>0</td>\n",
       "      <td>3.0</td>\n",
       "      <td>0.0</td>\n",
       "      <td>0.0</td>\n",
       "      <td>54.0</td>\n",
       "      <td>0,Class of 1978 Life Sciences Center,Class of ...</td>\n",
       "      <td>NaN</td>\n",
       "      <td>0</td>\n",
       "      <td>0</td>\n",
       "      <td>13</td>\n",
       "      <td>1180</td>\n",
       "    </tr>\n",
       "    <tr>\n",
       "      <th>...</th>\n",
       "      <td>...</td>\n",
       "      <td>...</td>\n",
       "      <td>...</td>\n",
       "      <td>...</td>\n",
       "      <td>...</td>\n",
       "      <td>...</td>\n",
       "      <td>...</td>\n",
       "      <td>...</td>\n",
       "      <td>...</td>\n",
       "      <td>...</td>\n",
       "      <td>...</td>\n",
       "      <td>...</td>\n",
       "      <td>...</td>\n",
       "      <td>...</td>\n",
       "      <td>...</td>\n",
       "      <td>...</td>\n",
       "    </tr>\n",
       "    <tr>\n",
       "      <th>53</th>\n",
       "      <td>29:03:2013</td>\n",
       "      <td>0</td>\n",
       "      <td>80</td>\n",
       "      <td>0</td>\n",
       "      <td>0</td>\n",
       "      <td>0</td>\n",
       "      <td>5.0</td>\n",
       "      <td>0.0</td>\n",
       "      <td>0.0</td>\n",
       "      <td>59.0</td>\n",
       "      <td>0,0,0,Dartmouth College,Dartmouth College,0,0,...</td>\n",
       "      <td>3.800000</td>\n",
       "      <td>0</td>\n",
       "      <td>0</td>\n",
       "      <td>12</td>\n",
       "      <td>1360</td>\n",
       "    </tr>\n",
       "    <tr>\n",
       "      <th>54</th>\n",
       "      <td>29:04:2013</td>\n",
       "      <td>0</td>\n",
       "      <td>0</td>\n",
       "      <td>20</td>\n",
       "      <td>0</td>\n",
       "      <td>0</td>\n",
       "      <td>1.0</td>\n",
       "      <td>0.0</td>\n",
       "      <td>0.0</td>\n",
       "      <td>59.0</td>\n",
       "      <td>0,Dana Circle Parking Lot,Life Sciences Greenh...</td>\n",
       "      <td>1.571429</td>\n",
       "      <td>0</td>\n",
       "      <td>0</td>\n",
       "      <td>17</td>\n",
       "      <td>1440</td>\n",
       "    </tr>\n",
       "    <tr>\n",
       "      <th>55</th>\n",
       "      <td>29:05:2013</td>\n",
       "      <td>1070</td>\n",
       "      <td>0</td>\n",
       "      <td>0</td>\n",
       "      <td>21</td>\n",
       "      <td>0</td>\n",
       "      <td>3.0</td>\n",
       "      <td>0.0</td>\n",
       "      <td>0.0</td>\n",
       "      <td>59.0</td>\n",
       "      <td>Jewel of India,0,0,0,0,0,0,Life Sciences Green...</td>\n",
       "      <td>2.000000</td>\n",
       "      <td>0</td>\n",
       "      <td>0</td>\n",
       "      <td>21</td>\n",
       "      <td>370</td>\n",
       "    </tr>\n",
       "    <tr>\n",
       "      <th>56</th>\n",
       "      <td>30:04:2013</td>\n",
       "      <td>59</td>\n",
       "      <td>0</td>\n",
       "      <td>0</td>\n",
       "      <td>0</td>\n",
       "      <td>0</td>\n",
       "      <td>2.0</td>\n",
       "      <td>0.0</td>\n",
       "      <td>0.0</td>\n",
       "      <td>59.0</td>\n",
       "      <td>Dartmouth College</td>\n",
       "      <td>2.666667</td>\n",
       "      <td>0</td>\n",
       "      <td>0</td>\n",
       "      <td>17</td>\n",
       "      <td>1381</td>\n",
       "    </tr>\n",
       "    <tr>\n",
       "      <th>57</th>\n",
       "      <td>31:03:2013</td>\n",
       "      <td>0</td>\n",
       "      <td>0</td>\n",
       "      <td>60</td>\n",
       "      <td>0</td>\n",
       "      <td>0</td>\n",
       "      <td>0.0</td>\n",
       "      <td>0.0</td>\n",
       "      <td>0.0</td>\n",
       "      <td>59.0</td>\n",
       "      <td>0,0,0</td>\n",
       "      <td>2.000000</td>\n",
       "      <td>0</td>\n",
       "      <td>0</td>\n",
       "      <td>12</td>\n",
       "      <td>1440</td>\n",
       "    </tr>\n",
       "  </tbody>\n",
       "</table>\n",
       "<p>2031 rows × 16 columns</p>\n",
       "</div>"
      ],
      "text/plain": [
       "          date  home_time  school_time  travel_time  recreational_activities  \\\n",
       "0   01:04:2013        960           60            0                        0   \n",
       "1   01:05:2013       1380            0           19                        0   \n",
       "2   02:04:2013          0            0            0                       60   \n",
       "3   02:05:2013          0            0            0                        0   \n",
       "4   03:04:2013        200           60            0                        0   \n",
       "..         ...        ...          ...          ...                      ...   \n",
       "53  29:03:2013          0           80            0                        0   \n",
       "54  29:04:2013          0            0           20                        0   \n",
       "55  29:05:2013       1070            0            0                       21   \n",
       "56  30:04:2013         59            0            0                        0   \n",
       "57  31:03:2013          0            0           60                        0   \n",
       "\n",
       "    orthers  date_in_week  cut_class  class_schedule  volunteer  \\\n",
       "0         0           1.0        0.0             0.0       54.0   \n",
       "1         0           3.0        0.0             0.0       54.0   \n",
       "2         0           2.0        0.0             0.0       54.0   \n",
       "3         0           4.0        0.0             0.0       54.0   \n",
       "4         0           3.0        0.0             0.0       54.0   \n",
       "..      ...           ...        ...             ...        ...   \n",
       "53        0           5.0        0.0             0.0       59.0   \n",
       "54        0           1.0        0.0             0.0       59.0   \n",
       "55        0           3.0        0.0             0.0       59.0   \n",
       "56        0           2.0        0.0             0.0       59.0   \n",
       "57        0           0.0        0.0             0.0       59.0   \n",
       "\n",
       "                                       location_names     level  working  \\\n",
       "0   0,0,0,Class of 1978 Life Sciences Center,Class...       NaN        0   \n",
       "1   0,Dartmouth College,Dartmouth College,Dartmout...       NaN        0   \n",
       "2   Dartmouth College,0,0,Alumni Gymnasium,Alumni ...       NaN        0   \n",
       "3   Dartmouth College,0,0,0,Dartmouth College,Dart...  1.000000        0   \n",
       "4   0,Class of 1978 Life Sciences Center,Class of ...       NaN        0   \n",
       "..                                                ...       ...      ...   \n",
       "53  0,0,0,Dartmouth College,Dartmouth College,0,0,...  3.800000        0   \n",
       "54  0,Dana Circle Parking Lot,Life Sciences Greenh...  1.571429        0   \n",
       "55  Jewel of India,0,0,0,0,0,0,Life Sciences Green...  2.000000        0   \n",
       "56                                  Dartmouth College  2.666667        0   \n",
       "57                                              0,0,0  2.000000        0   \n",
       "\n",
       "    shopping week  None_school_time  \n",
       "0          0   13               420  \n",
       "1          0   17                60  \n",
       "2          0   13              1440  \n",
       "3          0   17              1440  \n",
       "4          0   13              1180  \n",
       "..       ...  ...               ...  \n",
       "53         0   12              1360  \n",
       "54         0   17              1440  \n",
       "55         0   21               370  \n",
       "56         0   17              1381  \n",
       "57         0   12              1440  \n",
       "\n",
       "[2031 rows x 16 columns]"
      ]
     },
     "execution_count": 5,
     "metadata": {},
     "output_type": "execute_result"
    }
   ],
   "source": [
    "def offset(data):\n",
    "    try:\n",
    "        if float(data)>86400:\n",
    "            return 0\n",
    "        return data\n",
    "    except:\n",
    "        return data\n",
    "def to_min(time):\n",
    "    try:\n",
    "        return int(time/60)\n",
    "    except: return time\n",
    "    \n",
    "time_type='%d:%m:%Y'\n",
    "week=[]\n",
    "def transform_week(time):\n",
    "        time=datetime.strptime(time,time_type)\n",
    "        return datetime.strftime(time,'%W')\n",
    "for date in df.date.values:\n",
    "    week.append(transform_week(date))\n",
    "df['week']=week\n",
    "for col in [ 'home_time', 'school_time', 'travel_time',\n",
    "            'recreational_activities', 'orthers','working', 'shopping']:\n",
    "    df[col]=df[col].apply(lambda x: offset(x))\n",
    "    df[col]=df[col].fillna(0)\n",
    "\n",
    "for col in [ 'home_time', 'school_time', 'travel_time',\n",
    "            'recreational_activities', 'orthers','working', 'shopping']:\n",
    "    df[col]=df[col].apply(lambda x: to_min(x))\n",
    "df['date_in_week']=df['date_in_week'].values+1\n",
    "df['None_school_time']=1440-df.school_time-df.home_time\n",
    "df"
   ]
  },
  {
   "cell_type": "code",
   "execution_count": 6,
   "id": "832aed73",
   "metadata": {},
   "outputs": [],
   "source": [
    "# from bioinfokit.analys import stat\n",
    "# ANOVA=None\n",
    "# for col in df.columns:\n",
    "#     if col not in ['date','level','volunteer']:\n",
    "#         res = stat()\n",
    "#         res.anova_stat(df=df, res_var='level'\n",
    "#                              , anova_model=f\"level ~ C({col})\")\n",
    "# #         print(res.anova_summary.iloc[0,:])\n",
    "#         if ANOVA is None:\n",
    "#             ANOVA=res.anova_summary\n",
    "#         else:\n",
    "#             ANOVA=pd.concat([ANOVA,res.anova_summary])"
   ]
  },
  {
   "cell_type": "code",
   "execution_count": 7,
   "id": "730a7330",
   "metadata": {},
   "outputs": [],
   "source": [
    "# ANOVA=ANOVA.drop('Residual')"
   ]
  },
  {
   "cell_type": "code",
   "execution_count": 8,
   "id": "ce4d9788",
   "metadata": {
    "scrolled": true
   },
   "outputs": [],
   "source": [
    "# ANOVA['PR(>F)']=ANOVA['PR(>F)']*100"
   ]
  },
  {
   "cell_type": "code",
   "execution_count": 9,
   "id": "3f404c58",
   "metadata": {
    "scrolled": true
   },
   "outputs": [],
   "source": [
    "# ANOVA['PR(>F)']=ANOVA['PR(>F)'].astype(int)\n",
    "# ANOVA=ANOVA.rename(columns={'PR(>F)':'p_value(%)'})\n",
    "# ANOVA"
   ]
  },
  {
   "cell_type": "code",
   "execution_count": 10,
   "id": "ed5cd790",
   "metadata": {},
   "outputs": [],
   "source": [
    "# import dataframe_image as dfi\n",
    "# dfi.export(ANOVA ,'../ANOVA_table_final_data_no_filter.png')"
   ]
  },
  {
   "cell_type": "code",
   "execution_count": 11,
   "id": "f8367ae3",
   "metadata": {
    "scrolled": false
   },
   "outputs": [],
   "source": [
    "def group_stress(data):\n",
    "    if data==1:\n",
    "        return 0\n",
    "    if data < 4:\n",
    "        return 1\n",
    "    return 0\n",
    "df['level']=df['level'].apply(lambda x:group_stress(x)).astype('category')"
   ]
  },
  {
   "cell_type": "code",
   "execution_count": 12,
   "id": "5d0ab69a",
   "metadata": {
    "scrolled": true
   },
   "outputs": [
    {
     "data": {
      "image/png": "[encoded data removed]",
      "text/plain": [
       "<Figure size 1000x1000 with 2 Axes>"
      ]
     },
     "metadata": {},
     "output_type": "display_data"
    }
   ],
   "source": [
    "corr=df[[ 'home_time', 'school_time', 'travel_time', 'date_in_week',\n",
    "        'recreational_activities', 'orthers',\n",
    "       'working', 'shopping','None_school_time','cut_class','level']].corr()\n",
    "ax,fig=plt.subplots(figsize=(10,10))\n",
    "sns.heatmap(corr,annot=True)\n",
    "plt.savefig('../image/corr.png')"
   ]
  },
  {
   "cell_type": "code",
   "execution_count": 13,
   "id": "82cf1fbc",
   "metadata": {
    "scrolled": true
   },
   "outputs": [
    {
     "name": "stderr",
     "output_type": "stream",
     "text": [
      "/Users/khangphan/anaconda3/lib/python3.10/site-packages/seaborn/_oldcore.py:1498: FutureWarning: is_categorical_dtype is deprecated and will be removed in a future version. Use isinstance(dtype, CategoricalDtype) instead\n",
      "  if pd.api.types.is_categorical_dtype(vector):\n",
      "/Users/khangphan/anaconda3/lib/python3.10/site-packages/seaborn/_oldcore.py:1498: FutureWarning: is_categorical_dtype is deprecated and will be removed in a future version. Use isinstance(dtype, CategoricalDtype) instead\n",
      "  if pd.api.types.is_categorical_dtype(vector):\n",
      "/Users/khangphan/anaconda3/lib/python3.10/site-packages/seaborn/_oldcore.py:1119: FutureWarning: use_inf_as_na option is deprecated and will be removed in a future version. Convert inf values to NaN before operating instead.\n",
      "  with pd.option_context('mode.use_inf_as_na', True):\n",
      "/Users/khangphan/anaconda3/lib/python3.10/site-packages/seaborn/_oldcore.py:1119: FutureWarning: use_inf_as_na option is deprecated and will be removed in a future version. Convert inf values to NaN before operating instead.\n",
      "  with pd.option_context('mode.use_inf_as_na', True):\n"
     ]
    },
    {
     "data": {
      "image/png": "[encoded data removed]",
      "text/plain": [
       "<Figure size 640x480 with 2 Axes>"
      ]
     },
     "metadata": {},
     "output_type": "display_data"
    }
   ],
   "source": [
    "sns.histplot(df,x='home_time',y='date_in_week',cbar=True)\n",
    "plt.savefig('../image/hometime vs day.png')"
   ]
  },
  {
   "cell_type": "code",
   "execution_count": null,
   "id": "4fbe5234",
   "metadata": {},
   "outputs": [],
   "source": []
  },
  {
   "cell_type": "code",
   "execution_count": null,
   "id": "406ac8dc",
   "metadata": {},
   "outputs": [],
   "source": [
    "\n"
   ]
  },
  {
   "cell_type": "code",
   "execution_count": 14,
   "id": "c925f865",
   "metadata": {
    "scrolled": false
   },
   "outputs": [
    {
     "data": {
      "text/html": [
       "<div>\n",
       "<style scoped>\n",
       "    .dataframe tbody tr th:only-of-type {\n",
       "        vertical-align: middle;\n",
       "    }\n",
       "\n",
       "    .dataframe tbody tr th {\n",
       "        vertical-align: top;\n",
       "    }\n",
       "\n",
       "    .dataframe thead th {\n",
       "        text-align: right;\n",
       "    }\n",
       "</style>\n",
       "<table border=\"1\" class=\"dataframe\">\n",
       "  <thead>\n",
       "    <tr style=\"text-align: right;\">\n",
       "      <th></th>\n",
       "      <th>date</th>\n",
       "      <th>home_time</th>\n",
       "      <th>school_time</th>\n",
       "      <th>travel_time</th>\n",
       "      <th>recreational_activities</th>\n",
       "      <th>orthers</th>\n",
       "      <th>date_in_week</th>\n",
       "      <th>cut_class</th>\n",
       "      <th>class_schedule</th>\n",
       "      <th>volunteer</th>\n",
       "      <th>location_names</th>\n",
       "      <th>level</th>\n",
       "      <th>working</th>\n",
       "      <th>shopping</th>\n",
       "      <th>week</th>\n",
       "      <th>None_school_time</th>\n",
       "    </tr>\n",
       "  </thead>\n",
       "  <tbody>\n",
       "    <tr>\n",
       "      <th>0</th>\n",
       "      <td>01:04:2013</td>\n",
       "      <td>960</td>\n",
       "      <td>60</td>\n",
       "      <td>0</td>\n",
       "      <td>0</td>\n",
       "      <td>0</td>\n",
       "      <td>1.0</td>\n",
       "      <td>0.0</td>\n",
       "      <td>0.0</td>\n",
       "      <td>54.0</td>\n",
       "      <td>0,0,0,Class of 1978 Life Sciences Center,Class...</td>\n",
       "      <td>0</td>\n",
       "      <td>0</td>\n",
       "      <td>0</td>\n",
       "      <td>13</td>\n",
       "      <td>420</td>\n",
       "    </tr>\n",
       "    <tr>\n",
       "      <th>1</th>\n",
       "      <td>01:05:2013</td>\n",
       "      <td>1380</td>\n",
       "      <td>0</td>\n",
       "      <td>19</td>\n",
       "      <td>0</td>\n",
       "      <td>0</td>\n",
       "      <td>3.0</td>\n",
       "      <td>0.0</td>\n",
       "      <td>0.0</td>\n",
       "      <td>54.0</td>\n",
       "      <td>0,Dartmouth College,Dartmouth College,Dartmout...</td>\n",
       "      <td>0</td>\n",
       "      <td>0</td>\n",
       "      <td>0</td>\n",
       "      <td>17</td>\n",
       "      <td>60</td>\n",
       "    </tr>\n",
       "    <tr>\n",
       "      <th>2</th>\n",
       "      <td>02:04:2013</td>\n",
       "      <td>0</td>\n",
       "      <td>0</td>\n",
       "      <td>0</td>\n",
       "      <td>60</td>\n",
       "      <td>0</td>\n",
       "      <td>2.0</td>\n",
       "      <td>0.0</td>\n",
       "      <td>0.0</td>\n",
       "      <td>54.0</td>\n",
       "      <td>Dartmouth College,0,0,Alumni Gymnasium,Alumni ...</td>\n",
       "      <td>0</td>\n",
       "      <td>0</td>\n",
       "      <td>0</td>\n",
       "      <td>13</td>\n",
       "      <td>1440</td>\n",
       "    </tr>\n",
       "    <tr>\n",
       "      <th>3</th>\n",
       "      <td>02:05:2013</td>\n",
       "      <td>0</td>\n",
       "      <td>0</td>\n",
       "      <td>0</td>\n",
       "      <td>0</td>\n",
       "      <td>0</td>\n",
       "      <td>4.0</td>\n",
       "      <td>0.0</td>\n",
       "      <td>0.0</td>\n",
       "      <td>54.0</td>\n",
       "      <td>Dartmouth College,0,0,0,Dartmouth College,Dart...</td>\n",
       "      <td>0</td>\n",
       "      <td>0</td>\n",
       "      <td>0</td>\n",
       "      <td>17</td>\n",
       "      <td>1440</td>\n",
       "    </tr>\n",
       "    <tr>\n",
       "      <th>4</th>\n",
       "      <td>03:04:2013</td>\n",
       "      <td>200</td>\n",
       "      <td>60</td>\n",
       "      <td>0</td>\n",
       "      <td>0</td>\n",
       "      <td>0</td>\n",
       "      <td>3.0</td>\n",
       "      <td>0.0</td>\n",
       "      <td>0.0</td>\n",
       "      <td>54.0</td>\n",
       "      <td>0,Class of 1978 Life Sciences Center,Class of ...</td>\n",
       "      <td>0</td>\n",
       "      <td>0</td>\n",
       "      <td>0</td>\n",
       "      <td>13</td>\n",
       "      <td>1180</td>\n",
       "    </tr>\n",
       "    <tr>\n",
       "      <th>...</th>\n",
       "      <td>...</td>\n",
       "      <td>...</td>\n",
       "      <td>...</td>\n",
       "      <td>...</td>\n",
       "      <td>...</td>\n",
       "      <td>...</td>\n",
       "      <td>...</td>\n",
       "      <td>...</td>\n",
       "      <td>...</td>\n",
       "      <td>...</td>\n",
       "      <td>...</td>\n",
       "      <td>...</td>\n",
       "      <td>...</td>\n",
       "      <td>...</td>\n",
       "      <td>...</td>\n",
       "      <td>...</td>\n",
       "    </tr>\n",
       "    <tr>\n",
       "      <th>53</th>\n",
       "      <td>29:03:2013</td>\n",
       "      <td>0</td>\n",
       "      <td>80</td>\n",
       "      <td>0</td>\n",
       "      <td>0</td>\n",
       "      <td>0</td>\n",
       "      <td>5.0</td>\n",
       "      <td>0.0</td>\n",
       "      <td>0.0</td>\n",
       "      <td>59.0</td>\n",
       "      <td>0,0,0,Dartmouth College,Dartmouth College,0,0,...</td>\n",
       "      <td>1</td>\n",
       "      <td>0</td>\n",
       "      <td>0</td>\n",
       "      <td>12</td>\n",
       "      <td>1360</td>\n",
       "    </tr>\n",
       "    <tr>\n",
       "      <th>54</th>\n",
       "      <td>29:04:2013</td>\n",
       "      <td>0</td>\n",
       "      <td>0</td>\n",
       "      <td>20</td>\n",
       "      <td>0</td>\n",
       "      <td>0</td>\n",
       "      <td>1.0</td>\n",
       "      <td>0.0</td>\n",
       "      <td>0.0</td>\n",
       "      <td>59.0</td>\n",
       "      <td>0,Dana Circle Parking Lot,Life Sciences Greenh...</td>\n",
       "      <td>1</td>\n",
       "      <td>0</td>\n",
       "      <td>0</td>\n",
       "      <td>17</td>\n",
       "      <td>1440</td>\n",
       "    </tr>\n",
       "    <tr>\n",
       "      <th>55</th>\n",
       "      <td>29:05:2013</td>\n",
       "      <td>1070</td>\n",
       "      <td>0</td>\n",
       "      <td>0</td>\n",
       "      <td>21</td>\n",
       "      <td>0</td>\n",
       "      <td>3.0</td>\n",
       "      <td>0.0</td>\n",
       "      <td>0.0</td>\n",
       "      <td>59.0</td>\n",
       "      <td>Jewel of India,0,0,0,0,0,0,Life Sciences Green...</td>\n",
       "      <td>1</td>\n",
       "      <td>0</td>\n",
       "      <td>0</td>\n",
       "      <td>21</td>\n",
       "      <td>370</td>\n",
       "    </tr>\n",
       "    <tr>\n",
       "      <th>56</th>\n",
       "      <td>30:04:2013</td>\n",
       "      <td>59</td>\n",
       "      <td>0</td>\n",
       "      <td>0</td>\n",
       "      <td>0</td>\n",
       "      <td>0</td>\n",
       "      <td>2.0</td>\n",
       "      <td>0.0</td>\n",
       "      <td>0.0</td>\n",
       "      <td>59.0</td>\n",
       "      <td>Dartmouth College</td>\n",
       "      <td>1</td>\n",
       "      <td>0</td>\n",
       "      <td>0</td>\n",
       "      <td>17</td>\n",
       "      <td>1381</td>\n",
       "    </tr>\n",
       "    <tr>\n",
       "      <th>57</th>\n",
       "      <td>31:03:2013</td>\n",
       "      <td>0</td>\n",
       "      <td>0</td>\n",
       "      <td>60</td>\n",
       "      <td>0</td>\n",
       "      <td>0</td>\n",
       "      <td>0.0</td>\n",
       "      <td>0.0</td>\n",
       "      <td>0.0</td>\n",
       "      <td>59.0</td>\n",
       "      <td>0,0,0</td>\n",
       "      <td>1</td>\n",
       "      <td>0</td>\n",
       "      <td>0</td>\n",
       "      <td>12</td>\n",
       "      <td>1440</td>\n",
       "    </tr>\n",
       "  </tbody>\n",
       "</table>\n",
       "<p>2031 rows × 16 columns</p>\n",
       "</div>"
      ],
      "text/plain": [
       "          date  home_time  school_time  travel_time  recreational_activities  \\\n",
       "0   01:04:2013        960           60            0                        0   \n",
       "1   01:05:2013       1380            0           19                        0   \n",
       "2   02:04:2013          0            0            0                       60   \n",
       "3   02:05:2013          0            0            0                        0   \n",
       "4   03:04:2013        200           60            0                        0   \n",
       "..         ...        ...          ...          ...                      ...   \n",
       "53  29:03:2013          0           80            0                        0   \n",
       "54  29:04:2013          0            0           20                        0   \n",
       "55  29:05:2013       1070            0            0                       21   \n",
       "56  30:04:2013         59            0            0                        0   \n",
       "57  31:03:2013          0            0           60                        0   \n",
       "\n",
       "    orthers  date_in_week  cut_class  class_schedule  volunteer  \\\n",
       "0         0           1.0        0.0             0.0       54.0   \n",
       "1         0           3.0        0.0             0.0       54.0   \n",
       "2         0           2.0        0.0             0.0       54.0   \n",
       "3         0           4.0        0.0             0.0       54.0   \n",
       "4         0           3.0        0.0             0.0       54.0   \n",
       "..      ...           ...        ...             ...        ...   \n",
       "53        0           5.0        0.0             0.0       59.0   \n",
       "54        0           1.0        0.0             0.0       59.0   \n",
       "55        0           3.0        0.0             0.0       59.0   \n",
       "56        0           2.0        0.0             0.0       59.0   \n",
       "57        0           0.0        0.0             0.0       59.0   \n",
       "\n",
       "                                       location_names level  working  \\\n",
       "0   0,0,0,Class of 1978 Life Sciences Center,Class...     0        0   \n",
       "1   0,Dartmouth College,Dartmouth College,Dartmout...     0        0   \n",
       "2   Dartmouth College,0,0,Alumni Gymnasium,Alumni ...     0        0   \n",
       "3   Dartmouth College,0,0,0,Dartmouth College,Dart...     0        0   \n",
       "4   0,Class of 1978 Life Sciences Center,Class of ...     0        0   \n",
       "..                                                ...   ...      ...   \n",
       "53  0,0,0,Dartmouth College,Dartmouth College,0,0,...     1        0   \n",
       "54  0,Dana Circle Parking Lot,Life Sciences Greenh...     1        0   \n",
       "55  Jewel of India,0,0,0,0,0,0,Life Sciences Green...     1        0   \n",
       "56                                  Dartmouth College     1        0   \n",
       "57                                              0,0,0     1        0   \n",
       "\n",
       "    shopping week  None_school_time  \n",
       "0          0   13               420  \n",
       "1          0   17                60  \n",
       "2          0   13              1440  \n",
       "3          0   17              1440  \n",
       "4          0   13              1180  \n",
       "..       ...  ...               ...  \n",
       "53         0   12              1360  \n",
       "54         0   17              1440  \n",
       "55         0   21               370  \n",
       "56         0   17              1381  \n",
       "57         0   12              1440  \n",
       "\n",
       "[2031 rows x 16 columns]"
      ]
     },
     "execution_count": 14,
     "metadata": {},
     "output_type": "execute_result"
    }
   ],
   "source": [
    "df"
   ]
  },
  {
   "cell_type": "code",
   "execution_count": 15,
   "id": "912110ec",
   "metadata": {},
   "outputs": [
    {
     "name": "stdout",
     "output_type": "stream",
     "text": [
      "<class 'pandas.core.frame.DataFrame'>\n",
      "RangeIndex: 2031 entries, 0 to 2030\n",
      "Data columns (total 16 columns):\n",
      " #   Column                   Non-Null Count  Dtype   \n",
      "---  ------                   --------------  -----   \n",
      " 0   date                     2031 non-null   object  \n",
      " 1   home_time                2031 non-null   int64   \n",
      " 2   school_time              2031 non-null   int64   \n",
      " 3   travel_time              2031 non-null   int64   \n",
      " 4   recreational_activities  2031 non-null   int64   \n",
      " 5   orthers                  2031 non-null   int64   \n",
      " 6   date_in_week             2031 non-null   float64 \n",
      " 7   cut_class                2031 non-null   float64 \n",
      " 8   class_schedule           2031 non-null   float64 \n",
      " 9   volunteer                2031 non-null   float64 \n",
      " 10  location_names           2031 non-null   object  \n",
      " 11  level                    2031 non-null   category\n",
      " 12  working                  2031 non-null   int64   \n",
      " 13  shopping                 2031 non-null   int64   \n",
      " 14  week                     2031 non-null   object  \n",
      " 15  None_school_time         2031 non-null   int64   \n",
      "dtypes: category(1), float64(4), int64(8), object(3)\n",
      "memory usage: 240.2+ KB\n"
     ]
    }
   ],
   "source": [
    "df=df.sort_values(['week','date'])\n",
    "df=df.reset_index(drop=True)\n",
    "# df=df.drop('date.1',axis=1)\n",
    "df.info()"
   ]
  },
  {
   "cell_type": "code",
   "execution_count": 16,
   "id": "80dc63ba",
   "metadata": {},
   "outputs": [
    {
     "name": "stderr",
     "output_type": "stream",
     "text": [
      "/Users/khangphan/anaconda3/lib/python3.10/site-packages/seaborn/_oldcore.py:1498: FutureWarning: is_categorical_dtype is deprecated and will be removed in a future version. Use isinstance(dtype, CategoricalDtype) instead\n",
      "  if pd.api.types.is_categorical_dtype(vector):\n",
      "/Users/khangphan/anaconda3/lib/python3.10/site-packages/seaborn/_oldcore.py:1498: FutureWarning: is_categorical_dtype is deprecated and will be removed in a future version. Use isinstance(dtype, CategoricalDtype) instead\n",
      "  if pd.api.types.is_categorical_dtype(vector):\n",
      "/Users/khangphan/anaconda3/lib/python3.10/site-packages/seaborn/_oldcore.py:1498: FutureWarning: is_categorical_dtype is deprecated and will be removed in a future version. Use isinstance(dtype, CategoricalDtype) instead\n",
      "  if pd.api.types.is_categorical_dtype(vector):\n",
      "/Users/khangphan/anaconda3/lib/python3.10/site-packages/seaborn/_oldcore.py:1119: FutureWarning: use_inf_as_na option is deprecated and will be removed in a future version. Convert inf values to NaN before operating instead.\n",
      "  with pd.option_context('mode.use_inf_as_na', True):\n",
      "/Users/khangphan/anaconda3/lib/python3.10/site-packages/seaborn/_oldcore.py:1119: FutureWarning: use_inf_as_na option is deprecated and will be removed in a future version. Convert inf values to NaN before operating instead.\n",
      "  with pd.option_context('mode.use_inf_as_na', True):\n"
     ]
    },
    {
     "data": {
      "image/png": "[encoded data removed]",
      "text/plain": [
       "<Figure size 500x500 with 2 Axes>"
      ]
     },
     "metadata": {},
     "output_type": "display_data"
    }
   ],
   "source": [
    "ax,fig=plt.subplots(figsize=(5,5))\n",
    "sns.histplot(df,x='week',y='cut_class',cbar=True,bins=3)\n",
    "plt.yticks([0,1])\n",
    "plt.savefig('../image/cutclass vs week.png')"
   ]
  },
  {
   "cell_type": "code",
   "execution_count": 17,
   "id": "9d2ab848",
   "metadata": {
    "scrolled": true
   },
   "outputs": [
    {
     "name": "stderr",
     "output_type": "stream",
     "text": [
      "/Users/khangphan/anaconda3/lib/python3.10/site-packages/seaborn/_oldcore.py:1498: FutureWarning: is_categorical_dtype is deprecated and will be removed in a future version. Use isinstance(dtype, CategoricalDtype) instead\n",
      "  if pd.api.types.is_categorical_dtype(vector):\n",
      "/Users/khangphan/anaconda3/lib/python3.10/site-packages/seaborn/_oldcore.py:1498: FutureWarning: is_categorical_dtype is deprecated and will be removed in a future version. Use isinstance(dtype, CategoricalDtype) instead\n",
      "  if pd.api.types.is_categorical_dtype(vector):\n",
      "/Users/khangphan/anaconda3/lib/python3.10/site-packages/seaborn/_oldcore.py:1498: FutureWarning: is_categorical_dtype is deprecated and will be removed in a future version. Use isinstance(dtype, CategoricalDtype) instead\n",
      "  if pd.api.types.is_categorical_dtype(vector):\n",
      "/Users/khangphan/anaconda3/lib/python3.10/site-packages/seaborn/_oldcore.py:1498: FutureWarning: is_categorical_dtype is deprecated and will be removed in a future version. Use isinstance(dtype, CategoricalDtype) instead\n",
      "  if pd.api.types.is_categorical_dtype(vector):\n"
     ]
    },
    {
     "data": {
      "image/png": "[encoded data removed]",
      "text/plain": [
       "<Figure size 640x480 with 1 Axes>"
      ]
     },
     "metadata": {},
     "output_type": "display_data"
    }
   ],
   "source": [
    "sns.countplot(df,x='week',hue='cut_class')\n",
    "plt.savefig('../image/count cutclass vs week.png')"
   ]
  },
  {
   "cell_type": "code",
   "execution_count": 18,
   "id": "563344eb",
   "metadata": {
    "scrolled": true
   },
   "outputs": [
    {
     "name": "stdout",
     "output_type": "stream",
     "text": [
      "[0, 1]\n",
      "Categories (2, int64): [0, 1]\n"
     ]
    },
    {
     "ename": "TypeError",
     "evalue": "'Categorical' with dtype category does not support reduction 'median'",
     "output_type": "error",
     "traceback": [
      "\u001b[0;31m---------------------------------------------------------------------------\u001b[0m",
      "\u001b[0;31mTypeError\u001b[0m                                 Traceback (most recent call last)",
      "Cell \u001b[0;32mIn[18], line 3\u001b[0m\n\u001b[1;32m      1\u001b[0m \u001b[38;5;28mprint\u001b[39m(df[\u001b[38;5;124m'\u001b[39m\u001b[38;5;124mlevel\u001b[39m\u001b[38;5;124m'\u001b[39m]\u001b[38;5;241m.\u001b[39munique())\n\u001b[1;32m      2\u001b[0m df_stress\u001b[38;5;241m=\u001b[39mdf\u001b[38;5;241m.\u001b[39miloc[:,\u001b[38;5;241m1\u001b[39m:]\n\u001b[0;32m----> 3\u001b[0m df_stress[\u001b[38;5;124m'\u001b[39m\u001b[38;5;124mlevel\u001b[39m\u001b[38;5;124m'\u001b[39m]\u001b[38;5;241m=\u001b[39mdf_stress[\u001b[38;5;124m'\u001b[39m\u001b[38;5;124mlevel\u001b[39m\u001b[38;5;124m'\u001b[39m]\u001b[38;5;241m.\u001b[39mfillna(\u001b[43mdf_stress\u001b[49m\u001b[43m[\u001b[49m\u001b[38;5;124;43m'\u001b[39;49m\u001b[38;5;124;43mlevel\u001b[39;49m\u001b[38;5;124;43m'\u001b[39;49m\u001b[43m]\u001b[49m\u001b[38;5;241;43m.\u001b[39;49m\u001b[43mmedian\u001b[49m\u001b[43m(\u001b[49m\u001b[43m)\u001b[49m)\n",
      "File \u001b[0;32m~/anaconda3/lib/python3.10/site-packages/pandas/core/series.py:6231\u001b[0m, in \u001b[0;36mSeries.median\u001b[0;34m(self, axis, skipna, numeric_only, **kwargs)\u001b[0m\n\u001b[1;32m   6223\u001b[0m \u001b[38;5;129m@doc\u001b[39m(make_doc(\u001b[38;5;124m\"\u001b[39m\u001b[38;5;124mmedian\u001b[39m\u001b[38;5;124m\"\u001b[39m, ndim\u001b[38;5;241m=\u001b[39m\u001b[38;5;241m1\u001b[39m))\n\u001b[1;32m   6224\u001b[0m \u001b[38;5;28;01mdef\u001b[39;00m \u001b[38;5;21mmedian\u001b[39m(\n\u001b[1;32m   6225\u001b[0m     \u001b[38;5;28mself\u001b[39m,\n\u001b[0;32m   (...)\u001b[0m\n\u001b[1;32m   6229\u001b[0m     \u001b[38;5;241m*\u001b[39m\u001b[38;5;241m*\u001b[39mkwargs,\n\u001b[1;32m   6230\u001b[0m ):\n\u001b[0;32m-> 6231\u001b[0m     \u001b[38;5;28;01mreturn\u001b[39;00m \u001b[43mNDFrame\u001b[49m\u001b[38;5;241;43m.\u001b[39;49m\u001b[43mmedian\u001b[49m\u001b[43m(\u001b[49m\u001b[38;5;28;43mself\u001b[39;49m\u001b[43m,\u001b[49m\u001b[43m \u001b[49m\u001b[43maxis\u001b[49m\u001b[43m,\u001b[49m\u001b[43m \u001b[49m\u001b[43mskipna\u001b[49m\u001b[43m,\u001b[49m\u001b[43m \u001b[49m\u001b[43mnumeric_only\u001b[49m\u001b[43m,\u001b[49m\u001b[43m \u001b[49m\u001b[38;5;241;43m*\u001b[39;49m\u001b[38;5;241;43m*\u001b[39;49m\u001b[43mkwargs\u001b[49m\u001b[43m)\u001b[49m\n",
      "File \u001b[0;32m~/anaconda3/lib/python3.10/site-packages/pandas/core/generic.py:11989\u001b[0m, in \u001b[0;36mNDFrame.median\u001b[0;34m(self, axis, skipna, numeric_only, **kwargs)\u001b[0m\n\u001b[1;32m  11982\u001b[0m \u001b[38;5;28;01mdef\u001b[39;00m \u001b[38;5;21mmedian\u001b[39m(\n\u001b[1;32m  11983\u001b[0m     \u001b[38;5;28mself\u001b[39m,\n\u001b[1;32m  11984\u001b[0m     axis: Axis \u001b[38;5;241m|\u001b[39m \u001b[38;5;28;01mNone\u001b[39;00m \u001b[38;5;241m=\u001b[39m \u001b[38;5;241m0\u001b[39m,\n\u001b[0;32m   (...)\u001b[0m\n\u001b[1;32m  11987\u001b[0m     \u001b[38;5;241m*\u001b[39m\u001b[38;5;241m*\u001b[39mkwargs,\n\u001b[1;32m  11988\u001b[0m ) \u001b[38;5;241m-\u001b[39m\u001b[38;5;241m>\u001b[39m Series \u001b[38;5;241m|\u001b[39m \u001b[38;5;28mfloat\u001b[39m:\n\u001b[0;32m> 11989\u001b[0m     \u001b[38;5;28;01mreturn\u001b[39;00m \u001b[38;5;28;43mself\u001b[39;49m\u001b[38;5;241;43m.\u001b[39;49m\u001b[43m_stat_function\u001b[49m\u001b[43m(\u001b[49m\n\u001b[1;32m  11990\u001b[0m \u001b[43m        \u001b[49m\u001b[38;5;124;43m\"\u001b[39;49m\u001b[38;5;124;43mmedian\u001b[39;49m\u001b[38;5;124;43m\"\u001b[39;49m\u001b[43m,\u001b[49m\u001b[43m \u001b[49m\u001b[43mnanops\u001b[49m\u001b[38;5;241;43m.\u001b[39;49m\u001b[43mnanmedian\u001b[49m\u001b[43m,\u001b[49m\u001b[43m \u001b[49m\u001b[43maxis\u001b[49m\u001b[43m,\u001b[49m\u001b[43m \u001b[49m\u001b[43mskipna\u001b[49m\u001b[43m,\u001b[49m\u001b[43m \u001b[49m\u001b[43mnumeric_only\u001b[49m\u001b[43m,\u001b[49m\u001b[43m \u001b[49m\u001b[38;5;241;43m*\u001b[39;49m\u001b[38;5;241;43m*\u001b[39;49m\u001b[43mkwargs\u001b[49m\n\u001b[1;32m  11991\u001b[0m \u001b[43m    \u001b[49m\u001b[43m)\u001b[49m\n",
      "File \u001b[0;32m~/anaconda3/lib/python3.10/site-packages/pandas/core/generic.py:11935\u001b[0m, in \u001b[0;36mNDFrame._stat_function\u001b[0;34m(self, name, func, axis, skipna, numeric_only, **kwargs)\u001b[0m\n\u001b[1;32m  11931\u001b[0m nv\u001b[38;5;241m.\u001b[39mvalidate_func(name, (), kwargs)\n\u001b[1;32m  11933\u001b[0m validate_bool_kwarg(skipna, \u001b[38;5;124m\"\u001b[39m\u001b[38;5;124mskipna\u001b[39m\u001b[38;5;124m\"\u001b[39m, none_allowed\u001b[38;5;241m=\u001b[39m\u001b[38;5;28;01mFalse\u001b[39;00m)\n\u001b[0;32m> 11935\u001b[0m \u001b[38;5;28;01mreturn\u001b[39;00m \u001b[38;5;28;43mself\u001b[39;49m\u001b[38;5;241;43m.\u001b[39;49m\u001b[43m_reduce\u001b[49m\u001b[43m(\u001b[49m\n\u001b[1;32m  11936\u001b[0m \u001b[43m    \u001b[49m\u001b[43mfunc\u001b[49m\u001b[43m,\u001b[49m\u001b[43m \u001b[49m\u001b[43mname\u001b[49m\u001b[38;5;241;43m=\u001b[39;49m\u001b[43mname\u001b[49m\u001b[43m,\u001b[49m\u001b[43m \u001b[49m\u001b[43maxis\u001b[49m\u001b[38;5;241;43m=\u001b[39;49m\u001b[43maxis\u001b[49m\u001b[43m,\u001b[49m\u001b[43m \u001b[49m\u001b[43mskipna\u001b[49m\u001b[38;5;241;43m=\u001b[39;49m\u001b[43mskipna\u001b[49m\u001b[43m,\u001b[49m\u001b[43m \u001b[49m\u001b[43mnumeric_only\u001b[49m\u001b[38;5;241;43m=\u001b[39;49m\u001b[43mnumeric_only\u001b[49m\n\u001b[1;32m  11937\u001b[0m \u001b[43m\u001b[49m\u001b[43m)\u001b[49m\n",
      "File \u001b[0;32m~/anaconda3/lib/python3.10/site-packages/pandas/core/series.py:6115\u001b[0m, in \u001b[0;36mSeries._reduce\u001b[0;34m(self, op, name, axis, skipna, numeric_only, filter_type, **kwds)\u001b[0m\n\u001b[1;32m   6111\u001b[0m     \u001b[38;5;28mself\u001b[39m\u001b[38;5;241m.\u001b[39m_get_axis_number(axis)\n\u001b[1;32m   6113\u001b[0m \u001b[38;5;28;01mif\u001b[39;00m \u001b[38;5;28misinstance\u001b[39m(delegate, ExtensionArray):\n\u001b[1;32m   6114\u001b[0m     \u001b[38;5;66;03m# dispatch to ExtensionArray interface\u001b[39;00m\n\u001b[0;32m-> 6115\u001b[0m     \u001b[38;5;28;01mreturn\u001b[39;00m \u001b[43mdelegate\u001b[49m\u001b[38;5;241;43m.\u001b[39;49m\u001b[43m_reduce\u001b[49m\u001b[43m(\u001b[49m\u001b[43mname\u001b[49m\u001b[43m,\u001b[49m\u001b[43m \u001b[49m\u001b[43mskipna\u001b[49m\u001b[38;5;241;43m=\u001b[39;49m\u001b[43mskipna\u001b[49m\u001b[43m,\u001b[49m\u001b[43m \u001b[49m\u001b[38;5;241;43m*\u001b[39;49m\u001b[38;5;241;43m*\u001b[39;49m\u001b[43mkwds\u001b[49m\u001b[43m)\u001b[49m\n\u001b[1;32m   6117\u001b[0m \u001b[38;5;28;01melse\u001b[39;00m:\n\u001b[1;32m   6118\u001b[0m     \u001b[38;5;66;03m# dispatch to numpy arrays\u001b[39;00m\n\u001b[1;32m   6119\u001b[0m     \u001b[38;5;28;01mif\u001b[39;00m numeric_only \u001b[38;5;129;01mand\u001b[39;00m \u001b[38;5;28mself\u001b[39m\u001b[38;5;241m.\u001b[39mdtype\u001b[38;5;241m.\u001b[39mkind \u001b[38;5;129;01mnot\u001b[39;00m \u001b[38;5;129;01min\u001b[39;00m \u001b[38;5;124m\"\u001b[39m\u001b[38;5;124miufcb\u001b[39m\u001b[38;5;124m\"\u001b[39m:\n\u001b[1;32m   6120\u001b[0m         \u001b[38;5;66;03m# i.e. not is_numeric_dtype(self.dtype)\u001b[39;00m\n",
      "File \u001b[0;32m~/anaconda3/lib/python3.10/site-packages/pandas/core/arrays/categorical.py:2325\u001b[0m, in \u001b[0;36mCategorical._reduce\u001b[0;34m(self, name, skipna, keepdims, **kwargs)\u001b[0m\n\u001b[1;32m   2322\u001b[0m \u001b[38;5;28;01mdef\u001b[39;00m \u001b[38;5;21m_reduce\u001b[39m(\n\u001b[1;32m   2323\u001b[0m     \u001b[38;5;28mself\u001b[39m, name: \u001b[38;5;28mstr\u001b[39m, \u001b[38;5;241m*\u001b[39m, skipna: \u001b[38;5;28mbool\u001b[39m \u001b[38;5;241m=\u001b[39m \u001b[38;5;28;01mTrue\u001b[39;00m, keepdims: \u001b[38;5;28mbool\u001b[39m \u001b[38;5;241m=\u001b[39m \u001b[38;5;28;01mFalse\u001b[39;00m, \u001b[38;5;241m*\u001b[39m\u001b[38;5;241m*\u001b[39mkwargs\n\u001b[1;32m   2324\u001b[0m ):\n\u001b[0;32m-> 2325\u001b[0m     result \u001b[38;5;241m=\u001b[39m \u001b[38;5;28;43msuper\u001b[39;49m\u001b[43m(\u001b[49m\u001b[43m)\u001b[49m\u001b[38;5;241;43m.\u001b[39;49m\u001b[43m_reduce\u001b[49m\u001b[43m(\u001b[49m\u001b[43mname\u001b[49m\u001b[43m,\u001b[49m\u001b[43m \u001b[49m\u001b[43mskipna\u001b[49m\u001b[38;5;241;43m=\u001b[39;49m\u001b[43mskipna\u001b[49m\u001b[43m,\u001b[49m\u001b[43m \u001b[49m\u001b[43mkeepdims\u001b[49m\u001b[38;5;241;43m=\u001b[39;49m\u001b[43mkeepdims\u001b[49m\u001b[43m,\u001b[49m\u001b[43m \u001b[49m\u001b[38;5;241;43m*\u001b[39;49m\u001b[38;5;241;43m*\u001b[39;49m\u001b[43mkwargs\u001b[49m\u001b[43m)\u001b[49m\n\u001b[1;32m   2326\u001b[0m     \u001b[38;5;28;01mif\u001b[39;00m name \u001b[38;5;129;01min\u001b[39;00m [\u001b[38;5;124m\"\u001b[39m\u001b[38;5;124margmax\u001b[39m\u001b[38;5;124m\"\u001b[39m, \u001b[38;5;124m\"\u001b[39m\u001b[38;5;124margmin\u001b[39m\u001b[38;5;124m\"\u001b[39m]:\n\u001b[1;32m   2327\u001b[0m         \u001b[38;5;66;03m# don't wrap in Categorical!\u001b[39;00m\n\u001b[1;32m   2328\u001b[0m         \u001b[38;5;28;01mreturn\u001b[39;00m result\n",
      "File \u001b[0;32m~/anaconda3/lib/python3.10/site-packages/pandas/core/arrays/base.py:1857\u001b[0m, in \u001b[0;36mExtensionArray._reduce\u001b[0;34m(self, name, skipna, keepdims, **kwargs)\u001b[0m\n\u001b[1;32m   1855\u001b[0m meth \u001b[38;5;241m=\u001b[39m \u001b[38;5;28mgetattr\u001b[39m(\u001b[38;5;28mself\u001b[39m, name, \u001b[38;5;28;01mNone\u001b[39;00m)\n\u001b[1;32m   1856\u001b[0m \u001b[38;5;28;01mif\u001b[39;00m meth \u001b[38;5;129;01mis\u001b[39;00m \u001b[38;5;28;01mNone\u001b[39;00m:\n\u001b[0;32m-> 1857\u001b[0m     \u001b[38;5;28;01mraise\u001b[39;00m \u001b[38;5;167;01mTypeError\u001b[39;00m(\n\u001b[1;32m   1858\u001b[0m         \u001b[38;5;124mf\u001b[39m\u001b[38;5;124m\"\u001b[39m\u001b[38;5;124m'\u001b[39m\u001b[38;5;132;01m{\u001b[39;00m\u001b[38;5;28mtype\u001b[39m(\u001b[38;5;28mself\u001b[39m)\u001b[38;5;241m.\u001b[39m\u001b[38;5;18m__name__\u001b[39m\u001b[38;5;132;01m}\u001b[39;00m\u001b[38;5;124m'\u001b[39m\u001b[38;5;124m with dtype \u001b[39m\u001b[38;5;132;01m{\u001b[39;00m\u001b[38;5;28mself\u001b[39m\u001b[38;5;241m.\u001b[39mdtype\u001b[38;5;132;01m}\u001b[39;00m\u001b[38;5;124m \u001b[39m\u001b[38;5;124m\"\u001b[39m\n\u001b[1;32m   1859\u001b[0m         \u001b[38;5;124mf\u001b[39m\u001b[38;5;124m\"\u001b[39m\u001b[38;5;124mdoes not support reduction \u001b[39m\u001b[38;5;124m'\u001b[39m\u001b[38;5;132;01m{\u001b[39;00mname\u001b[38;5;132;01m}\u001b[39;00m\u001b[38;5;124m'\u001b[39m\u001b[38;5;124m\"\u001b[39m\n\u001b[1;32m   1860\u001b[0m     )\n\u001b[1;32m   1861\u001b[0m result \u001b[38;5;241m=\u001b[39m meth(skipna\u001b[38;5;241m=\u001b[39mskipna, \u001b[38;5;241m*\u001b[39m\u001b[38;5;241m*\u001b[39mkwargs)\n\u001b[1;32m   1862\u001b[0m \u001b[38;5;28;01mif\u001b[39;00m keepdims:\n",
      "\u001b[0;31mTypeError\u001b[0m: 'Categorical' with dtype category does not support reduction 'median'"
     ]
    }
   ],
   "source": [
    "# print(df['level'].unique())\n",
    "# df_stress=df.iloc[:,1:]\n",
    "# df_stress['level']=df_stress['level'].fillna(df_stress['level'].median())\n",
    "# df_stress['level']=df_stress['level'].fillna(0)\n"
   ]
  },
  {
   "cell_type": "code",
   "execution_count": 19,
   "id": "99f5d746",
   "metadata": {},
   "outputs": [
    {
     "name": "stdout",
     "output_type": "stream",
     "text": [
      "[0, 1]\n",
      "Categories (2, int64): [0, 1]\n"
     ]
    },
    {
     "name": "stderr",
     "output_type": "stream",
     "text": [
      "/Users/khangphan/anaconda3/lib/python3.10/site-packages/seaborn/_oldcore.py:1498: FutureWarning: is_categorical_dtype is deprecated and will be removed in a future version. Use isinstance(dtype, CategoricalDtype) instead\n",
      "  if pd.api.types.is_categorical_dtype(vector):\n",
      "/Users/khangphan/anaconda3/lib/python3.10/site-packages/seaborn/_oldcore.py:1498: FutureWarning: is_categorical_dtype is deprecated and will be removed in a future version. Use isinstance(dtype, CategoricalDtype) instead\n",
      "  if pd.api.types.is_categorical_dtype(vector):\n",
      "/Users/khangphan/anaconda3/lib/python3.10/site-packages/seaborn/_oldcore.py:1498: FutureWarning: is_categorical_dtype is deprecated and will be removed in a future version. Use isinstance(dtype, CategoricalDtype) instead\n",
      "  if pd.api.types.is_categorical_dtype(vector):\n",
      "/Users/khangphan/anaconda3/lib/python3.10/site-packages/seaborn/_oldcore.py:1498: FutureWarning: is_categorical_dtype is deprecated and will be removed in a future version. Use isinstance(dtype, CategoricalDtype) instead\n",
      "  if pd.api.types.is_categorical_dtype(vector):\n"
     ]
    },
    {
     "data": {
      "image/png": "[encoded data removed]",
      "text/plain": [
       "<Figure size 1000x1000 with 1 Axes>"
      ]
     },
     "metadata": {},
     "output_type": "display_data"
    }
   ],
   "source": [
    "df_stress['level']=df_stress['level'].astype(int)\n",
    "ax,fig=plt.subplots(figsize=(10,10))\n",
    "sns.countplot(df_stress,x='level',hue='cut_class')\n",
    "plt.xticks(rotation=0)\n",
    "plt.savefig('../image/stress vs cutclass.png')\n",
    "print(df['level'].unique())"
   ]
  },
  {
   "cell_type": "code",
   "execution_count": null,
   "id": "f8c2edee",
   "metadata": {},
   "outputs": [],
   "source": [
    "df_stress"
   ]
  },
  {
   "cell_type": "code",
   "execution_count": null,
   "id": "cc7cd18f",
   "metadata": {},
   "outputs": [],
   "source": [
    "stress_cut_classes=df_stress[df_stress['cut_class']==1]['level']\n",
    "stress_no_cut_classes=df_stress[df_stress['cut_class']==0]['level']\n",
    "\n",
    "from scipy.stats import f_oneway\n",
    "f_oneway(stress_no_cut_classes,stress_cut_classes)"
   ]
  },
  {
   "cell_type": "code",
   "execution_count": null,
   "id": "753c658d",
   "metadata": {},
   "outputs": [],
   "source": []
  },
  {
   "cell_type": "code",
   "execution_count": null,
   "id": "fd33eb44",
   "metadata": {},
   "outputs": [],
   "source": []
  },
  {
   "cell_type": "code",
   "execution_count": null,
   "id": "ed857ebf",
   "metadata": {},
   "outputs": [],
   "source": []
  },
  {
   "cell_type": "code",
   "execution_count": null,
   "id": "6266f6ea",
   "metadata": {},
   "outputs": [],
   "source": []
  },
  {
   "cell_type": "code",
   "execution_count": null,
   "id": "572e6b8e",
   "metadata": {},
   "outputs": [],
   "source": []
  },
  {
   "cell_type": "code",
   "execution_count": 20,
   "id": "a73482a3",
   "metadata": {
    "scrolled": true
   },
   "outputs": [
    {
     "name": "stderr",
     "output_type": "stream",
     "text": [
      "/Users/khangphan/anaconda3/lib/python3.10/site-packages/seaborn/_oldcore.py:1498: FutureWarning: is_categorical_dtype is deprecated and will be removed in a future version. Use isinstance(dtype, CategoricalDtype) instead\n",
      "  if pd.api.types.is_categorical_dtype(vector):\n",
      "/Users/khangphan/anaconda3/lib/python3.10/site-packages/seaborn/_oldcore.py:1498: FutureWarning: is_categorical_dtype is deprecated and will be removed in a future version. Use isinstance(dtype, CategoricalDtype) instead\n",
      "  if pd.api.types.is_categorical_dtype(vector):\n",
      "/Users/khangphan/anaconda3/lib/python3.10/site-packages/seaborn/_oldcore.py:1498: FutureWarning: is_categorical_dtype is deprecated and will be removed in a future version. Use isinstance(dtype, CategoricalDtype) instead\n",
      "  if pd.api.types.is_categorical_dtype(vector):\n",
      "/Users/khangphan/anaconda3/lib/python3.10/site-packages/seaborn/_oldcore.py:1498: FutureWarning: is_categorical_dtype is deprecated and will be removed in a future version. Use isinstance(dtype, CategoricalDtype) instead\n",
      "  if pd.api.types.is_categorical_dtype(vector):\n",
      "/Users/khangphan/anaconda3/lib/python3.10/site-packages/seaborn/_oldcore.py:1119: FutureWarning: use_inf_as_na option is deprecated and will be removed in a future version. Convert inf values to NaN before operating instead.\n",
      "  with pd.option_context('mode.use_inf_as_na', True):\n"
     ]
    },
    {
     "data": {
      "image/png": "[encoded data removed]",
      "text/plain": [
       "<Figure size 640x480 with 1 Axes>"
      ]
     },
     "metadata": {},
     "output_type": "display_data"
    }
   ],
   "source": [
    "sns.histplot(df_stress,x='level',hue='cut_class',kde=True)\n",
    "plt.savefig('../image/stress by cut class.png')"
   ]
  },
  {
   "cell_type": "code",
   "execution_count": 21,
   "id": "192b934c",
   "metadata": {},
   "outputs": [
    {
     "data": {
      "text/html": [
       "<div>\n",
       "<style scoped>\n",
       "    .dataframe tbody tr th:only-of-type {\n",
       "        vertical-align: middle;\n",
       "    }\n",
       "\n",
       "    .dataframe tbody tr th {\n",
       "        vertical-align: top;\n",
       "    }\n",
       "\n",
       "    .dataframe thead th {\n",
       "        text-align: right;\n",
       "    }\n",
       "</style>\n",
       "<table border=\"1\" class=\"dataframe\">\n",
       "  <thead>\n",
       "    <tr style=\"text-align: right;\">\n",
       "      <th></th>\n",
       "      <th>count</th>\n",
       "    </tr>\n",
       "    <tr>\n",
       "      <th>level</th>\n",
       "      <th></th>\n",
       "    </tr>\n",
       "  </thead>\n",
       "  <tbody>\n",
       "    <tr>\n",
       "      <th>0</th>\n",
       "      <td>0.773163</td>\n",
       "    </tr>\n",
       "    <tr>\n",
       "      <th>1</th>\n",
       "      <td>0.226837</td>\n",
       "    </tr>\n",
       "  </tbody>\n",
       "</table>\n",
       "</div>"
      ],
      "text/plain": [
       "          count\n",
       "level          \n",
       "0      0.773163\n",
       "1      0.226837"
      ]
     },
     "execution_count": 21,
     "metadata": {},
     "output_type": "execute_result"
    }
   ],
   "source": [
    "no_cut_class_data=df_stress[df_stress['cut_class']==0]\n",
    "cut_class_data=df_stress[df_stress['cut_class']==1]\n",
    "no_cut_class_data=no_cut_class_data['level'].value_counts().to_frame()\n",
    "no_cut_class_data['count']=no_cut_class_data['count']/(no_cut_class_data['count'].sum())\n",
    "no_cut_class_data\n",
    "cut_class_data=cut_class_data['level'].value_counts().to_frame()\n",
    "cut_class_data['count']=cut_class_data['count']/cut_class_data['count'].sum()\n",
    "cut_class_data"
   ]
  },
  {
   "cell_type": "code",
   "execution_count": 22,
   "id": "8fd4d565",
   "metadata": {},
   "outputs": [
    {
     "data": {
      "image/png": "[encoded data removed]",
      "text/plain": [
       "<Figure size 1100x600 with 1 Axes>"
      ]
     },
     "metadata": {},
     "output_type": "display_data"
    }
   ],
   "source": [
    "cut_class_data.plot.pie(subplots=True, figsize=(11, 6),startangle=90,autopct='%1.2f%%')\n",
    "plt.savefig('../image/stress ratio cut class.png')"
   ]
  },
  {
   "cell_type": "code",
   "execution_count": 23,
   "id": "e10c1a69",
   "metadata": {},
   "outputs": [
    {
     "data": {
      "image/png": "[encoded data removed]",
      "text/plain": [
       "<Figure size 1100x600 with 1 Axes>"
      ]
     },
     "metadata": {},
     "output_type": "display_data"
    }
   ],
   "source": [
    "no_cut_class_data.plot.pie(subplots=True, figsize=(11, 6),startangle=90,autopct='%1.2f%%')\n",
    "plt.savefig('../image/stress ratio no cut class.png')"
   ]
  },
  {
   "cell_type": "code",
   "execution_count": 25,
   "id": "ff9ff43b",
   "metadata": {
    "scrolled": true
   },
   "outputs": [
    {
     "name": "stderr",
     "output_type": "stream",
     "text": [
      "/Users/khangphan/anaconda3/lib/python3.10/site-packages/seaborn/_oldcore.py:1498: FutureWarning: is_categorical_dtype is deprecated and will be removed in a future version. Use isinstance(dtype, CategoricalDtype) instead\n",
      "  if pd.api.types.is_categorical_dtype(vector):\n",
      "/Users/khangphan/anaconda3/lib/python3.10/site-packages/seaborn/_oldcore.py:1498: FutureWarning: is_categorical_dtype is deprecated and will be removed in a future version. Use isinstance(dtype, CategoricalDtype) instead\n",
      "  if pd.api.types.is_categorical_dtype(vector):\n",
      "/Users/khangphan/anaconda3/lib/python3.10/site-packages/seaborn/_oldcore.py:1498: FutureWarning: is_categorical_dtype is deprecated and will be removed in a future version. Use isinstance(dtype, CategoricalDtype) instead\n",
      "  if pd.api.types.is_categorical_dtype(vector):\n",
      "/Users/khangphan/anaconda3/lib/python3.10/site-packages/seaborn/_oldcore.py:1498: FutureWarning: is_categorical_dtype is deprecated and will be removed in a future version. Use isinstance(dtype, CategoricalDtype) instead\n",
      "  if pd.api.types.is_categorical_dtype(vector):\n",
      "/Users/khangphan/anaconda3/lib/python3.10/site-packages/seaborn/_oldcore.py:1498: FutureWarning: is_categorical_dtype is deprecated and will be removed in a future version. Use isinstance(dtype, CategoricalDtype) instead\n",
      "  if pd.api.types.is_categorical_dtype(vector):\n",
      "/Users/khangphan/anaconda3/lib/python3.10/site-packages/seaborn/_oldcore.py:1119: FutureWarning: use_inf_as_na option is deprecated and will be removed in a future version. Convert inf values to NaN before operating instead.\n",
      "  with pd.option_context('mode.use_inf_as_na', True):\n"
     ]
    },
    {
     "data": {
      "image/png": "[encoded data removed]",
      "text/plain": [
       "<Figure size 640x480 with 1 Axes>"
      ]
     },
     "metadata": {},
     "output_type": "display_data"
    }
   ],
   "source": [
    "sns.histplot(df_stress,x='week',hue='level',kde=True,palette='Reds',stat='percent')\n",
    "plt.savefig('../image/stress by week.png')"
   ]
  },
  {
   "cell_type": "code",
   "execution_count": 26,
   "id": "db9a4265",
   "metadata": {},
   "outputs": [
    {
     "name": "stderr",
     "output_type": "stream",
     "text": [
      "/Users/khangphan/anaconda3/lib/python3.10/site-packages/seaborn/_oldcore.py:1498: FutureWarning: is_categorical_dtype is deprecated and will be removed in a future version. Use isinstance(dtype, CategoricalDtype) instead\n",
      "  if pd.api.types.is_categorical_dtype(vector):\n",
      "/Users/khangphan/anaconda3/lib/python3.10/site-packages/seaborn/_oldcore.py:1498: FutureWarning: is_categorical_dtype is deprecated and will be removed in a future version. Use isinstance(dtype, CategoricalDtype) instead\n",
      "  if pd.api.types.is_categorical_dtype(vector):\n",
      "/Users/khangphan/anaconda3/lib/python3.10/site-packages/seaborn/_oldcore.py:1498: FutureWarning: is_categorical_dtype is deprecated and will be removed in a future version. Use isinstance(dtype, CategoricalDtype) instead\n",
      "  if pd.api.types.is_categorical_dtype(vector):\n",
      "/Users/khangphan/anaconda3/lib/python3.10/site-packages/seaborn/_oldcore.py:1498: FutureWarning: is_categorical_dtype is deprecated and will be removed in a future version. Use isinstance(dtype, CategoricalDtype) instead\n",
      "  if pd.api.types.is_categorical_dtype(vector):\n",
      "/Users/khangphan/anaconda3/lib/python3.10/site-packages/seaborn/_oldcore.py:1498: FutureWarning: is_categorical_dtype is deprecated and will be removed in a future version. Use isinstance(dtype, CategoricalDtype) instead\n",
      "  if pd.api.types.is_categorical_dtype(vector):\n",
      "/Users/khangphan/anaconda3/lib/python3.10/site-packages/seaborn/_oldcore.py:1119: FutureWarning: use_inf_as_na option is deprecated and will be removed in a future version. Convert inf values to NaN before operating instead.\n",
      "  with pd.option_context('mode.use_inf_as_na', True):\n"
     ]
    },
    {
     "data": {
      "text/plain": [
       "<Axes: xlabel='week', ylabel='Percent'>"
      ]
     },
     "execution_count": 26,
     "metadata": {},
     "output_type": "execute_result"
    },
    {
     "data": {
      "image/png": "[encoded data removed]",
      "text/plain": [
       "<Figure size 640x480 with 1 Axes>"
      ]
     },
     "metadata": {},
     "output_type": "display_data"
    }
   ],
   "source": [
    "sns.histplot(df_stress[df_stress['cut_class']==1],x='week',hue='level',kde=True,palette='Reds',stat='percent')"
   ]
  },
  {
   "cell_type": "code",
   "execution_count": 27,
   "id": "a510ecdc",
   "metadata": {
    "scrolled": true
   },
   "outputs": [
    {
     "name": "stderr",
     "output_type": "stream",
     "text": [
      "/Users/khangphan/anaconda3/lib/python3.10/site-packages/seaborn/_oldcore.py:1498: FutureWarning: is_categorical_dtype is deprecated and will be removed in a future version. Use isinstance(dtype, CategoricalDtype) instead\n",
      "  if pd.api.types.is_categorical_dtype(vector):\n",
      "/Users/khangphan/anaconda3/lib/python3.10/site-packages/seaborn/_oldcore.py:1498: FutureWarning: is_categorical_dtype is deprecated and will be removed in a future version. Use isinstance(dtype, CategoricalDtype) instead\n",
      "  if pd.api.types.is_categorical_dtype(vector):\n",
      "/Users/khangphan/anaconda3/lib/python3.10/site-packages/seaborn/_oldcore.py:1498: FutureWarning: is_categorical_dtype is deprecated and will be removed in a future version. Use isinstance(dtype, CategoricalDtype) instead\n",
      "  if pd.api.types.is_categorical_dtype(vector):\n",
      "/Users/khangphan/anaconda3/lib/python3.10/site-packages/seaborn/_oldcore.py:1498: FutureWarning: is_categorical_dtype is deprecated and will be removed in a future version. Use isinstance(dtype, CategoricalDtype) instead\n",
      "  if pd.api.types.is_categorical_dtype(vector):\n",
      "/Users/khangphan/anaconda3/lib/python3.10/site-packages/seaborn/_oldcore.py:1498: FutureWarning: is_categorical_dtype is deprecated and will be removed in a future version. Use isinstance(dtype, CategoricalDtype) instead\n",
      "  if pd.api.types.is_categorical_dtype(vector):\n",
      "/Users/khangphan/anaconda3/lib/python3.10/site-packages/seaborn/_oldcore.py:1119: FutureWarning: use_inf_as_na option is deprecated and will be removed in a future version. Convert inf values to NaN before operating instead.\n",
      "  with pd.option_context('mode.use_inf_as_na', True):\n"
     ]
    },
    {
     "data": {
      "text/plain": [
       "<Axes: xlabel='week', ylabel='Percent'>"
      ]
     },
     "execution_count": 27,
     "metadata": {},
     "output_type": "execute_result"
    },
    {
     "data": {
      "image/png": "[encoded data removed]",
      "text/plain": [
       "<Figure size 640x480 with 1 Axes>"
      ]
     },
     "metadata": {},
     "output_type": "display_data"
    }
   ],
   "source": [
    "sns.histplot(df_stress[df_stress['cut_class']==0],x='week',hue='level',kde=True,palette='Reds',stat='percent')"
   ]
  },
  {
   "cell_type": "code",
   "execution_count": null,
   "id": "ed94a7a1",
   "metadata": {
    "scrolled": true
   },
   "outputs": [],
   "source": [
    "df_stress_fix=df_stress\n",
    "df_stress_fix['school_time']=(df_stress_fix['school_time']/60).astype(int)\n",
    "\n"
   ]
  },
  {
   "cell_type": "code",
   "execution_count": null,
   "id": "357245b0",
   "metadata": {
    "scrolled": true
   },
   "outputs": [],
   "source": [
    "sns.kdeplot(df_stress_fix,x='school_time',y='level',cmap='Reds',fill=True)\n",
    "plt.savefig('../image/stress by school time.png')"
   ]
  },
  {
   "cell_type": "code",
   "execution_count": null,
   "id": "7c34659f",
   "metadata": {},
   "outputs": [],
   "source": [
    "df_stress_fix['None_school_time']=(df_stress_fix['None_school_time']/60).astype(int)"
   ]
  },
  {
   "cell_type": "code",
   "execution_count": null,
   "id": "44d8bbd4",
   "metadata": {
    "scrolled": true
   },
   "outputs": [],
   "source": [
    "sns.kdeplot(df_stress_fix,x='None_school_time',y='level',cmap='Reds',fill=True)\n",
    "plt.savefig('../image/stress by none school time.png')"
   ]
  },
  {
   "cell_type": "code",
   "execution_count": null,
   "id": "de450e7b",
   "metadata": {
    "scrolled": false
   },
   "outputs": [],
   "source": [
    "df.info()\n",
    "df_stress['week']=df_stress['week'].astype(int)\n"
   ]
  },
  {
   "cell_type": "code",
   "execution_count": null,
   "id": "7e70bfa5",
   "metadata": {
    "scrolled": false
   },
   "outputs": [],
   "source": [
    "pd.plotting.radviz(df_stress[[ 'home_time', 'school_time', 'travel_time',\n",
    "       'recreational_activities', 'orthers', 'date_in_week', 'cut_class',\n",
    "       'class_schedule', 'level', 'shopping', 'working', 'week',\n",
    "       'None_school_time']],'level')\n",
    "plt.savefig('../image/radvix.png')"
   ]
  },
  {
   "cell_type": "code",
   "execution_count": null,
   "id": "32dc6ef6",
   "metadata": {},
   "outputs": [],
   "source": [
    "sns.countplot(df_stress,x='level')"
   ]
  },
  {
   "cell_type": "code",
   "execution_count": null,
   "id": "f58574a1",
   "metadata": {
    "scrolled": true
   },
   "outputs": [],
   "source": [
    "df.describe()"
   ]
  },
  {
   "cell_type": "code",
   "execution_count": null,
   "id": "8efbf7e7",
   "metadata": {},
   "outputs": [],
   "source": [
    "df=df.reset_index(drop=True)\n",
    "df_new=df.drop(df[df['home_time']==0].index)\n",
    "\n",
    "sns.histplot(df_new,x='school_time',hue='cut_class')\n",
    "\n",
    "df_new.describe()\n",
    "df['school_time'].unique()\n"
   ]
  },
  {
   "cell_type": "code",
   "execution_count": null,
   "id": "b6220e65",
   "metadata": {},
   "outputs": [],
   "source": [
    "df.school_time.value_counts"
   ]
  },
  {
   "cell_type": "code",
   "execution_count": null,
   "id": "3e4c40d4",
   "metadata": {},
   "outputs": [],
   "source": [
    "df.columns"
   ]
  },
  {
   "cell_type": "code",
   "execution_count": null,
   "id": "acadb76e",
   "metadata": {},
   "outputs": [],
   "source": [
    "y=df['level']\n",
    "y.unique()"
   ]
  },
  {
   "cell_type": "code",
   "execution_count": null,
   "id": "01f8133d",
   "metadata": {},
   "outputs": [],
   "source": [
    "\n",
    "X=df[[ 'home_time', 'school_time', 'travel_time',\n",
    "       'recreational_activities', 'orthers', 'date_in_week', 'cut_class',\n",
    "       'class_schedule' ,  'shopping', 'working',\n",
    "       'week', 'None_school_time']]\n",
    "y=df['level']\n",
    "y=y.fillna(y.median())\n",
    "y=y.astype(int)\n",
    "# y=y.apply(lambda x:group_stress(x))\n",
    "y.unique()"
   ]
  },
  {
   "cell_type": "code",
   "execution_count": null,
   "id": "500d997b",
   "metadata": {},
   "outputs": [],
   "source": [
    "from sklearn.preprocessing import StandardScaler\n",
    "from sklearn.model_selection import train_test_split\n",
    "scaler = StandardScaler()\n",
    "X=X.astype(int)\n",
    "X_train, X_vad, y_train, y_vad = train_test_split(X, y, test_size=0.2, random_state=42)\n",
    "X_train_ML, X_vad_ML, y_train_ML, y_vad_ML= X_train, X_vad, y_train, y_vad\n",
    "\n",
    "# X_train = scaler.fit_transform(X_train)\n",
    "\n",
    "# X_vad = scaler.fit_transform(X_vad)\n",
    "X.shape\n"
   ]
  },
  {
   "cell_type": "code",
   "execution_count": null,
   "id": "abeae59f",
   "metadata": {},
   "outputs": [],
   "source": [
    "y.unique()"
   ]
  },
  {
   "cell_type": "code",
   "execution_count": null,
   "id": "502d31a7",
   "metadata": {},
   "outputs": [],
   "source": [
    "y.describe()"
   ]
  },
  {
   "cell_type": "code",
   "execution_count": null,
   "id": "1ace90fb",
   "metadata": {
    "scrolled": true
   },
   "outputs": [],
   "source": [
    "# from xgboost import XGBClassifier#XGBcalssifier\n",
    "# seed=200\n",
    "# model=XGBClassifier (use_label_encoder=False, eval_metric='logloss', random_state=seed)\n",
    "# model.fit(X_train,y_train)\n",
    "# prediction1=model.predict(X_vad)\n",
    "# print('Accuracy for XBG is ',metrics.accuracy_score(prediction1,y_vad))"
   ]
  },
  {
   "cell_type": "code",
   "execution_count": null,
   "id": "8ee8cdc2",
   "metadata": {},
   "outputs": [],
   "source": [
    "from sklearn.ensemble import RandomForestClassifier #Random Forest\n",
    "from sklearn.neighbors import KNeighborsClassifier #KNN\n",
    "from sklearn.naive_bayes import GaussianNB #Naive bayes\n",
    "from sklearn import metrics #accuracy measure\n",
    "from sklearn.linear_model import LogisticRegression #logistic regression"
   ]
  },
  {
   "cell_type": "code",
   "execution_count": null,
   "id": "d272e228",
   "metadata": {},
   "outputs": [],
   "source": [
    "model=RandomForestClassifier(random_state=10)\n",
    "model.fit(X_train,y_train)\n",
    "prediction1=model.predict(X_vad)\n",
    "print('Accuracy for RF is ',metrics.accuracy_score(prediction1,y_vad))\n",
    "ax,fig=plt.subplots(figsize=(10,10))\n",
    "conf=metrics.confusion_matrix(prediction1,y_vad, normalize='true')\n",
    "print(metrics.classification_report(prediction1,y_vad))\n",
    "sns.heatmap(conf,annot=True)"
   ]
  },
  {
   "cell_type": "code",
   "execution_count": null,
   "id": "d92bfc2c",
   "metadata": {},
   "outputs": [],
   "source": [
    "import shap\n",
    "shap.initjs()\n",
    "\n",
    "# Create the explainer\n",
    "explainer1 = shap.TreeExplainer(model)\n",
    "\n",
    "shap_values = explainer1.shap_values(X_vad)\n",
    "print(\"Variable Importance Plot - Global Interpretation\")\n",
    "figure = plt.figure()\n",
    "shap.summary_plot(shap_values[1], X_vad)"
   ]
  },
  {
   "cell_type": "code",
   "execution_count": null,
   "id": "59a8dfc6",
   "metadata": {},
   "outputs": [],
   "source": [
    "X_vad"
   ]
  },
  {
   "cell_type": "code",
   "execution_count": null,
   "id": "caa3f828",
   "metadata": {
    "scrolled": true
   },
   "outputs": [],
   "source": [
    "shap.summary_plot(shap_values[0], X_vad)"
   ]
  },
  {
   "cell_type": "code",
   "execution_count": null,
   "id": "a91ccf6a",
   "metadata": {},
   "outputs": [],
   "source": [
    "shap_values[0]"
   ]
  },
  {
   "cell_type": "code",
   "execution_count": null,
   "id": "f027391c",
   "metadata": {
    "scrolled": true
   },
   "outputs": [],
   "source": [
    "shap.summary_plot(shap_values, X_vad)"
   ]
  },
  {
   "cell_type": "code",
   "execution_count": null,
   "id": "579860fd",
   "metadata": {},
   "outputs": [],
   "source": [
    "shap. dependence_plot('week', shap_values[1], X_vad, interaction_index=\"cut_class\",alpha=0.5)"
   ]
  },
  {
   "cell_type": "code",
   "execution_count": null,
   "id": "3201b311",
   "metadata": {},
   "outputs": [],
   "source": [
    "explainer = shap.Explainer(model.predict, X_train)\n",
    "\n",
    "shap_values_explain = explainer(X_vad)"
   ]
  },
  {
   "cell_type": "code",
   "execution_count": null,
   "id": "41271d37",
   "metadata": {},
   "outputs": [],
   "source": [
    "shap.plots.waterfall(shap_values_explain[1])"
   ]
  },
  {
   "cell_type": "code",
   "execution_count": null,
   "id": "d219fd37",
   "metadata": {},
   "outputs": [],
   "source": [
    "shap.plots.waterfall(shap_values_explain[0])"
   ]
  },
  {
   "cell_type": "code",
   "execution_count": null,
   "id": "67da7486",
   "metadata": {},
   "outputs": [],
   "source": [
    "shap.plots.scatter(shap_values_explain[:, \"cut_class\"])"
   ]
  },
  {
   "cell_type": "code",
   "execution_count": null,
   "id": "9ef1c1d2",
   "metadata": {},
   "outputs": [],
   "source": [
    "shap.plots.scatter(shap_values_explain[:, \"school_time\"])"
   ]
  },
  {
   "cell_type": "code",
   "execution_count": null,
   "id": "e83d3867",
   "metadata": {},
   "outputs": [],
   "source": [
    "shap.plots.scatter(shap_values_explain[:, \"None_school_time\"])"
   ]
  },
  {
   "cell_type": "code",
   "execution_count": null,
   "id": "6fc02ad0",
   "metadata": {},
   "outputs": [],
   "source": [
    "shap.plots.scatter(shap_values_explain[:, \"home_time\"])"
   ]
  },
  {
   "cell_type": "code",
   "execution_count": null,
   "id": "e526e0c2",
   "metadata": {},
   "outputs": [],
   "source": [
    "shap.plots.scatter(shap_values_explain[:, \"recreational_activities\"])"
   ]
  },
  {
   "cell_type": "code",
   "execution_count": null,
   "id": "46cb6252",
   "metadata": {},
   "outputs": [],
   "source": [
    "shap.plots.scatter(shap_values_explain)"
   ]
  },
  {
   "cell_type": "code",
   "execution_count": null,
   "id": "0d5a8cab",
   "metadata": {},
   "outputs": [],
   "source": []
  },
  {
   "cell_type": "code",
   "execution_count": null,
   "id": "1f30765a",
   "metadata": {},
   "outputs": [],
   "source": []
  },
  {
   "cell_type": "code",
   "execution_count": null,
   "id": "7b6e8f2d",
   "metadata": {},
   "outputs": [],
   "source": []
  },
  {
   "cell_type": "code",
   "execution_count": null,
   "id": "2bfe306b",
   "metadata": {},
   "outputs": [],
   "source": []
  },
  {
   "cell_type": "code",
   "execution_count": null,
   "id": "7ad30e25",
   "metadata": {},
   "outputs": [],
   "source": []
  },
  {
   "cell_type": "code",
   "execution_count": null,
   "id": "ef971f75",
   "metadata": {},
   "outputs": [],
   "source": []
  },
  {
   "cell_type": "code",
   "execution_count": null,
   "id": "a768e3d5",
   "metadata": {},
   "outputs": [],
   "source": [
    "# model=KNeighborsClassifier(n_neighbors=9)\n",
    "# model.fit(X_train,y_train)\n",
    "# prediction1=model.predict(X_vad)\n",
    "# print('Accuracy for KN is ',metrics.accuracy_score(prediction1,y_vad))\n",
    "# ax,fig=plt.subplots(figsize=(10,10))\n",
    "# conf=metrics.confusion_matrix(prediction1,y_vad)\n",
    "# sns.heatmap(conf,annot=True)"
   ]
  },
  {
   "cell_type": "code",
   "execution_count": null,
   "id": "17b7d66d",
   "metadata": {},
   "outputs": [],
   "source": [
    "# model=LogisticRegression()\n",
    "# model.fit(X_train,y_train)\n",
    "# prediction1=model.predict(X_vad)\n",
    "# print('Accuracy for LR is ',metrics.accuracy_score(prediction1,y_vad))\n",
    "# ax,fig=plt.subplots(figsize=(10,10))\n",
    "# conf=metrics.confusion_matrix(prediction1,y_vad)\n",
    "# sns.heatmap(conf,annot=True)"
   ]
  },
  {
   "cell_type": "code",
   "execution_count": null,
   "id": "486dc3a4",
   "metadata": {},
   "outputs": [],
   "source": [
    "# from sklearn import svm #support vector Machine\n",
    "# model=svm.SVC(kernel='rbf',C=1,gamma=0.1)\n",
    "# model.fit(X_train,y_train)\n",
    "# prediction1=model.predict(X_vad)\n",
    "# print('Accuracy for SVM is ',metrics.accuracy_score(prediction1,y_vad))\n",
    "# ax,fig=plt.subplots(figsize=(10,10))\n",
    "# conf=metrics.confusion_matrix(prediction1,y_vad)\n",
    "# sns.heatmap(conf,annot=True)"
   ]
  }
 ],
 "metadata": {
  "kernelspec": {
   "display_name": "Python 3 (ipykernel)",
   "language": "python",
   "name": "python3"
  },
  "language_info": {
   "codemirror_mode": {
    "name": "ipython",
    "version": 3
   },
   "file_extension": ".py",
   "mimetype": "text/x-python",
   "name": "python",
   "nbconvert_exporter": "python",
   "pygments_lexer": "ipython3",
   "version": "3.10.9"
  }
 },
 "nbformat": 4,
 "nbformat_minor": 5
}
